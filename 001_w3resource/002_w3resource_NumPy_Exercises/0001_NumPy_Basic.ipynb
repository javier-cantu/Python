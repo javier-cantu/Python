{
 "cells": [
  {
   "cell_type": "markdown",
   "id": "b2dcadce",
   "metadata": {},
   "source": [
    "# 0001_NumPy_Basic"
   ]
  },
  {
   "cell_type": "markdown",
   "id": "2d474d34",
   "metadata": {},
   "source": [
    "---"
   ]
  },
  {
   "cell_type": "markdown",
   "id": "160ec1c9",
   "metadata": {},
   "source": [
    "[NumPy Basic](https://www.w3resource.com/python-exercises/numpy/index.php)"
   ]
  },
  {
   "cell_type": "markdown",
   "id": "e657b7f9",
   "metadata": {},
   "source": [
    "---"
   ]
  },
  {
   "cell_type": "markdown",
   "id": "7a75fc05",
   "metadata": {},
   "source": [
    "### 1. Write a Numpy program to get the Numpy version and show the Numpy build configuration. "
   ]
  },
  {
   "cell_type": "markdown",
   "id": "4c078146",
   "metadata": {},
   "source": [
    "Import the numpy library:\n",
    "This line imports the numpy library and assigns it the alias **np** for convenience."
   ]
  },
  {
   "cell_type": "code",
   "execution_count": 1,
   "id": "8a96fe7f",
   "metadata": {},
   "outputs": [],
   "source": [
    "import numpy as np"
   ]
  },
  {
   "cell_type": "markdown",
   "id": "c092e5f9",
   "metadata": {},
   "source": [
    "Print the numpy version:\n",
    "This line prints the version of the numpy library using the `__version__` attribute. It displays the version number of numpy installed in your Python environment."
   ]
  },
  {
   "cell_type": "code",
   "execution_count": 2,
   "id": "c2214457",
   "metadata": {},
   "outputs": [
    {
     "name": "stdout",
     "output_type": "stream",
     "text": [
      "1.20.1\n"
     ]
    }
   ],
   "source": [
    "print(np.__version__)"
   ]
  },
  {
   "cell_type": "markdown",
   "id": "4b7c8c09",
   "metadata": {},
   "source": [
    "Print the **numpy** configuration:\n"
   ]
  },
  {
   "cell_type": "code",
   "execution_count": 4,
   "id": "c38f86a7",
   "metadata": {
    "scrolled": true
   },
   "outputs": [
    {
     "name": "stdout",
     "output_type": "stream",
     "text": [
      "blas_mkl_info:\n",
      "    libraries = ['mkl_rt']\n",
      "    library_dirs = ['C:/ProgramData/Anaconda3\\\\Library\\\\lib']\n",
      "    define_macros = [('SCIPY_MKL_H', None), ('HAVE_CBLAS', None)]\n",
      "    include_dirs = ['C:/ProgramData/Anaconda3\\\\Library\\\\include']\n",
      "blas_opt_info:\n",
      "    libraries = ['mkl_rt']\n",
      "    library_dirs = ['C:/ProgramData/Anaconda3\\\\Library\\\\lib']\n",
      "    define_macros = [('SCIPY_MKL_H', None), ('HAVE_CBLAS', None)]\n",
      "    include_dirs = ['C:/ProgramData/Anaconda3\\\\Library\\\\include']\n",
      "lapack_mkl_info:\n",
      "    libraries = ['mkl_rt']\n",
      "    library_dirs = ['C:/ProgramData/Anaconda3\\\\Library\\\\lib']\n",
      "    define_macros = [('SCIPY_MKL_H', None), ('HAVE_CBLAS', None)]\n",
      "    include_dirs = ['C:/ProgramData/Anaconda3\\\\Library\\\\include']\n",
      "lapack_opt_info:\n",
      "    libraries = ['mkl_rt']\n",
      "    library_dirs = ['C:/ProgramData/Anaconda3\\\\Library\\\\lib']\n",
      "    define_macros = [('SCIPY_MKL_H', None), ('HAVE_CBLAS', None)]\n",
      "    include_dirs = ['C:/ProgramData/Anaconda3\\\\Library\\\\include']\n"
     ]
    }
   ],
   "source": [
    "np.show_config()"
   ]
  },
  {
   "cell_type": "markdown",
   "id": "408dd539",
   "metadata": {},
   "source": [
    "---"
   ]
  },
  {
   "cell_type": "markdown",
   "id": "1115df5c",
   "metadata": {},
   "source": [
    "---"
   ]
  },
  {
   "cell_type": "markdown",
   "id": "43693e8d",
   "metadata": {},
   "source": [
    "### 2. Write a NumPy program to get help with the add function. "
   ]
  },
  {
   "cell_type": "code",
   "execution_count": 6,
   "id": "88022dbb",
   "metadata": {},
   "outputs": [],
   "source": [
    "import numpy as np"
   ]
  },
  {
   "cell_type": "markdown",
   "id": "3b3f81a2",
   "metadata": {},
   "source": [
    "This line uses the np.info() function to display detailed information about the numpy.add function."
   ]
  },
  {
   "cell_type": "code",
   "execution_count": 7,
   "id": "176d74be",
   "metadata": {
    "scrolled": true
   },
   "outputs": [
    {
     "name": "stdout",
     "output_type": "stream",
     "text": [
      "add(x1, x2, /, out=None, *, where=True, casting='same_kind', order='K', dtype=None, subok=True[, signature, extobj])\n",
      "\n",
      "Add arguments element-wise.\n",
      "\n",
      "Parameters\n",
      "----------\n",
      "x1, x2 : array_like\n",
      "    The arrays to be added.\n",
      "    If ``x1.shape != x2.shape``, they must be broadcastable to a common\n",
      "    shape (which becomes the shape of the output).\n",
      "out : ndarray, None, or tuple of ndarray and None, optional\n",
      "    A location into which the result is stored. If provided, it must have\n",
      "    a shape that the inputs broadcast to. If not provided or None,\n",
      "    a freshly-allocated array is returned. A tuple (possible only as a\n",
      "    keyword argument) must have length equal to the number of outputs.\n",
      "where : array_like, optional\n",
      "    This condition is broadcast over the input. At locations where the\n",
      "    condition is True, the `out` array will be set to the ufunc result.\n",
      "    Elsewhere, the `out` array will retain its original value.\n",
      "    Note that if an uninitialized `out` array is created via the default\n",
      "    ``out=None``, locations within it where the condition is False will\n",
      "    remain uninitialized.\n",
      "**kwargs\n",
      "    For other keyword-only arguments, see the\n",
      "    :ref:`ufunc docs <ufuncs.kwargs>`.\n",
      "\n",
      "Returns\n",
      "-------\n",
      "add : ndarray or scalar\n",
      "    The sum of `x1` and `x2`, element-wise.\n",
      "    This is a scalar if both `x1` and `x2` are scalars.\n",
      "\n",
      "Notes\n",
      "-----\n",
      "Equivalent to `x1` + `x2` in terms of array broadcasting.\n",
      "\n",
      "Examples\n",
      "--------\n",
      ">>> np.add(1.0, 4.0)\n",
      "5.0\n",
      ">>> x1 = np.arange(9.0).reshape((3, 3))\n",
      ">>> x2 = np.arange(3.0)\n",
      ">>> np.add(x1, x2)\n",
      "array([[  0.,   2.,   4.],\n",
      "       [  3.,   5.,   7.],\n",
      "       [  6.,   8.,  10.]])\n",
      "\n",
      "The ``+`` operator can be used as a shorthand for ``np.add`` on ndarrays.\n",
      "\n",
      ">>> x1 = np.arange(9.0).reshape((3, 3))\n",
      ">>> x2 = np.arange(3.0)\n",
      ">>> x1 + x2\n",
      "array([[ 0.,  2.,  4.],\n",
      "       [ 3.,  5.,  7.],\n",
      "       [ 6.,  8., 10.]])\n",
      "None\n"
     ]
    }
   ],
   "source": [
    "print(np.info(np.add))"
   ]
  },
  {
   "cell_type": "markdown",
   "id": "548ef587",
   "metadata": {},
   "source": [
    "---"
   ]
  },
  {
   "cell_type": "markdown",
   "id": "8baa27cb",
   "metadata": {},
   "source": [
    "---"
   ]
  },
  {
   "cell_type": "markdown",
   "id": "baafa579",
   "metadata": {},
   "source": [
    "### 3. Write a NumPy program to test whether none of the elements of a given array are zero.  "
   ]
  },
  {
   "cell_type": "code",
   "execution_count": 8,
   "id": "798e5e6f",
   "metadata": {},
   "outputs": [],
   "source": [
    "import numpy as np"
   ]
  },
  {
   "cell_type": "code",
   "execution_count": 9,
   "id": "8de86ded",
   "metadata": {},
   "outputs": [],
   "source": [
    "# Create a NumPy array\n",
    "array = np.array([1, 2, 3, 4, 5])"
   ]
  },
  {
   "cell_type": "code",
   "execution_count": 10,
   "id": "124f1030",
   "metadata": {},
   "outputs": [],
   "source": [
    "# Test whether none of the elements are zero\n",
    "result = np.all(array != 0)"
   ]
  },
  {
   "cell_type": "markdown",
   "id": "622e909b",
   "metadata": {},
   "source": [
    "`array != 0`: This part of the expression creates a boolean array of the same shape as array. Each element in this boolean array will be True if the corresponding element in the array is not equal to zero and False otherwise. In other words, it checks element-wise if the elements in array are not equal to zero."
   ]
  },
  {
   "cell_type": "markdown",
   "id": "b1601682",
   "metadata": {},
   "source": [
    "`np.all()`: This is a NumPy function called **all**. It checks whether all elements in a boolean array are True. If all elements in the boolean array are True, np.all returns True. If at least one element in the boolean array is False, it returns False."
   ]
  },
  {
   "cell_type": "code",
   "execution_count": 11,
   "id": "46eefce3",
   "metadata": {
    "scrolled": true
   },
   "outputs": [
    {
     "name": "stdout",
     "output_type": "stream",
     "text": [
      "None of the elements in the array are zero.\n"
     ]
    }
   ],
   "source": [
    "# Print the result\n",
    "if result:\n",
    "    print(\"None of the elements in the array are zero.\")\n",
    "else:\n",
    "    print(\"At least one element in the array is zero.\")"
   ]
  },
  {
   "cell_type": "markdown",
   "id": "e7dd36c6",
   "metadata": {},
   "source": [
    "---"
   ]
  },
  {
   "cell_type": "markdown",
   "id": "cd4f982a",
   "metadata": {},
   "source": [
    "---"
   ]
  },
  {
   "cell_type": "markdown",
   "id": "e6c15052",
   "metadata": {},
   "source": [
    "### 4. Write a NumPy program to test if any of the elements of a given array are non-zero.  "
   ]
  },
  {
   "cell_type": "code",
   "execution_count": 19,
   "id": "b36630cd",
   "metadata": {},
   "outputs": [],
   "source": [
    "import numpy as np"
   ]
  },
  {
   "cell_type": "code",
   "execution_count": 20,
   "id": "de8c0d0b",
   "metadata": {},
   "outputs": [],
   "source": [
    "# Create a NumPy array\n",
    "array = np.array([0, 0, 0, 1, 0])"
   ]
  },
  {
   "cell_type": "code",
   "execution_count": 21,
   "id": "9ed5ca27",
   "metadata": {},
   "outputs": [],
   "source": [
    "# Test if any element in the array is non-zero\n",
    "result = np.any(array != 0)"
   ]
  },
  {
   "cell_type": "markdown",
   "id": "4d60d28c",
   "metadata": {},
   "source": [
    "We use the expression `array != 0` to create a boolean array where each element is True if the corresponding element in the original array is non-zero and False if it's zero."
   ]
  },
  {
   "cell_type": "markdown",
   "id": "2abab9f4",
   "metadata": {},
   "source": [
    "We use the `np.any()` function to check if at least one element in the boolean array is True, indicating that there is at least one non-zero element in the original array."
   ]
  },
  {
   "cell_type": "code",
   "execution_count": 22,
   "id": "60b0b3d0",
   "metadata": {},
   "outputs": [
    {
     "name": "stdout",
     "output_type": "stream",
     "text": [
      "At least one element in the array is non-zero.\n"
     ]
    }
   ],
   "source": [
    "# Print the result\n",
    "if result:\n",
    "    print(\"At least one element in the array is non-zero.\")\n",
    "else:\n",
    "    print(\"All elements in the array are zero.\")"
   ]
  },
  {
   "cell_type": "markdown",
   "id": "6e5dfb02",
   "metadata": {},
   "source": [
    "---"
   ]
  },
  {
   "cell_type": "markdown",
   "id": "ba790e9b",
   "metadata": {},
   "source": [
    "---"
   ]
  },
  {
   "cell_type": "markdown",
   "id": "e60e4fcb",
   "metadata": {},
   "source": [
    "### 5. Write a NumPy program to test a given array element-wise for finiteness (not infinity or not a number). "
   ]
  },
  {
   "cell_type": "code",
   "execution_count": 23,
   "id": "f6c805dd",
   "metadata": {},
   "outputs": [],
   "source": [
    "import numpy as np"
   ]
  },
  {
   "cell_type": "code",
   "execution_count": 24,
   "id": "9be12cc6",
   "metadata": {},
   "outputs": [],
   "source": [
    "# Create a NumPy array with some finite and non-finite elements\n",
    "array = np.array([1.0, 2.0, np.inf, np.nan, -np.inf])"
   ]
  },
  {
   "cell_type": "code",
   "execution_count": 25,
   "id": "5b5d2b68",
   "metadata": {},
   "outputs": [],
   "source": [
    "# Test for finiteness element-wise\n",
    "result = np.isfinite(array)"
   ]
  },
  {
   "cell_type": "markdown",
   "id": "69e8bda1",
   "metadata": {},
   "source": [
    "The `np.isfinite()` function check the finiteness of each elemente. The result is a boolean array, where True indicates that the corresponding element is finite, and False indicates that it's either infinity or a NaN"
   ]
  },
  {
   "cell_type": "code",
   "execution_count": 26,
   "id": "2db09ad9",
   "metadata": {},
   "outputs": [
    {
     "name": "stdout",
     "output_type": "stream",
     "text": [
      "Original array:\n",
      "[  1.   2.  inf  nan -inf]\n"
     ]
    }
   ],
   "source": [
    "# Print the result\n",
    "print(\"Original array:\")\n",
    "print(array)"
   ]
  },
  {
   "cell_type": "code",
   "execution_count": 27,
   "id": "7117a08d",
   "metadata": {
    "scrolled": true
   },
   "outputs": [
    {
     "name": "stdout",
     "output_type": "stream",
     "text": [
      "Is finite (not infinity or NaN) element-wise:\n",
      "[ True  True False False False]\n"
     ]
    }
   ],
   "source": [
    "print(\"Is finite (not infinity or NaN) element-wise:\")\n",
    "print(result)"
   ]
  },
  {
   "cell_type": "markdown",
   "id": "3f4d1402",
   "metadata": {},
   "source": [
    "---"
   ]
  },
  {
   "cell_type": "markdown",
   "id": "493acd8b",
   "metadata": {},
   "source": [
    "---"
   ]
  },
  {
   "cell_type": "markdown",
   "id": "d4adb5ef",
   "metadata": {},
   "source": [
    "### 6. Write a NumPy program to test elements-wise for positive or negative infinity.  "
   ]
  },
  {
   "cell_type": "code",
   "execution_count": 28,
   "id": "cd7eab72",
   "metadata": {},
   "outputs": [],
   "source": [
    "import numpy as np"
   ]
  },
  {
   "cell_type": "code",
   "execution_count": 29,
   "id": "6ca9c25e",
   "metadata": {},
   "outputs": [],
   "source": [
    "# Create a NumPy array with some elements including positive and negative infinity\n",
    "array = np.array([1.0, np.inf, -np.inf, 2.0, -np.inf, np.nan])"
   ]
  },
  {
   "cell_type": "code",
   "execution_count": 30,
   "id": "a8f053a1",
   "metadata": {},
   "outputs": [],
   "source": [
    "# Test for positive infinity element-wise\n",
    "is_pos_inf = np.isposinf(array)"
   ]
  },
  {
   "cell_type": "code",
   "execution_count": 31,
   "id": "f10c30a0",
   "metadata": {},
   "outputs": [],
   "source": [
    "# Test for negative infinity element-wise\n",
    "is_neg_inf = np.isneginf(array)"
   ]
  },
  {
   "cell_type": "code",
   "execution_count": 36,
   "id": "1274f4a8",
   "metadata": {},
   "outputs": [],
   "source": [
    "# Test for infinity positive or negative\n",
    "is_inf_inf = np.isinf(array)"
   ]
  },
  {
   "cell_type": "code",
   "execution_count": 32,
   "id": "0d992ef5",
   "metadata": {},
   "outputs": [
    {
     "name": "stdout",
     "output_type": "stream",
     "text": [
      "Original array:\n",
      "[  1.  inf -inf   2. -inf  nan]\n"
     ]
    }
   ],
   "source": [
    "# Print the results\n",
    "print(\"Original array:\")\n",
    "print(array)"
   ]
  },
  {
   "cell_type": "code",
   "execution_count": 33,
   "id": "54baa9bf",
   "metadata": {},
   "outputs": [
    {
     "name": "stdout",
     "output_type": "stream",
     "text": [
      "Is positive infinity element-wise:\n",
      "[False  True False False False False]\n"
     ]
    }
   ],
   "source": [
    "print(\"Is positive infinity element-wise:\")\n",
    "print(is_pos_inf)"
   ]
  },
  {
   "cell_type": "code",
   "execution_count": 34,
   "id": "690ff652",
   "metadata": {},
   "outputs": [
    {
     "name": "stdout",
     "output_type": "stream",
     "text": [
      "Is negative infinity element-wise:\n",
      "[False False  True False  True False]\n"
     ]
    }
   ],
   "source": [
    "print(\"Is negative infinity element-wise:\")\n",
    "print(is_neg_inf)"
   ]
  },
  {
   "cell_type": "code",
   "execution_count": 37,
   "id": "9e61c057",
   "metadata": {
    "scrolled": true
   },
   "outputs": [
    {
     "name": "stdout",
     "output_type": "stream",
     "text": [
      "Is positive OR negative infinity element-wise:\n",
      "[False  True  True False  True False]\n"
     ]
    }
   ],
   "source": [
    "print(\"Is positive OR negative infinity element-wise:\")\n",
    "print(is_inf_inf)"
   ]
  },
  {
   "cell_type": "markdown",
   "id": "88910754",
   "metadata": {},
   "source": [
    "---"
   ]
  },
  {
   "cell_type": "markdown",
   "id": "2f5d1cbd",
   "metadata": {},
   "source": [
    "---"
   ]
  },
  {
   "cell_type": "markdown",
   "id": "90499671",
   "metadata": {},
   "source": [
    "### 7. Write a NumPy program to test element-wise for NaN of a given array. "
   ]
  },
  {
   "cell_type": "code",
   "execution_count": 38,
   "id": "5fe9db35",
   "metadata": {},
   "outputs": [],
   "source": [
    "import numpy as np"
   ]
  },
  {
   "cell_type": "code",
   "execution_count": null,
   "id": "dfb5ff95",
   "metadata": {},
   "outputs": [],
   "source": []
  }
 ],
 "metadata": {
  "kernelspec": {
   "display_name": "Python 3",
   "language": "python",
   "name": "python3"
  },
  "language_info": {
   "codemirror_mode": {
    "name": "ipython",
    "version": 3
   },
   "file_extension": ".py",
   "mimetype": "text/x-python",
   "name": "python",
   "nbconvert_exporter": "python",
   "pygments_lexer": "ipython3",
   "version": "3.8.8"
  }
 },
 "nbformat": 4,
 "nbformat_minor": 5
}

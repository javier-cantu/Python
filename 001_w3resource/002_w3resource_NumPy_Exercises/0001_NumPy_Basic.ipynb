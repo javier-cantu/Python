{
 "cells": [
  {
   "cell_type": "markdown",
   "id": "a047b8af",
   "metadata": {},
   "source": [
    "# 0001_NumPy_Basic"
   ]
  },
  {
   "cell_type": "markdown",
   "id": "65594735",
   "metadata": {},
   "source": [
    "---"
   ]
  },
  {
   "cell_type": "markdown",
   "id": "5c319be7",
   "metadata": {},
   "source": [
    "[NumPy Basic](https://www.w3resource.com/python-exercises/numpy/basic/index.php)"
   ]
  },
  {
   "cell_type": "markdown",
   "id": "17591813",
   "metadata": {},
   "source": [
    "---"
   ]
  },
  {
   "cell_type": "markdown",
   "id": "acc2465f",
   "metadata": {},
   "source": [
    "### 1. Write a Numpy program to get the Numpy version and show the Numpy build configuration. "
   ]
  },
  {
   "cell_type": "markdown",
   "id": "d2b8f33e",
   "metadata": {},
   "source": [
    "Import the numpy library:\n",
    "This line imports the numpy library and assigns it the alias **np** for convenience."
   ]
  },
  {
   "cell_type": "code",
   "execution_count": 1,
   "id": "8c268740",
   "metadata": {},
   "outputs": [],
   "source": [
    "import numpy as np"
   ]
  },
  {
   "cell_type": "markdown",
   "id": "8062da01",
   "metadata": {},
   "source": [
    "Print the numpy version:\n",
    "This line prints the version of the numpy library using the `__version__` attribute. It displays the version number of numpy installed in your Python environment."
   ]
  },
  {
   "cell_type": "code",
   "execution_count": 2,
   "id": "fcc76fca",
   "metadata": {},
   "outputs": [
    {
     "name": "stdout",
     "output_type": "stream",
     "text": [
      "1.20.1\n"
     ]
    }
   ],
   "source": [
    "print(np.__version__)"
   ]
  },
  {
   "cell_type": "markdown",
   "id": "f51b85fc",
   "metadata": {},
   "source": [
    "Print the **numpy** configuration:\n"
   ]
  },
  {
   "cell_type": "code",
   "execution_count": 4,
   "id": "e288cde3",
   "metadata": {
    "scrolled": true
   },
   "outputs": [
    {
     "name": "stdout",
     "output_type": "stream",
     "text": [
      "blas_mkl_info:\n",
      "    libraries = ['mkl_rt']\n",
      "    library_dirs = ['C:/ProgramData/Anaconda3\\\\Library\\\\lib']\n",
      "    define_macros = [('SCIPY_MKL_H', None), ('HAVE_CBLAS', None)]\n",
      "    include_dirs = ['C:/ProgramData/Anaconda3\\\\Library\\\\include']\n",
      "blas_opt_info:\n",
      "    libraries = ['mkl_rt']\n",
      "    library_dirs = ['C:/ProgramData/Anaconda3\\\\Library\\\\lib']\n",
      "    define_macros = [('SCIPY_MKL_H', None), ('HAVE_CBLAS', None)]\n",
      "    include_dirs = ['C:/ProgramData/Anaconda3\\\\Library\\\\include']\n",
      "lapack_mkl_info:\n",
      "    libraries = ['mkl_rt']\n",
      "    library_dirs = ['C:/ProgramData/Anaconda3\\\\Library\\\\lib']\n",
      "    define_macros = [('SCIPY_MKL_H', None), ('HAVE_CBLAS', None)]\n",
      "    include_dirs = ['C:/ProgramData/Anaconda3\\\\Library\\\\include']\n",
      "lapack_opt_info:\n",
      "    libraries = ['mkl_rt']\n",
      "    library_dirs = ['C:/ProgramData/Anaconda3\\\\Library\\\\lib']\n",
      "    define_macros = [('SCIPY_MKL_H', None), ('HAVE_CBLAS', None)]\n",
      "    include_dirs = ['C:/ProgramData/Anaconda3\\\\Library\\\\include']\n"
     ]
    }
   ],
   "source": [
    "np.show_config()"
   ]
  },
  {
   "cell_type": "markdown",
   "id": "7b719037",
   "metadata": {},
   "source": [
    "---"
   ]
  },
  {
   "cell_type": "markdown",
   "id": "4c10ca33",
   "metadata": {},
   "source": [
    "---"
   ]
  },
  {
   "cell_type": "markdown",
   "id": "afa4daa7",
   "metadata": {},
   "source": [
    "### 2. Write a NumPy program to get help with the add function. "
   ]
  },
  {
   "cell_type": "code",
   "execution_count": 6,
   "id": "fd57a628",
   "metadata": {},
   "outputs": [],
   "source": [
    "import numpy as np"
   ]
  },
  {
   "cell_type": "markdown",
   "id": "b78fe19e",
   "metadata": {},
   "source": [
    "This line uses the np.info() function to display detailed information about the numpy.add function."
   ]
  },
  {
   "cell_type": "code",
   "execution_count": 7,
   "id": "524c86fe",
   "metadata": {
    "scrolled": true
   },
   "outputs": [
    {
     "name": "stdout",
     "output_type": "stream",
     "text": [
      "add(x1, x2, /, out=None, *, where=True, casting='same_kind', order='K', dtype=None, subok=True[, signature, extobj])\n",
      "\n",
      "Add arguments element-wise.\n",
      "\n",
      "Parameters\n",
      "----------\n",
      "x1, x2 : array_like\n",
      "    The arrays to be added.\n",
      "    If ``x1.shape != x2.shape``, they must be broadcastable to a common\n",
      "    shape (which becomes the shape of the output).\n",
      "out : ndarray, None, or tuple of ndarray and None, optional\n",
      "    A location into which the result is stored. If provided, it must have\n",
      "    a shape that the inputs broadcast to. If not provided or None,\n",
      "    a freshly-allocated array is returned. A tuple (possible only as a\n",
      "    keyword argument) must have length equal to the number of outputs.\n",
      "where : array_like, optional\n",
      "    This condition is broadcast over the input. At locations where the\n",
      "    condition is True, the `out` array will be set to the ufunc result.\n",
      "    Elsewhere, the `out` array will retain its original value.\n",
      "    Note that if an uninitialized `out` array is created via the default\n",
      "    ``out=None``, locations within it where the condition is False will\n",
      "    remain uninitialized.\n",
      "**kwargs\n",
      "    For other keyword-only arguments, see the\n",
      "    :ref:`ufunc docs <ufuncs.kwargs>`.\n",
      "\n",
      "Returns\n",
      "-------\n",
      "add : ndarray or scalar\n",
      "    The sum of `x1` and `x2`, element-wise.\n",
      "    This is a scalar if both `x1` and `x2` are scalars.\n",
      "\n",
      "Notes\n",
      "-----\n",
      "Equivalent to `x1` + `x2` in terms of array broadcasting.\n",
      "\n",
      "Examples\n",
      "--------\n",
      ">>> np.add(1.0, 4.0)\n",
      "5.0\n",
      ">>> x1 = np.arange(9.0).reshape((3, 3))\n",
      ">>> x2 = np.arange(3.0)\n",
      ">>> np.add(x1, x2)\n",
      "array([[  0.,   2.,   4.],\n",
      "       [  3.,   5.,   7.],\n",
      "       [  6.,   8.,  10.]])\n",
      "\n",
      "The ``+`` operator can be used as a shorthand for ``np.add`` on ndarrays.\n",
      "\n",
      ">>> x1 = np.arange(9.0).reshape((3, 3))\n",
      ">>> x2 = np.arange(3.0)\n",
      ">>> x1 + x2\n",
      "array([[ 0.,  2.,  4.],\n",
      "       [ 3.,  5.,  7.],\n",
      "       [ 6.,  8., 10.]])\n",
      "None\n"
     ]
    }
   ],
   "source": [
    "print(np.info(np.add))"
   ]
  },
  {
   "cell_type": "markdown",
   "id": "7a361c65",
   "metadata": {},
   "source": [
    "---"
   ]
  },
  {
   "cell_type": "markdown",
   "id": "f5f87725",
   "metadata": {},
   "source": [
    "---"
   ]
  },
  {
   "cell_type": "markdown",
   "id": "a8b35347",
   "metadata": {},
   "source": [
    "### 3. Write a NumPy program to test whether none of the elements of a given array are zero.  "
   ]
  },
  {
   "cell_type": "code",
   "execution_count": 8,
   "id": "4bbf840e",
   "metadata": {},
   "outputs": [],
   "source": [
    "import numpy as np"
   ]
  },
  {
   "cell_type": "code",
   "execution_count": 9,
   "id": "0f3b5379",
   "metadata": {},
   "outputs": [],
   "source": [
    "# Create a NumPy array\n",
    "array = np.array([1, 2, 3, 4, 5])"
   ]
  },
  {
   "cell_type": "code",
   "execution_count": 10,
   "id": "d0801594",
   "metadata": {},
   "outputs": [],
   "source": [
    "# Test whether none of the elements are zero\n",
    "result = np.all(array != 0)"
   ]
  },
  {
   "cell_type": "markdown",
   "id": "70d11acf",
   "metadata": {},
   "source": [
    "`array != 0`: This part of the expression creates a boolean array of the same shape as array. Each element in this boolean array will be True if the corresponding element in the array is not equal to zero and False otherwise. In other words, it checks element-wise if the elements in array are not equal to zero."
   ]
  },
  {
   "cell_type": "markdown",
   "id": "df37d72a",
   "metadata": {},
   "source": [
    "`np.all()`: This is a NumPy function called **all**. It checks whether all elements in a boolean array are True. If all elements in the boolean array are True, np.all returns True. If at least one element in the boolean array is False, it returns False."
   ]
  },
  {
   "cell_type": "code",
   "execution_count": 11,
   "id": "b215a0d4",
   "metadata": {
    "scrolled": true
   },
   "outputs": [
    {
     "name": "stdout",
     "output_type": "stream",
     "text": [
      "None of the elements in the array are zero.\n"
     ]
    }
   ],
   "source": [
    "# Print the result\n",
    "if result:\n",
    "    print(\"None of the elements in the array are zero.\")\n",
    "else:\n",
    "    print(\"At least one element in the array is zero.\")"
   ]
  },
  {
   "cell_type": "markdown",
   "id": "d947df70",
   "metadata": {},
   "source": [
    "---"
   ]
  },
  {
   "cell_type": "markdown",
   "id": "159ad19b",
   "metadata": {},
   "source": [
    "---"
   ]
  },
  {
   "cell_type": "markdown",
   "id": "2e7c98a4",
   "metadata": {},
   "source": [
    "### 4. Write a NumPy program to test if any of the elements of a given array are non-zero.  "
   ]
  },
  {
   "cell_type": "code",
   "execution_count": 19,
   "id": "0a3af806",
   "metadata": {},
   "outputs": [],
   "source": [
    "import numpy as np"
   ]
  },
  {
   "cell_type": "code",
   "execution_count": 20,
   "id": "77fc4395",
   "metadata": {},
   "outputs": [],
   "source": [
    "# Create a NumPy array\n",
    "array = np.array([0, 0, 0, 1, 0])"
   ]
  },
  {
   "cell_type": "code",
   "execution_count": 21,
   "id": "8ad974dd",
   "metadata": {},
   "outputs": [],
   "source": [
    "# Test if any element in the array is non-zero\n",
    "result = np.any(array != 0)"
   ]
  },
  {
   "cell_type": "markdown",
   "id": "9a3a8270",
   "metadata": {},
   "source": [
    "We use the expression `array != 0` to create a boolean array where each element is True if the corresponding element in the original array is non-zero and False if it's zero."
   ]
  },
  {
   "cell_type": "markdown",
   "id": "9d604e4a",
   "metadata": {},
   "source": [
    "We use the `np.any()` function to check if at least one element in the boolean array is True, indicating that there is at least one non-zero element in the original array."
   ]
  },
  {
   "cell_type": "code",
   "execution_count": 22,
   "id": "823b2981",
   "metadata": {},
   "outputs": [
    {
     "name": "stdout",
     "output_type": "stream",
     "text": [
      "At least one element in the array is non-zero.\n"
     ]
    }
   ],
   "source": [
    "# Print the result\n",
    "if result:\n",
    "    print(\"At least one element in the array is non-zero.\")\n",
    "else:\n",
    "    print(\"All elements in the array are zero.\")"
   ]
  },
  {
   "cell_type": "markdown",
   "id": "86b4a31c",
   "metadata": {},
   "source": [
    "---"
   ]
  },
  {
   "cell_type": "markdown",
   "id": "94012433",
   "metadata": {},
   "source": [
    "---"
   ]
  },
  {
   "cell_type": "markdown",
   "id": "543e2a55",
   "metadata": {},
   "source": [
    "### 5. Write a NumPy program to test a given array element-wise for finiteness (not infinity or not a number). "
   ]
  },
  {
   "cell_type": "code",
   "execution_count": 23,
   "id": "97c86235",
   "metadata": {},
   "outputs": [],
   "source": [
    "import numpy as np"
   ]
  },
  {
   "cell_type": "code",
   "execution_count": 24,
   "id": "b168beb1",
   "metadata": {},
   "outputs": [],
   "source": [
    "# Create a NumPy array with some finite and non-finite elements\n",
    "array = np.array([1.0, 2.0, np.inf, np.nan, -np.inf])"
   ]
  },
  {
   "cell_type": "code",
   "execution_count": 25,
   "id": "9aeb2ef9",
   "metadata": {},
   "outputs": [],
   "source": [
    "# Test for finiteness element-wise\n",
    "result = np.isfinite(array)"
   ]
  },
  {
   "cell_type": "markdown",
   "id": "4381b963",
   "metadata": {},
   "source": [
    "The `np.isfinite()` function check the finiteness of each elemente. The result is a boolean array, where True indicates that the corresponding element is finite, and False indicates that it's either infinity or a NaN"
   ]
  },
  {
   "cell_type": "code",
   "execution_count": 26,
   "id": "f1279a84",
   "metadata": {},
   "outputs": [
    {
     "name": "stdout",
     "output_type": "stream",
     "text": [
      "Original array:\n",
      "[  1.   2.  inf  nan -inf]\n"
     ]
    }
   ],
   "source": [
    "# Print the result\n",
    "print(\"Original array:\")\n",
    "print(array)"
   ]
  },
  {
   "cell_type": "code",
   "execution_count": 27,
   "id": "40c9b57f",
   "metadata": {
    "scrolled": true
   },
   "outputs": [
    {
     "name": "stdout",
     "output_type": "stream",
     "text": [
      "Is finite (not infinity or NaN) element-wise:\n",
      "[ True  True False False False]\n"
     ]
    }
   ],
   "source": [
    "print(\"Is finite (not infinity or NaN) element-wise:\")\n",
    "print(result)"
   ]
  },
  {
   "cell_type": "markdown",
   "id": "b5d003d6",
   "metadata": {},
   "source": [
    "---"
   ]
  },
  {
   "cell_type": "markdown",
   "id": "2a49596d",
   "metadata": {},
   "source": [
    "---"
   ]
  },
  {
   "cell_type": "markdown",
   "id": "a3d50e5b",
   "metadata": {},
   "source": [
    "### 6. Write a NumPy program to test elements-wise for positive or negative infinity.  "
   ]
  },
  {
   "cell_type": "code",
   "execution_count": 28,
   "id": "3b9dc45e",
   "metadata": {},
   "outputs": [],
   "source": [
    "import numpy as np"
   ]
  },
  {
   "cell_type": "code",
   "execution_count": 29,
   "id": "1f2fa845",
   "metadata": {},
   "outputs": [],
   "source": [
    "# Create a NumPy array with some elements including positive and negative infinity\n",
    "array = np.array([1.0, np.inf, -np.inf, 2.0, -np.inf, np.nan])"
   ]
  },
  {
   "cell_type": "code",
   "execution_count": 30,
   "id": "eaa1baab",
   "metadata": {},
   "outputs": [],
   "source": [
    "# Test for positive infinity element-wise\n",
    "is_pos_inf = np.isposinf(array)"
   ]
  },
  {
   "cell_type": "code",
   "execution_count": 31,
   "id": "3a05492d",
   "metadata": {},
   "outputs": [],
   "source": [
    "# Test for negative infinity element-wise\n",
    "is_neg_inf = np.isneginf(array)"
   ]
  },
  {
   "cell_type": "code",
   "execution_count": 36,
   "id": "45076149",
   "metadata": {},
   "outputs": [],
   "source": [
    "# Test for infinity positive or negative\n",
    "is_inf_inf = np.isinf(array)"
   ]
  },
  {
   "cell_type": "code",
   "execution_count": 32,
   "id": "75b50928",
   "metadata": {},
   "outputs": [
    {
     "name": "stdout",
     "output_type": "stream",
     "text": [
      "Original array:\n",
      "[  1.  inf -inf   2. -inf  nan]\n"
     ]
    }
   ],
   "source": [
    "# Print the results\n",
    "print(\"Original array:\")\n",
    "print(array)"
   ]
  },
  {
   "cell_type": "code",
   "execution_count": 33,
   "id": "4ca85697",
   "metadata": {},
   "outputs": [
    {
     "name": "stdout",
     "output_type": "stream",
     "text": [
      "Is positive infinity element-wise:\n",
      "[False  True False False False False]\n"
     ]
    }
   ],
   "source": [
    "print(\"Is positive infinity element-wise:\")\n",
    "print(is_pos_inf)"
   ]
  },
  {
   "cell_type": "code",
   "execution_count": 34,
   "id": "33aec48b",
   "metadata": {},
   "outputs": [
    {
     "name": "stdout",
     "output_type": "stream",
     "text": [
      "Is negative infinity element-wise:\n",
      "[False False  True False  True False]\n"
     ]
    }
   ],
   "source": [
    "print(\"Is negative infinity element-wise:\")\n",
    "print(is_neg_inf)"
   ]
  },
  {
   "cell_type": "code",
   "execution_count": 37,
   "id": "f689f4fc",
   "metadata": {
    "scrolled": true
   },
   "outputs": [
    {
     "name": "stdout",
     "output_type": "stream",
     "text": [
      "Is positive OR negative infinity element-wise:\n",
      "[False  True  True False  True False]\n"
     ]
    }
   ],
   "source": [
    "print(\"Is positive OR negative infinity element-wise:\")\n",
    "print(is_inf_inf)"
   ]
  },
  {
   "cell_type": "markdown",
   "id": "1b738626",
   "metadata": {},
   "source": [
    "---"
   ]
  },
  {
   "cell_type": "markdown",
   "id": "a48f3e17",
   "metadata": {},
   "source": [
    "---"
   ]
  },
  {
   "cell_type": "markdown",
   "id": "fb3bc34e",
   "metadata": {},
   "source": [
    "### 7. Write a NumPy program to test element-wise for NaN (Not-a-Number)  of a given array. "
   ]
  },
  {
   "cell_type": "code",
   "execution_count": 38,
   "id": "6fa3f9b2",
   "metadata": {},
   "outputs": [],
   "source": [
    "import numpy as np"
   ]
  },
  {
   "cell_type": "code",
   "execution_count": 39,
   "id": "cc0c978d",
   "metadata": {},
   "outputs": [],
   "source": [
    "# Create a NumPy array with some elements including NaN\n",
    "array = np.array([1.0, np.nan, 2.0, 3.0, np.nan, 4.0])"
   ]
  },
  {
   "cell_type": "code",
   "execution_count": 40,
   "id": "83c64859",
   "metadata": {},
   "outputs": [],
   "source": [
    "# Test for NaN element-wise\n",
    "is_nan = np.isnan(array)"
   ]
  },
  {
   "cell_type": "code",
   "execution_count": 43,
   "id": "a0e76378",
   "metadata": {},
   "outputs": [
    {
     "name": "stdout",
     "output_type": "stream",
     "text": [
      "Original array:\n",
      "[ 1. nan  2.  3. nan  4.]\n"
     ]
    }
   ],
   "source": [
    "# Print the results\n",
    "print(\"Original array:\")\n",
    "print(array)"
   ]
  },
  {
   "cell_type": "code",
   "execution_count": 44,
   "id": "bf13c929",
   "metadata": {
    "scrolled": true
   },
   "outputs": [
    {
     "name": "stdout",
     "output_type": "stream",
     "text": [
      "Is NaN element-wise:\n",
      "[False  True False False  True False]\n"
     ]
    }
   ],
   "source": [
    "print(\"Is NaN element-wise:\")\n",
    "print(is_nan)"
   ]
  },
  {
   "cell_type": "markdown",
   "id": "e9d7d49d",
   "metadata": {},
   "source": [
    "---"
   ]
  },
  {
   "cell_type": "markdown",
   "id": "60a02980",
   "metadata": {},
   "source": [
    "---"
   ]
  },
  {
   "cell_type": "markdown",
   "id": "0a339be2",
   "metadata": {},
   "source": [
    "### 8. Write a NumPy program to test element-wise for complex numbers, real numbers in a given array. Also test if a given number is of a scalar type or not.  "
   ]
  },
  {
   "cell_type": "code",
   "execution_count": 29,
   "id": "82d143d9",
   "metadata": {},
   "outputs": [],
   "source": [
    "import numpy as np"
   ]
  },
  {
   "cell_type": "code",
   "execution_count": 30,
   "id": "9089bd1f",
   "metadata": {},
   "outputs": [],
   "source": [
    "# Create a sample NumPy array\n",
    "sample_array = np.array([1, 2 + 3j, 3.5, 4, 5.5 + 2j])"
   ]
  },
  {
   "cell_type": "code",
   "execution_count": 31,
   "id": "eb27b23e",
   "metadata": {},
   "outputs": [],
   "source": [
    "# Test for complex numbers\n",
    "is_complex = np.iscomplex(sample_array)"
   ]
  },
  {
   "cell_type": "code",
   "execution_count": 32,
   "id": "3683a991",
   "metadata": {},
   "outputs": [],
   "source": [
    "# Test for real numbers\n",
    "is_real = np.isreal(sample_array)"
   ]
  },
  {
   "cell_type": "code",
   "execution_count": 33,
   "id": "ca7056e8",
   "metadata": {},
   "outputs": [],
   "source": [
    "# Test if a given number is of a scalar type\n",
    "given_number = 7\n",
    "is_scalar = np.isscalar(given_number)"
   ]
  },
  {
   "cell_type": "code",
   "execution_count": 34,
   "id": "3ced8632",
   "metadata": {},
   "outputs": [
    {
     "name": "stdout",
     "output_type": "stream",
     "text": [
      "Original Array:\n",
      "[1. +0.j 2. +3.j 3.5+0.j 4. +0.j 5.5+2.j]\n"
     ]
    }
   ],
   "source": [
    "# Print the results\n",
    "print(\"Original Array:\")\n",
    "print(sample_array)"
   ]
  },
  {
   "cell_type": "code",
   "execution_count": 35,
   "id": "511f6d6b",
   "metadata": {},
   "outputs": [
    {
     "name": "stdout",
     "output_type": "stream",
     "text": [
      "Element-wise test for complex numbers:\n",
      "[False  True False False  True]\n"
     ]
    }
   ],
   "source": [
    "print(\"Element-wise test for complex numbers:\")\n",
    "print(is_complex)"
   ]
  },
  {
   "cell_type": "code",
   "execution_count": 36,
   "id": "84169eb2",
   "metadata": {},
   "outputs": [
    {
     "name": "stdout",
     "output_type": "stream",
     "text": [
      "Element-wise test for real numbers:\n",
      "[ True False  True  True False]\n"
     ]
    }
   ],
   "source": [
    "print(\"Element-wise test for real numbers:\")\n",
    "print(is_real)"
   ]
  },
  {
   "cell_type": "code",
   "execution_count": 37,
   "id": "dbe8b6ec",
   "metadata": {
    "scrolled": true
   },
   "outputs": [
    {
     "name": "stdout",
     "output_type": "stream",
     "text": [
      "Is the given number a scalar?\n",
      "True\n"
     ]
    }
   ],
   "source": [
    "print(\"Is the given number a scalar?\")\n",
    "print(is_scalar)"
   ]
  },
  {
   "cell_type": "markdown",
   "id": "03ea62cd",
   "metadata": {},
   "source": [
    "---"
   ]
  },
  {
   "cell_type": "markdown",
   "id": "7ae14a05",
   "metadata": {},
   "source": [
    "---"
   ]
  },
  {
   "cell_type": "markdown",
   "id": "6934da18",
   "metadata": {},
   "source": [
    "### 9. Write a NumPy program to test whether two arrays are element-wise equal within a tolerance. "
   ]
  },
  {
   "cell_type": "markdown",
   "id": "f15e84a4",
   "metadata": {},
   "source": [
    "Note: The tolerance values are positive, typically very small numbers. The relative difference `(rtol * abs(b))` and the absolute difference atol are added together to compare against the absolute difference between a and b."
   ]
  },
  {
   "cell_type": "code",
   "execution_count": 38,
   "id": "3a706cdd",
   "metadata": {},
   "outputs": [],
   "source": [
    "import numpy as np"
   ]
  },
  {
   "cell_type": "code",
   "execution_count": 39,
   "id": "2bc6b8a0",
   "metadata": {},
   "outputs": [],
   "source": [
    "# Create two NumPy arrays\n",
    "array1 = np.array([1.0, 2.0, 3.0])\n",
    "array2 = np.array([1.0, 2.001, 3.0])"
   ]
  },
  {
   "cell_type": "code",
   "execution_count": 40,
   "id": "2ca1cc1a",
   "metadata": {},
   "outputs": [],
   "source": [
    "# Define a tolerance level\n",
    "tolerance = 0.01"
   ]
  },
  {
   "cell_type": "code",
   "execution_count": 41,
   "id": "0a3272c2",
   "metadata": {},
   "outputs": [],
   "source": [
    "# Test whether the two arrays are element-wise equal within the specified tolerance\n",
    "are_equal = np.allclose(array1, array2, atol=tolerance)"
   ]
  },
  {
   "cell_type": "markdown",
   "id": "fbdf735e",
   "metadata": {},
   "source": [
    "In this example, we have two NumPy arrays array1 and array2. We use the np.allclose() function to test whether the elements in these arrays are equal within the specified tolerance (tolerance), and the result is printed based on the comparison. If the elements in the arrays are equal within the tolerance, it will print that the arrays are element-wise equal within the tolerance; otherwise, it will print that they are not."
   ]
  },
  {
   "cell_type": "code",
   "execution_count": 42,
   "id": "4bbbd987",
   "metadata": {},
   "outputs": [
    {
     "name": "stdout",
     "output_type": "stream",
     "text": [
      "The arrays are element-wise equal within the tolerance.\n"
     ]
    }
   ],
   "source": [
    "# Print the result\n",
    "if are_equal:\n",
    "    print(\"The arrays are element-wise equal within the tolerance.\")\n",
    "else:\n",
    "    print(\"The arrays are not element-wise equal within the tolerance.\")"
   ]
  },
  {
   "cell_type": "markdown",
   "id": "1511eb9d",
   "metadata": {},
   "source": [
    "---"
   ]
  },
  {
   "cell_type": "markdown",
   "id": "293c234b",
   "metadata": {},
   "source": [
    "---"
   ]
  },
  {
   "cell_type": "markdown",
   "id": "bba313f9",
   "metadata": {},
   "source": [
    "### 10. Write a NumPy program to create an element-wise comparison (greater, greater_equal, less and less_equal) of two given arrays. "
   ]
  },
  {
   "cell_type": "code",
   "execution_count": 43,
   "id": "bdaf09e8",
   "metadata": {},
   "outputs": [],
   "source": [
    "import numpy as np"
   ]
  },
  {
   "cell_type": "code",
   "execution_count": 44,
   "id": "522b027c",
   "metadata": {},
   "outputs": [],
   "source": [
    "# Create two NumPy arays\n",
    "array1 = np.array([1, 2, 3, 4, 5])\n",
    "array2 = np.array([3, 2, 2, 4, 6])"
   ]
  },
  {
   "cell_type": "code",
   "execution_count": 45,
   "id": "86f55030",
   "metadata": {},
   "outputs": [],
   "source": [
    "# Element-wise greater comparison\n",
    "greater_comparison = array1 > array2"
   ]
  },
  {
   "cell_type": "code",
   "execution_count": 46,
   "id": "13765bdc",
   "metadata": {},
   "outputs": [],
   "source": [
    "# Element-wise greater_equal comparison\n",
    "greater_equal_comparison = array1 >= array2"
   ]
  },
  {
   "cell_type": "code",
   "execution_count": 47,
   "id": "a4b012ed",
   "metadata": {},
   "outputs": [],
   "source": [
    "# Element-wise less comparison\n",
    "less_comparison = array1 < array2"
   ]
  },
  {
   "cell_type": "code",
   "execution_count": 48,
   "id": "8dad7602",
   "metadata": {},
   "outputs": [],
   "source": [
    "# Element-wise less_equal comparison\n",
    "less_equal_comparison = array1 <= array2"
   ]
  },
  {
   "cell_type": "code",
   "execution_count": 49,
   "id": "43cb1a70",
   "metadata": {
    "scrolled": true
   },
   "outputs": [
    {
     "name": "stdout",
     "output_type": "stream",
     "text": [
      "Array 1: [1 2 3 4 5]\n",
      "Array 2: [3 2 2 4 6]\n"
     ]
    }
   ],
   "source": [
    "# Print original arrays\n",
    "print(\"Array 1:\", array1)\n",
    "print(\"Array 2:\", array2)"
   ]
  },
  {
   "cell_type": "code",
   "execution_count": 50,
   "id": "ae86b143",
   "metadata": {},
   "outputs": [
    {
     "name": "stdout",
     "output_type": "stream",
     "text": [
      "\n",
      "Element-wise Greater Comparison:\n",
      "[False False  True False False]\n"
     ]
    }
   ],
   "source": [
    "print(\"\\nElement-wise Greater Comparison:\")\n",
    "print(greater_comparison)"
   ]
  },
  {
   "cell_type": "code",
   "execution_count": 51,
   "id": "5cead812",
   "metadata": {},
   "outputs": [
    {
     "name": "stdout",
     "output_type": "stream",
     "text": [
      "\n",
      "Element-wise Greater Equal Comparison:\n",
      "[False  True  True  True False]\n"
     ]
    }
   ],
   "source": [
    "print(\"\\nElement-wise Greater Equal Comparison:\")\n",
    "print(greater_equal_comparison)"
   ]
  },
  {
   "cell_type": "code",
   "execution_count": 52,
   "id": "aead1afa",
   "metadata": {},
   "outputs": [
    {
     "name": "stdout",
     "output_type": "stream",
     "text": [
      "\n",
      "Element-wise Less Comparison:\n",
      "[ True False False False  True]\n"
     ]
    }
   ],
   "source": [
    "print(\"\\nElement-wise Less Comparison:\")\n",
    "print(less_comparison)"
   ]
  },
  {
   "cell_type": "code",
   "execution_count": 53,
   "id": "0a0b4a73",
   "metadata": {
    "scrolled": true
   },
   "outputs": [
    {
     "name": "stdout",
     "output_type": "stream",
     "text": [
      "\n",
      "Element-wise Less Equal Comparison:\n",
      "[ True  True False  True  True]\n"
     ]
    }
   ],
   "source": [
    "print(\"\\nElement-wise Less Equal Comparison:\")\n",
    "print(less_equal_comparison)"
   ]
  },
  {
   "cell_type": "markdown",
   "id": "36f351c9",
   "metadata": {},
   "source": [
    "---"
   ]
  },
  {
   "cell_type": "markdown",
   "id": "811b2d24",
   "metadata": {},
   "source": [
    "---"
   ]
  },
  {
   "cell_type": "markdown",
   "id": "28cf375d",
   "metadata": {},
   "source": [
    "### 11. Write a NumPy program to create an element-wise comparison (equal, equal within a tolerance) of two given arrays."
   ]
  },
  {
   "cell_type": "code",
   "execution_count": 54,
   "id": "d723454a",
   "metadata": {},
   "outputs": [],
   "source": [
    "import numpy as np"
   ]
  },
  {
   "cell_type": "code",
   "execution_count": 58,
   "id": "5e3fa0b2",
   "metadata": {},
   "outputs": [],
   "source": [
    "array1 = np.array([72, 79, 85, 90, 150, -135, 120, -10, 60, 100])\n",
    "array2 = np.array([72, 79, 85, 90, 150, -135, 120, -10, 60, 100.000001])"
   ]
  },
  {
   "cell_type": "code",
   "execution_count": 59,
   "id": "8980f040",
   "metadata": {},
   "outputs": [],
   "source": [
    "# Element-wise equality comparison\n",
    "equal_comparison = np.equal(array1, array2)"
   ]
  },
  {
   "cell_type": "code",
   "execution_count": 60,
   "id": "5bfebb99",
   "metadata": {},
   "outputs": [
    {
     "name": "stdout",
     "output_type": "stream",
     "text": [
      "[ True  True  True  True  True  True  True  True  True False]\n"
     ]
    }
   ],
   "source": [
    "print(equal_comparison)"
   ]
  },
  {
   "cell_type": "code",
   "execution_count": 61,
   "id": "5590c7e8",
   "metadata": {},
   "outputs": [],
   "source": [
    "# Define a numerical tolerance\n",
    "tolerance = 0.1"
   ]
  },
  {
   "cell_type": "code",
   "execution_count": 62,
   "id": "4488e990",
   "metadata": {},
   "outputs": [],
   "source": [
    "# Element-wise equality within a tolerance comparison\n",
    "equal_within_tolerance = np.isclose(array1, array2, rtol=tolerance)"
   ]
  },
  {
   "cell_type": "code",
   "execution_count": 63,
   "id": "5dcc5557",
   "metadata": {
    "scrolled": true
   },
   "outputs": [
    {
     "name": "stdout",
     "output_type": "stream",
     "text": [
      "[ True  True  True  True  True  True  True  True  True  True]\n"
     ]
    }
   ],
   "source": [
    "print(equal_within_tolerance)"
   ]
  },
  {
   "cell_type": "markdown",
   "id": "b81f8ac9",
   "metadata": {},
   "source": [
    "---"
   ]
  },
  {
   "cell_type": "markdown",
   "id": "d4253794",
   "metadata": {},
   "source": [
    "---"
   ]
  },
  {
   "cell_type": "markdown",
   "id": "8eff74eb",
   "metadata": {},
   "source": [
    "### 12. Write a NumPy program to create an array with the values 1, 7, 13, 105 and determine the size of the memory occupied by the array. "
   ]
  },
  {
   "cell_type": "code",
   "execution_count": 64,
   "id": "2c559927",
   "metadata": {},
   "outputs": [],
   "source": [
    "import numpy as np"
   ]
  },
  {
   "cell_type": "code",
   "execution_count": 65,
   "id": "1dbcda8a",
   "metadata": {},
   "outputs": [],
   "source": [
    "# Create a NumPy array with the given values\n",
    "my_array = np.array([1, 7, 13, 105])"
   ]
  },
  {
   "cell_type": "code",
   "execution_count": 66,
   "id": "bee3d8a3",
   "metadata": {},
   "outputs": [],
   "source": [
    "# Determine the size of the memory occupied by the array\n",
    "memory_size = my_array.nbytes"
   ]
  },
  {
   "cell_type": "code",
   "execution_count": 67,
   "id": "2349b8c8",
   "metadata": {
    "scrolled": true
   },
   "outputs": [
    {
     "name": "stdout",
     "output_type": "stream",
     "text": [
      "Array: [  1   7  13 105]\n",
      "Memory Size (in bytes): 16\n"
     ]
    }
   ],
   "source": [
    "# Print the array and its memory size\n",
    "print(\"Array:\", my_array)\n",
    "print(\"Memory Size (in bytes):\", memory_size)"
   ]
  },
  {
   "cell_type": "markdown",
   "id": "629b1e2a",
   "metadata": {},
   "source": [
    "---"
   ]
  },
  {
   "cell_type": "markdown",
   "id": "1f319820",
   "metadata": {},
   "source": [
    "---"
   ]
  },
  {
   "cell_type": "markdown",
   "id": "282e8c27",
   "metadata": {},
   "source": [
    "### 13. Write a NumPy program to create an array of 10 zeros, 10 ones, and 10 fives.  "
   ]
  },
  {
   "cell_type": "code",
   "execution_count": 68,
   "id": "defede4e",
   "metadata": {},
   "outputs": [],
   "source": [
    "import numpy as np"
   ]
  },
  {
   "cell_type": "code",
   "execution_count": 69,
   "id": "0872330e",
   "metadata": {},
   "outputs": [],
   "source": [
    "# Create an array of 10 zeros\n",
    "zeros_array = np.zeros(10)"
   ]
  },
  {
   "cell_type": "code",
   "execution_count": 70,
   "id": "48ef4f4b",
   "metadata": {},
   "outputs": [
    {
     "name": "stdout",
     "output_type": "stream",
     "text": [
      "[0. 0. 0. 0. 0. 0. 0. 0. 0. 0.]\n"
     ]
    }
   ],
   "source": [
    "print(zeros_array)"
   ]
  },
  {
   "cell_type": "code",
   "execution_count": 71,
   "id": "e404c788",
   "metadata": {},
   "outputs": [],
   "source": [
    "# Create an array of 10 ones\n",
    "ones_array = np.ones(10)"
   ]
  },
  {
   "cell_type": "code",
   "execution_count": 72,
   "id": "f7d6b6d4",
   "metadata": {},
   "outputs": [
    {
     "name": "stdout",
     "output_type": "stream",
     "text": [
      "[1. 1. 1. 1. 1. 1. 1. 1. 1. 1.]\n"
     ]
    }
   ],
   "source": [
    "print(ones_array)"
   ]
  },
  {
   "cell_type": "code",
   "execution_count": 77,
   "id": "2db75a6b",
   "metadata": {},
   "outputs": [],
   "source": [
    "# Create an array of 10 fives\n",
    "fives_array = np.full(10, 5)"
   ]
  },
  {
   "cell_type": "code",
   "execution_count": 78,
   "id": "dd1511fd",
   "metadata": {},
   "outputs": [
    {
     "name": "stdout",
     "output_type": "stream",
     "text": [
      "[5 5 5 5 5 5 5 5 5 5]\n"
     ]
    }
   ],
   "source": [
    "print(fives_array)"
   ]
  },
  {
   "cell_type": "code",
   "execution_count": 79,
   "id": "f3b0eeab",
   "metadata": {},
   "outputs": [],
   "source": [
    "# Create an array of 10 fives\n",
    "fives_array = np.full(10, 5.0, dtype=float)"
   ]
  },
  {
   "cell_type": "code",
   "execution_count": 80,
   "id": "bd00dc78",
   "metadata": {},
   "outputs": [
    {
     "name": "stdout",
     "output_type": "stream",
     "text": [
      "[5. 5. 5. 5. 5. 5. 5. 5. 5. 5.]\n"
     ]
    }
   ],
   "source": [
    "print(fives_array)"
   ]
  },
  {
   "cell_type": "code",
   "execution_count": 81,
   "id": "25be4f3e",
   "metadata": {},
   "outputs": [],
   "source": [
    "# Concatenate the three arrays to create the final array\n",
    "result_array = np.concatenate((zeros_array, ones_array, fives_array))"
   ]
  },
  {
   "cell_type": "code",
   "execution_count": 82,
   "id": "6d6dd28b",
   "metadata": {},
   "outputs": [
    {
     "name": "stdout",
     "output_type": "stream",
     "text": [
      "[0. 0. 0. 0. 0. 0. 0. 0. 0. 0. 1. 1. 1. 1. 1. 1. 1. 1. 1. 1. 5. 5. 5. 5.\n",
      " 5. 5. 5. 5. 5. 5.]\n"
     ]
    }
   ],
   "source": [
    "print(result_array)"
   ]
  },
  {
   "cell_type": "markdown",
   "id": "8bc08e2a",
   "metadata": {},
   "source": [
    "---"
   ]
  },
  {
   "cell_type": "markdown",
   "id": "f4f74f39",
   "metadata": {},
   "source": [
    "---"
   ]
  },
  {
   "cell_type": "markdown",
   "id": "a522175c",
   "metadata": {},
   "source": [
    "### 14. Write a NumPy program to create an array of integers from 30 to 70. "
   ]
  },
  {
   "cell_type": "code",
   "execution_count": 83,
   "id": "6c13713c",
   "metadata": {},
   "outputs": [],
   "source": [
    "import numpy as np"
   ]
  },
  {
   "cell_type": "code",
   "execution_count": null,
   "id": "dccb6937",
   "metadata": {},
   "outputs": [],
   "source": []
  }
 ],
 "metadata": {
  "kernelspec": {
   "display_name": "Python 3",
   "language": "python",
   "name": "python3"
  },
  "language_info": {
   "codemirror_mode": {
    "name": "ipython",
    "version": 3
   },
   "file_extension": ".py",
   "mimetype": "text/x-python",
   "name": "python",
   "nbconvert_exporter": "python",
   "pygments_lexer": "ipython3",
   "version": "3.8.8"
  }
 },
 "nbformat": 4,
 "nbformat_minor": 5
}

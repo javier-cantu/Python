{
 "cells": [
  {
   "cell_type": "markdown",
   "id": "083b2f01",
   "metadata": {},
   "source": [
    "# 0003_Python basic (Part -I) 26 - 50.ipynb"
   ]
  },
  {
   "cell_type": "markdown",
   "id": "f5444324",
   "metadata": {},
   "source": [
    "---"
   ]
  },
  {
   "cell_type": "markdown",
   "id": "e7956e4c",
   "metadata": {},
   "source": [
    "### 51. Write a Python program to determine the profiling of Python programs. "
   ]
  },
  {
   "cell_type": "markdown",
   "id": "78e3e4da",
   "metadata": {},
   "source": [
    "Note: A profile is a set of statistics that describes how often and for how long various parts of the program executed. These statistics can be formatted into reports via the pstats module. "
   ]
  },
  {
   "cell_type": "code",
   "execution_count": null,
   "id": "534b1f6e",
   "metadata": {},
   "outputs": [],
   "source": []
  }
 ],
 "metadata": {
  "kernelspec": {
   "display_name": "Python 3",
   "language": "python",
   "name": "python3"
  },
  "language_info": {
   "codemirror_mode": {
    "name": "ipython",
    "version": 3
   },
   "file_extension": ".py",
   "mimetype": "text/x-python",
   "name": "python",
   "nbconvert_exporter": "python",
   "pygments_lexer": "ipython3",
   "version": "3.8.8"
  }
 },
 "nbformat": 4,
 "nbformat_minor": 5
}

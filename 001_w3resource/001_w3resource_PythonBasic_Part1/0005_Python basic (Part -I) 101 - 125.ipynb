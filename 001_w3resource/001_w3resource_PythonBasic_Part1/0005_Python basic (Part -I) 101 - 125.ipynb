{
 "cells": [
  {
   "cell_type": "markdown",
   "id": "99f00d6a",
   "metadata": {},
   "source": [
    "# 0005_Python basic (Part -I) 101 - 125"
   ]
  },
  {
   "cell_type": "markdown",
   "id": "822a96df",
   "metadata": {},
   "source": [
    "Ejercicios python 76 - 100\n",
    "[Python basic (Part -I)](https://www.w3resource.com/python-exercises/python-basic-exercises.php)"
   ]
  },
  {
   "cell_type": "markdown",
   "id": "0d23dd4c",
   "metadata": {},
   "source": [
    "---"
   ]
  },
  {
   "cell_type": "markdown",
   "id": "6acf9328",
   "metadata": {},
   "source": [
    "### 101. Write a Python program to access and print a URL's content to the console. "
   ]
  },
  {
   "cell_type": "markdown",
   "id": "250ab2fa",
   "metadata": {},
   "source": [
    "Import the HTTPConnection class from the http.client library.\n",
    "\n",
    "This line imports the HTTPConnection class, which is part of the standard Python library used for making HTTP requests."
   ]
  },
  {
   "cell_type": "code",
   "execution_count": 1,
   "id": "2fbddcfb",
   "metadata": {},
   "outputs": [],
   "source": [
    "from http.client import HTTPConnection"
   ]
  },
  {
   "cell_type": "markdown",
   "id": "6f4eaf5e",
   "metadata": {},
   "source": [
    "Create an HTTPConnection object for the host \"example.com\""
   ]
  },
  {
   "cell_type": "code",
   "execution_count": 2,
   "id": "2e1ba8f5",
   "metadata": {},
   "outputs": [],
   "source": [
    "conn = HTTPConnection(\"example.com\")"
   ]
  },
  {
   "cell_type": "markdown",
   "id": "a05ebb4a",
   "metadata": {},
   "source": [
    "Send an HTTP GET request to the root path (\"/\") of the server\n",
    "\n",
    "This line sends an HTTP GET request to the root path of the server. The first argument to conn.request is the HTTP method (\"GET\" in this case), and the second argument is the path (\"/\") indicating that you want to retrieve the default page or resource at the root of the server."
   ]
  },
  {
   "cell_type": "code",
   "execution_count": 3,
   "id": "ea36e1e1",
   "metadata": {},
   "outputs": [],
   "source": [
    "conn.request(\"GET\", \"/\")  "
   ]
  },
  {
   "cell_type": "markdown",
   "id": "2fbbc93b",
   "metadata": {},
   "source": [
    "Get the response from the server\n",
    "\n",
    "This line sends the request to the server and stores the response in the result variable. The response object contains information about the server's response, including the HTTP status code, headers, and the response body."
   ]
  },
  {
   "cell_type": "code",
   "execution_count": 4,
   "id": "ca4b7135",
   "metadata": {},
   "outputs": [],
   "source": [
    "result = conn.getresponse()"
   ]
  },
  {
   "cell_type": "markdown",
   "id": "1cef4c55",
   "metadata": {},
   "source": [
    "Read the content of the response:\n",
    "\n",
    "This line reads the content (the response body) of the server's response and stores it in the contents variable. The read() method is used to retrieve the entire response body as bytes."
   ]
  },
  {
   "cell_type": "code",
   "execution_count": 5,
   "id": "0737b975",
   "metadata": {},
   "outputs": [],
   "source": [
    "contents = result.read()"
   ]
  },
  {
   "cell_type": "markdown",
   "id": "b03bb065",
   "metadata": {},
   "source": [
    "Print the contents of the response:"
   ]
  },
  {
   "cell_type": "code",
   "execution_count": 7,
   "id": "6f66ee2a",
   "metadata": {
    "scrolled": true
   },
   "outputs": [
    {
     "name": "stdout",
     "output_type": "stream",
     "text": [
      "b'<!doctype html>\\n<html>\\n<head>\\n    <title>Example Domain</title>\\n\\n    <meta charset=\"utf-8\" />\\n    <meta http-equiv=\"Content-type\" content=\"text/html; charset=utf-8\" />\\n    <meta name=\"viewport\" content=\"width=device-width, initial-scale=1\" />\\n    <style type=\"text/css\">\\n    body {\\n        background-color: #f0f0f2;\\n        margin: 0;\\n        padding: 0;\\n        font-family: -apple-system, system-ui, BlinkMacSystemFont, \"Segoe UI\", \"Open Sans\", \"Helvetica Neue\", Helvetica, Arial, sans-serif;\\n        \\n    }\\n    div {\\n        width: 600px;\\n        margin: 5em auto;\\n        padding: 2em;\\n        background-color: #fdfdff;\\n        border-radius: 0.5em;\\n        box-shadow: 2px 3px 7px 2px rgba(0,0,0,0.02);\\n    }\\n    a:link, a:visited {\\n        color: #38488f;\\n        text-decoration: none;\\n    }\\n    @media (max-width: 700px) {\\n        div {\\n            margin: 0 auto;\\n            width: auto;\\n        }\\n    }\\n    </style>    \\n</head>\\n\\n<body>\\n<div>\\n    <h1>Example Domain</h1>\\n    <p>This domain is for use in illustrative examples in documents. You may use this\\n    domain in literature without prior coordination or asking for permission.</p>\\n    <p><a href=\"https://www.iana.org/domains/example\">More information...</a></p>\\n</div>\\n</body>\\n</html>\\n'\n"
     ]
    }
   ],
   "source": [
    "print(contents)"
   ]
  },
  {
   "cell_type": "markdown",
   "id": "4eed3445",
   "metadata": {},
   "source": [
    "In summary, this script establishes a connection to a web server (in this case, \"example.com\"), sends an HTTP GET request to the root path (\"/\"), receives the server's response, and prints the response content. You can use this code as a basic starting point for making HTTP requests in Python."
   ]
  },
  {
   "cell_type": "markdown",
   "id": "7d0cbb93",
   "metadata": {},
   "source": [
    "---"
   ]
  },
  {
   "cell_type": "markdown",
   "id": "39780dd0",
   "metadata": {},
   "source": [
    "---"
   ]
  },
  {
   "cell_type": "markdown",
   "id": "2bdfce5e",
   "metadata": {},
   "source": [
    "### 102. Write a Python program to get system command output. "
   ]
  },
  {
   "cell_type": "markdown",
   "id": "a07a2f37",
   "metadata": {},
   "source": [
    "Import the subprocess module:\n",
    "\n",
    "This line imports the subprocess module, which allows you to run external processes and interact with them from your Python script."
   ]
  },
  {
   "cell_type": "code",
   "execution_count": 8,
   "id": "f90faf96",
   "metadata": {},
   "outputs": [],
   "source": [
    "import subprocess"
   ]
  },
  {
   "cell_type": "markdown",
   "id": "bcd9aa34",
   "metadata": {},
   "source": [
    "Run the \"dir\" command and capture its output:\n",
    "\n",
    "This line executes the \"dir\" command using the subprocess.check_output function. The \"dir\" argument is the command to be executed, and shell=True indicates that the command should be run in a shell environment. universal_newlines=True specifies that the output should be treated as text (strings) rather than bytes.\n",
    "\n",
    "The subprocess.check_output function runs the command and captures its output as a string, which is stored in the returned_text variable."
   ]
  },
  {
   "cell_type": "code",
   "execution_count": 9,
   "id": "ca0e9746",
   "metadata": {},
   "outputs": [],
   "source": [
    "returned_text = subprocess.check_output(\"dir\", shell=True, universal_newlines=True)"
   ]
  },
  {
   "cell_type": "markdown",
   "id": "7fc446ef",
   "metadata": {},
   "source": [
    "Print the output of the \"dir\" command:"
   ]
  },
  {
   "cell_type": "code",
   "execution_count": 12,
   "id": "bccb9bac",
   "metadata": {},
   "outputs": [
    {
     "name": "stdout",
     "output_type": "stream",
     "text": [
      "dir command to list file and directory\n"
     ]
    }
   ],
   "source": [
    "print(\"dir command to list file and directory\")"
   ]
  },
  {
   "cell_type": "code",
   "execution_count": 13,
   "id": "178c7ea5",
   "metadata": {
    "scrolled": true
   },
   "outputs": [
    {
     "name": "stdout",
     "output_type": "stream",
     "text": [
      " Volume in drive D is Disco Datos\n",
      " Volume Serial Number is DC38-716A\n",
      "\n",
      " Directory of D:\\Python_projects\\Python\\001_w3resource\\001_w3resource_PythonBasic_Part1\n",
      "\n",
      "16-Oct-23  10:42 PM    <DIR>          .\n",
      "16-Oct-23  10:42 PM    <DIR>          ..\n",
      "16-Oct-23  10:36 PM    <DIR>          .ipynb_checkpoints\n",
      "07-Oct-23  10:10 PM            51,063 0001_Python basic (Part -I) 1 - 25.ipynb\n",
      "09-Oct-23  07:49 PM            48,399 0002_Python basic (Part -I) 26 - 50.ipynb\n",
      "10-Oct-23  06:46 PM            62,359 0003_Python basic (Part -I) 51 - 75.ipynb\n",
      "16-Oct-23  10:37 PM            59,590 0004_Python basic (Part -I) 76 - 100.ipynb\n",
      "16-Oct-23  10:42 PM             5,411 0005_Python basic (Part -I) 101 - 125.ipynb\n",
      "06-Oct-23  02:10 AM               211 README.md\n",
      "               6 File(s)        227,033 bytes\n",
      "               3 Dir(s)  865,990,955,008 bytes free\n",
      "\n"
     ]
    }
   ],
   "source": [
    "print(returned_text)"
   ]
  },
  {
   "cell_type": "markdown",
   "id": "dd65b800",
   "metadata": {},
   "source": [
    "In summary, this script runs the \"dir\" command to list files and directories in the current directory using the subprocess module and then prints the command's output. This is a simple example of using Python to execute external system commands and capture their output. Note that the exact behavior of the \"dir\" command may vary depending on the operating system you're running the script on."
   ]
  },
  {
   "cell_type": "markdown",
   "id": "fd4e15da",
   "metadata": {},
   "source": [
    "---"
   ]
  },
  {
   "cell_type": "markdown",
   "id": "348524f4",
   "metadata": {},
   "source": [
    "---"
   ]
  },
  {
   "cell_type": "markdown",
   "id": "56f5e414",
   "metadata": {},
   "source": [
    "### 103. Write a Python program to extract the filename from a given path. "
   ]
  },
  {
   "cell_type": "markdown",
   "id": "5826d876",
   "metadata": {},
   "source": [
    "This line imports the os module, which provides various functions for interacting with the operating system, including file and directory manipulation."
   ]
  },
  {
   "cell_type": "code",
   "execution_count": 14,
   "id": "d0a565ec",
   "metadata": {},
   "outputs": [],
   "source": [
    "import os"
   ]
  },
  {
   "cell_type": "markdown",
   "id": "9684acf6",
   "metadata": {},
   "source": [
    "Extract and print the base name of a file path:\n",
    "\n",
    "This line uses the os.path.basename() function to extract the base name (i.e., the filename without the directory path) from the provided file path as a string. In this case, the provided file path is 'D:/Python_projects/Python/001_w3resource/001_w3resource_PythonBasic_Part1/0001_Python basic (Part -I) 1 - 25.ipynb'. The base name extracted from this path is the filename '0001_Python basic (Part -I) 1 - 25.ipynb'.\n",
    "\n",
    "The print function is then used to display the extracted base name on the console."
   ]
  },
  {
   "cell_type": "code",
   "execution_count": 16,
   "id": "25afb346",
   "metadata": {
    "scrolled": true
   },
   "outputs": [
    {
     "name": "stdout",
     "output_type": "stream",
     "text": [
      "0001_Python basic (Part -I) 1 - 25.ipynb\n"
     ]
    }
   ],
   "source": [
    "print(os.path.basename('D:/Python_projects/Python/001_w3resource/001_w3resource_PythonBasic_Part1/0001_Python basic (Part -I) 1 - 25.ipynb'))"
   ]
  },
  {
   "cell_type": "markdown",
   "id": "8922662b",
   "metadata": {},
   "source": [
    "---"
   ]
  },
  {
   "cell_type": "markdown",
   "id": "ca6ee96a",
   "metadata": {},
   "source": [
    "---"
   ]
  },
  {
   "cell_type": "markdown",
   "id": "66dbf446",
   "metadata": {},
   "source": [
    "### 104. Write a Python program to get the effective group id, effective user id, real group id, and a list of supplemental group ids associated with the current process. "
   ]
  },
  {
   "cell_type": "markdown",
   "id": "c8dcbb3f",
   "metadata": {},
   "source": [
    "Note: Availability: Unix."
   ]
  },
  {
   "cell_type": "markdown",
   "id": "f90571cc",
   "metadata": {},
   "source": [
    "---"
   ]
  },
  {
   "cell_type": "markdown",
   "id": "644e9525",
   "metadata": {},
   "source": [
    "---"
   ]
  },
  {
   "cell_type": "markdown",
   "id": "bd955ed3",
   "metadata": {},
   "source": [
    "### 105. Write a Python program to get the users environment. "
   ]
  },
  {
   "cell_type": "code",
   "execution_count": 22,
   "id": "a4f9d27a",
   "metadata": {},
   "outputs": [],
   "source": [
    "import os"
   ]
  },
  {
   "cell_type": "markdown",
   "id": "0bc8ca70",
   "metadata": {},
   "source": [
    "The os.environ variable in Python is a dictionary that contains the current environment variables as key-value pairs. These environment variables store information about the system's configuration and settings, which can be accessed and manipulated by your Python script."
   ]
  },
  {
   "cell_type": "code",
   "execution_count": 23,
   "id": "9a614a22",
   "metadata": {
    "scrolled": true
   },
   "outputs": [
    {
     "name": "stdout",
     "output_type": "stream",
     "text": [
      "environ({'ALLUSERSPROFILE': 'C:\\\\ProgramData', 'APPDATA': 'C:\\\\Users\\\\Asus ROG PC\\\\AppData\\\\Roaming', 'COMMONPROGRAMFILES': 'C:\\\\Program Files\\\\Common Files', 'COMMONPROGRAMFILES(X86)': 'C:\\\\Program Files (x86)\\\\Common Files', 'COMMONPROGRAMW6432': 'C:\\\\Program Files\\\\Common Files', 'COMPUTERNAME': 'DESKTOP-RFID6T3', 'COMSPEC': 'C:\\\\WINDOWS\\\\system32\\\\cmd.exe', 'CONDA_DEFAULT_ENV': 'base', 'CONDA_EXE': 'C:\\\\ProgramData\\\\Anaconda3\\\\Scripts\\\\conda.exe', 'CONDA_PREFIX': 'C:\\\\ProgramData\\\\Anaconda3', 'CONDA_PROMPT_MODIFIER': '(base) ', 'CONDA_PYTHON_EXE': 'C:\\\\ProgramData\\\\Anaconda3\\\\python.exe', 'CONDA_SHLVL': '1', 'DRIVERDATA': 'C:\\\\Windows\\\\System32\\\\Drivers\\\\DriverData', 'HOMEDRIVE': 'C:', 'HOMEPATH': '\\\\Users\\\\Asus ROG PC', 'INTEL_DEV_REDIST': 'C:\\\\Program Files (x86)\\\\Common Files\\\\Intel\\\\Shared Libraries\\\\', 'JAVA': 'C:\\\\Program Files\\\\Java\\\\jre1.8.0_361\\\\bin', 'LOCALAPPDATA': 'C:\\\\Users\\\\Asus ROG PC\\\\AppData\\\\Local', 'LOGONSERVER': '\\\\\\\\DESKTOP-RFID6T3', 'MIC_LD_LIBRARY_PATH': 'C:\\\\Program Files (x86)\\\\Common Files\\\\Intel\\\\Shared Libraries\\\\compiler\\\\lib\\\\mic', 'NUMBER_OF_PROCESSORS': '12', 'ONEDRIVE': 'C:\\\\Users\\\\Asus ROG PC\\\\OneDrive', 'OS': 'Windows_NT', 'PATH': 'C:\\\\ProgramData\\\\Anaconda3;C:\\\\ProgramData\\\\Anaconda3\\\\Library\\\\mingw-w64\\\\bin;C:\\\\ProgramData\\\\Anaconda3\\\\Library\\\\usr\\\\bin;C:\\\\ProgramData\\\\Anaconda3\\\\Library\\\\bin;C:\\\\ProgramData\\\\Anaconda3\\\\Scripts;C:\\\\ProgramData\\\\Anaconda3\\\\bin;C:\\\\ProgramData\\\\Anaconda3\\\\condabin;C:\\\\Program Files (x86)\\\\Common Files\\\\Intel\\\\Shared Libraries\\\\redist\\\\intel64\\\\compiler;C:\\\\Program Files\\\\Common Files\\\\Oracle\\\\Java\\\\javapath;C:\\\\ProgramData\\\\Anaconda3;C:\\\\ProgramData\\\\Anaconda3\\\\Library\\\\mingw-w64\\\\bin;C:\\\\ProgramData\\\\Anaconda3\\\\Library\\\\usr\\\\bin;C:\\\\ProgramData\\\\Anaconda3\\\\Library\\\\bin;C:\\\\ProgramData\\\\Anaconda3\\\\Scripts;C:\\\\WINDOWS\\\\system32;C:\\\\WINDOWS;C:\\\\WINDOWS\\\\System32\\\\Wbem;C:\\\\WINDOWS\\\\System32\\\\WindowsPowerShell\\\\v1.0;C:\\\\WINDOWS\\\\System32\\\\OpenSSH;C:\\\\Program Files\\\\dotnet;D:\\\\Program Files\\\\Git\\\\cmd;C:\\\\Program Files\\\\nodejs;C:\\\\Program Files\\\\nodejs;C:\\\\Program Files\\\\Java\\\\jre1.8.0_361\\\\bin;C:\\\\Users\\\\Asus ROG PC\\\\AppData\\\\Local\\\\Microsoft\\\\WindowsApps;C:\\\\webm\\\\bin;D:\\\\Program Files\\\\Inkscape_1_2_1\\\\bin;C:\\\\Users\\\\Asus ROG PC\\\\AppData\\\\Local\\\\Programs\\\\Microsoft VS Code\\\\bin;C:\\\\Users\\\\Asus ROG PC\\\\AppData\\\\Roaming\\\\npm;C:\\\\Program Files\\\\nodejs;.', 'PATHEXT': '.COM;.EXE;.BAT;.CMD;.VBS;.VBE;.JS;.JSE;.WSF;.WSH;.MSC;.CPL', 'PROCESSOR_ARCHITECTURE': 'AMD64', 'PROCESSOR_IDENTIFIER': 'AMD64 Family 23 Model 8 Stepping 2, AuthenticAMD', 'PROCESSOR_LEVEL': '23', 'PROCESSOR_REVISION': '0802', 'PROGRAMDATA': 'C:\\\\ProgramData', 'PROGRAMFILES': 'C:\\\\Program Files', 'PROGRAMFILES(X86)': 'C:\\\\Program Files (x86)', 'PROGRAMW6432': 'C:\\\\Program Files', 'PSEXECUTIONPOLICYPREFERENCE': 'Bypass', 'PSMODULEPATH': 'C:\\\\Users\\\\Asus ROG PC\\\\Documents\\\\WindowsPowerShell\\\\Modules;C:\\\\Program Files\\\\WindowsPowerShell\\\\Modules;C:\\\\WINDOWS\\\\system32\\\\WindowsPowerShell\\\\v1.0\\\\Modules', 'PUBLIC': 'C:\\\\Users\\\\Public', 'SESSIONNAME': 'Console', 'SYSTEMDRIVE': 'C:', 'SYSTEMROOT': 'C:\\\\WINDOWS', 'TEMP': 'C:\\\\Users\\\\ASUSRO~1\\\\AppData\\\\Local\\\\Temp', 'TMP': 'C:\\\\Users\\\\ASUSRO~1\\\\AppData\\\\Local\\\\Temp', 'USERDOMAIN': 'DESKTOP-RFID6T3', 'USERDOMAIN_ROAMINGPROFILE': 'DESKTOP-RFID6T3', 'USERNAME': 'Asus ROG PC', 'USERPROFILE': 'C:\\\\Users\\\\Asus ROG PC', 'VBOX_MSI_INSTALL_PATH': 'C:\\\\Program Files\\\\Oracle\\\\VirtualBox\\\\', 'VS140COMNTOOLS': 'C:\\\\Program Files (x86)\\\\Microsoft Visual Studio 14.0\\\\Common7\\\\Tools\\\\', 'WINDIR': 'C:\\\\WINDOWS', '_CONDA_EXE': 'C:/ProgramData/Anaconda3\\\\Scripts\\\\conda.exe', '_CONDA_ROOT': 'C:/ProgramData/Anaconda3', 'JPY_INTERRUPT_EVENT': '2396', 'IPY_INTERRUPT_EVENT': '2396', 'JPY_PARENT_PID': '2656', 'TERM': 'xterm-color', 'CLICOLOR': '1', 'PAGER': 'cat', 'GIT_PAGER': 'cat', 'MPLBACKEND': 'module://ipykernel.pylab.backend_inline'})\n"
     ]
    }
   ],
   "source": [
    "print(os.environ)"
   ]
  },
  {
   "cell_type": "markdown",
   "id": "a6603025",
   "metadata": {},
   "source": [
    "---"
   ]
  },
  {
   "cell_type": "markdown",
   "id": "7cac6a22",
   "metadata": {},
   "source": [
    "---"
   ]
  },
  {
   "cell_type": "markdown",
   "id": "8d006ceb",
   "metadata": {},
   "source": [
    "### 106. Write a Python program to divide a path by the extension separator. "
   ]
  },
  {
   "cell_type": "code",
   "execution_count": 28,
   "id": "153dd694",
   "metadata": {},
   "outputs": [],
   "source": [
    "import os"
   ]
  },
  {
   "cell_type": "code",
   "execution_count": 37,
   "id": "93c40082",
   "metadata": {},
   "outputs": [],
   "source": [
    "paths = ['test.txt', 'filename', '/user/system/test.txt', '/', '']"
   ]
  },
  {
   "cell_type": "code",
   "execution_count": 38,
   "id": "e3290260",
   "metadata": {
    "scrolled": true
   },
   "outputs": [
    {
     "name": "stdout",
     "output_type": "stream",
     "text": [
      "\"test.txt\" : ('test', '.txt')\n",
      "\"filename\" : ('filename', '')\n",
      "\"/user/system/test.txt\" : ('/user/system/test', '.txt')\n",
      "\"/\" : ('/', '')\n",
      "\"\" : ('', '')\n"
     ]
    }
   ],
   "source": [
    "for path in paths:\n",
    "    print('\"%s\" :' % path, os.path.splitext(path))"
   ]
  },
  {
   "cell_type": "markdown",
   "id": "17ecb4a4",
   "metadata": {},
   "source": [
    "---"
   ]
  },
  {
   "cell_type": "markdown",
   "id": "5dee698b",
   "metadata": {},
   "source": [
    "---"
   ]
  },
  {
   "cell_type": "markdown",
   "id": "939123c6",
   "metadata": {},
   "source": [
    "### 107. Write a Python program to retrieve file properties. "
   ]
  },
  {
   "cell_type": "code",
   "execution_count": 39,
   "id": "18c8d085",
   "metadata": {},
   "outputs": [],
   "source": [
    "import os.path"
   ]
  },
  {
   "cell_type": "code",
   "execution_count": 40,
   "id": "c8168837",
   "metadata": {},
   "outputs": [],
   "source": [
    "import time"
   ]
  },
  {
   "cell_type": "code",
   "execution_count": 43,
   "id": "695ac2bd",
   "metadata": {},
   "outputs": [],
   "source": [
    "file_path = 'D:/Python_projects/Python/001_w3resource/001_w3resource_PythonBasic_Part1/0001_Python basic (Part -I) 1 - 25.ipynb'"
   ]
  },
  {
   "cell_type": "markdown",
   "id": "5d01b04a",
   "metadata": {},
   "source": [
    "Print the file path"
   ]
  },
  {
   "cell_type": "code",
   "execution_count": 46,
   "id": "f26c9a80",
   "metadata": {
    "scrolled": true
   },
   "outputs": [
    {
     "name": "stdout",
     "output_type": "stream",
     "text": [
      "File: D:/Python_projects/Python/001_w3resource/001_w3resource_PythonBasic_Part1/0001_Python basic (Part -I) 1 - 25.ipynb\n"
     ]
    }
   ],
   "source": [
    "print('File:', file_path)"
   ]
  },
  {
   "cell_type": "markdown",
   "id": "e0a4917c",
   "metadata": {},
   "source": [
    "Retrieve and print the access time"
   ]
  },
  {
   "cell_type": "code",
   "execution_count": 47,
   "id": "0d84db65",
   "metadata": {},
   "outputs": [
    {
     "name": "stdout",
     "output_type": "stream",
     "text": [
      "Access time: Tue Oct 10 18:49:02 2023\n"
     ]
    }
   ],
   "source": [
    "print('Access time:', time.ctime(os.path.getatime(file_path)))"
   ]
  },
  {
   "cell_type": "markdown",
   "id": "a722a883",
   "metadata": {},
   "source": [
    "Retrieve and print the modified time"
   ]
  },
  {
   "cell_type": "code",
   "execution_count": 48,
   "id": "24339424",
   "metadata": {},
   "outputs": [
    {
     "name": "stdout",
     "output_type": "stream",
     "text": [
      "Modified time: Sat Oct  7 22:10:32 2023\n"
     ]
    }
   ],
   "source": [
    "print('Modified time:', time.ctime(os.path.getmtime(file_path)))"
   ]
  },
  {
   "cell_type": "markdown",
   "id": "8838df1a",
   "metadata": {},
   "source": [
    "Retrieve and print the change time"
   ]
  },
  {
   "cell_type": "code",
   "execution_count": 50,
   "id": "d2c1e978",
   "metadata": {},
   "outputs": [
    {
     "name": "stdout",
     "output_type": "stream",
     "text": [
      "Change time  : Thu Oct  5 23:50:36 2023\n"
     ]
    }
   ],
   "source": [
    "print('Change time  :', time.ctime(os.path.getctime(file_path)))"
   ]
  },
  {
   "cell_type": "code",
   "execution_count": null,
   "id": "67613a25",
   "metadata": {},
   "outputs": [],
   "source": []
  }
 ],
 "metadata": {
  "kernelspec": {
   "display_name": "Python 3",
   "language": "python",
   "name": "python3"
  },
  "language_info": {
   "codemirror_mode": {
    "name": "ipython",
    "version": 3
   },
   "file_extension": ".py",
   "mimetype": "text/x-python",
   "name": "python",
   "nbconvert_exporter": "python",
   "pygments_lexer": "ipython3",
   "version": "3.8.8"
  }
 },
 "nbformat": 4,
 "nbformat_minor": 5
}

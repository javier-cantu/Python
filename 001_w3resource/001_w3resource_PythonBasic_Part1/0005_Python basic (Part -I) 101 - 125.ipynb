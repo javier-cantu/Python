{
 "cells": [
  {
   "cell_type": "markdown",
   "id": "9cbc60d5",
   "metadata": {},
   "source": [
    "# 0005_Python basic (Part -I) 101 - 125"
   ]
  },
  {
   "cell_type": "markdown",
   "id": "f3c67d3f",
   "metadata": {},
   "source": [
    "Ejercicios python 76 - 100\n",
    "[Python basic (Part -I)](https://www.w3resource.com/python-exercises/python-basic-exercises.php)"
   ]
  },
  {
   "cell_type": "markdown",
   "id": "b5c32871",
   "metadata": {},
   "source": [
    "---"
   ]
  },
  {
   "cell_type": "markdown",
   "id": "ce568489",
   "metadata": {},
   "source": [
    "### 101. Write a Python program to access and print a URL's content to the console. "
   ]
  },
  {
   "cell_type": "markdown",
   "id": "5f8ae22d",
   "metadata": {},
   "source": [
    "Import the HTTPConnection class from the http.client library.\n",
    "\n",
    "This line imports the HTTPConnection class, which is part of the standard Python library used for making HTTP requests."
   ]
  },
  {
   "cell_type": "code",
   "execution_count": 1,
   "id": "cf9baf76",
   "metadata": {},
   "outputs": [],
   "source": [
    "from http.client import HTTPConnection"
   ]
  },
  {
   "cell_type": "markdown",
   "id": "d82a5989",
   "metadata": {},
   "source": [
    "Create an HTTPConnection object for the host \"example.com\""
   ]
  },
  {
   "cell_type": "code",
   "execution_count": 2,
   "id": "38f81e36",
   "metadata": {},
   "outputs": [],
   "source": [
    "conn = HTTPConnection(\"example.com\")"
   ]
  },
  {
   "cell_type": "markdown",
   "id": "450180e3",
   "metadata": {},
   "source": [
    "Send an HTTP GET request to the root path (\"/\") of the server\n",
    "\n",
    "This line sends an HTTP GET request to the root path of the server. The first argument to conn.request is the HTTP method (\"GET\" in this case), and the second argument is the path (\"/\") indicating that you want to retrieve the default page or resource at the root of the server."
   ]
  },
  {
   "cell_type": "code",
   "execution_count": 3,
   "id": "ecb6bfd5",
   "metadata": {},
   "outputs": [],
   "source": [
    "conn.request(\"GET\", \"/\")  "
   ]
  },
  {
   "cell_type": "markdown",
   "id": "4da06c59",
   "metadata": {},
   "source": [
    "Get the response from the server\n",
    "\n",
    "This line sends the request to the server and stores the response in the result variable. The response object contains information about the server's response, including the HTTP status code, headers, and the response body."
   ]
  },
  {
   "cell_type": "code",
   "execution_count": 4,
   "id": "f7ea079b",
   "metadata": {},
   "outputs": [],
   "source": [
    "result = conn.getresponse()"
   ]
  },
  {
   "cell_type": "markdown",
   "id": "fae79fae",
   "metadata": {},
   "source": [
    "Read the content of the response:\n",
    "\n",
    "This line reads the content (the response body) of the server's response and stores it in the contents variable. The read() method is used to retrieve the entire response body as bytes."
   ]
  },
  {
   "cell_type": "code",
   "execution_count": 5,
   "id": "6d874ff6",
   "metadata": {},
   "outputs": [],
   "source": [
    "contents = result.read()"
   ]
  },
  {
   "cell_type": "markdown",
   "id": "3389c050",
   "metadata": {},
   "source": [
    "Print the contents of the response:"
   ]
  },
  {
   "cell_type": "code",
   "execution_count": 7,
   "id": "fb6397d1",
   "metadata": {
    "scrolled": true
   },
   "outputs": [
    {
     "name": "stdout",
     "output_type": "stream",
     "text": [
      "b'<!doctype html>\\n<html>\\n<head>\\n    <title>Example Domain</title>\\n\\n    <meta charset=\"utf-8\" />\\n    <meta http-equiv=\"Content-type\" content=\"text/html; charset=utf-8\" />\\n    <meta name=\"viewport\" content=\"width=device-width, initial-scale=1\" />\\n    <style type=\"text/css\">\\n    body {\\n        background-color: #f0f0f2;\\n        margin: 0;\\n        padding: 0;\\n        font-family: -apple-system, system-ui, BlinkMacSystemFont, \"Segoe UI\", \"Open Sans\", \"Helvetica Neue\", Helvetica, Arial, sans-serif;\\n        \\n    }\\n    div {\\n        width: 600px;\\n        margin: 5em auto;\\n        padding: 2em;\\n        background-color: #fdfdff;\\n        border-radius: 0.5em;\\n        box-shadow: 2px 3px 7px 2px rgba(0,0,0,0.02);\\n    }\\n    a:link, a:visited {\\n        color: #38488f;\\n        text-decoration: none;\\n    }\\n    @media (max-width: 700px) {\\n        div {\\n            margin: 0 auto;\\n            width: auto;\\n        }\\n    }\\n    </style>    \\n</head>\\n\\n<body>\\n<div>\\n    <h1>Example Domain</h1>\\n    <p>This domain is for use in illustrative examples in documents. You may use this\\n    domain in literature without prior coordination or asking for permission.</p>\\n    <p><a href=\"https://www.iana.org/domains/example\">More information...</a></p>\\n</div>\\n</body>\\n</html>\\n'\n"
     ]
    }
   ],
   "source": [
    "print(contents)"
   ]
  },
  {
   "cell_type": "markdown",
   "id": "92da9e74",
   "metadata": {},
   "source": [
    "In summary, this script establishes a connection to a web server (in this case, \"example.com\"), sends an HTTP GET request to the root path (\"/\"), receives the server's response, and prints the response content. You can use this code as a basic starting point for making HTTP requests in Python."
   ]
  },
  {
   "cell_type": "markdown",
   "id": "204a5d4a",
   "metadata": {},
   "source": [
    "---"
   ]
  },
  {
   "cell_type": "markdown",
   "id": "47a5605b",
   "metadata": {},
   "source": [
    "---"
   ]
  },
  {
   "cell_type": "markdown",
   "id": "ee076e20",
   "metadata": {},
   "source": [
    "### 102. Write a Python program to get system command output. "
   ]
  },
  {
   "cell_type": "markdown",
   "id": "1e033958",
   "metadata": {},
   "source": [
    "Import the subprocess module:\n",
    "\n",
    "This line imports the subprocess module, which allows you to run external processes and interact with them from your Python script."
   ]
  },
  {
   "cell_type": "code",
   "execution_count": 8,
   "id": "95c73967",
   "metadata": {},
   "outputs": [],
   "source": [
    "import subprocess"
   ]
  },
  {
   "cell_type": "markdown",
   "id": "14b4c4b3",
   "metadata": {},
   "source": [
    "Run the \"dir\" command and capture its output:\n",
    "\n",
    "This line executes the \"dir\" command using the subprocess.check_output function. The \"dir\" argument is the command to be executed, and shell=True indicates that the command should be run in a shell environment. universal_newlines=True specifies that the output should be treated as text (strings) rather than bytes.\n",
    "\n",
    "The subprocess.check_output function runs the command and captures its output as a string, which is stored in the returned_text variable."
   ]
  },
  {
   "cell_type": "code",
   "execution_count": 9,
   "id": "1cd91661",
   "metadata": {},
   "outputs": [],
   "source": [
    "returned_text = subprocess.check_output(\"dir\", shell=True, universal_newlines=True)"
   ]
  },
  {
   "cell_type": "markdown",
   "id": "00e12f05",
   "metadata": {},
   "source": [
    "Print the output of the \"dir\" command:"
   ]
  },
  {
   "cell_type": "code",
   "execution_count": 12,
   "id": "ee454f50",
   "metadata": {},
   "outputs": [
    {
     "name": "stdout",
     "output_type": "stream",
     "text": [
      "dir command to list file and directory\n"
     ]
    }
   ],
   "source": [
    "print(\"dir command to list file and directory\")"
   ]
  },
  {
   "cell_type": "code",
   "execution_count": 13,
   "id": "36fbba17",
   "metadata": {
    "scrolled": true
   },
   "outputs": [
    {
     "name": "stdout",
     "output_type": "stream",
     "text": [
      " Volume in drive D is Disco Datos\n",
      " Volume Serial Number is DC38-716A\n",
      "\n",
      " Directory of D:\\Python_projects\\Python\\001_w3resource\\001_w3resource_PythonBasic_Part1\n",
      "\n",
      "16-Oct-23  10:42 PM    <DIR>          .\n",
      "16-Oct-23  10:42 PM    <DIR>          ..\n",
      "16-Oct-23  10:36 PM    <DIR>          .ipynb_checkpoints\n",
      "07-Oct-23  10:10 PM            51,063 0001_Python basic (Part -I) 1 - 25.ipynb\n",
      "09-Oct-23  07:49 PM            48,399 0002_Python basic (Part -I) 26 - 50.ipynb\n",
      "10-Oct-23  06:46 PM            62,359 0003_Python basic (Part -I) 51 - 75.ipynb\n",
      "16-Oct-23  10:37 PM            59,590 0004_Python basic (Part -I) 76 - 100.ipynb\n",
      "16-Oct-23  10:42 PM             5,411 0005_Python basic (Part -I) 101 - 125.ipynb\n",
      "06-Oct-23  02:10 AM               211 README.md\n",
      "               6 File(s)        227,033 bytes\n",
      "               3 Dir(s)  865,990,955,008 bytes free\n",
      "\n"
     ]
    }
   ],
   "source": [
    "print(returned_text)"
   ]
  },
  {
   "cell_type": "markdown",
   "id": "a7b5867a",
   "metadata": {},
   "source": [
    "In summary, this script runs the \"dir\" command to list files and directories in the current directory using the subprocess module and then prints the command's output. This is a simple example of using Python to execute external system commands and capture their output. Note that the exact behavior of the \"dir\" command may vary depending on the operating system you're running the script on."
   ]
  },
  {
   "cell_type": "markdown",
   "id": "3a4b830d",
   "metadata": {},
   "source": [
    "---"
   ]
  },
  {
   "cell_type": "markdown",
   "id": "e90adc60",
   "metadata": {},
   "source": [
    "---"
   ]
  },
  {
   "cell_type": "markdown",
   "id": "31e40b14",
   "metadata": {},
   "source": [
    "### 103. Write a Python program to extract the filename from a given path. "
   ]
  },
  {
   "cell_type": "markdown",
   "id": "067f10d0",
   "metadata": {},
   "source": [
    "This line imports the os module, which provides various functions for interacting with the operating system, including file and directory manipulation."
   ]
  },
  {
   "cell_type": "code",
   "execution_count": 14,
   "id": "c43d6002",
   "metadata": {},
   "outputs": [],
   "source": [
    "import os"
   ]
  },
  {
   "cell_type": "markdown",
   "id": "9311d776",
   "metadata": {},
   "source": [
    "Extract and print the base name of a file path:\n",
    "\n",
    "This line uses the os.path.basename() function to extract the base name (i.e., the filename without the directory path) from the provided file path as a string. In this case, the provided file path is 'D:/Python_projects/Python/001_w3resource/001_w3resource_PythonBasic_Part1/0001_Python basic (Part -I) 1 - 25.ipynb'. The base name extracted from this path is the filename '0001_Python basic (Part -I) 1 - 25.ipynb'.\n",
    "\n",
    "The print function is then used to display the extracted base name on the console."
   ]
  },
  {
   "cell_type": "code",
   "execution_count": 16,
   "id": "2c7a306a",
   "metadata": {
    "scrolled": true
   },
   "outputs": [
    {
     "name": "stdout",
     "output_type": "stream",
     "text": [
      "0001_Python basic (Part -I) 1 - 25.ipynb\n"
     ]
    }
   ],
   "source": [
    "print(os.path.basename('D:/Python_projects/Python/001_w3resource/001_w3resource_PythonBasic_Part1/0001_Python basic (Part -I) 1 - 25.ipynb'))"
   ]
  },
  {
   "cell_type": "markdown",
   "id": "099deb08",
   "metadata": {},
   "source": [
    "---"
   ]
  },
  {
   "cell_type": "markdown",
   "id": "92241346",
   "metadata": {},
   "source": [
    "---"
   ]
  },
  {
   "cell_type": "markdown",
   "id": "92b21490",
   "metadata": {},
   "source": [
    "### 104. Write a Python program to get the effective group id, effective user id, real group id, and a list of supplemental group ids associated with the current process. "
   ]
  },
  {
   "cell_type": "markdown",
   "id": "04a59132",
   "metadata": {},
   "source": [
    "Note: Availability: Unix."
   ]
  },
  {
   "cell_type": "markdown",
   "id": "574fbe8d",
   "metadata": {},
   "source": [
    "---"
   ]
  },
  {
   "cell_type": "markdown",
   "id": "7f6834e2",
   "metadata": {},
   "source": [
    "---"
   ]
  },
  {
   "cell_type": "markdown",
   "id": "48346977",
   "metadata": {},
   "source": [
    "### 105. Write a Python program to get the users environment. "
   ]
  },
  {
   "cell_type": "code",
   "execution_count": 22,
   "id": "feec44fb",
   "metadata": {},
   "outputs": [],
   "source": [
    "import os"
   ]
  },
  {
   "cell_type": "markdown",
   "id": "2f95d156",
   "metadata": {},
   "source": [
    "The os.environ variable in Python is a dictionary that contains the current environment variables as key-value pairs. These environment variables store information about the system's configuration and settings, which can be accessed and manipulated by your Python script."
   ]
  },
  {
   "cell_type": "code",
   "execution_count": 23,
   "id": "f3c5585a",
   "metadata": {
    "scrolled": true
   },
   "outputs": [
    {
     "name": "stdout",
     "output_type": "stream",
     "text": [
      "environ({'ALLUSERSPROFILE': 'C:\\\\ProgramData', 'APPDATA': 'C:\\\\Users\\\\Asus ROG PC\\\\AppData\\\\Roaming', 'COMMONPROGRAMFILES': 'C:\\\\Program Files\\\\Common Files', 'COMMONPROGRAMFILES(X86)': 'C:\\\\Program Files (x86)\\\\Common Files', 'COMMONPROGRAMW6432': 'C:\\\\Program Files\\\\Common Files', 'COMPUTERNAME': 'DESKTOP-RFID6T3', 'COMSPEC': 'C:\\\\WINDOWS\\\\system32\\\\cmd.exe', 'CONDA_DEFAULT_ENV': 'base', 'CONDA_EXE': 'C:\\\\ProgramData\\\\Anaconda3\\\\Scripts\\\\conda.exe', 'CONDA_PREFIX': 'C:\\\\ProgramData\\\\Anaconda3', 'CONDA_PROMPT_MODIFIER': '(base) ', 'CONDA_PYTHON_EXE': 'C:\\\\ProgramData\\\\Anaconda3\\\\python.exe', 'CONDA_SHLVL': '1', 'DRIVERDATA': 'C:\\\\Windows\\\\System32\\\\Drivers\\\\DriverData', 'HOMEDRIVE': 'C:', 'HOMEPATH': '\\\\Users\\\\Asus ROG PC', 'INTEL_DEV_REDIST': 'C:\\\\Program Files (x86)\\\\Common Files\\\\Intel\\\\Shared Libraries\\\\', 'JAVA': 'C:\\\\Program Files\\\\Java\\\\jre1.8.0_361\\\\bin', 'LOCALAPPDATA': 'C:\\\\Users\\\\Asus ROG PC\\\\AppData\\\\Local', 'LOGONSERVER': '\\\\\\\\DESKTOP-RFID6T3', 'MIC_LD_LIBRARY_PATH': 'C:\\\\Program Files (x86)\\\\Common Files\\\\Intel\\\\Shared Libraries\\\\compiler\\\\lib\\\\mic', 'NUMBER_OF_PROCESSORS': '12', 'ONEDRIVE': 'C:\\\\Users\\\\Asus ROG PC\\\\OneDrive', 'OS': 'Windows_NT', 'PATH': 'C:\\\\ProgramData\\\\Anaconda3;C:\\\\ProgramData\\\\Anaconda3\\\\Library\\\\mingw-w64\\\\bin;C:\\\\ProgramData\\\\Anaconda3\\\\Library\\\\usr\\\\bin;C:\\\\ProgramData\\\\Anaconda3\\\\Library\\\\bin;C:\\\\ProgramData\\\\Anaconda3\\\\Scripts;C:\\\\ProgramData\\\\Anaconda3\\\\bin;C:\\\\ProgramData\\\\Anaconda3\\\\condabin;C:\\\\Program Files (x86)\\\\Common Files\\\\Intel\\\\Shared Libraries\\\\redist\\\\intel64\\\\compiler;C:\\\\Program Files\\\\Common Files\\\\Oracle\\\\Java\\\\javapath;C:\\\\ProgramData\\\\Anaconda3;C:\\\\ProgramData\\\\Anaconda3\\\\Library\\\\mingw-w64\\\\bin;C:\\\\ProgramData\\\\Anaconda3\\\\Library\\\\usr\\\\bin;C:\\\\ProgramData\\\\Anaconda3\\\\Library\\\\bin;C:\\\\ProgramData\\\\Anaconda3\\\\Scripts;C:\\\\WINDOWS\\\\system32;C:\\\\WINDOWS;C:\\\\WINDOWS\\\\System32\\\\Wbem;C:\\\\WINDOWS\\\\System32\\\\WindowsPowerShell\\\\v1.0;C:\\\\WINDOWS\\\\System32\\\\OpenSSH;C:\\\\Program Files\\\\dotnet;D:\\\\Program Files\\\\Git\\\\cmd;C:\\\\Program Files\\\\nodejs;C:\\\\Program Files\\\\nodejs;C:\\\\Program Files\\\\Java\\\\jre1.8.0_361\\\\bin;C:\\\\Users\\\\Asus ROG PC\\\\AppData\\\\Local\\\\Microsoft\\\\WindowsApps;C:\\\\webm\\\\bin;D:\\\\Program Files\\\\Inkscape_1_2_1\\\\bin;C:\\\\Users\\\\Asus ROG PC\\\\AppData\\\\Local\\\\Programs\\\\Microsoft VS Code\\\\bin;C:\\\\Users\\\\Asus ROG PC\\\\AppData\\\\Roaming\\\\npm;C:\\\\Program Files\\\\nodejs;.', 'PATHEXT': '.COM;.EXE;.BAT;.CMD;.VBS;.VBE;.JS;.JSE;.WSF;.WSH;.MSC;.CPL', 'PROCESSOR_ARCHITECTURE': 'AMD64', 'PROCESSOR_IDENTIFIER': 'AMD64 Family 23 Model 8 Stepping 2, AuthenticAMD', 'PROCESSOR_LEVEL': '23', 'PROCESSOR_REVISION': '0802', 'PROGRAMDATA': 'C:\\\\ProgramData', 'PROGRAMFILES': 'C:\\\\Program Files', 'PROGRAMFILES(X86)': 'C:\\\\Program Files (x86)', 'PROGRAMW6432': 'C:\\\\Program Files', 'PSEXECUTIONPOLICYPREFERENCE': 'Bypass', 'PSMODULEPATH': 'C:\\\\Users\\\\Asus ROG PC\\\\Documents\\\\WindowsPowerShell\\\\Modules;C:\\\\Program Files\\\\WindowsPowerShell\\\\Modules;C:\\\\WINDOWS\\\\system32\\\\WindowsPowerShell\\\\v1.0\\\\Modules', 'PUBLIC': 'C:\\\\Users\\\\Public', 'SESSIONNAME': 'Console', 'SYSTEMDRIVE': 'C:', 'SYSTEMROOT': 'C:\\\\WINDOWS', 'TEMP': 'C:\\\\Users\\\\ASUSRO~1\\\\AppData\\\\Local\\\\Temp', 'TMP': 'C:\\\\Users\\\\ASUSRO~1\\\\AppData\\\\Local\\\\Temp', 'USERDOMAIN': 'DESKTOP-RFID6T3', 'USERDOMAIN_ROAMINGPROFILE': 'DESKTOP-RFID6T3', 'USERNAME': 'Asus ROG PC', 'USERPROFILE': 'C:\\\\Users\\\\Asus ROG PC', 'VBOX_MSI_INSTALL_PATH': 'C:\\\\Program Files\\\\Oracle\\\\VirtualBox\\\\', 'VS140COMNTOOLS': 'C:\\\\Program Files (x86)\\\\Microsoft Visual Studio 14.0\\\\Common7\\\\Tools\\\\', 'WINDIR': 'C:\\\\WINDOWS', '_CONDA_EXE': 'C:/ProgramData/Anaconda3\\\\Scripts\\\\conda.exe', '_CONDA_ROOT': 'C:/ProgramData/Anaconda3', 'JPY_INTERRUPT_EVENT': '2396', 'IPY_INTERRUPT_EVENT': '2396', 'JPY_PARENT_PID': '2656', 'TERM': 'xterm-color', 'CLICOLOR': '1', 'PAGER': 'cat', 'GIT_PAGER': 'cat', 'MPLBACKEND': 'module://ipykernel.pylab.backend_inline'})\n"
     ]
    }
   ],
   "source": [
    "print(os.environ)"
   ]
  },
  {
   "cell_type": "markdown",
   "id": "4e5edf98",
   "metadata": {},
   "source": [
    "---"
   ]
  },
  {
   "cell_type": "markdown",
   "id": "b1660277",
   "metadata": {},
   "source": [
    "---"
   ]
  },
  {
   "cell_type": "markdown",
   "id": "ad837f42",
   "metadata": {},
   "source": [
    "### 106. Write a Python program to divide a path by the extension separator. "
   ]
  },
  {
   "cell_type": "code",
   "execution_count": 28,
   "id": "9b073709",
   "metadata": {},
   "outputs": [],
   "source": [
    "import os"
   ]
  },
  {
   "cell_type": "code",
   "execution_count": 37,
   "id": "0ccb8379",
   "metadata": {},
   "outputs": [],
   "source": [
    "paths = ['test.txt', 'filename', '/user/system/test.txt', '/', '']"
   ]
  },
  {
   "cell_type": "code",
   "execution_count": 38,
   "id": "1c123bf9",
   "metadata": {
    "scrolled": true
   },
   "outputs": [
    {
     "name": "stdout",
     "output_type": "stream",
     "text": [
      "\"test.txt\" : ('test', '.txt')\n",
      "\"filename\" : ('filename', '')\n",
      "\"/user/system/test.txt\" : ('/user/system/test', '.txt')\n",
      "\"/\" : ('/', '')\n",
      "\"\" : ('', '')\n"
     ]
    }
   ],
   "source": [
    "for path in paths:\n",
    "    print('\"%s\" :' % path, os.path.splitext(path))"
   ]
  },
  {
   "cell_type": "markdown",
   "id": "04c2dbe1",
   "metadata": {},
   "source": [
    "---"
   ]
  },
  {
   "cell_type": "markdown",
   "id": "d580d15c",
   "metadata": {},
   "source": [
    "---"
   ]
  },
  {
   "cell_type": "markdown",
   "id": "044ebe75",
   "metadata": {},
   "source": [
    "### 107. Write a Python program to retrieve file properties. "
   ]
  },
  {
   "cell_type": "code",
   "execution_count": 39,
   "id": "fff46596",
   "metadata": {},
   "outputs": [],
   "source": [
    "import os.path"
   ]
  },
  {
   "cell_type": "code",
   "execution_count": 40,
   "id": "4b4cb691",
   "metadata": {},
   "outputs": [],
   "source": [
    "import time"
   ]
  },
  {
   "cell_type": "markdown",
   "id": "24a562c4",
   "metadata": {},
   "source": [
    "Get file properties for the current script (__file__)"
   ]
  },
  {
   "cell_type": "code",
   "execution_count": 43,
   "id": "c0c8167e",
   "metadata": {},
   "outputs": [],
   "source": [
    "file_path = 'D:/Python_projects/Python/001_w3resource/001_w3resource_PythonBasic_Part1/0001_Python basic (Part -I) 1 - 25.ipynb'"
   ]
  },
  {
   "cell_type": "markdown",
   "id": "816f97c3",
   "metadata": {},
   "source": [
    "Print the file path"
   ]
  },
  {
   "cell_type": "code",
   "execution_count": 46,
   "id": "189f1a37",
   "metadata": {
    "scrolled": true
   },
   "outputs": [
    {
     "name": "stdout",
     "output_type": "stream",
     "text": [
      "File: D:/Python_projects/Python/001_w3resource/001_w3resource_PythonBasic_Part1/0001_Python basic (Part -I) 1 - 25.ipynb\n"
     ]
    }
   ],
   "source": [
    "print('File:', file_path)"
   ]
  },
  {
   "cell_type": "markdown",
   "id": "06c7adfb",
   "metadata": {},
   "source": [
    "Retrieve and print the access time"
   ]
  },
  {
   "cell_type": "code",
   "execution_count": 47,
   "id": "1174e5a9",
   "metadata": {},
   "outputs": [
    {
     "name": "stdout",
     "output_type": "stream",
     "text": [
      "Access time: Tue Oct 10 18:49:02 2023\n"
     ]
    }
   ],
   "source": [
    "print('Access time:', time.ctime(os.path.getatime(file_path)))"
   ]
  },
  {
   "cell_type": "markdown",
   "id": "e9ec6235",
   "metadata": {},
   "source": [
    "Retrieve and print the modified time"
   ]
  },
  {
   "cell_type": "code",
   "execution_count": 48,
   "id": "37852e1e",
   "metadata": {},
   "outputs": [
    {
     "name": "stdout",
     "output_type": "stream",
     "text": [
      "Modified time: Sat Oct  7 22:10:32 2023\n"
     ]
    }
   ],
   "source": [
    "print('Modified time:', time.ctime(os.path.getmtime(file_path)))"
   ]
  },
  {
   "cell_type": "markdown",
   "id": "15d8429a",
   "metadata": {},
   "source": [
    "Retrieve and print the change time"
   ]
  },
  {
   "cell_type": "code",
   "execution_count": 50,
   "id": "eea29fde",
   "metadata": {},
   "outputs": [
    {
     "name": "stdout",
     "output_type": "stream",
     "text": [
      "Change time  : Thu Oct  5 23:50:36 2023\n"
     ]
    }
   ],
   "source": [
    "print('Change time:', time.ctime(os.path.getctime(file_path)))"
   ]
  },
  {
   "cell_type": "markdown",
   "id": "8279e767",
   "metadata": {},
   "source": [
    "Retrieve and print the size of the file"
   ]
  },
  {
   "cell_type": "code",
   "execution_count": 51,
   "id": "d6490eed",
   "metadata": {},
   "outputs": [
    {
     "name": "stdout",
     "output_type": "stream",
     "text": [
      "Size: 51063\n"
     ]
    }
   ],
   "source": [
    "print('Size:', os.path.getsize(file_path))"
   ]
  },
  {
   "cell_type": "markdown",
   "id": "2c720018",
   "metadata": {},
   "source": [
    "---"
   ]
  },
  {
   "cell_type": "markdown",
   "id": "5692d0c2",
   "metadata": {},
   "source": [
    "---"
   ]
  },
  {
   "cell_type": "markdown",
   "id": "280a1431",
   "metadata": {},
   "source": [
    "### 108. Write a Python program to find the path to a file or directory when you encounter a path name. "
   ]
  },
  {
   "cell_type": "code",
   "execution_count": 1,
   "id": "62c55721",
   "metadata": {},
   "outputs": [],
   "source": [
    "import os"
   ]
  },
  {
   "cell_type": "code",
   "execution_count": 2,
   "id": "b081180f",
   "metadata": {},
   "outputs": [],
   "source": [
    "def find_path(path_name):\n",
    "    # Check if the path exist\n",
    "    if os.path.exists(path_name):\n",
    "        return os.path.abspath(path_name)\n",
    "    else:\n",
    "        return f\"The path '{path_name}' does not exist.\""
   ]
  },
  {
   "cell_type": "markdown",
   "id": "ba725012",
   "metadata": {},
   "source": [
    "Example of a file path: D:/Python_projects/Python/001_w3resource/001_w3resource_PythonBasic_Part1/0001_Python basic (Part -I) 1 - 25.ipynb"
   ]
  },
  {
   "cell_type": "code",
   "execution_count": 4,
   "id": "c62766aa",
   "metadata": {},
   "outputs": [
    {
     "name": "stdout",
     "output_type": "stream",
     "text": [
      "Enter a file or directory path: D:/Python_projects/Python/001_w3resource/001_w3resource_PythonBasic_Part1/0001_Python basic (Part -I) 1 - 25.ipynb\n"
     ]
    }
   ],
   "source": [
    "path_name = input(\"Enter a file or directory path: \")"
   ]
  },
  {
   "cell_type": "code",
   "execution_count": 5,
   "id": "842148fe",
   "metadata": {},
   "outputs": [],
   "source": [
    "result = find_path(path_name)"
   ]
  },
  {
   "cell_type": "code",
   "execution_count": 6,
   "id": "4e220baa",
   "metadata": {},
   "outputs": [
    {
     "name": "stdout",
     "output_type": "stream",
     "text": [
      "D:\\Python_projects\\Python\\001_w3resource\\001_w3resource_PythonBasic_Part1\\0001_Python basic (Part -I) 1 - 25.ipynb\n"
     ]
    }
   ],
   "source": [
    "print(result)"
   ]
  },
  {
   "cell_type": "code",
   "execution_count": 7,
   "id": "7496a0a0",
   "metadata": {},
   "outputs": [
    {
     "name": "stdout",
     "output_type": "stream",
     "text": [
      "Enter a file or directory path: Z:/AlgoQueNoExiste\n"
     ]
    }
   ],
   "source": [
    "path_name = input(\"Enter a file or directory path: \")"
   ]
  },
  {
   "cell_type": "code",
   "execution_count": 8,
   "id": "0d7a497e",
   "metadata": {},
   "outputs": [],
   "source": [
    "result = find_path(path_name)"
   ]
  },
  {
   "cell_type": "code",
   "execution_count": 9,
   "id": "617d715c",
   "metadata": {},
   "outputs": [
    {
     "name": "stdout",
     "output_type": "stream",
     "text": [
      "The path 'Z:/AlgoQueNoExiste' does not exist.\n"
     ]
    }
   ],
   "source": [
    "print(result)"
   ]
  },
  {
   "cell_type": "markdown",
   "id": "c3f33e29",
   "metadata": {},
   "source": [
    "---"
   ]
  },
  {
   "cell_type": "markdown",
   "id": "6affb5f0",
   "metadata": {},
   "source": [
    "---"
   ]
  },
  {
   "cell_type": "markdown",
   "id": "a1f361a8",
   "metadata": {},
   "source": [
    "### 109. Check if a number is positive, negative or zero"
   ]
  },
  {
   "cell_type": "code",
   "execution_count": 10,
   "id": "faabf6a1",
   "metadata": {},
   "outputs": [
    {
     "name": "stdout",
     "output_type": "stream",
     "text": [
      "Enter a fnumber: 2\n"
     ]
    }
   ],
   "source": [
    "number = float(input(\"Enter a fnumber: \"))"
   ]
  },
  {
   "cell_type": "code",
   "execution_count": 11,
   "id": "d59cc648",
   "metadata": {},
   "outputs": [
    {
     "name": "stdout",
     "output_type": "stream",
     "text": [
      "The number 2.0 is positive\n"
     ]
    }
   ],
   "source": [
    "if number > 0:\n",
    "    print(f\"The number {number} is positive\")\n",
    "elif number == 0:\n",
    "    print(f\"The number {number} is zero\")\n",
    "else:\n",
    "    print(f\"\")"
   ]
  },
  {
   "cell_type": "code",
   "execution_count": null,
   "id": "f1740d91",
   "metadata": {},
   "outputs": [],
   "source": []
  }
 ],
 "metadata": {
  "kernelspec": {
   "display_name": "Python 3",
   "language": "python",
   "name": "python3"
  },
  "language_info": {
   "codemirror_mode": {
    "name": "ipython",
    "version": 3
   },
   "file_extension": ".py",
   "mimetype": "text/x-python",
   "name": "python",
   "nbconvert_exporter": "python",
   "pygments_lexer": "ipython3",
   "version": "3.8.8"
  }
 },
 "nbformat": 4,
 "nbformat_minor": 5
}

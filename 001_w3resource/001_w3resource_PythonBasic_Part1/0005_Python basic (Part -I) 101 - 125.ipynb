{
 "cells": [
  {
   "cell_type": "markdown",
   "id": "9cbc60d5",
   "metadata": {},
   "source": [
    "# 0005_Python basic (Part -I) 101 - 125"
   ]
  },
  {
   "cell_type": "markdown",
   "id": "f3c67d3f",
   "metadata": {},
   "source": [
    "Ejercicios python 76 - 100\n",
    "[Python basic (Part -I)](https://www.w3resource.com/python-exercises/python-basic-exercises.php)"
   ]
  },
  {
   "cell_type": "markdown",
   "id": "b5c32871",
   "metadata": {},
   "source": [
    "---"
   ]
  },
  {
   "cell_type": "markdown",
   "id": "ce568489",
   "metadata": {},
   "source": [
    "### 101. Write a Python program to access and print a URL's content to the console. "
   ]
  },
  {
   "cell_type": "markdown",
   "id": "5f8ae22d",
   "metadata": {},
   "source": [
    "Import the HTTPConnection class from the http.client library.\n",
    "\n",
    "This line imports the HTTPConnection class, which is part of the standard Python library used for making HTTP requests."
   ]
  },
  {
   "cell_type": "code",
   "execution_count": 1,
   "id": "cf9baf76",
   "metadata": {},
   "outputs": [],
   "source": [
    "from http.client import HTTPConnection"
   ]
  },
  {
   "cell_type": "markdown",
   "id": "d82a5989",
   "metadata": {},
   "source": [
    "Create an HTTPConnection object for the host \"example.com\""
   ]
  },
  {
   "cell_type": "code",
   "execution_count": 2,
   "id": "38f81e36",
   "metadata": {},
   "outputs": [],
   "source": [
    "conn = HTTPConnection(\"example.com\")"
   ]
  },
  {
   "cell_type": "markdown",
   "id": "450180e3",
   "metadata": {},
   "source": [
    "Send an HTTP GET request to the root path (\"/\") of the server\n",
    "\n",
    "This line sends an HTTP GET request to the root path of the server. The first argument to conn.request is the HTTP method (\"GET\" in this case), and the second argument is the path (\"/\") indicating that you want to retrieve the default page or resource at the root of the server."
   ]
  },
  {
   "cell_type": "code",
   "execution_count": 3,
   "id": "ecb6bfd5",
   "metadata": {},
   "outputs": [],
   "source": [
    "conn.request(\"GET\", \"/\")  "
   ]
  },
  {
   "cell_type": "markdown",
   "id": "4da06c59",
   "metadata": {},
   "source": [
    "Get the response from the server\n",
    "\n",
    "This line sends the request to the server and stores the response in the result variable. The response object contains information about the server's response, including the HTTP status code, headers, and the response body."
   ]
  },
  {
   "cell_type": "code",
   "execution_count": 4,
   "id": "f7ea079b",
   "metadata": {},
   "outputs": [],
   "source": [
    "result = conn.getresponse()"
   ]
  },
  {
   "cell_type": "markdown",
   "id": "fae79fae",
   "metadata": {},
   "source": [
    "Read the content of the response:\n",
    "\n",
    "This line reads the content (the response body) of the server's response and stores it in the contents variable. The read() method is used to retrieve the entire response body as bytes."
   ]
  },
  {
   "cell_type": "code",
   "execution_count": 5,
   "id": "6d874ff6",
   "metadata": {},
   "outputs": [],
   "source": [
    "contents = result.read()"
   ]
  },
  {
   "cell_type": "markdown",
   "id": "3389c050",
   "metadata": {},
   "source": [
    "Print the contents of the response:"
   ]
  },
  {
   "cell_type": "code",
   "execution_count": 7,
   "id": "fb6397d1",
   "metadata": {
    "scrolled": true
   },
   "outputs": [
    {
     "name": "stdout",
     "output_type": "stream",
     "text": [
      "b'<!doctype html>\\n<html>\\n<head>\\n    <title>Example Domain</title>\\n\\n    <meta charset=\"utf-8\" />\\n    <meta http-equiv=\"Content-type\" content=\"text/html; charset=utf-8\" />\\n    <meta name=\"viewport\" content=\"width=device-width, initial-scale=1\" />\\n    <style type=\"text/css\">\\n    body {\\n        background-color: #f0f0f2;\\n        margin: 0;\\n        padding: 0;\\n        font-family: -apple-system, system-ui, BlinkMacSystemFont, \"Segoe UI\", \"Open Sans\", \"Helvetica Neue\", Helvetica, Arial, sans-serif;\\n        \\n    }\\n    div {\\n        width: 600px;\\n        margin: 5em auto;\\n        padding: 2em;\\n        background-color: #fdfdff;\\n        border-radius: 0.5em;\\n        box-shadow: 2px 3px 7px 2px rgba(0,0,0,0.02);\\n    }\\n    a:link, a:visited {\\n        color: #38488f;\\n        text-decoration: none;\\n    }\\n    @media (max-width: 700px) {\\n        div {\\n            margin: 0 auto;\\n            width: auto;\\n        }\\n    }\\n    </style>    \\n</head>\\n\\n<body>\\n<div>\\n    <h1>Example Domain</h1>\\n    <p>This domain is for use in illustrative examples in documents. You may use this\\n    domain in literature without prior coordination or asking for permission.</p>\\n    <p><a href=\"https://www.iana.org/domains/example\">More information...</a></p>\\n</div>\\n</body>\\n</html>\\n'\n"
     ]
    }
   ],
   "source": [
    "print(contents)"
   ]
  },
  {
   "cell_type": "markdown",
   "id": "92da9e74",
   "metadata": {},
   "source": [
    "In summary, this script establishes a connection to a web server (in this case, \"example.com\"), sends an HTTP GET request to the root path (\"/\"), receives the server's response, and prints the response content. You can use this code as a basic starting point for making HTTP requests in Python."
   ]
  },
  {
   "cell_type": "markdown",
   "id": "204a5d4a",
   "metadata": {},
   "source": [
    "---"
   ]
  },
  {
   "cell_type": "markdown",
   "id": "47a5605b",
   "metadata": {},
   "source": [
    "---"
   ]
  },
  {
   "cell_type": "markdown",
   "id": "ee076e20",
   "metadata": {},
   "source": [
    "### 102. Write a Python program to get system command output. "
   ]
  },
  {
   "cell_type": "markdown",
   "id": "1e033958",
   "metadata": {},
   "source": [
    "Import the subprocess module:\n",
    "\n",
    "This line imports the subprocess module, which allows you to run external processes and interact with them from your Python script."
   ]
  },
  {
   "cell_type": "code",
   "execution_count": 8,
   "id": "95c73967",
   "metadata": {},
   "outputs": [],
   "source": [
    "import subprocess"
   ]
  },
  {
   "cell_type": "markdown",
   "id": "14b4c4b3",
   "metadata": {},
   "source": [
    "Run the \"dir\" command and capture its output:\n",
    "\n",
    "This line executes the \"dir\" command using the subprocess.check_output function. The \"dir\" argument is the command to be executed, and shell=True indicates that the command should be run in a shell environment. universal_newlines=True specifies that the output should be treated as text (strings) rather than bytes.\n",
    "\n",
    "The subprocess.check_output function runs the command and captures its output as a string, which is stored in the returned_text variable."
   ]
  },
  {
   "cell_type": "code",
   "execution_count": 9,
   "id": "1cd91661",
   "metadata": {},
   "outputs": [],
   "source": [
    "returned_text = subprocess.check_output(\"dir\", shell=True, universal_newlines=True)"
   ]
  },
  {
   "cell_type": "markdown",
   "id": "00e12f05",
   "metadata": {},
   "source": [
    "Print the output of the \"dir\" command:"
   ]
  },
  {
   "cell_type": "code",
   "execution_count": 12,
   "id": "ee454f50",
   "metadata": {},
   "outputs": [
    {
     "name": "stdout",
     "output_type": "stream",
     "text": [
      "dir command to list file and directory\n"
     ]
    }
   ],
   "source": [
    "print(\"dir command to list file and directory\")"
   ]
  },
  {
   "cell_type": "code",
   "execution_count": 13,
   "id": "36fbba17",
   "metadata": {
    "scrolled": true
   },
   "outputs": [
    {
     "name": "stdout",
     "output_type": "stream",
     "text": [
      " Volume in drive D is Disco Datos\n",
      " Volume Serial Number is DC38-716A\n",
      "\n",
      " Directory of D:\\Python_projects\\Python\\001_w3resource\\001_w3resource_PythonBasic_Part1\n",
      "\n",
      "16-Oct-23  10:42 PM    <DIR>          .\n",
      "16-Oct-23  10:42 PM    <DIR>          ..\n",
      "16-Oct-23  10:36 PM    <DIR>          .ipynb_checkpoints\n",
      "07-Oct-23  10:10 PM            51,063 0001_Python basic (Part -I) 1 - 25.ipynb\n",
      "09-Oct-23  07:49 PM            48,399 0002_Python basic (Part -I) 26 - 50.ipynb\n",
      "10-Oct-23  06:46 PM            62,359 0003_Python basic (Part -I) 51 - 75.ipynb\n",
      "16-Oct-23  10:37 PM            59,590 0004_Python basic (Part -I) 76 - 100.ipynb\n",
      "16-Oct-23  10:42 PM             5,411 0005_Python basic (Part -I) 101 - 125.ipynb\n",
      "06-Oct-23  02:10 AM               211 README.md\n",
      "               6 File(s)        227,033 bytes\n",
      "               3 Dir(s)  865,990,955,008 bytes free\n",
      "\n"
     ]
    }
   ],
   "source": [
    "print(returned_text)"
   ]
  },
  {
   "cell_type": "markdown",
   "id": "a7b5867a",
   "metadata": {},
   "source": [
    "In summary, this script runs the \"dir\" command to list files and directories in the current directory using the subprocess module and then prints the command's output. This is a simple example of using Python to execute external system commands and capture their output. Note that the exact behavior of the \"dir\" command may vary depending on the operating system you're running the script on."
   ]
  },
  {
   "cell_type": "markdown",
   "id": "3a4b830d",
   "metadata": {},
   "source": [
    "---"
   ]
  },
  {
   "cell_type": "markdown",
   "id": "e90adc60",
   "metadata": {},
   "source": [
    "---"
   ]
  },
  {
   "cell_type": "markdown",
   "id": "31e40b14",
   "metadata": {},
   "source": [
    "### 103. Write a Python program to extract the filename from a given path. "
   ]
  },
  {
   "cell_type": "markdown",
   "id": "067f10d0",
   "metadata": {},
   "source": [
    "This line imports the os module, which provides various functions for interacting with the operating system, including file and directory manipulation."
   ]
  },
  {
   "cell_type": "code",
   "execution_count": 14,
   "id": "c43d6002",
   "metadata": {},
   "outputs": [],
   "source": [
    "import os"
   ]
  },
  {
   "cell_type": "markdown",
   "id": "9311d776",
   "metadata": {},
   "source": [
    "Extract and print the base name of a file path:\n",
    "\n",
    "This line uses the os.path.basename() function to extract the base name (i.e., the filename without the directory path) from the provided file path as a string. In this case, the provided file path is 'D:/Python_projects/Python/001_w3resource/001_w3resource_PythonBasic_Part1/0001_Python basic (Part -I) 1 - 25.ipynb'. The base name extracted from this path is the filename '0001_Python basic (Part -I) 1 - 25.ipynb'.\n",
    "\n",
    "The print function is then used to display the extracted base name on the console."
   ]
  },
  {
   "cell_type": "code",
   "execution_count": 16,
   "id": "2c7a306a",
   "metadata": {
    "scrolled": true
   },
   "outputs": [
    {
     "name": "stdout",
     "output_type": "stream",
     "text": [
      "0001_Python basic (Part -I) 1 - 25.ipynb\n"
     ]
    }
   ],
   "source": [
    "print(os.path.basename('D:/Python_projects/Python/001_w3resource/001_w3resource_PythonBasic_Part1/0001_Python basic (Part -I) 1 - 25.ipynb'))"
   ]
  },
  {
   "cell_type": "markdown",
   "id": "099deb08",
   "metadata": {},
   "source": [
    "---"
   ]
  },
  {
   "cell_type": "markdown",
   "id": "92241346",
   "metadata": {},
   "source": [
    "---"
   ]
  },
  {
   "cell_type": "markdown",
   "id": "92b21490",
   "metadata": {},
   "source": [
    "### 104. Write a Python program to get the effective group id, effective user id, real group id, and a list of supplemental group ids associated with the current process. "
   ]
  },
  {
   "cell_type": "markdown",
   "id": "04a59132",
   "metadata": {},
   "source": [
    "Note: Availability: Unix."
   ]
  },
  {
   "cell_type": "markdown",
   "id": "574fbe8d",
   "metadata": {},
   "source": [
    "---"
   ]
  },
  {
   "cell_type": "markdown",
   "id": "7f6834e2",
   "metadata": {},
   "source": [
    "---"
   ]
  },
  {
   "cell_type": "markdown",
   "id": "48346977",
   "metadata": {},
   "source": [
    "### 105. Write a Python program to get the users environment. "
   ]
  },
  {
   "cell_type": "code",
   "execution_count": 22,
   "id": "feec44fb",
   "metadata": {},
   "outputs": [],
   "source": [
    "import os"
   ]
  },
  {
   "cell_type": "markdown",
   "id": "2f95d156",
   "metadata": {},
   "source": [
    "The os.environ variable in Python is a dictionary that contains the current environment variables as key-value pairs. These environment variables store information about the system's configuration and settings, which can be accessed and manipulated by your Python script."
   ]
  },
  {
   "cell_type": "code",
   "execution_count": 23,
   "id": "f3c5585a",
   "metadata": {
    "scrolled": true
   },
   "outputs": [
    {
     "name": "stdout",
     "output_type": "stream",
     "text": [
      "environ({'ALLUSERSPROFILE': 'C:\\\\ProgramData', 'APPDATA': 'C:\\\\Users\\\\Asus ROG PC\\\\AppData\\\\Roaming', 'COMMONPROGRAMFILES': 'C:\\\\Program Files\\\\Common Files', 'COMMONPROGRAMFILES(X86)': 'C:\\\\Program Files (x86)\\\\Common Files', 'COMMONPROGRAMW6432': 'C:\\\\Program Files\\\\Common Files', 'COMPUTERNAME': 'DESKTOP-RFID6T3', 'COMSPEC': 'C:\\\\WINDOWS\\\\system32\\\\cmd.exe', 'CONDA_DEFAULT_ENV': 'base', 'CONDA_EXE': 'C:\\\\ProgramData\\\\Anaconda3\\\\Scripts\\\\conda.exe', 'CONDA_PREFIX': 'C:\\\\ProgramData\\\\Anaconda3', 'CONDA_PROMPT_MODIFIER': '(base) ', 'CONDA_PYTHON_EXE': 'C:\\\\ProgramData\\\\Anaconda3\\\\python.exe', 'CONDA_SHLVL': '1', 'DRIVERDATA': 'C:\\\\Windows\\\\System32\\\\Drivers\\\\DriverData', 'HOMEDRIVE': 'C:', 'HOMEPATH': '\\\\Users\\\\Asus ROG PC', 'INTEL_DEV_REDIST': 'C:\\\\Program Files (x86)\\\\Common Files\\\\Intel\\\\Shared Libraries\\\\', 'JAVA': 'C:\\\\Program Files\\\\Java\\\\jre1.8.0_361\\\\bin', 'LOCALAPPDATA': 'C:\\\\Users\\\\Asus ROG PC\\\\AppData\\\\Local', 'LOGONSERVER': '\\\\\\\\DESKTOP-RFID6T3', 'MIC_LD_LIBRARY_PATH': 'C:\\\\Program Files (x86)\\\\Common Files\\\\Intel\\\\Shared Libraries\\\\compiler\\\\lib\\\\mic', 'NUMBER_OF_PROCESSORS': '12', 'ONEDRIVE': 'C:\\\\Users\\\\Asus ROG PC\\\\OneDrive', 'OS': 'Windows_NT', 'PATH': 'C:\\\\ProgramData\\\\Anaconda3;C:\\\\ProgramData\\\\Anaconda3\\\\Library\\\\mingw-w64\\\\bin;C:\\\\ProgramData\\\\Anaconda3\\\\Library\\\\usr\\\\bin;C:\\\\ProgramData\\\\Anaconda3\\\\Library\\\\bin;C:\\\\ProgramData\\\\Anaconda3\\\\Scripts;C:\\\\ProgramData\\\\Anaconda3\\\\bin;C:\\\\ProgramData\\\\Anaconda3\\\\condabin;C:\\\\Program Files (x86)\\\\Common Files\\\\Intel\\\\Shared Libraries\\\\redist\\\\intel64\\\\compiler;C:\\\\Program Files\\\\Common Files\\\\Oracle\\\\Java\\\\javapath;C:\\\\ProgramData\\\\Anaconda3;C:\\\\ProgramData\\\\Anaconda3\\\\Library\\\\mingw-w64\\\\bin;C:\\\\ProgramData\\\\Anaconda3\\\\Library\\\\usr\\\\bin;C:\\\\ProgramData\\\\Anaconda3\\\\Library\\\\bin;C:\\\\ProgramData\\\\Anaconda3\\\\Scripts;C:\\\\WINDOWS\\\\system32;C:\\\\WINDOWS;C:\\\\WINDOWS\\\\System32\\\\Wbem;C:\\\\WINDOWS\\\\System32\\\\WindowsPowerShell\\\\v1.0;C:\\\\WINDOWS\\\\System32\\\\OpenSSH;C:\\\\Program Files\\\\dotnet;D:\\\\Program Files\\\\Git\\\\cmd;C:\\\\Program Files\\\\nodejs;C:\\\\Program Files\\\\nodejs;C:\\\\Program Files\\\\Java\\\\jre1.8.0_361\\\\bin;C:\\\\Users\\\\Asus ROG PC\\\\AppData\\\\Local\\\\Microsoft\\\\WindowsApps;C:\\\\webm\\\\bin;D:\\\\Program Files\\\\Inkscape_1_2_1\\\\bin;C:\\\\Users\\\\Asus ROG PC\\\\AppData\\\\Local\\\\Programs\\\\Microsoft VS Code\\\\bin;C:\\\\Users\\\\Asus ROG PC\\\\AppData\\\\Roaming\\\\npm;C:\\\\Program Files\\\\nodejs;.', 'PATHEXT': '.COM;.EXE;.BAT;.CMD;.VBS;.VBE;.JS;.JSE;.WSF;.WSH;.MSC;.CPL', 'PROCESSOR_ARCHITECTURE': 'AMD64', 'PROCESSOR_IDENTIFIER': 'AMD64 Family 23 Model 8 Stepping 2, AuthenticAMD', 'PROCESSOR_LEVEL': '23', 'PROCESSOR_REVISION': '0802', 'PROGRAMDATA': 'C:\\\\ProgramData', 'PROGRAMFILES': 'C:\\\\Program Files', 'PROGRAMFILES(X86)': 'C:\\\\Program Files (x86)', 'PROGRAMW6432': 'C:\\\\Program Files', 'PSEXECUTIONPOLICYPREFERENCE': 'Bypass', 'PSMODULEPATH': 'C:\\\\Users\\\\Asus ROG PC\\\\Documents\\\\WindowsPowerShell\\\\Modules;C:\\\\Program Files\\\\WindowsPowerShell\\\\Modules;C:\\\\WINDOWS\\\\system32\\\\WindowsPowerShell\\\\v1.0\\\\Modules', 'PUBLIC': 'C:\\\\Users\\\\Public', 'SESSIONNAME': 'Console', 'SYSTEMDRIVE': 'C:', 'SYSTEMROOT': 'C:\\\\WINDOWS', 'TEMP': 'C:\\\\Users\\\\ASUSRO~1\\\\AppData\\\\Local\\\\Temp', 'TMP': 'C:\\\\Users\\\\ASUSRO~1\\\\AppData\\\\Local\\\\Temp', 'USERDOMAIN': 'DESKTOP-RFID6T3', 'USERDOMAIN_ROAMINGPROFILE': 'DESKTOP-RFID6T3', 'USERNAME': 'Asus ROG PC', 'USERPROFILE': 'C:\\\\Users\\\\Asus ROG PC', 'VBOX_MSI_INSTALL_PATH': 'C:\\\\Program Files\\\\Oracle\\\\VirtualBox\\\\', 'VS140COMNTOOLS': 'C:\\\\Program Files (x86)\\\\Microsoft Visual Studio 14.0\\\\Common7\\\\Tools\\\\', 'WINDIR': 'C:\\\\WINDOWS', '_CONDA_EXE': 'C:/ProgramData/Anaconda3\\\\Scripts\\\\conda.exe', '_CONDA_ROOT': 'C:/ProgramData/Anaconda3', 'JPY_INTERRUPT_EVENT': '2396', 'IPY_INTERRUPT_EVENT': '2396', 'JPY_PARENT_PID': '2656', 'TERM': 'xterm-color', 'CLICOLOR': '1', 'PAGER': 'cat', 'GIT_PAGER': 'cat', 'MPLBACKEND': 'module://ipykernel.pylab.backend_inline'})\n"
     ]
    }
   ],
   "source": [
    "print(os.environ)"
   ]
  },
  {
   "cell_type": "markdown",
   "id": "4e5edf98",
   "metadata": {},
   "source": [
    "---"
   ]
  },
  {
   "cell_type": "markdown",
   "id": "b1660277",
   "metadata": {},
   "source": [
    "---"
   ]
  },
  {
   "cell_type": "markdown",
   "id": "ad837f42",
   "metadata": {},
   "source": [
    "### 106. Write a Python program to divide a path by the extension separator. "
   ]
  },
  {
   "cell_type": "code",
   "execution_count": 28,
   "id": "9b073709",
   "metadata": {},
   "outputs": [],
   "source": [
    "import os"
   ]
  },
  {
   "cell_type": "code",
   "execution_count": 37,
   "id": "0ccb8379",
   "metadata": {},
   "outputs": [],
   "source": [
    "paths = ['test.txt', 'filename', '/user/system/test.txt', '/', '']"
   ]
  },
  {
   "cell_type": "code",
   "execution_count": 38,
   "id": "1c123bf9",
   "metadata": {
    "scrolled": true
   },
   "outputs": [
    {
     "name": "stdout",
     "output_type": "stream",
     "text": [
      "\"test.txt\" : ('test', '.txt')\n",
      "\"filename\" : ('filename', '')\n",
      "\"/user/system/test.txt\" : ('/user/system/test', '.txt')\n",
      "\"/\" : ('/', '')\n",
      "\"\" : ('', '')\n"
     ]
    }
   ],
   "source": [
    "for path in paths:\n",
    "    print('\"%s\" :' % path, os.path.splitext(path))"
   ]
  },
  {
   "cell_type": "markdown",
   "id": "04c2dbe1",
   "metadata": {},
   "source": [
    "---"
   ]
  },
  {
   "cell_type": "markdown",
   "id": "d580d15c",
   "metadata": {},
   "source": [
    "---"
   ]
  },
  {
   "cell_type": "markdown",
   "id": "044ebe75",
   "metadata": {},
   "source": [
    "### 107. Write a Python program to retrieve file properties. "
   ]
  },
  {
   "cell_type": "code",
   "execution_count": 39,
   "id": "fff46596",
   "metadata": {},
   "outputs": [],
   "source": [
    "import os.path"
   ]
  },
  {
   "cell_type": "code",
   "execution_count": 40,
   "id": "4b4cb691",
   "metadata": {},
   "outputs": [],
   "source": [
    "import time"
   ]
  },
  {
   "cell_type": "markdown",
   "id": "24a562c4",
   "metadata": {},
   "source": [
    "Get file properties for the current script (__file__)"
   ]
  },
  {
   "cell_type": "code",
   "execution_count": 43,
   "id": "c0c8167e",
   "metadata": {},
   "outputs": [],
   "source": [
    "file_path = 'D:/Python_projects/Python/001_w3resource/001_w3resource_PythonBasic_Part1/0001_Python basic (Part -I) 1 - 25.ipynb'"
   ]
  },
  {
   "cell_type": "markdown",
   "id": "816f97c3",
   "metadata": {},
   "source": [
    "Print the file path"
   ]
  },
  {
   "cell_type": "code",
   "execution_count": 46,
   "id": "189f1a37",
   "metadata": {
    "scrolled": true
   },
   "outputs": [
    {
     "name": "stdout",
     "output_type": "stream",
     "text": [
      "File: D:/Python_projects/Python/001_w3resource/001_w3resource_PythonBasic_Part1/0001_Python basic (Part -I) 1 - 25.ipynb\n"
     ]
    }
   ],
   "source": [
    "print('File:', file_path)"
   ]
  },
  {
   "cell_type": "markdown",
   "id": "06c7adfb",
   "metadata": {},
   "source": [
    "Retrieve and print the access time"
   ]
  },
  {
   "cell_type": "code",
   "execution_count": 47,
   "id": "1174e5a9",
   "metadata": {},
   "outputs": [
    {
     "name": "stdout",
     "output_type": "stream",
     "text": [
      "Access time: Tue Oct 10 18:49:02 2023\n"
     ]
    }
   ],
   "source": [
    "print('Access time:', time.ctime(os.path.getatime(file_path)))"
   ]
  },
  {
   "cell_type": "markdown",
   "id": "e9ec6235",
   "metadata": {},
   "source": [
    "Retrieve and print the modified time"
   ]
  },
  {
   "cell_type": "code",
   "execution_count": 48,
   "id": "37852e1e",
   "metadata": {},
   "outputs": [
    {
     "name": "stdout",
     "output_type": "stream",
     "text": [
      "Modified time: Sat Oct  7 22:10:32 2023\n"
     ]
    }
   ],
   "source": [
    "print('Modified time:', time.ctime(os.path.getmtime(file_path)))"
   ]
  },
  {
   "cell_type": "markdown",
   "id": "15d8429a",
   "metadata": {},
   "source": [
    "Retrieve and print the change time"
   ]
  },
  {
   "cell_type": "code",
   "execution_count": 50,
   "id": "eea29fde",
   "metadata": {},
   "outputs": [
    {
     "name": "stdout",
     "output_type": "stream",
     "text": [
      "Change time  : Thu Oct  5 23:50:36 2023\n"
     ]
    }
   ],
   "source": [
    "print('Change time:', time.ctime(os.path.getctime(file_path)))"
   ]
  },
  {
   "cell_type": "markdown",
   "id": "8279e767",
   "metadata": {},
   "source": [
    "Retrieve and print the size of the file"
   ]
  },
  {
   "cell_type": "code",
   "execution_count": 51,
   "id": "d6490eed",
   "metadata": {},
   "outputs": [
    {
     "name": "stdout",
     "output_type": "stream",
     "text": [
      "Size: 51063\n"
     ]
    }
   ],
   "source": [
    "print('Size:', os.path.getsize(file_path))"
   ]
  },
  {
   "cell_type": "markdown",
   "id": "2c720018",
   "metadata": {},
   "source": [
    "---"
   ]
  },
  {
   "cell_type": "markdown",
   "id": "5692d0c2",
   "metadata": {},
   "source": [
    "---"
   ]
  },
  {
   "cell_type": "markdown",
   "id": "280a1431",
   "metadata": {},
   "source": [
    "### 108. Write a Python program to find the path to a file or directory when you encounter a path name. "
   ]
  },
  {
   "cell_type": "code",
   "execution_count": 1,
   "id": "62c55721",
   "metadata": {},
   "outputs": [],
   "source": [
    "import os"
   ]
  },
  {
   "cell_type": "code",
   "execution_count": 2,
   "id": "8755de02",
   "metadata": {},
   "outputs": [],
   "source": [
    "def find_path(path_name):\n",
    "    # Check if the path exist\n",
    "    if os.path.exists(path_name):\n",
    "        return os.path.abspath(path_name)\n",
    "    else:\n",
    "        return f\"The path '{path_name}' does not exist.\""
   ]
  },
  {
   "cell_type": "markdown",
   "id": "008b5b9a",
   "metadata": {},
   "source": [
    "Example of a file path: D:/Python_projects/Python/001_w3resource/001_w3resource_PythonBasic_Part1/0001_Python basic (Part -I) 1 - 25.ipynb"
   ]
  },
  {
   "cell_type": "code",
   "execution_count": 4,
   "id": "bac75ac3",
   "metadata": {},
   "outputs": [
    {
     "name": "stdout",
     "output_type": "stream",
     "text": [
      "Enter a file or directory path: D:/Python_projects/Python/001_w3resource/001_w3resource_PythonBasic_Part1/0001_Python basic (Part -I) 1 - 25.ipynb\n"
     ]
    }
   ],
   "source": [
    "path_name = input(\"Enter a file or directory path: \")"
   ]
  },
  {
   "cell_type": "code",
   "execution_count": 5,
   "id": "8f6d7d88",
   "metadata": {},
   "outputs": [],
   "source": [
    "result = find_path(path_name)"
   ]
  },
  {
   "cell_type": "code",
   "execution_count": 6,
   "id": "c278ffba",
   "metadata": {},
   "outputs": [
    {
     "name": "stdout",
     "output_type": "stream",
     "text": [
      "D:\\Python_projects\\Python\\001_w3resource\\001_w3resource_PythonBasic_Part1\\0001_Python basic (Part -I) 1 - 25.ipynb\n"
     ]
    }
   ],
   "source": [
    "print(result)"
   ]
  },
  {
   "cell_type": "code",
   "execution_count": 7,
   "id": "8c32a848",
   "metadata": {},
   "outputs": [
    {
     "name": "stdout",
     "output_type": "stream",
     "text": [
      "Enter a file or directory path: Z:/AlgoQueNoExiste\n"
     ]
    }
   ],
   "source": [
    "path_name = input(\"Enter a file or directory path: \")"
   ]
  },
  {
   "cell_type": "code",
   "execution_count": 8,
   "id": "45e80f31",
   "metadata": {},
   "outputs": [],
   "source": [
    "result = find_path(path_name)"
   ]
  },
  {
   "cell_type": "code",
   "execution_count": 9,
   "id": "4ab4cccc",
   "metadata": {},
   "outputs": [
    {
     "name": "stdout",
     "output_type": "stream",
     "text": [
      "The path 'Z:/AlgoQueNoExiste' does not exist.\n"
     ]
    }
   ],
   "source": [
    "print(result)"
   ]
  },
  {
   "cell_type": "markdown",
   "id": "4245f413",
   "metadata": {},
   "source": [
    "---"
   ]
  },
  {
   "cell_type": "markdown",
   "id": "6e68772c",
   "metadata": {},
   "source": [
    "---"
   ]
  },
  {
   "cell_type": "markdown",
   "id": "116011db",
   "metadata": {},
   "source": [
    "### 109. Check if a number is positive, negative or zero"
   ]
  },
  {
   "cell_type": "code",
   "execution_count": 15,
   "id": "09d963c5",
   "metadata": {},
   "outputs": [
    {
     "name": "stdout",
     "output_type": "stream",
     "text": [
      "Enter a fnumber: -1\n"
     ]
    }
   ],
   "source": [
    "number = float(input(\"Enter a fnumber: \"))"
   ]
  },
  {
   "cell_type": "code",
   "execution_count": 17,
   "id": "d736da1c",
   "metadata": {},
   "outputs": [
    {
     "name": "stdout",
     "output_type": "stream",
     "text": [
      "The number -1.0 is a negative number\n"
     ]
    }
   ],
   "source": [
    "if number > 0:\n",
    "    print(f\"The number {number} is positive\")\n",
    "elif number == 0:\n",
    "    print(f\"The number {number} is zero\")\n",
    "else:\n",
    "    print(f\"The number {number} is a negative number\")"
   ]
  },
  {
   "cell_type": "markdown",
   "id": "7406b5dc",
   "metadata": {},
   "source": [
    "---"
   ]
  },
  {
   "cell_type": "markdown",
   "id": "ecd28232",
   "metadata": {},
   "source": [
    "---"
   ]
  },
  {
   "cell_type": "markdown",
   "id": "d8f0fa50",
   "metadata": {},
   "source": [
    "### 110. Write a Python program to get numbers divisible by fifteen from a list using an anonymous function. "
   ]
  },
  {
   "cell_type": "code",
   "execution_count": 18,
   "id": "1d9d23ab",
   "metadata": {},
   "outputs": [],
   "source": [
    "# Sample list of numbers\n",
    "numbers = [15, 30, 45, 10, 60, 75, 90]"
   ]
  },
  {
   "cell_type": "code",
   "execution_count": 19,
   "id": "5bc6f5e9",
   "metadata": {},
   "outputs": [],
   "source": [
    "# Use a lambda function and filter to get numbers divisible by 15\n",
    "divisible_by_fifteen = list(filter(lambda x: x % 15 == 0, numbers))"
   ]
  },
  {
   "cell_type": "code",
   "execution_count": 20,
   "id": "521f687a",
   "metadata": {},
   "outputs": [
    {
     "name": "stdout",
     "output_type": "stream",
     "text": [
      "Numbers divisible by fifteen: [15, 30, 45, 60, 75, 90]\n"
     ]
    }
   ],
   "source": [
    "# Print the result\n",
    "print(\"Numbers divisible by fifteen:\", divisible_by_fifteen)"
   ]
  },
  {
   "cell_type": "markdown",
   "id": "00fc3b43",
   "metadata": {},
   "source": [
    "`lambda x: x % 15 == 0`: This is a lambda function. It's an anonymous or inline function that takes one argument x and checks whether x % 15 equals 0. In other words, it checks if x is divisible by 15 with no remainder.\n",
    "\n",
    "`filter(lambda x: x % 15 == 0, numbers)`: The filter function is used to filter elements from the numbers list based on a given condition. In this case, the condition is defined by the lambda function. The filter function iterates through the numbers list and includes only those elements for which the lambda function returns True (i.e., the elements that are divisible by 15).\n",
    "\n",
    "`list(...)`: The result of the filter function is an iterable, so we convert it into a list to make it more convenient to work with and print."
   ]
  },
  {
   "cell_type": "markdown",
   "id": "ba152a5f",
   "metadata": {},
   "source": [
    "---"
   ]
  },
  {
   "cell_type": "markdown",
   "id": "1ba3ec68",
   "metadata": {},
   "source": [
    "---"
   ]
  },
  {
   "cell_type": "markdown",
   "id": "ca341f84",
   "metadata": {},
   "source": [
    "### 111. Write a Python program to make file lists from the current directory using a wildcard. "
   ]
  },
  {
   "cell_type": "code",
   "execution_count": 21,
   "id": "9dc0d9ba",
   "metadata": {},
   "outputs": [],
   "source": [
    "import glob"
   ]
  },
  {
   "cell_type": "code",
   "execution_count": 22,
   "id": "143efd68",
   "metadata": {},
   "outputs": [],
   "source": [
    "# Define a wildcard pattern to match specific files\n",
    "wildcard_pattern = \"*.ipynb\"  # Change this pattern as needed"
   ]
  },
  {
   "cell_type": "code",
   "execution_count": 23,
   "id": "9dcc69f8",
   "metadata": {},
   "outputs": [],
   "source": [
    "# Use glob to find files matching the pattern in the current directory\n",
    "file_list = glob.glob(wildcard_pattern)"
   ]
  },
  {
   "cell_type": "code",
   "execution_count": 24,
   "id": "b1f8b189",
   "metadata": {},
   "outputs": [
    {
     "name": "stdout",
     "output_type": "stream",
     "text": [
      "List of files matching the wildcard pattern:\n",
      "0001_Python basic (Part -I) 1 - 25.ipynb\n",
      "0002_Python basic (Part -I) 26 - 50.ipynb\n",
      "0003_Python basic (Part -I) 51 - 75.ipynb\n",
      "0004_Python basic (Part -I) 76 - 100.ipynb\n",
      "0005_Python basic (Part -I) 101 - 125.ipynb\n"
     ]
    }
   ],
   "source": [
    "# Print the list of files\n",
    "print(\"List of files matching the wildcard pattern:\")\n",
    "for file in file_list:\n",
    "    print(file)"
   ]
  },
  {
   "cell_type": "markdown",
   "id": "d42f6614",
   "metadata": {},
   "source": [
    "---"
   ]
  },
  {
   "cell_type": "markdown",
   "id": "c86d849b",
   "metadata": {},
   "source": [
    "---"
   ]
  },
  {
   "cell_type": "markdown",
   "id": "164eda56",
   "metadata": {},
   "source": [
    "### 112. Write a Python program to remove the first item from a specified list. "
   ]
  },
  {
   "cell_type": "code",
   "execution_count": 25,
   "id": "d0f144af",
   "metadata": {},
   "outputs": [],
   "source": [
    "# Sample list\n",
    "my_list = [1, 2, 3, 4, 5]"
   ]
  },
  {
   "cell_type": "markdown",
   "id": "6998bfbc",
   "metadata": {},
   "source": [
    "Usando pop"
   ]
  },
  {
   "cell_type": "code",
   "execution_count": 26,
   "id": "5ad31a00",
   "metadata": {},
   "outputs": [],
   "source": [
    "# Remove the first item using pop()\n",
    "if my_list:\n",
    "    my_list.pop(0)\n",
    "else:\n",
    "    print(\"The list is empty.\")"
   ]
  },
  {
   "cell_type": "code",
   "execution_count": 27,
   "id": "309fbb2f",
   "metadata": {},
   "outputs": [
    {
     "name": "stdout",
     "output_type": "stream",
     "text": [
      "List after removing the first item: [2, 3, 4, 5]\n"
     ]
    }
   ],
   "source": [
    "# Print the modified list\n",
    "print(\"List after removing the first item:\", my_list)"
   ]
  },
  {
   "cell_type": "markdown",
   "id": "0707f2db",
   "metadata": {},
   "source": [
    "Usando Slicing"
   ]
  },
  {
   "cell_type": "code",
   "execution_count": 28,
   "id": "68d27ab8",
   "metadata": {},
   "outputs": [],
   "source": [
    "# Remove the first item using slicing\n",
    "if my_list:\n",
    "    my_list = my_list[1:]\n",
    "else:\n",
    "    print(\"The list is empty.\")"
   ]
  },
  {
   "cell_type": "code",
   "execution_count": 29,
   "id": "d95249c1",
   "metadata": {},
   "outputs": [
    {
     "name": "stdout",
     "output_type": "stream",
     "text": [
      "List after removing the first item: [3, 4, 5]\n"
     ]
    }
   ],
   "source": [
    "# Print the modified list\n",
    "print(\"List after removing the first item:\", my_list)"
   ]
  },
  {
   "cell_type": "markdown",
   "id": "afb5f33d",
   "metadata": {},
   "source": [
    "---"
   ]
  },
  {
   "cell_type": "markdown",
   "id": "5f36e576",
   "metadata": {},
   "source": [
    "---"
   ]
  },
  {
   "cell_type": "markdown",
   "id": "f06b2e75",
   "metadata": {},
   "source": [
    "### 113. Write a Python program that inputs a number and generates an error message if it is not a number. "
   ]
  },
  {
   "cell_type": "code",
   "execution_count": 34,
   "id": "41a27d0d",
   "metadata": {
    "scrolled": true
   },
   "outputs": [
    {
     "name": "stdout",
     "output_type": "stream",
     "text": [
      "Enter a number: 1\n",
      "You entered a valid number: 1.0\n"
     ]
    }
   ],
   "source": [
    "try:\n",
    "    # Get user input as a string\n",
    "    user_input = input(\"Enter a number: \")\n",
    "    \n",
    "    # Try to convert the input to a float\n",
    "    number = float(user_input)\n",
    "    \n",
    "    # If the input is a valid number, print\n",
    "    print(f\"You entered a valid number: {number}\")\n",
    "          \n",
    "except ValueError:\n",
    "          # If the input is not a valid number, ValueError is raised.\n",
    "          print(\"Error: This is not a number\")"
   ]
  },
  {
   "cell_type": "markdown",
   "id": "3510e4ba",
   "metadata": {},
   "source": [
    "---"
   ]
  },
  {
   "cell_type": "markdown",
   "id": "8b2b19c2",
   "metadata": {},
   "source": [
    "---"
   ]
  },
  {
   "cell_type": "markdown",
   "id": "73f5585f",
   "metadata": {},
   "source": [
    "### 114. Write a Python program to filter positive numbers from a list. "
   ]
  },
  {
   "cell_type": "code",
   "execution_count": 35,
   "id": "ea5b6ab9",
   "metadata": {},
   "outputs": [],
   "source": [
    "# Sample list\n",
    "numbers = [1, -2, 4, -8, 10, 1, -1, 0, -7]"
   ]
  },
  {
   "cell_type": "code",
   "execution_count": 36,
   "id": "ee73896d",
   "metadata": {},
   "outputs": [],
   "source": [
    "# Use a list comprehension to filter positive numbers\n",
    "positive_numbers = [x for x in numbers if x > 0]"
   ]
  },
  {
   "cell_type": "code",
   "execution_count": 37,
   "id": "d294bc2c",
   "metadata": {},
   "outputs": [
    {
     "name": "stdout",
     "output_type": "stream",
     "text": [
      "Positive numbers:  [1, 4, 10, 1]\n"
     ]
    }
   ],
   "source": [
    "print(\"Positive numbers: \", positive_numbers)"
   ]
  },
  {
   "cell_type": "markdown",
   "id": "7536f214",
   "metadata": {},
   "source": [
    "---"
   ]
  },
  {
   "cell_type": "markdown",
   "id": "36023dbb",
   "metadata": {},
   "source": [
    "---"
   ]
  },
  {
   "cell_type": "markdown",
   "id": "0099a463",
   "metadata": {},
   "source": [
    "### 115. Write a Python program to compute the product of a list of integers (without using a for loop). "
   ]
  },
  {
   "cell_type": "code",
   "execution_count": 38,
   "id": "8fdf620d",
   "metadata": {},
   "outputs": [],
   "source": [
    "from functools import reduce"
   ]
  },
  {
   "cell_type": "markdown",
   "id": "3127c14d",
   "metadata": {},
   "source": [
    "We import the reduce function from the functools module."
   ]
  },
  {
   "cell_type": "code",
   "execution_count": 39,
   "id": "777ed9b5",
   "metadata": {},
   "outputs": [],
   "source": [
    "# Sample list of integers\n",
    "integer_list = [2, 3, 4, 5]"
   ]
  },
  {
   "cell_type": "code",
   "execution_count": 40,
   "id": "ff3f6a31",
   "metadata": {},
   "outputs": [],
   "source": [
    "# Compute the product of the list using reduce\n",
    "product = reduce(lambda x, y: x * y, integer_list)"
   ]
  },
  {
   "cell_type": "markdown",
   "id": "8a6ed118",
   "metadata": {},
   "source": [
    "We use the `reduce()` function, which takes two arguments: **a function** and an **iterable** (the list of integers in this case).\n",
    "\n",
    "The function provided as the first argument takes two values, `x and y`, and returns their product `(x * y)`. `reduce()` applies this function cumulatively to the items in the iterable, resulting in the product of all the integers in the list."
   ]
  },
  {
   "cell_type": "markdown",
   "id": "f9e574e1",
   "metadata": {},
   "source": [
    "The **lambda** keyword is used to create an anonymous (unnamed) function. The lambda keyword is used to define small, inline functions without needing to give them a name. It's often used for simple operations or functions that you only need once."
   ]
  },
  {
   "cell_type": "code",
   "execution_count": 41,
   "id": "c0a4d001",
   "metadata": {
    "scrolled": true
   },
   "outputs": [
    {
     "name": "stdout",
     "output_type": "stream",
     "text": [
      "Product of the integers: 120\n"
     ]
    }
   ],
   "source": [
    "# Print the product\n",
    "print(\"Product of the integers:\", product)"
   ]
  },
  {
   "cell_type": "markdown",
   "id": "de13b533",
   "metadata": {},
   "source": [
    "---"
   ]
  },
  {
   "cell_type": "markdown",
   "id": "7838fe8e",
   "metadata": {},
   "source": [
    "---"
   ]
  },
  {
   "cell_type": "markdown",
   "id": "f5254646",
   "metadata": {},
   "source": [
    "### 116. Write a Python program to print Unicode characters. "
   ]
  },
  {
   "cell_type": "code",
   "execution_count": 52,
   "id": "ac24d5f3",
   "metadata": {},
   "outputs": [],
   "source": [
    "# Print Unicode characters\n",
    "unicode_code_points = [9731, 9728, 128516, 128515, 128525]"
   ]
  },
  {
   "cell_type": "code",
   "execution_count": 53,
   "id": "5f5587c9",
   "metadata": {},
   "outputs": [
    {
     "name": "stdout",
     "output_type": "stream",
     "text": [
      "Unicode character for code point 9731: ☃\n",
      "Unicode character for code point 9728: ☀\n",
      "Unicode character for code point 128516: 😄\n",
      "Unicode character for code point 128515: 😃\n",
      "Unicode character for code point 128525: 😍\n",
      "Unicode character for code point 128527: 😏\n"
     ]
    }
   ],
   "source": [
    "for code_point in unicode_code_points:\n",
    "    print(f\"Unicode character for code point {code_point}: {chr(code_point)}\")"
   ]
  },
  {
   "cell_type": "markdown",
   "id": "b02eb683",
   "metadata": {},
   "source": [
    "Crear una lista de 128515 al 128592"
   ]
  },
  {
   "cell_type": "code",
   "execution_count": 67,
   "id": "fb1127a1",
   "metadata": {},
   "outputs": [],
   "source": [
    "my_list = list(range(128515, 128592))"
   ]
  },
  {
   "cell_type": "code",
   "execution_count": 68,
   "id": "165888c5",
   "metadata": {
    "scrolled": true
   },
   "outputs": [
    {
     "name": "stdout",
     "output_type": "stream",
     "text": [
      "Unicode character for code point 128515: 😃\n",
      "Unicode character for code point 128516: 😄\n",
      "Unicode character for code point 128517: 😅\n",
      "Unicode character for code point 128518: 😆\n",
      "Unicode character for code point 128519: 😇\n",
      "Unicode character for code point 128520: 😈\n",
      "Unicode character for code point 128521: 😉\n",
      "Unicode character for code point 128522: 😊\n",
      "Unicode character for code point 128523: 😋\n",
      "Unicode character for code point 128524: 😌\n",
      "Unicode character for code point 128525: 😍\n",
      "Unicode character for code point 128526: 😎\n",
      "Unicode character for code point 128527: 😏\n",
      "Unicode character for code point 128528: 😐\n",
      "Unicode character for code point 128529: 😑\n",
      "Unicode character for code point 128530: 😒\n",
      "Unicode character for code point 128531: 😓\n",
      "Unicode character for code point 128532: 😔\n",
      "Unicode character for code point 128533: 😕\n",
      "Unicode character for code point 128534: 😖\n",
      "Unicode character for code point 128535: 😗\n",
      "Unicode character for code point 128536: 😘\n",
      "Unicode character for code point 128537: 😙\n",
      "Unicode character for code point 128538: 😚\n",
      "Unicode character for code point 128539: 😛\n",
      "Unicode character for code point 128540: 😜\n",
      "Unicode character for code point 128541: 😝\n",
      "Unicode character for code point 128542: 😞\n",
      "Unicode character for code point 128543: 😟\n",
      "Unicode character for code point 128544: 😠\n",
      "Unicode character for code point 128545: 😡\n",
      "Unicode character for code point 128546: 😢\n",
      "Unicode character for code point 128547: 😣\n",
      "Unicode character for code point 128548: 😤\n",
      "Unicode character for code point 128549: 😥\n",
      "Unicode character for code point 128550: 😦\n",
      "Unicode character for code point 128551: 😧\n",
      "Unicode character for code point 128552: 😨\n",
      "Unicode character for code point 128553: 😩\n",
      "Unicode character for code point 128554: 😪\n",
      "Unicode character for code point 128555: 😫\n",
      "Unicode character for code point 128556: 😬\n",
      "Unicode character for code point 128557: 😭\n",
      "Unicode character for code point 128558: 😮\n",
      "Unicode character for code point 128559: 😯\n",
      "Unicode character for code point 128560: 😰\n",
      "Unicode character for code point 128561: 😱\n",
      "Unicode character for code point 128562: 😲\n",
      "Unicode character for code point 128563: 😳\n",
      "Unicode character for code point 128564: 😴\n",
      "Unicode character for code point 128565: 😵\n",
      "Unicode character for code point 128566: 😶\n",
      "Unicode character for code point 128567: 😷\n",
      "Unicode character for code point 128568: 😸\n",
      "Unicode character for code point 128569: 😹\n",
      "Unicode character for code point 128570: 😺\n",
      "Unicode character for code point 128571: 😻\n",
      "Unicode character for code point 128572: 😼\n",
      "Unicode character for code point 128573: 😽\n",
      "Unicode character for code point 128574: 😾\n",
      "Unicode character for code point 128575: 😿\n",
      "Unicode character for code point 128576: 🙀\n",
      "Unicode character for code point 128577: 🙁\n",
      "Unicode character for code point 128578: 🙂\n",
      "Unicode character for code point 128579: 🙃\n",
      "Unicode character for code point 128580: 🙄\n",
      "Unicode character for code point 128581: 🙅\n",
      "Unicode character for code point 128582: 🙆\n",
      "Unicode character for code point 128583: 🙇\n",
      "Unicode character for code point 128584: 🙈\n",
      "Unicode character for code point 128585: 🙉\n",
      "Unicode character for code point 128586: 🙊\n",
      "Unicode character for code point 128587: 🙋\n",
      "Unicode character for code point 128588: 🙌\n",
      "Unicode character for code point 128589: 🙍\n",
      "Unicode character for code point 128590: 🙎\n",
      "Unicode character for code point 128591: 🙏\n"
     ]
    }
   ],
   "source": [
    "for i in my_list:\n",
    "    print(f\"Unicode character for code point {i}: {chr(i)}\")"
   ]
  },
  {
   "cell_type": "markdown",
   "id": "99dfb291",
   "metadata": {},
   "source": [
    "---"
   ]
  },
  {
   "cell_type": "markdown",
   "id": "577ec005",
   "metadata": {},
   "source": [
    "---"
   ]
  },
  {
   "cell_type": "markdown",
   "id": "20b04e68",
   "metadata": {},
   "source": [
    "### 117. Write a Python program to prove that two string variables of the same value point to the same memory location. "
   ]
  },
  {
   "cell_type": "code",
   "execution_count": 69,
   "id": "c414bce8",
   "metadata": {},
   "outputs": [],
   "source": [
    "# Create two string variables with the same value\n",
    "str1 = \"hello\"\n",
    "str2 = \"hello\""
   ]
  },
  {
   "cell_type": "markdown",
   "id": "2a8856b0",
   "metadata": {},
   "source": [
    "The `id()` function in Python is used to obtain the memory address (identity) of an object. "
   ]
  },
  {
   "cell_type": "markdown",
   "id": "c3768a0e",
   "metadata": {},
   "source": [
    "The `hex()` function is used to convert an integer into a hexadecimal string. The `id()` function returns the memory address as an integer, and we use `hex()` to convert that integer into a hexadecimal representation."
   ]
  },
  {
   "cell_type": "code",
   "execution_count": 76,
   "id": "e6fe69ae",
   "metadata": {},
   "outputs": [
    {
     "name": "stdout",
     "output_type": "stream",
     "text": [
      "Memory location of str1 = 0x1756e944e70\n"
     ]
    }
   ],
   "source": [
    "print(\"Memory location of str1 =\", hex(id(str1)))"
   ]
  },
  {
   "cell_type": "code",
   "execution_count": 77,
   "id": "ab1d1cce",
   "metadata": {},
   "outputs": [
    {
     "name": "stdout",
     "output_type": "stream",
     "text": [
      "Memory location of str2 = 0x1756e944e70\n"
     ]
    }
   ],
   "source": [
    "print(\"Memory location of str2 =\", hex(id(str2)))"
   ]
  },
  {
   "cell_type": "markdown",
   "id": "99b30547",
   "metadata": {},
   "source": [
    "#### 2nd Method"
   ]
  },
  {
   "cell_type": "markdown",
   "id": "baf98a49",
   "metadata": {},
   "source": [
    "We use the `is` operator to check if str1 and str2 point to the same memory location."
   ]
  },
  {
   "cell_type": "code",
   "execution_count": 70,
   "id": "2085171f",
   "metadata": {},
   "outputs": [
    {
     "name": "stdout",
     "output_type": "stream",
     "text": [
      "str1 and str2 point to the same memory location.\n"
     ]
    }
   ],
   "source": [
    "# Check if they point to the same memory location\n",
    "if str1 is str2:\n",
    "    print(\"str1 and str2 point to the same memory location.\")\n",
    "else:\n",
    "    print(\"str1 and str2 do not point to the same memory location.\")"
   ]
  },
  {
   "cell_type": "code",
   "execution_count": 71,
   "id": "22afa595",
   "metadata": {},
   "outputs": [],
   "source": [
    "# Create two string variables with different values\n",
    "str3 = \"hello\"\n",
    "str4 = \"world\""
   ]
  },
  {
   "cell_type": "code",
   "execution_count": 73,
   "id": "7b6b10b5",
   "metadata": {
    "scrolled": true
   },
   "outputs": [
    {
     "name": "stdout",
     "output_type": "stream",
     "text": [
      "str3 and str4 do not point to the same memory location.\n"
     ]
    }
   ],
   "source": [
    "# Check if they point to the same memory location\n",
    "if str3 is str4:\n",
    "    print(\"str3 and str4 point to the same memory location.\")\n",
    "else:\n",
    "    print(\"str3 and str4 do not point to the same memory location.\")"
   ]
  },
  {
   "cell_type": "markdown",
   "id": "504bbc2e",
   "metadata": {},
   "source": [
    "---"
   ]
  },
  {
   "cell_type": "markdown",
   "id": "6f4db1b3",
   "metadata": {},
   "source": [
    "---"
   ]
  },
  {
   "cell_type": "markdown",
   "id": "26b0a753",
   "metadata": {},
   "source": [
    "### 118. Write a Python program to create a bytearray from a list. "
   ]
  },
  {
   "cell_type": "code",
   "execution_count": 88,
   "id": "412aabcd",
   "metadata": {},
   "outputs": [],
   "source": [
    "# Create a list of integers\n",
    "integer_list = [65, 66, 67, 68, 69]"
   ]
  },
  {
   "cell_type": "code",
   "execution_count": 89,
   "id": "e80f38b1",
   "metadata": {},
   "outputs": [],
   "source": [
    "# Create a bytearray from the list\n",
    "byte_array = bytearray(integer_list)"
   ]
  },
  {
   "cell_type": "code",
   "execution_count": 90,
   "id": "b98eca9c",
   "metadata": {},
   "outputs": [
    {
     "name": "stdout",
     "output_type": "stream",
     "text": [
      "bytearray(b'ABCDE')\n"
     ]
    }
   ],
   "source": [
    "print(byte_array)"
   ]
  },
  {
   "cell_type": "markdown",
   "id": "1cae6196",
   "metadata": {},
   "source": [
    "In this output, each integer in the integer_list corresponds to the ASCII code of a character, and the bytearray() constructor creates a bytearray with those ASCII values. When you print the bytearray, it displays the corresponding characters as a binary sequence. In this case, the ASCII values correspond to the characters 'A', 'B', 'C', 'D', and 'E'."
   ]
  },
  {
   "cell_type": "code",
   "execution_count": 91,
   "id": "14f51957",
   "metadata": {},
   "outputs": [
    {
     "name": "stdout",
     "output_type": "stream",
     "text": [
      "65\n",
      "66\n",
      "67\n",
      "68\n",
      "69\n"
     ]
    }
   ],
   "source": [
    "for x in byte_array: print(x)"
   ]
  },
  {
   "cell_type": "markdown",
   "id": "a664a321",
   "metadata": {},
   "source": [
    "---"
   ]
  },
  {
   "cell_type": "markdown",
   "id": "2d8b3509",
   "metadata": {},
   "source": [
    "---"
   ]
  },
  {
   "cell_type": "markdown",
   "id": "624b7770",
   "metadata": {},
   "source": [
    "### 119. Write a Python program to round a floating-point number to a specified number of decimal places. "
   ]
  },
  {
   "cell_type": "code",
   "execution_count": 92,
   "id": "179f8bbf",
   "metadata": {},
   "outputs": [],
   "source": [
    "# Input floating-point number\n",
    "number = 123.456789"
   ]
  },
  {
   "cell_type": "code",
   "execution_count": 93,
   "id": "667539fd",
   "metadata": {},
   "outputs": [],
   "source": [
    "# Specify the number of decimal places you want\n",
    "decimal_places = 2"
   ]
  },
  {
   "cell_type": "code",
   "execution_count": 94,
   "id": "6a260885",
   "metadata": {},
   "outputs": [],
   "source": [
    "# Round the number to the specified decimal places\n",
    "rounded_number = round(number, decimal_places)"
   ]
  },
  {
   "cell_type": "code",
   "execution_count": 95,
   "id": "e3198518",
   "metadata": {
    "scrolled": false
   },
   "outputs": [
    {
     "name": "stdout",
     "output_type": "stream",
     "text": [
      "Original number: 123.456789\n",
      "Rounded number to 2 decimal places: 123.46\n"
     ]
    }
   ],
   "source": [
    "# Print the rounded number\n",
    "print(f\"Original number: {number}\")\n",
    "print(f\"Rounded number to {decimal_places} decimal places: {rounded_number}\")"
   ]
  },
  {
   "cell_type": "markdown",
   "id": "960ed1fc",
   "metadata": {},
   "source": [
    "---"
   ]
  },
  {
   "cell_type": "markdown",
   "id": "8776f3cc",
   "metadata": {},
   "source": [
    "---"
   ]
  },
  {
   "cell_type": "markdown",
   "id": "71ce6c28",
   "metadata": {},
   "source": [
    "### 120. Write a Python program to format a specified string and limit the length of a string. "
   ]
  },
  {
   "cell_type": "code",
   "execution_count": 96,
   "id": "f80eabdd",
   "metadata": {},
   "outputs": [],
   "source": [
    "# Specify the original string\n",
    "original_string = \"This is a long string that we want to format and limit in length.\""
   ]
  },
  {
   "cell_type": "code",
   "execution_count": 97,
   "id": "5097dd19",
   "metadata": {},
   "outputs": [],
   "source": [
    "# Specify the maximum length for the formatted string\n",
    "max_length = 30"
   ]
  },
  {
   "cell_type": "code",
   "execution_count": 98,
   "id": "dc8889c3",
   "metadata": {},
   "outputs": [],
   "source": [
    "# Format and limit the length of the string\n",
    "formatted_string = original_string[:max_length]"
   ]
  },
  {
   "cell_type": "code",
   "execution_count": 99,
   "id": "68a411ba",
   "metadata": {
    "scrolled": true
   },
   "outputs": [
    {
     "name": "stdout",
     "output_type": "stream",
     "text": [
      "Original string:\n",
      "This is a long string that we want to format and limit in length.\n",
      "\n",
      "Formatted and limited string:\n",
      "This is a long string that we \n"
     ]
    }
   ],
   "source": [
    "# Print the formatted string\n",
    "print(\"Original string:\")\n",
    "print(original_string)\n",
    "print(\"\\nFormatted and limited string:\")\n",
    "print(formatted_string)"
   ]
  },
  {
   "cell_type": "markdown",
   "id": "dbd8fc0b",
   "metadata": {},
   "source": [
    "---"
   ]
  },
  {
   "cell_type": "markdown",
   "id": "d0a56ee2",
   "metadata": {},
   "source": [
    "---"
   ]
  },
  {
   "cell_type": "markdown",
   "id": "78dd1dc4",
   "metadata": {},
   "source": [
    "### 121. Write a Python program to determine if a variable is defined or not. "
   ]
  },
  {
   "cell_type": "code",
   "execution_count": 100,
   "id": "cc8c93f1",
   "metadata": {},
   "outputs": [],
   "source": [
    "# Check if a variable is defined\n",
    "def is_variable_defined(var_name):\n",
    "    try:\n",
    "        exec(var_name)\n",
    "        return True\n",
    "    except NameError:\n",
    "        return False"
   ]
  },
  {
   "cell_type": "markdown",
   "id": "c78dc0c2",
   "metadata": {},
   "source": [
    "The `is_variable_defined` function checks if a variable with a given name is defined. It uses the `exec()` function within a try block to try to execute the variable. If the variable is defined, it returns True. If a NameError is raised, it returns False, indicating that the variable is not defined."
   ]
  },
  {
   "cell_type": "code",
   "execution_count": 101,
   "id": "314e948c",
   "metadata": {},
   "outputs": [],
   "source": [
    "# Example variable\n",
    "my_variable = 42"
   ]
  },
  {
   "cell_type": "code",
   "execution_count": 102,
   "id": "bc88d976",
   "metadata": {},
   "outputs": [],
   "source": [
    "var_name_to_check = \"my_variable\""
   ]
  },
  {
   "cell_type": "code",
   "execution_count": 103,
   "id": "91d7c997",
   "metadata": {},
   "outputs": [
    {
     "name": "stdout",
     "output_type": "stream",
     "text": [
      "my_variable is defined.\n"
     ]
    }
   ],
   "source": [
    "if is_variable_defined(var_name_to_check):\n",
    "    print(f\"{var_name_to_check} is defined.\")\n",
    "else:\n",
    "    print(f\"{var_name_to_check} is not defined.\")"
   ]
  },
  {
   "cell_type": "code",
   "execution_count": 106,
   "id": "f57e1e12",
   "metadata": {},
   "outputs": [],
   "source": [
    "var_name_to_check = \"undefined_variable\""
   ]
  },
  {
   "cell_type": "code",
   "execution_count": 109,
   "id": "ae919810",
   "metadata": {
    "scrolled": true
   },
   "outputs": [
    {
     "name": "stdout",
     "output_type": "stream",
     "text": [
      "undefined_variable is not defined.\n"
     ]
    }
   ],
   "source": [
    "if is_variable_defined(var_name_to_check):\n",
    "    print(f\"{var_name_to_check} is defined.\")\n",
    "else:\n",
    "    print(f\"{var_name_to_check} is not defined.\")"
   ]
  },
  {
   "cell_type": "markdown",
   "id": "33b8fb7a",
   "metadata": {},
   "source": [
    "---"
   ]
  },
  {
   "cell_type": "markdown",
   "id": "58886dfe",
   "metadata": {},
   "source": [
    "---"
   ]
  },
  {
   "cell_type": "markdown",
   "id": "f52eb2c8",
   "metadata": {},
   "source": [
    "### 122. Write a Python program to empty a variable without destroying it. "
   ]
  },
  {
   "cell_type": "code",
   "execution_count": 7,
   "id": "32088f92",
   "metadata": {},
   "outputs": [],
   "source": [
    "# Initialize a variable\n",
    "my_variable = \"Hello!\""
   ]
  },
  {
   "cell_type": "code",
   "execution_count": 8,
   "id": "2c776d90",
   "metadata": {},
   "outputs": [],
   "source": [
    "# Empty the variable by asigning a new value None\n",
    "my_variable = None"
   ]
  },
  {
   "cell_type": "code",
   "execution_count": 9,
   "id": "b2bc5899",
   "metadata": {
    "scrolled": false
   },
   "outputs": [
    {
     "name": "stdout",
     "output_type": "stream",
     "text": [
      "None\n"
     ]
    }
   ],
   "source": [
    "print(my_variable)"
   ]
  },
  {
   "cell_type": "markdown",
   "id": "9622e9a3",
   "metadata": {},
   "source": [
    "---"
   ]
  },
  {
   "cell_type": "markdown",
   "id": "c8d60e65",
   "metadata": {},
   "source": [
    "---"
   ]
  },
  {
   "cell_type": "markdown",
   "id": "b07444a7",
   "metadata": {},
   "source": [
    "### 123. Write a Python program to determine the largest and smallest integers, longs, and floats. "
   ]
  },
  {
   "cell_type": "code",
   "execution_count": 11,
   "id": "e793525e",
   "metadata": {},
   "outputs": [],
   "source": [
    "import sys"
   ]
  },
  {
   "cell_type": "markdown",
   "id": "85e55f7c",
   "metadata": {},
   "source": [
    "> We use the sys module to access the constants `sys.maxsize` and `sys.float_info` to determine the largest and smallest integers and floats available on your platform."
   ]
  },
  {
   "cell_type": "code",
   "execution_count": 12,
   "id": "c47f1f35",
   "metadata": {},
   "outputs": [],
   "source": [
    "# Determine the largest and smallest integers\n",
    "largest_int = sys.maxsize\n",
    "smallest_int = -sys.maxsize - 1"
   ]
  },
  {
   "cell_type": "code",
   "execution_count": 14,
   "id": "096057d8",
   "metadata": {},
   "outputs": [
    {
     "name": "stdout",
     "output_type": "stream",
     "text": [
      "Largest int: 9223372036854775807\n",
      "Smallest int: -9223372036854775808\n"
     ]
    }
   ],
   "source": [
    "print(f\"Largest int: {largest_int}\")\n",
    "print(f\"Smallest int: {smallest_int}\")"
   ]
  },
  {
   "cell_type": "code",
   "execution_count": 17,
   "id": "30acaad7",
   "metadata": {},
   "outputs": [],
   "source": [
    "# Determine the largest and smallest floar\n",
    "largest_float = sys.float_info.max\n",
    "smallest_float = sys.float_info.min"
   ]
  },
  {
   "cell_type": "code",
   "execution_count": 19,
   "id": "56d9fa39",
   "metadata": {},
   "outputs": [
    {
     "name": "stdout",
     "output_type": "stream",
     "text": [
      "Largest float: 1.7976931348623157e+308\n",
      "Smallest float: 2.2250738585072014e-308\n"
     ]
    }
   ],
   "source": [
    "print(f\"Largest float: {largest_float}\")\n",
    "print(f\"Smallest float: {smallest_float}\")"
   ]
  },
  {
   "cell_type": "markdown",
   "id": "7aedf3b9",
   "metadata": {},
   "source": [
    "> For long integers, we check if the platform supports long integers by comparing sys.maxsize to the maximum value of a 32-bit integer. If it's greater, we calculate the largest and smallest long integers using the same pattern as for regular integers."
   ]
  },
  {
   "cell_type": "code",
   "execution_count": 20,
   "id": "57d5596a",
   "metadata": {},
   "outputs": [],
   "source": [
    "# Determine the largest and smallest long integers (if available)\n",
    "if sys.maxsize > 2**31 -1:\n",
    "    largest_long = sys.maxsize\n",
    "    smallest_long = -sys.maxsize - 1\n",
    "else:\n",
    "    largest_long = None\n",
    "    smallest_long = None"
   ]
  },
  {
   "cell_type": "code",
   "execution_count": 21,
   "id": "dddbc7c6",
   "metadata": {},
   "outputs": [
    {
     "name": "stdout",
     "output_type": "stream",
     "text": [
      "Largest long int: 9223372036854775807\n",
      "Smallest long int: -9223372036854775808\n"
     ]
    }
   ],
   "source": [
    "print(f\"Largest long int: {largest_long}\")\n",
    "print(f\"Smallest long int: {smallest_long}\")"
   ]
  },
  {
   "cell_type": "markdown",
   "id": "7a6dec3b",
   "metadata": {},
   "source": [
    "---"
   ]
  },
  {
   "cell_type": "markdown",
   "id": "3c8a54a3",
   "metadata": {},
   "source": [
    "---"
   ]
  },
  {
   "cell_type": "markdown",
   "id": "91e8507e",
   "metadata": {},
   "source": [
    "### 124. Write a Python program to check whether multiple variables have the same value. "
   ]
  },
  {
   "cell_type": "code",
   "execution_count": 22,
   "id": "e0e096a1",
   "metadata": {},
   "outputs": [],
   "source": [
    "a = 10\n",
    "b = 10\n",
    "c = 10"
   ]
  },
  {
   "cell_type": "code",
   "execution_count": null,
   "id": "d93c4003",
   "metadata": {},
   "outputs": [],
   "source": [
    "if a == b == c:\n",
    "    print(f\"{a}, {b}, {c}, are the \")"
   ]
  }
 ],
 "metadata": {
  "kernelspec": {
   "display_name": "Python 3",
   "language": "python",
   "name": "python3"
  },
  "language_info": {
   "codemirror_mode": {
    "name": "ipython",
    "version": 3
   },
   "file_extension": ".py",
   "mimetype": "text/x-python",
   "name": "python",
   "nbconvert_exporter": "python",
   "pygments_lexer": "ipython3",
   "version": "3.8.8"
  }
 },
 "nbformat": 4,
 "nbformat_minor": 5
}

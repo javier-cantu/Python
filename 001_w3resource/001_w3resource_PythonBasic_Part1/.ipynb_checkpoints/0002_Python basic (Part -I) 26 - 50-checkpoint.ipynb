{
 "cells": [
  {
   "cell_type": "markdown",
   "id": "c3ab4db8",
   "metadata": {},
   "source": [
    "# 0002_Python basic (Part -I) 1 - 25.ipynb"
   ]
  },
  {
   "cell_type": "markdown",
   "id": "f03a0ce0",
   "metadata": {},
   "source": [
    "---"
   ]
  },
  {
   "cell_type": "markdown",
   "id": "9a49922b",
   "metadata": {},
   "source": [
    "### 26. Write a Python program to create a histogram from a given list of integers. "
   ]
  },
  {
   "cell_type": "code",
   "execution_count": null,
   "id": "d3956859",
   "metadata": {},
   "outputs": [],
   "source": [
    "def create_histogram(numbers):\n",
    "    for i in numbers:\n",
    "        output = ''\n",
    "        times = i\n",
    "        \n",
    "        while(times > 0):\n",
    "            output += '*'\n",
    "            times = times - 1\n",
    "        print(output)\n",
    "    "
   ]
  },
  {
   "cell_type": "code",
   "execution_count": null,
   "id": "a4eae674",
   "metadata": {
    "scrolled": true
   },
   "outputs": [],
   "source": [
    "create_histogram([1,2,3,4,5,4,3,2,1])"
   ]
  },
  {
   "cell_type": "markdown",
   "id": "e0ab52fa",
   "metadata": {},
   "source": [
    "---"
   ]
  },
  {
   "cell_type": "markdown",
   "id": "690f9a85",
   "metadata": {},
   "source": [
    "---"
   ]
  },
  {
   "cell_type": "markdown",
   "id": "a5d3fcab",
   "metadata": {},
   "source": [
    "### 27. Write a Python program that concatenates all elements in a list into a string and returns it. "
   ]
  },
  {
   "cell_type": "code",
   "execution_count": null,
   "id": "035aaf51",
   "metadata": {},
   "outputs": [],
   "source": [
    "def concatenate_list_elements(list):\n",
    "    result = ''\n",
    "    for element in list:\n",
    "        result = result + str(element)\n",
    "    return(result)"
   ]
  },
  {
   "cell_type": "code",
   "execution_count": null,
   "id": "22db3234",
   "metadata": {
    "scrolled": true
   },
   "outputs": [],
   "source": [
    "print(concatenate_list_elements([1,'a',2,'b',3,'c',4,'d']))"
   ]
  },
  {
   "cell_type": "markdown",
   "id": "e752a4dd",
   "metadata": {},
   "source": [
    "---"
   ]
  },
  {
   "cell_type": "markdown",
   "id": "d8612200",
   "metadata": {},
   "source": [
    "---"
   ]
  },
  {
   "cell_type": "markdown",
   "id": "23ee5f9f",
   "metadata": {},
   "source": [
    "### 28. Write a Python program to print all even numbers from a given list of numbers in the same order and stop printing any after 237 in the sequence. "
   ]
  },
  {
   "cell_type": "code",
   "execution_count": null,
   "id": "b7825a32",
   "metadata": {},
   "outputs": [],
   "source": [
    "def print_even_237(numbers):\n",
    "    for x in numbers:\n",
    "        if x == 237:\n",
    "            print(x)\n",
    "            break;\n",
    "        elif x % 2 == 0:\n",
    "            print(x)"
   ]
  },
  {
   "cell_type": "code",
   "execution_count": null,
   "id": "169a7983",
   "metadata": {
    "scrolled": true
   },
   "outputs": [],
   "source": [
    "print_even_237([    \n",
    "    386, 462, 47, 418, 907, 344, 236, 375, 823, 566, 597, 978, 328, 615, 953, 345, \n",
    "    399, 162, 758, 219, 918, 237, 412, 566, 826, 248, 866, 950, 626, 949, 687, 217, \n",
    "    815, 67, 104, 58, 512, 24, 892, 894, 767, 553, 81, 379, 843, 831, 445, 742, 717, \n",
    "    958,743, 527\n",
    "    ])"
   ]
  },
  {
   "cell_type": "markdown",
   "id": "e9634371",
   "metadata": {},
   "source": [
    "---"
   ]
  },
  {
   "cell_type": "markdown",
   "id": "96e258bb",
   "metadata": {},
   "source": [
    "Importar modulo random porque quiero generar una lista nueva. "
   ]
  },
  {
   "cell_type": "code",
   "execution_count": null,
   "id": "8374308d",
   "metadata": {},
   "outputs": [],
   "source": [
    "import random"
   ]
  },
  {
   "cell_type": "markdown",
   "id": "874a154a",
   "metadata": {},
   "source": [
    "Crear una lista de 100 items"
   ]
  },
  {
   "cell_type": "code",
   "execution_count": null,
   "id": "1799d01a",
   "metadata": {},
   "outputs": [],
   "source": [
    "list_random_n = [random.randint(1, 300) for i in range(100)]"
   ]
  },
  {
   "cell_type": "markdown",
   "id": "a33e849b",
   "metadata": {},
   "source": [
    "seleccionar un item random del 1 al 100"
   ]
  },
  {
   "cell_type": "code",
   "execution_count": null,
   "id": "c1724485",
   "metadata": {},
   "outputs": [],
   "source": [
    "random_item = random.randint(1, 100)\n",
    "print(random_item)"
   ]
  },
  {
   "cell_type": "markdown",
   "id": "50524751",
   "metadata": {},
   "source": [
    "Convertir ese item random en 237"
   ]
  },
  {
   "cell_type": "code",
   "execution_count": null,
   "id": "cdafede2",
   "metadata": {},
   "outputs": [],
   "source": [
    "list_random_n[random_item] = 237"
   ]
  },
  {
   "cell_type": "markdown",
   "id": "e66cbe6f",
   "metadata": {},
   "source": [
    "Ejecutar la funcion print_even_237()"
   ]
  },
  {
   "cell_type": "code",
   "execution_count": null,
   "id": "3dda2503",
   "metadata": {
    "scrolled": true
   },
   "outputs": [],
   "source": [
    "print_even_237(list_random_n)"
   ]
  },
  {
   "cell_type": "markdown",
   "id": "cbf2df04",
   "metadata": {},
   "source": [
    "---"
   ]
  },
  {
   "cell_type": "markdown",
   "id": "b4e4a8c6",
   "metadata": {},
   "source": [
    "---"
   ]
  },
  {
   "cell_type": "markdown",
   "id": "51b28962",
   "metadata": {},
   "source": [
    "### 29. Write a Python program that prints out all colors from color_list_1 that are not present in color_list_2. "
   ]
  },
  {
   "cell_type": "code",
   "execution_count": null,
   "id": "e679525a",
   "metadata": {},
   "outputs": [],
   "source": [
    "color_list_1 = set([\"White\", \"Black\", \"Red\", \"Yellow\", \"Olive\"])"
   ]
  },
  {
   "cell_type": "code",
   "execution_count": null,
   "id": "463c97c2",
   "metadata": {},
   "outputs": [],
   "source": [
    "color_list_2 = set([\"Red\", \"Green\", \"Blue\", \"Yellow\"])"
   ]
  },
  {
   "cell_type": "markdown",
   "id": "00ec7c8a",
   "metadata": {},
   "source": [
    "La expresión `color_list_1.difference(color_list_2)` en Python se utiliza para calcular la diferencia entre dos conjuntos (color_list_1 y color_list_2). Esta expresión devuelve un nuevo conjunto que contiene todos los elementos que están en color_list_1 pero no en color_list_2"
   ]
  },
  {
   "cell_type": "code",
   "execution_count": null,
   "id": "77f930e2",
   "metadata": {
    "scrolled": true
   },
   "outputs": [],
   "source": [
    "print(color_list_1.difference(color_list_2))"
   ]
  },
  {
   "cell_type": "code",
   "execution_count": null,
   "id": "44911696",
   "metadata": {},
   "outputs": [],
   "source": [
    "print(color_list_2.difference(color_list_1))"
   ]
  },
  {
   "cell_type": "markdown",
   "id": "06d75e09",
   "metadata": {},
   "source": [
    "---"
   ]
  },
  {
   "cell_type": "markdown",
   "id": "df1ee521",
   "metadata": {},
   "source": [
    "---"
   ]
  },
  {
   "cell_type": "markdown",
   "id": "43e97ca5",
   "metadata": {},
   "source": [
    "### 30. Write a Python program that will accept the base and height of a triangle and compute its area. "
   ]
  },
  {
   "cell_type": "code",
   "execution_count": null,
   "id": "df918510",
   "metadata": {},
   "outputs": [],
   "source": [
    "b = int(input(\"Input the base : \"))"
   ]
  },
  {
   "cell_type": "code",
   "execution_count": null,
   "id": "6ea13f65",
   "metadata": {},
   "outputs": [],
   "source": [
    "h = int(input(\"Input the height : \"))"
   ]
  },
  {
   "cell_type": "code",
   "execution_count": null,
   "id": "6d53be45",
   "metadata": {},
   "outputs": [],
   "source": [
    "area = b*h/2"
   ]
  },
  {
   "cell_type": "code",
   "execution_count": null,
   "id": "5741ebc1",
   "metadata": {},
   "outputs": [],
   "source": [
    "print(\"area = \", area)"
   ]
  },
  {
   "cell_type": "markdown",
   "id": "f331a33c",
   "metadata": {},
   "source": [
    "---"
   ]
  },
  {
   "cell_type": "markdown",
   "id": "d9addee0",
   "metadata": {},
   "source": [
    "---"
   ]
  },
  {
   "cell_type": "markdown",
   "id": "b0e8ae32",
   "metadata": {},
   "source": [
    "### 31. Write a Python program that computes the greatest common divisor (GCD) of two positive integers. "
   ]
  },
  {
   "cell_type": "markdown",
   "id": "a4a29091",
   "metadata": {},
   "source": [
    "`def gcd(num1, num2):` Aquí se define una función llamada gcd que toma dos argumentos, num1 y num2. Estos argumentos representarán los dos números para los cuales deseas calcular el GCD.\n",
    "\n",
    "`while num2:` Esto inicia un bucle while que continuará ejecutándose mientras num2 sea distinto de cero. En otras palabras, el bucle se ejecutará hasta que num2 sea igual a cero.\n",
    "\n",
    "`num1, num2 = num2, num1 % num2`: En cada iteración del bucle, se realiza una actualización de los valores de num1 y num2. Estas variables se actualizan de manera que num1 toma el valor de num2, y num2 toma el valor del residuo de la división de num1 entre num2. Esto es una implementación del algoritmo de Euclides para calcular el GCD. El bucle continúa hasta que num2 se convierte en cero, momento en el que num1 contiene el GCD calculado.\n",
    "\n",
    "`return num1`: Finalmente, la función devuelve el valor de num1, que es el GCD calculado de num1 y num2."
   ]
  },
  {
   "cell_type": "code",
   "execution_count": 1,
   "id": "860b9371",
   "metadata": {},
   "outputs": [],
   "source": [
    "# Function to calculate GCD using the Euclidean algorithm\n",
    "def gcd(num1, num2):\n",
    "    while num2:\n",
    "        num1, num2 = num2, num1 % num2\n",
    "    return num1"
   ]
  },
  {
   "cell_type": "code",
   "execution_count": 2,
   "id": "0db8de70",
   "metadata": {},
   "outputs": [
    {
     "name": "stdout",
     "output_type": "stream",
     "text": [
      "Enter the first positive integer: 12\n"
     ]
    }
   ],
   "source": [
    "num1 = int(input(\"Enter the first positive integer: \"))"
   ]
  },
  {
   "cell_type": "code",
   "execution_count": 3,
   "id": "1e16a2d5",
   "metadata": {},
   "outputs": [
    {
     "name": "stdout",
     "output_type": "stream",
     "text": [
      "Enter the second positive integer: 8\n"
     ]
    }
   ],
   "source": [
    "num2 = int(input(\"Enter the second positive integer: \"))"
   ]
  },
  {
   "cell_type": "code",
   "execution_count": 4,
   "id": "d33cb7c9",
   "metadata": {},
   "outputs": [],
   "source": [
    "# Compute the GCD using the gcd() function\n",
    "result = gcd(num1, num2)"
   ]
  },
  {
   "cell_type": "code",
   "execution_count": 5,
   "id": "53664abb",
   "metadata": {},
   "outputs": [
    {
     "name": "stdout",
     "output_type": "stream",
     "text": [
      "The GDC of 12 and 8 is 4\n"
     ]
    }
   ],
   "source": [
    "print(f\"The GDC of {num1} and {num2} is {result}\")"
   ]
  },
  {
   "cell_type": "markdown",
   "id": "5f0a8aec",
   "metadata": {},
   "source": [
    "#### Otra forma de hacerlo es importando el modulo math para usar su funcion gcd"
   ]
  },
  {
   "cell_type": "code",
   "execution_count": 6,
   "id": "ebac43e0",
   "metadata": {},
   "outputs": [],
   "source": [
    "import math"
   ]
  },
  {
   "cell_type": "code",
   "execution_count": 7,
   "id": "f541aeb3",
   "metadata": {},
   "outputs": [],
   "source": [
    "gcd_result = math.gcd(12, 8)"
   ]
  },
  {
   "cell_type": "code",
   "execution_count": 8,
   "id": "b31528b7",
   "metadata": {},
   "outputs": [
    {
     "name": "stdout",
     "output_type": "stream",
     "text": [
      "4\n"
     ]
    }
   ],
   "source": [
    "print(gcd_result)"
   ]
  },
  {
   "cell_type": "markdown",
   "id": "23908f20",
   "metadata": {},
   "source": [
    "---"
   ]
  },
  {
   "cell_type": "markdown",
   "id": "c1ac2797",
   "metadata": {},
   "source": [
    "---"
   ]
  },
  {
   "cell_type": "markdown",
   "id": "4e70bea0",
   "metadata": {},
   "source": [
    "### 32. Write a Python program to find the least common multiple (LCM) of two positive integers. "
   ]
  },
  {
   "cell_type": "markdown",
   "id": "52d8e7cb",
   "metadata": {},
   "source": [
    "First, the function (lcm1) determines which number is larger and assigns that value to a variable named \"z\". It then enters a loop that continues indefinitely (while(True)) until the LCM is found.\n",
    "\n",
    "Inside the loop, the code checks if the current value of \"z\" is divisible by both \"x\" and \"y\" `(if((z % x == 0) and (z % y == 0)))`. If it is true then the LCM is assigned to the variable \"lcm\" and the loop is broken. Otherwise, the value of \"z\" is incremented by 1 and the check is repeated. "
   ]
  },
  {
   "cell_type": "code",
   "execution_count": 16,
   "id": "c9a1370d",
   "metadata": {},
   "outputs": [],
   "source": [
    "def lcm1(x, y):\n",
    "    if x > y:\n",
    "        z = x\n",
    "    else:\n",
    "        z = y\n",
    "    while(True):\n",
    "        if((z % x == 0) and (z % y == 0)):\n",
    "            lcm = z\n",
    "            break\n",
    "        z += 1\n",
    "    return(lcm)"
   ]
  },
  {
   "cell_type": "code",
   "execution_count": 17,
   "id": "50961160",
   "metadata": {},
   "outputs": [
    {
     "name": "stdout",
     "output_type": "stream",
     "text": [
      "12\n"
     ]
    }
   ],
   "source": [
    "print(lcm1(4, 6))"
   ]
  },
  {
   "cell_type": "markdown",
   "id": "08277245",
   "metadata": {},
   "source": [
    "#### Otra forma es usando el modulo y usar la funcion (gcd)"
   ]
  },
  {
   "cell_type": "code",
   "execution_count": 18,
   "id": "002b9ac9",
   "metadata": {},
   "outputs": [],
   "source": [
    "import math"
   ]
  },
  {
   "cell_type": "code",
   "execution_count": 19,
   "id": "7eaab1dc",
   "metadata": {},
   "outputs": [],
   "source": [
    "def lcm2(a, b):\n",
    "    return abs(a*b) // math.gcd(a, b)"
   ]
  },
  {
   "cell_type": "code",
   "execution_count": 20,
   "id": "cbae59cc",
   "metadata": {},
   "outputs": [
    {
     "name": "stdout",
     "output_type": "stream",
     "text": [
      "12\n"
     ]
    }
   ],
   "source": [
    "print(lcm2(4, 6))"
   ]
  },
  {
   "cell_type": "markdown",
   "id": "c11d9643",
   "metadata": {},
   "source": [
    "---"
   ]
  },
  {
   "cell_type": "markdown",
   "id": "9e67df75",
   "metadata": {},
   "source": [
    "---"
   ]
  },
  {
   "cell_type": "markdown",
   "id": "924e0360",
   "metadata": {},
   "source": [
    "### 33. Write a Python program to sum three given integers. However, if two values are equal, the sum will be zero. "
   ]
  },
  {
   "cell_type": "code",
   "execution_count": 21,
   "id": "0fe309fc",
   "metadata": {},
   "outputs": [],
   "source": [
    "def sum3int(x, y):\n",
    "    sum = x + y\n",
    "    if sum in range(15, 20):\n",
    "        return 20\n",
    "    else:\n",
    "        return sum"
   ]
  },
  {
   "cell_type": "code",
   "execution_count": 30,
   "id": "efa3bf42",
   "metadata": {},
   "outputs": [
    {
     "name": "stdout",
     "output_type": "stream",
     "text": [
      "10\n"
     ]
    }
   ],
   "source": [
    "print(sum3int(5, 5))"
   ]
  },
  {
   "cell_type": "code",
   "execution_count": 31,
   "id": "728e3109",
   "metadata": {},
   "outputs": [
    {
     "name": "stdout",
     "output_type": "stream",
     "text": [
      "20\n"
     ]
    }
   ],
   "source": [
    "print(sum3int(10, 5))"
   ]
  },
  {
   "cell_type": "code",
   "execution_count": 32,
   "id": "51a23f04",
   "metadata": {},
   "outputs": [
    {
     "name": "stdout",
     "output_type": "stream",
     "text": [
      "20\n"
     ]
    }
   ],
   "source": [
    "print(sum3int(10, 10))"
   ]
  },
  {
   "cell_type": "code",
   "execution_count": 33,
   "id": "5612df7d",
   "metadata": {},
   "outputs": [
    {
     "name": "stdout",
     "output_type": "stream",
     "text": [
      "50\n"
     ]
    }
   ],
   "source": [
    "print(sum3int(20, 30))"
   ]
  },
  {
   "cell_type": "markdown",
   "id": "81689cb8",
   "metadata": {},
   "source": [
    "---"
   ]
  },
  {
   "cell_type": "markdown",
   "id": "e600ba5b",
   "metadata": {},
   "source": [
    "---"
   ]
  },
  {
   "cell_type": "markdown",
   "id": "76533f88",
   "metadata": {},
   "source": [
    "### 35. Write a Python program that returns true if the two given integer values are equal or their sum or difference is 5. "
   ]
  },
  {
   "cell_type": "markdown",
   "id": "d52bb8fd",
   "metadata": {},
   "source": [
    "Regresa True cuando:\n",
    "- Los 2 numeros dados son iguales\n",
    "- La suma de los 2 numeros es 5\n",
    "- La diferencia entre los 2 numeros es 5"
   ]
  },
  {
   "cell_type": "code",
   "execution_count": 34,
   "id": "154bf196",
   "metadata": {},
   "outputs": [],
   "source": [
    "def test_number5(x, y):\n",
    "    if x == y or abs(x-y) == 5 or (x+y) == 5:\n",
    "        return True\n",
    "    else:\n",
    "        return False"
   ]
  },
  {
   "cell_type": "code",
   "execution_count": 37,
   "id": "9648919a",
   "metadata": {},
   "outputs": [
    {
     "name": "stdout",
     "output_type": "stream",
     "text": [
      "True\n"
     ]
    }
   ],
   "source": [
    "print(test_number5(3, 3))"
   ]
  },
  {
   "cell_type": "code",
   "execution_count": 38,
   "id": "7fcc70f3",
   "metadata": {},
   "outputs": [
    {
     "name": "stdout",
     "output_type": "stream",
     "text": [
      "True\n"
     ]
    }
   ],
   "source": [
    "print(test_number5(3, 2))"
   ]
  },
  {
   "cell_type": "code",
   "execution_count": 39,
   "id": "9255334d",
   "metadata": {},
   "outputs": [
    {
     "name": "stdout",
     "output_type": "stream",
     "text": [
      "True\n"
     ]
    }
   ],
   "source": [
    "print(test_number5(10, 5))"
   ]
  },
  {
   "cell_type": "code",
   "execution_count": 40,
   "id": "a9ab519a",
   "metadata": {},
   "outputs": [
    {
     "name": "stdout",
     "output_type": "stream",
     "text": [
      "False\n"
     ]
    }
   ],
   "source": [
    "print(test_number5(25, 5))"
   ]
  },
  {
   "cell_type": "markdown",
   "id": "624e8817",
   "metadata": {},
   "source": [
    "---"
   ]
  },
  {
   "cell_type": "markdown",
   "id": "293fdec2",
   "metadata": {},
   "source": [
    "---"
   ]
  },
  {
   "cell_type": "markdown",
   "id": "b2440a85",
   "metadata": {},
   "source": [
    "### 36. Write a Python program to add two objects if both objects are integers."
   ]
  },
  {
   "cell_type": "markdown",
   "id": "a35eb6ac",
   "metadata": {},
   "source": [
    "The isinstance() function returns True if the specified object is of the specified type, otherwise False."
   ]
  },
  {
   "cell_type": "code",
   "execution_count": 55,
   "id": "6689644c",
   "metadata": {},
   "outputs": [],
   "source": [
    "def add_objects(obj1, obj2):\n",
    "    if isinstance(obj1, int) and isinstance(obj2, int):\n",
    "        result = obj1 + obj2\n",
    "        print(f\"The sum of {obj1} and {obj2} is {result}\")\n",
    "    else:\n",
    "        print(\"Both objects are not integers\")"
   ]
  },
  {
   "cell_type": "code",
   "execution_count": 56,
   "id": "4e8b158a",
   "metadata": {},
   "outputs": [
    {
     "name": "stdout",
     "output_type": "stream",
     "text": [
      "The sum of 5 and 3 is 8\n"
     ]
    }
   ],
   "source": [
    "add_objects(5, 3)"
   ]
  },
  {
   "cell_type": "code",
   "execution_count": 57,
   "id": "b9972d62",
   "metadata": {},
   "outputs": [
    {
     "name": "stdout",
     "output_type": "stream",
     "text": [
      "Both objects are not integers\n"
     ]
    }
   ],
   "source": [
    "add_objects(5, '3')"
   ]
  },
  {
   "cell_type": "markdown",
   "id": "6419a8ef",
   "metadata": {},
   "source": [
    "---"
   ]
  },
  {
   "cell_type": "markdown",
   "id": "be7176c5",
   "metadata": {},
   "source": [
    "---"
   ]
  },
  {
   "cell_type": "markdown",
   "id": "1fe25763",
   "metadata": {},
   "source": [
    "### 37. Write a Python program that displays your name, age, and address on three different lines. "
   ]
  },
  {
   "cell_type": "code",
   "execution_count": 58,
   "id": "7ba22ecd",
   "metadata": {},
   "outputs": [],
   "source": [
    "name = \"Javier\""
   ]
  },
  {
   "cell_type": "code",
   "execution_count": 61,
   "id": "b761166e",
   "metadata": {},
   "outputs": [],
   "source": [
    "age = 36"
   ]
  },
  {
   "cell_type": "code",
   "execution_count": 62,
   "id": "7ee3014d",
   "metadata": {},
   "outputs": [],
   "source": [
    "address = \"Mexico, State, City, Street, Number\""
   ]
  },
  {
   "cell_type": "code",
   "execution_count": 63,
   "id": "b856a7c9",
   "metadata": {},
   "outputs": [
    {
     "name": "stdout",
     "output_type": "stream",
     "text": [
      "Name: Javier\n",
      "Age: 36\n",
      "Address: Mexico, State, City, Street, Number\n"
     ]
    }
   ],
   "source": [
    "print(f\"Name: {name}\\nAge: {age}\\nAddress: {address}\")"
   ]
  },
  {
   "cell_type": "markdown",
   "id": "0c121831",
   "metadata": {},
   "source": [
    "---"
   ]
  },
  {
   "cell_type": "markdown",
   "id": "8ef98e12",
   "metadata": {},
   "source": [
    "---"
   ]
  },
  {
   "cell_type": "markdown",
   "id": "d2722c23",
   "metadata": {},
   "source": [
    "### 38. Write a Python program to solve (x + y) * (x + y). "
   ]
  },
  {
   "cell_type": "code",
   "execution_count": 67,
   "id": "1e3832f2",
   "metadata": {},
   "outputs": [],
   "source": [
    "def xpytcpy(x, y):\n",
    "    result = ((x+y)*(x+y))\n",
    "    print(f\"({x} + {y})*({x} + {y}) is ({x+y} * {x+y}) = {result}\")"
   ]
  },
  {
   "cell_type": "code",
   "execution_count": 68,
   "id": "48085857",
   "metadata": {
    "scrolled": true
   },
   "outputs": [
    {
     "name": "stdout",
     "output_type": "stream",
     "text": [
      "(4 + 3)*(4 + 3) is (7 * 7) = 49\n"
     ]
    }
   ],
   "source": [
    "xpytcpy(4, 3)"
   ]
  },
  {
   "cell_type": "code",
   "execution_count": 69,
   "id": "b2e4104a",
   "metadata": {},
   "outputs": [
    {
     "name": "stdout",
     "output_type": "stream",
     "text": [
      "(6 + 8)*(6 + 8) is (14 * 14) = 196\n"
     ]
    }
   ],
   "source": [
    "xpytcpy(6, 8)"
   ]
  },
  {
   "cell_type": "markdown",
   "id": "df594264",
   "metadata": {},
   "source": [
    "---"
   ]
  },
  {
   "cell_type": "markdown",
   "id": "9db9a855",
   "metadata": {},
   "source": [
    "---"
   ]
  },
  {
   "cell_type": "markdown",
   "id": "6a483c8f",
   "metadata": {},
   "source": [
    "### 39. Write a Python program to compute the future value of a specified principal amount, rate of interest, and number of years. "
   ]
  },
  {
   "cell_type": "markdown",
   "id": "eae50a63",
   "metadata": {},
   "source": [
    "Write a Python program to compute the future value of a specified principal amount, rate of interest, and number of years.\n",
    "\n",
    "The formula for future value with compound interest is `FV = P(1 + r/n)^nt`.\n",
    "- FV = the future value;\n",
    "- P = the principal;\n",
    "- r = the annual interest rate expressed as a decimal;\n",
    "- n = the number of times interest is paid each year;\n",
    "- t = time in years."
   ]
  },
  {
   "cell_type": "markdown",
   "id": "49afe381",
   "metadata": {},
   "source": [
    "Test Data: \n",
    "- amt = 10000\n",
    "- int = 3.5, \n",
    "- years = 7\n",
    "- Expected Output: 12722.79"
   ]
  },
  {
   "cell_type": "code",
   "execution_count": 87,
   "id": "c18ec757",
   "metadata": {},
   "outputs": [],
   "source": [
    "def fut_value_pa(amt, inter, y):\n",
    "    result = amt*(1 + (inter*0.01))**y\n",
    "    print(result)\n",
    "    print(f\"\\nThe Future Value of {amt}\\nWith an annual interest rate of {inter}%\\nDuring {y} years\\nIs FV = {result}\")"
   ]
  },
  {
   "cell_type": "code",
   "execution_count": 88,
   "id": "a3344f23",
   "metadata": {},
   "outputs": [
    {
     "name": "stdout",
     "output_type": "stream",
     "text": [
      "12722.792627665729\n",
      "\n",
      "The Future Value of 10000\n",
      "With an annual interest rate of 3.5%\n",
      "During 7 years\n",
      "Is FV = 12722.792627665729\n"
     ]
    }
   ],
   "source": [
    "fut_value_pa(10000, 3.5, 7)"
   ]
  },
  {
   "cell_type": "markdown",
   "id": "842cda67",
   "metadata": {},
   "source": [
    "---"
   ]
  },
  {
   "cell_type": "markdown",
   "id": "f5ecd766",
   "metadata": {},
   "source": [
    "---"
   ]
  },
  {
   "cell_type": "markdown",
   "id": "6ed005f4",
   "metadata": {},
   "source": [
    "### 40. Write a Python program to calculate the distance between the points (x1, y1) and (x2, y2). "
   ]
  },
  {
   "cell_type": "markdown",
   "id": "2e07a9fc",
   "metadata": {},
   "source": [
    "Importamos el modulo math para poder sacar la raiz cuadrada. "
   ]
  },
  {
   "cell_type": "code",
   "execution_count": 89,
   "id": "dd87910a",
   "metadata": {},
   "outputs": [],
   "source": [
    "import math"
   ]
  },
  {
   "cell_type": "code",
   "execution_count": 102,
   "id": "5cae50ca",
   "metadata": {},
   "outputs": [],
   "source": [
    "def calc_dist_2points(x1, y1, x2, y2):\n",
    "    result = math.sqrt((x2 - x1)**2 + (y2 - y1)**2)\n",
    "    print(f\"The distance between ({x1},{y1}) and ({x2},{y2}) is: {result}\")"
   ]
  },
  {
   "cell_type": "code",
   "execution_count": 103,
   "id": "9b91f427",
   "metadata": {},
   "outputs": [
    {
     "name": "stdout",
     "output_type": "stream",
     "text": [
      "The distance between (4,0) and (6,6) is: 6.324555320336759\n"
     ]
    }
   ],
   "source": [
    "calc_dist_2points(4, 0, 6, 6)"
   ]
  },
  {
   "cell_type": "markdown",
   "id": "e6d71f39",
   "metadata": {},
   "source": [
    "---"
   ]
  },
  {
   "cell_type": "code",
   "execution_count": null,
   "id": "ac28ab6e",
   "metadata": {},
   "outputs": [],
   "source": []
  },
  {
   "cell_type": "markdown",
   "id": "47bf1b93",
   "metadata": {},
   "source": [
    "---"
   ]
  }
 ],
 "metadata": {
  "kernelspec": {
   "display_name": "Python 3",
   "language": "python",
   "name": "python3"
  },
  "language_info": {
   "codemirror_mode": {
    "name": "ipython",
    "version": 3
   },
   "file_extension": ".py",
   "mimetype": "text/x-python",
   "name": "python",
   "nbconvert_exporter": "python",
   "pygments_lexer": "ipython3",
   "version": "3.8.8"
  }
 },
 "nbformat": 4,
 "nbformat_minor": 5
}

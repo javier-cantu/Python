{
 "cells": [
  {
   "cell_type": "markdown",
   "id": "c3ab4db8",
   "metadata": {},
   "source": [
    "# 0002_Python basic (Part -I) 26 - 50.ipynb"
   ]
  },
  {
   "cell_type": "markdown",
   "id": "f03a0ce0",
   "metadata": {},
   "source": [
    "---"
   ]
  },
  {
   "cell_type": "markdown",
   "id": "9a49922b",
   "metadata": {},
   "source": [
    "### 26. Write a Python program to create a histogram from a given list of integers. "
   ]
  },
  {
   "cell_type": "code",
   "execution_count": 1,
   "id": "d3956859",
   "metadata": {},
   "outputs": [],
   "source": [
    "def create_histogram(numbers):\n",
    "    for i in numbers:\n",
    "        output = ''\n",
    "        times = i\n",
    "        \n",
    "        while(times > 0):\n",
    "            output += '*'\n",
    "            times = times - 1\n",
    "        print(output)\n",
    "    "
   ]
  },
  {
   "cell_type": "code",
   "execution_count": 2,
   "id": "a4eae674",
   "metadata": {
    "scrolled": true
   },
   "outputs": [
    {
     "name": "stdout",
     "output_type": "stream",
     "text": [
      "*\n",
      "**\n",
      "***\n",
      "****\n",
      "*****\n",
      "****\n",
      "***\n",
      "**\n",
      "*\n"
     ]
    }
   ],
   "source": [
    "create_histogram([1,2,3,4,5,4,3,2,1])"
   ]
  },
  {
   "cell_type": "markdown",
   "id": "e0ab52fa",
   "metadata": {},
   "source": [
    "---"
   ]
  },
  {
   "cell_type": "markdown",
   "id": "690f9a85",
   "metadata": {},
   "source": [
    "---"
   ]
  },
  {
   "cell_type": "markdown",
   "id": "a5d3fcab",
   "metadata": {},
   "source": [
    "### 27. Write a Python program that concatenates all elements in a list into a string and returns it. "
   ]
  },
  {
   "cell_type": "code",
   "execution_count": 3,
   "id": "035aaf51",
   "metadata": {},
   "outputs": [],
   "source": [
    "def concatenate_list_elements(list):\n",
    "    result = ''\n",
    "    for element in list:\n",
    "        result = result + str(element)\n",
    "    return(result)"
   ]
  },
  {
   "cell_type": "code",
   "execution_count": 4,
   "id": "22db3234",
   "metadata": {
    "scrolled": true
   },
   "outputs": [
    {
     "name": "stdout",
     "output_type": "stream",
     "text": [
      "1a2b3c4d\n"
     ]
    }
   ],
   "source": [
    "print(concatenate_list_elements([1,'a',2,'b',3,'c',4,'d']))"
   ]
  },
  {
   "cell_type": "markdown",
   "id": "e752a4dd",
   "metadata": {},
   "source": [
    "---"
   ]
  },
  {
   "cell_type": "markdown",
   "id": "d8612200",
   "metadata": {},
   "source": [
    "---"
   ]
  },
  {
   "cell_type": "markdown",
   "id": "23ee5f9f",
   "metadata": {},
   "source": [
    "### 28. Write a Python program to print all even numbers from a given list of numbers in the same order and stop printing any after 237 in the sequence. "
   ]
  },
  {
   "cell_type": "code",
   "execution_count": 5,
   "id": "b7825a32",
   "metadata": {},
   "outputs": [],
   "source": [
    "def print_even_237(numbers):\n",
    "    for x in numbers:\n",
    "        if x == 237:\n",
    "            print(x)\n",
    "            break;\n",
    "        elif x % 2 == 0:\n",
    "            print(x)"
   ]
  },
  {
   "cell_type": "code",
   "execution_count": 6,
   "id": "169a7983",
   "metadata": {
    "scrolled": true
   },
   "outputs": [
    {
     "name": "stdout",
     "output_type": "stream",
     "text": [
      "386\n",
      "462\n",
      "418\n",
      "344\n",
      "236\n",
      "566\n",
      "978\n",
      "328\n",
      "162\n",
      "758\n",
      "918\n",
      "237\n"
     ]
    }
   ],
   "source": [
    "print_even_237([    \n",
    "    386, 462, 47, 418, 907, 344, 236, 375, 823, 566, 597, 978, 328, 615, 953, 345, \n",
    "    399, 162, 758, 219, 918, 237, 412, 566, 826, 248, 866, 950, 626, 949, 687, 217, \n",
    "    815, 67, 104, 58, 512, 24, 892, 894, 767, 553, 81, 379, 843, 831, 445, 742, 717, \n",
    "    958,743, 527\n",
    "    ])"
   ]
  },
  {
   "cell_type": "markdown",
   "id": "e9634371",
   "metadata": {},
   "source": [
    "---"
   ]
  },
  {
   "cell_type": "markdown",
   "id": "96e258bb",
   "metadata": {},
   "source": [
    "Importar modulo random porque quiero generar una lista nueva. "
   ]
  },
  {
   "cell_type": "code",
   "execution_count": 7,
   "id": "8374308d",
   "metadata": {},
   "outputs": [],
   "source": [
    "import random"
   ]
  },
  {
   "cell_type": "markdown",
   "id": "874a154a",
   "metadata": {},
   "source": [
    "Crear una lista de 100 items"
   ]
  },
  {
   "cell_type": "code",
   "execution_count": 8,
   "id": "1799d01a",
   "metadata": {},
   "outputs": [],
   "source": [
    "list_random_n = [random.randint(1, 300) for i in range(100)]"
   ]
  },
  {
   "cell_type": "markdown",
   "id": "a33e849b",
   "metadata": {},
   "source": [
    "seleccionar un item random del 1 al 100"
   ]
  },
  {
   "cell_type": "code",
   "execution_count": 9,
   "id": "c1724485",
   "metadata": {},
   "outputs": [
    {
     "name": "stdout",
     "output_type": "stream",
     "text": [
      "46\n"
     ]
    }
   ],
   "source": [
    "random_item = random.randint(1, 100)\n",
    "print(random_item)"
   ]
  },
  {
   "cell_type": "markdown",
   "id": "50524751",
   "metadata": {},
   "source": [
    "Convertir ese item random en 237"
   ]
  },
  {
   "cell_type": "code",
   "execution_count": 10,
   "id": "cdafede2",
   "metadata": {},
   "outputs": [],
   "source": [
    "list_random_n[random_item] = 237"
   ]
  },
  {
   "cell_type": "markdown",
   "id": "e66cbe6f",
   "metadata": {},
   "source": [
    "Ejecutar la funcion print_even_237()"
   ]
  },
  {
   "cell_type": "code",
   "execution_count": 11,
   "id": "3dda2503",
   "metadata": {
    "scrolled": true
   },
   "outputs": [
    {
     "name": "stdout",
     "output_type": "stream",
     "text": [
      "208\n",
      "126\n",
      "42\n",
      "182\n",
      "232\n",
      "286\n",
      "58\n",
      "60\n",
      "244\n",
      "112\n",
      "86\n",
      "112\n",
      "66\n",
      "80\n",
      "292\n",
      "186\n",
      "106\n",
      "48\n",
      "146\n",
      "238\n",
      "72\n",
      "120\n",
      "106\n",
      "6\n",
      "146\n",
      "237\n"
     ]
    }
   ],
   "source": [
    "print_even_237(list_random_n)"
   ]
  },
  {
   "cell_type": "markdown",
   "id": "cbf2df04",
   "metadata": {},
   "source": [
    "---"
   ]
  },
  {
   "cell_type": "markdown",
   "id": "b4e4a8c6",
   "metadata": {},
   "source": [
    "---"
   ]
  },
  {
   "cell_type": "markdown",
   "id": "51b28962",
   "metadata": {},
   "source": [
    "### 29. Write a Python program that prints out all colors from color_list_1 that are not present in color_list_2. "
   ]
  },
  {
   "cell_type": "code",
   "execution_count": 12,
   "id": "e679525a",
   "metadata": {},
   "outputs": [],
   "source": [
    "color_list_1 = set([\"White\", \"Black\", \"Red\", \"Yellow\", \"Olive\"])"
   ]
  },
  {
   "cell_type": "code",
   "execution_count": 13,
   "id": "c9a90cc0",
   "metadata": {},
   "outputs": [],
   "source": [
    "color_list_2 = set([\"Red\", \"Green\", \"Blue\", \"Yellow\"])"
   ]
  },
  {
   "cell_type": "markdown",
   "id": "3748fbee",
   "metadata": {},
   "source": [
    "La expresión `color_list_1.difference(color_list_2)` en Python se utiliza para calcular la diferencia entre dos conjuntos (color_list_1 y color_list_2). Esta expresión devuelve un nuevo conjunto que contiene todos los elementos que están en color_list_1 pero no en color_list_2"
   ]
  },
  {
   "cell_type": "code",
   "execution_count": 14,
   "id": "a68dd072",
   "metadata": {
    "scrolled": true
   },
   "outputs": [
    {
     "name": "stdout",
     "output_type": "stream",
     "text": [
      "{'Black', 'White', 'Olive'}\n"
     ]
    }
   ],
   "source": [
    "print(color_list_1.difference(color_list_2))"
   ]
  },
  {
   "cell_type": "code",
   "execution_count": 15,
   "id": "ba4e99bd",
   "metadata": {},
   "outputs": [
    {
     "name": "stdout",
     "output_type": "stream",
     "text": [
      "{'Blue', 'Green'}\n"
     ]
    }
   ],
   "source": [
    "print(color_list_2.difference(color_list_1))"
   ]
  },
  {
   "cell_type": "markdown",
   "id": "9dbdc01a",
   "metadata": {},
   "source": [
    "---"
   ]
  },
  {
   "cell_type": "markdown",
   "id": "965f5e8a",
   "metadata": {},
   "source": [
    "---"
   ]
  },
  {
   "cell_type": "markdown",
   "id": "affbec73",
   "metadata": {},
   "source": [
    "### 30. Write a Python program that will accept the base and height of a triangle and compute its area. "
   ]
  },
  {
   "cell_type": "code",
   "execution_count": 16,
   "id": "d1b7825a",
   "metadata": {},
   "outputs": [
    {
     "name": "stdout",
     "output_type": "stream",
     "text": [
      "Input the base : 10\n"
     ]
    }
   ],
   "source": [
    "b = int(input(\"Input the base : \"))"
   ]
  },
  {
   "cell_type": "code",
   "execution_count": 17,
   "id": "13dba2d4",
   "metadata": {},
   "outputs": [
    {
     "name": "stdout",
     "output_type": "stream",
     "text": [
      "Input the height : 5\n"
     ]
    }
   ],
   "source": [
    "h = int(input(\"Input the height : \"))"
   ]
  },
  {
   "cell_type": "code",
   "execution_count": 18,
   "id": "87e21e06",
   "metadata": {},
   "outputs": [],
   "source": [
    "area = b*h/2"
   ]
  },
  {
   "cell_type": "code",
   "execution_count": 19,
   "id": "3cd3e80c",
   "metadata": {},
   "outputs": [
    {
     "name": "stdout",
     "output_type": "stream",
     "text": [
      "area =  25.0\n"
     ]
    }
   ],
   "source": [
    "print(\"area = \", area)"
   ]
  },
  {
   "cell_type": "markdown",
   "id": "b5325c7c",
   "metadata": {},
   "source": [
    "---"
   ]
  },
  {
   "cell_type": "markdown",
   "id": "4cbea1e3",
   "metadata": {},
   "source": [
    "---"
   ]
  },
  {
   "cell_type": "markdown",
   "id": "a60f3c31",
   "metadata": {},
   "source": [
    "### 31. Write a Python program that computes the greatest common divisor (GCD) of two positive integers. "
   ]
  },
  {
   "cell_type": "markdown",
   "id": "05eab632",
   "metadata": {},
   "source": [
    "`def gcd(num1, num2):` Aquí se define una función llamada gcd que toma dos argumentos, num1 y num2. Estos argumentos representarán los dos números para los cuales deseas calcular el GCD.\n",
    "\n",
    "`while num2:` Esto inicia un bucle while que continuará ejecutándose mientras num2 sea distinto de cero. En otras palabras, el bucle se ejecutará hasta que num2 sea igual a cero.\n",
    "\n",
    "`num1, num2 = num2, num1 % num2`: En cada iteración del bucle, se realiza una actualización de los valores de num1 y num2. Estas variables se actualizan de manera que num1 toma el valor de num2, y num2 toma el valor del residuo de la división de num1 entre num2. Esto es una implementación del algoritmo de Euclides para calcular el GCD. El bucle continúa hasta que num2 se convierte en cero, momento en el que num1 contiene el GCD calculado.\n",
    "\n",
    "`return num1`: Finalmente, la función devuelve el valor de num1, que es el GCD calculado de num1 y num2."
   ]
  },
  {
   "cell_type": "code",
   "execution_count": 20,
   "id": "56bdc399",
   "metadata": {},
   "outputs": [],
   "source": [
    "# Function to calculate GCD using the Euclidean algorithm\n",
    "def gcd(num1, num2):\n",
    "    while num2:\n",
    "        num1, num2 = num2, num1 % num2\n",
    "    return num1"
   ]
  },
  {
   "cell_type": "code",
   "execution_count": 21,
   "id": "43fc9218",
   "metadata": {},
   "outputs": [
    {
     "name": "stdout",
     "output_type": "stream",
     "text": [
      "Enter the first positive integer: 12\n"
     ]
    }
   ],
   "source": [
    "num1 = int(input(\"Enter the first positive integer: \"))"
   ]
  },
  {
   "cell_type": "code",
   "execution_count": 22,
   "id": "21bfaacb",
   "metadata": {},
   "outputs": [
    {
     "name": "stdout",
     "output_type": "stream",
     "text": [
      "Enter the second positive integer: 8\n"
     ]
    }
   ],
   "source": [
    "num2 = int(input(\"Enter the second positive integer: \"))"
   ]
  },
  {
   "cell_type": "code",
   "execution_count": 23,
   "id": "1d94206b",
   "metadata": {},
   "outputs": [],
   "source": [
    "# Compute the GCD using the gcd() function\n",
    "result = gcd(num1, num2)"
   ]
  },
  {
   "cell_type": "code",
   "execution_count": 24,
   "id": "e5cb3d60",
   "metadata": {},
   "outputs": [
    {
     "name": "stdout",
     "output_type": "stream",
     "text": [
      "The GDC of 12 and 8 is 4\n"
     ]
    }
   ],
   "source": [
    "print(f\"The GDC of {num1} and {num2} is {result}\")"
   ]
  },
  {
   "cell_type": "markdown",
   "id": "c0e8b414",
   "metadata": {},
   "source": [
    "#### Otra forma de hacerlo es importando el modulo math para usar su funcion gcd"
   ]
  },
  {
   "cell_type": "code",
   "execution_count": 25,
   "id": "f9059dc8",
   "metadata": {},
   "outputs": [],
   "source": [
    "import math"
   ]
  },
  {
   "cell_type": "code",
   "execution_count": 26,
   "id": "35ecd6b5",
   "metadata": {},
   "outputs": [],
   "source": [
    "gcd_result = math.gcd(12, 8)"
   ]
  },
  {
   "cell_type": "code",
   "execution_count": 27,
   "id": "2b480724",
   "metadata": {},
   "outputs": [
    {
     "name": "stdout",
     "output_type": "stream",
     "text": [
      "4\n"
     ]
    }
   ],
   "source": [
    "print(gcd_result)"
   ]
  },
  {
   "cell_type": "markdown",
   "id": "6d2b4ec6",
   "metadata": {},
   "source": [
    "---"
   ]
  },
  {
   "cell_type": "markdown",
   "id": "d5b05058",
   "metadata": {},
   "source": [
    "---"
   ]
  },
  {
   "cell_type": "markdown",
   "id": "9510ac4e",
   "metadata": {},
   "source": [
    "### 32. Write a Python program to find the least common multiple (LCM) of two positive integers. "
   ]
  },
  {
   "cell_type": "markdown",
   "id": "cc612e69",
   "metadata": {},
   "source": [
    "First, the function (lcm1) determines which number is larger and assigns that value to a variable named \"z\". It then enters a loop that continues indefinitely (while(True)) until the LCM is found.\n",
    "\n",
    "Inside the loop, the code checks if the current value of \"z\" is divisible by both \"x\" and \"y\" `(if((z % x == 0) and (z % y == 0)))`. If it is true then the LCM is assigned to the variable \"lcm\" and the loop is broken. Otherwise, the value of \"z\" is incremented by 1 and the check is repeated. "
   ]
  },
  {
   "cell_type": "code",
   "execution_count": 28,
   "id": "355db091",
   "metadata": {},
   "outputs": [],
   "source": [
    "def lcm1(x, y):\n",
    "    if x > y:\n",
    "        z = x\n",
    "    else:\n",
    "        z = y\n",
    "    while(True):\n",
    "        if((z % x == 0) and (z % y == 0)):\n",
    "            lcm = z\n",
    "            break\n",
    "        z += 1\n",
    "    return(lcm)"
   ]
  },
  {
   "cell_type": "code",
   "execution_count": 29,
   "id": "016fade1",
   "metadata": {},
   "outputs": [
    {
     "name": "stdout",
     "output_type": "stream",
     "text": [
      "12\n"
     ]
    }
   ],
   "source": [
    "print(lcm1(4, 6))"
   ]
  },
  {
   "cell_type": "markdown",
   "id": "d64ad76c",
   "metadata": {},
   "source": [
    "#### Otra forma es usando el modulo y usar la funcion (gcd)"
   ]
  },
  {
   "cell_type": "code",
   "execution_count": 30,
   "id": "ad97ce09",
   "metadata": {},
   "outputs": [],
   "source": [
    "import math"
   ]
  },
  {
   "cell_type": "code",
   "execution_count": 31,
   "id": "945c77fd",
   "metadata": {},
   "outputs": [],
   "source": [
    "def lcm2(a, b):\n",
    "    return abs(a*b) // math.gcd(a, b)"
   ]
  },
  {
   "cell_type": "code",
   "execution_count": 32,
   "id": "fd03ff2a",
   "metadata": {},
   "outputs": [
    {
     "name": "stdout",
     "output_type": "stream",
     "text": [
      "12\n"
     ]
    }
   ],
   "source": [
    "print(lcm2(4, 6))"
   ]
  },
  {
   "cell_type": "markdown",
   "id": "c82a470f",
   "metadata": {},
   "source": [
    "---"
   ]
  },
  {
   "cell_type": "markdown",
   "id": "a66be73a",
   "metadata": {},
   "source": [
    "---"
   ]
  },
  {
   "cell_type": "markdown",
   "id": "c5acebc6",
   "metadata": {},
   "source": [
    "### 33. Write a Python program to sum three given integers. However, if two values are equal, the sum will be zero. "
   ]
  },
  {
   "cell_type": "code",
   "execution_count": 33,
   "id": "d74567d6",
   "metadata": {},
   "outputs": [],
   "source": [
    "def sum3int(x, y):\n",
    "    sum = x + y\n",
    "    if sum in range(15, 20):\n",
    "        return 20\n",
    "    else:\n",
    "        return sum"
   ]
  },
  {
   "cell_type": "code",
   "execution_count": 34,
   "id": "6af04869",
   "metadata": {},
   "outputs": [
    {
     "name": "stdout",
     "output_type": "stream",
     "text": [
      "10\n"
     ]
    }
   ],
   "source": [
    "print(sum3int(5, 5))"
   ]
  },
  {
   "cell_type": "code",
   "execution_count": 35,
   "id": "afe41b37",
   "metadata": {},
   "outputs": [
    {
     "name": "stdout",
     "output_type": "stream",
     "text": [
      "20\n"
     ]
    }
   ],
   "source": [
    "print(sum3int(10, 5))"
   ]
  },
  {
   "cell_type": "code",
   "execution_count": 36,
   "id": "4bc40a70",
   "metadata": {},
   "outputs": [
    {
     "name": "stdout",
     "output_type": "stream",
     "text": [
      "20\n"
     ]
    }
   ],
   "source": [
    "print(sum3int(10, 10))"
   ]
  },
  {
   "cell_type": "code",
   "execution_count": 37,
   "id": "16a1a88d",
   "metadata": {},
   "outputs": [
    {
     "name": "stdout",
     "output_type": "stream",
     "text": [
      "50\n"
     ]
    }
   ],
   "source": [
    "print(sum3int(20, 30))"
   ]
  },
  {
   "cell_type": "markdown",
   "id": "44a58ed7",
   "metadata": {},
   "source": [
    "---"
   ]
  },
  {
   "cell_type": "markdown",
   "id": "2829bbc9",
   "metadata": {},
   "source": [
    "---"
   ]
  },
  {
   "cell_type": "markdown",
   "id": "6b19601e",
   "metadata": {},
   "source": [
    "### 35. Write a Python program that returns true if the two given integer values are equal or their sum or difference is 5. "
   ]
  },
  {
   "cell_type": "markdown",
   "id": "a59b510e",
   "metadata": {},
   "source": [
    "Regresa True cuando:\n",
    "- Los 2 numeros dados son iguales\n",
    "- La suma de los 2 numeros es 5\n",
    "- La diferencia entre los 2 numeros es 5"
   ]
  },
  {
   "cell_type": "code",
   "execution_count": 38,
   "id": "499c8726",
   "metadata": {},
   "outputs": [],
   "source": [
    "def test_number5(x, y):\n",
    "    if x == y or abs(x-y) == 5 or (x+y) == 5:\n",
    "        return True\n",
    "    else:\n",
    "        return False"
   ]
  },
  {
   "cell_type": "code",
   "execution_count": 39,
   "id": "69918faf",
   "metadata": {},
   "outputs": [
    {
     "name": "stdout",
     "output_type": "stream",
     "text": [
      "True\n"
     ]
    }
   ],
   "source": [
    "print(test_number5(3, 3))"
   ]
  },
  {
   "cell_type": "code",
   "execution_count": 40,
   "id": "78944229",
   "metadata": {},
   "outputs": [
    {
     "name": "stdout",
     "output_type": "stream",
     "text": [
      "True\n"
     ]
    }
   ],
   "source": [
    "print(test_number5(3, 2))"
   ]
  },
  {
   "cell_type": "code",
   "execution_count": 41,
   "id": "5b9ee6cd",
   "metadata": {},
   "outputs": [
    {
     "name": "stdout",
     "output_type": "stream",
     "text": [
      "True\n"
     ]
    }
   ],
   "source": [
    "print(test_number5(10, 5))"
   ]
  },
  {
   "cell_type": "code",
   "execution_count": 42,
   "id": "03998248",
   "metadata": {},
   "outputs": [
    {
     "name": "stdout",
     "output_type": "stream",
     "text": [
      "False\n"
     ]
    }
   ],
   "source": [
    "print(test_number5(25, 5))"
   ]
  },
  {
   "cell_type": "markdown",
   "id": "75111eef",
   "metadata": {},
   "source": [
    "---"
   ]
  },
  {
   "cell_type": "markdown",
   "id": "ccfc992e",
   "metadata": {},
   "source": [
    "---"
   ]
  },
  {
   "cell_type": "markdown",
   "id": "eadc64b8",
   "metadata": {},
   "source": [
    "### 36. Write a Python program to add two objects if both objects are integers."
   ]
  },
  {
   "cell_type": "markdown",
   "id": "65f3c762",
   "metadata": {},
   "source": [
    "The isinstance() function returns True if the specified object is of the specified type, otherwise False."
   ]
  },
  {
   "cell_type": "code",
   "execution_count": 43,
   "id": "954a11fa",
   "metadata": {},
   "outputs": [],
   "source": [
    "def add_objects(obj1, obj2):\n",
    "    if isinstance(obj1, int) and isinstance(obj2, int):\n",
    "        result = obj1 + obj2\n",
    "        print(f\"The sum of {obj1} and {obj2} is {result}\")\n",
    "    else:\n",
    "        print(\"Both objects are not integers\")"
   ]
  },
  {
   "cell_type": "code",
   "execution_count": 44,
   "id": "3652b8ab",
   "metadata": {},
   "outputs": [
    {
     "name": "stdout",
     "output_type": "stream",
     "text": [
      "The sum of 5 and 3 is 8\n"
     ]
    }
   ],
   "source": [
    "add_objects(5, 3)"
   ]
  },
  {
   "cell_type": "code",
   "execution_count": 45,
   "id": "a696cdf7",
   "metadata": {},
   "outputs": [
    {
     "name": "stdout",
     "output_type": "stream",
     "text": [
      "Both objects are not integers\n"
     ]
    }
   ],
   "source": [
    "add_objects(5, '3')"
   ]
  },
  {
   "cell_type": "markdown",
   "id": "c8ddc0a4",
   "metadata": {},
   "source": [
    "---"
   ]
  },
  {
   "cell_type": "markdown",
   "id": "b53e253c",
   "metadata": {},
   "source": [
    "---"
   ]
  },
  {
   "cell_type": "markdown",
   "id": "22794518",
   "metadata": {},
   "source": [
    "### 37. Write a Python program that displays your name, age, and address on three different lines. "
   ]
  },
  {
   "cell_type": "code",
   "execution_count": 46,
   "id": "478d13e3",
   "metadata": {},
   "outputs": [],
   "source": [
    "name = \"Javier\""
   ]
  },
  {
   "cell_type": "code",
   "execution_count": 47,
   "id": "239a4683",
   "metadata": {},
   "outputs": [],
   "source": [
    "age = 36"
   ]
  },
  {
   "cell_type": "code",
   "execution_count": 48,
   "id": "89823ae1",
   "metadata": {},
   "outputs": [],
   "source": [
    "address = \"Mexico, State, City, Street, Number\""
   ]
  },
  {
   "cell_type": "code",
   "execution_count": 49,
   "id": "4da991c1",
   "metadata": {},
   "outputs": [
    {
     "name": "stdout",
     "output_type": "stream",
     "text": [
      "Name: Javier\n",
      "Age: 36\n",
      "Address: Mexico, State, City, Street, Number\n"
     ]
    }
   ],
   "source": [
    "print(f\"Name: {name}\\nAge: {age}\\nAddress: {address}\")"
   ]
  },
  {
   "cell_type": "markdown",
   "id": "fd0bb4bb",
   "metadata": {},
   "source": [
    "---"
   ]
  },
  {
   "cell_type": "markdown",
   "id": "90383ad7",
   "metadata": {},
   "source": [
    "---"
   ]
  },
  {
   "cell_type": "markdown",
   "id": "1a970ce0",
   "metadata": {},
   "source": [
    "### 38. Write a Python program to solve (x + y) * (x + y). "
   ]
  },
  {
   "cell_type": "code",
   "execution_count": 50,
   "id": "19bdf512",
   "metadata": {},
   "outputs": [],
   "source": [
    "def xpytcpy(x, y):\n",
    "    result = ((x+y)*(x+y))\n",
    "    print(f\"({x} + {y})*({x} + {y}) is ({x+y} * {x+y}) = {result}\")"
   ]
  },
  {
   "cell_type": "code",
   "execution_count": 51,
   "id": "cbe62901",
   "metadata": {
    "scrolled": true
   },
   "outputs": [
    {
     "name": "stdout",
     "output_type": "stream",
     "text": [
      "(4 + 3)*(4 + 3) is (7 * 7) = 49\n"
     ]
    }
   ],
   "source": [
    "xpytcpy(4, 3)"
   ]
  },
  {
   "cell_type": "code",
   "execution_count": 52,
   "id": "aab3b1cd",
   "metadata": {},
   "outputs": [
    {
     "name": "stdout",
     "output_type": "stream",
     "text": [
      "(6 + 8)*(6 + 8) is (14 * 14) = 196\n"
     ]
    }
   ],
   "source": [
    "xpytcpy(6, 8)"
   ]
  },
  {
   "cell_type": "markdown",
   "id": "bfdc54f0",
   "metadata": {},
   "source": [
    "---"
   ]
  },
  {
   "cell_type": "markdown",
   "id": "f8549290",
   "metadata": {},
   "source": [
    "---"
   ]
  },
  {
   "cell_type": "markdown",
   "id": "c8d17a1d",
   "metadata": {},
   "source": [
    "### 39. Write a Python program to compute the future value of a specified principal amount, rate of interest, and number of years. "
   ]
  },
  {
   "cell_type": "markdown",
   "id": "c0e38855",
   "metadata": {},
   "source": [
    "Write a Python program to compute the future value of a specified principal amount, rate of interest, and number of years.\n",
    "\n",
    "The formula for future value with compound interest is `FV = P(1 + r/n)^nt`.\n",
    "- FV = the future value;\n",
    "- P = the principal;\n",
    "- r = the annual interest rate expressed as a decimal;\n",
    "- n = the number of times interest is paid each year;\n",
    "- t = time in years."
   ]
  },
  {
   "cell_type": "markdown",
   "id": "254515e1",
   "metadata": {},
   "source": [
    "Test Data: \n",
    "- amt = 10000\n",
    "- int = 3.5, \n",
    "- years = 7\n",
    "- Expected Output: 12722.79"
   ]
  },
  {
   "cell_type": "code",
   "execution_count": 53,
   "id": "52781d8b",
   "metadata": {},
   "outputs": [],
   "source": [
    "def fut_value_pa(amt, inter, y):\n",
    "    result = amt*(1 + (inter*0.01))**y\n",
    "    print(result)\n",
    "    print(f\"\\nThe Future Value of {amt}\\nWith an annual interest rate of {inter}%\\nDuring {y} years\\nIs FV = {result}\")"
   ]
  },
  {
   "cell_type": "code",
   "execution_count": 54,
   "id": "3f9d4da3",
   "metadata": {},
   "outputs": [
    {
     "name": "stdout",
     "output_type": "stream",
     "text": [
      "12722.792627665729\n",
      "\n",
      "The Future Value of 10000\n",
      "With an annual interest rate of 3.5%\n",
      "During 7 years\n",
      "Is FV = 12722.792627665729\n"
     ]
    }
   ],
   "source": [
    "fut_value_pa(10000, 3.5, 7)"
   ]
  },
  {
   "cell_type": "markdown",
   "id": "4c644ad7",
   "metadata": {},
   "source": [
    "---"
   ]
  },
  {
   "cell_type": "markdown",
   "id": "3bd4f2a2",
   "metadata": {},
   "source": [
    "---"
   ]
  },
  {
   "cell_type": "markdown",
   "id": "8a962e75",
   "metadata": {},
   "source": [
    "### 40. Write a Python program to calculate the distance between the points (x1, y1) and (x2, y2). "
   ]
  },
  {
   "cell_type": "markdown",
   "id": "58fb0142",
   "metadata": {},
   "source": [
    "Importamos el modulo math para poder sacar la raiz cuadrada. "
   ]
  },
  {
   "cell_type": "code",
   "execution_count": 55,
   "id": "b4facee0",
   "metadata": {},
   "outputs": [],
   "source": [
    "import math"
   ]
  },
  {
   "cell_type": "code",
   "execution_count": 56,
   "id": "dc7f907d",
   "metadata": {},
   "outputs": [],
   "source": [
    "def calc_dist_2points(x1, y1, x2, y2):\n",
    "    result = math.sqrt((x2 - x1)**2 + (y2 - y1)**2)\n",
    "    print(f\"The distance between ({x1},{y1}) and ({x2},{y2}) is: {result}\")"
   ]
  },
  {
   "cell_type": "code",
   "execution_count": 57,
   "id": "8a911f8c",
   "metadata": {},
   "outputs": [
    {
     "name": "stdout",
     "output_type": "stream",
     "text": [
      "The distance between (4,0) and (6,6) is: 6.324555320336759\n"
     ]
    }
   ],
   "source": [
    "calc_dist_2points(4, 0, 6, 6)"
   ]
  },
  {
   "cell_type": "markdown",
   "id": "0b27de07",
   "metadata": {},
   "source": [
    "---"
   ]
  },
  {
   "cell_type": "markdown",
   "id": "a63e1d8d",
   "metadata": {},
   "source": [
    "---"
   ]
  },
  {
   "cell_type": "markdown",
   "id": "ae3e367c",
   "metadata": {},
   "source": [
    "### 41. Write a Python program to check whether a file exists. "
   ]
  },
  {
   "cell_type": "markdown",
   "id": "fd71ffe9",
   "metadata": {},
   "source": [
    "Necesitamos el modulo os"
   ]
  },
  {
   "cell_type": "code",
   "execution_count": 58,
   "id": "c6bbb038",
   "metadata": {},
   "outputs": [],
   "source": [
    "import os.path"
   ]
  },
  {
   "cell_type": "markdown",
   "id": "32fe752e",
   "metadata": {},
   "source": [
    "Primero quise verificar en que directorio estoy"
   ]
  },
  {
   "cell_type": "code",
   "execution_count": 59,
   "id": "3fac9144",
   "metadata": {},
   "outputs": [],
   "source": [
    "current_directory = os.getcwd()"
   ]
  },
  {
   "cell_type": "code",
   "execution_count": 60,
   "id": "0dd82401",
   "metadata": {
    "scrolled": true
   },
   "outputs": [
    {
     "name": "stdout",
     "output_type": "stream",
     "text": [
      "D:\\Python_projects\\Python\\001_w3resource\\001_w3resource_PythonBasic_Part1\n"
     ]
    }
   ],
   "source": [
    "print(current_directory)"
   ]
  },
  {
   "cell_type": "markdown",
   "id": "47069cad",
   "metadata": {},
   "source": [
    "Luego definimas una funcion donde se busca si existe el archivo en el directorio actual. En este caso es este archivo donde estamos trabajando\n",
    "\n",
    "`0002_Python basic (Part -I) 26 - 50.ipynb`"
   ]
  },
  {
   "cell_type": "code",
   "execution_count": 61,
   "id": "3c995853",
   "metadata": {},
   "outputs": [],
   "source": [
    "def check_file_ex(filename):\n",
    "    if os.path.exists(filename):\n",
    "        print(\"File exists\")\n",
    "    else:\n",
    "        print(\"Can't find that file\")"
   ]
  },
  {
   "cell_type": "code",
   "execution_count": 62,
   "id": "233fced8",
   "metadata": {},
   "outputs": [
    {
     "name": "stdout",
     "output_type": "stream",
     "text": [
      "File exists\n"
     ]
    }
   ],
   "source": [
    "check_file_ex(\"0002_Python basic (Part -I) 26 - 50.ipynb\")"
   ]
  },
  {
   "cell_type": "markdown",
   "id": "e9fd571f",
   "metadata": {},
   "source": [
    "Con esto puedo ver una lista de los archvios en el directorio actual"
   ]
  },
  {
   "cell_type": "code",
   "execution_count": 63,
   "id": "5edc462b",
   "metadata": {},
   "outputs": [],
   "source": [
    "file_list = os.listdir(current_directory)"
   ]
  },
  {
   "cell_type": "code",
   "execution_count": 64,
   "id": "5a734baa",
   "metadata": {},
   "outputs": [
    {
     "name": "stdout",
     "output_type": "stream",
     "text": [
      "['.ipynb_checkpoints', '0001_Python basic (Part -I) 1 - 25.ipynb', '0002_Python basic (Part -I) 26 - 50.ipynb', '0003_Python basic (Part -I) 50 - 75.ipynb', 'README.md']\n"
     ]
    }
   ],
   "source": [
    "print(file_list)"
   ]
  },
  {
   "cell_type": "markdown",
   "id": "9f865b75",
   "metadata": {},
   "source": [
    "Checo otros archivos"
   ]
  },
  {
   "cell_type": "code",
   "execution_count": 65,
   "id": "89e4c842",
   "metadata": {},
   "outputs": [
    {
     "name": "stdout",
     "output_type": "stream",
     "text": [
      "File exists\n"
     ]
    }
   ],
   "source": [
    "check_file_ex(\"README.md\")"
   ]
  },
  {
   "cell_type": "code",
   "execution_count": 66,
   "id": "1726aca8",
   "metadata": {},
   "outputs": [
    {
     "name": "stdout",
     "output_type": "stream",
     "text": [
      "Can't find that file\n"
     ]
    }
   ],
   "source": [
    "check_file_ex(\"hola.md\")"
   ]
  },
  {
   "cell_type": "markdown",
   "id": "d32cb00e",
   "metadata": {},
   "source": [
    "---"
   ]
  },
  {
   "cell_type": "markdown",
   "id": "05872340",
   "metadata": {},
   "source": [
    "---"
   ]
  },
  {
   "cell_type": "markdown",
   "id": "0ff2897e",
   "metadata": {},
   "source": [
    "### 42. Write a Python program to determine if a Python shell is executing in 32bit or 64bit mode on OS. "
   ]
  },
  {
   "cell_type": "markdown",
   "id": "d8ea8ff4",
   "metadata": {},
   "source": [
    "Imports the \"struct\" module, which converts between Python values and C structs represented as Python bytes objects. "
   ]
  },
  {
   "cell_type": "code",
   "execution_count": 67,
   "id": "994bcae6",
   "metadata": {},
   "outputs": [],
   "source": [
    "import struct"
   ]
  },
  {
   "cell_type": "markdown",
   "id": "b88121cd",
   "metadata": {},
   "source": [
    "The `struct.calcsize()` function is used to determine the size of a C data type, in bytes. In this case, the argument passed to the function is \"P\", which represents the C char * data type.\n",
    "\n",
    "The value returned by struct.calcsize(\"P\") is then multiplied by 8, which is used to convert the size from bytes to bits. This is because the size of a pointer is typically represented in bits, rather than bytes."
   ]
  },
  {
   "cell_type": "code",
   "execution_count": 68,
   "id": "a3e17c0c",
   "metadata": {},
   "outputs": [
    {
     "name": "stdout",
     "output_type": "stream",
     "text": [
      "64\n"
     ]
    }
   ],
   "source": [
    "print(struct.calcsize(\"P\") * 8)"
   ]
  },
  {
   "cell_type": "markdown",
   "id": "9ff652e8",
   "metadata": {},
   "source": [
    "---"
   ]
  },
  {
   "cell_type": "markdown",
   "id": "3aa3d272",
   "metadata": {},
   "source": [
    "---"
   ]
  },
  {
   "cell_type": "markdown",
   "id": "fba3844a",
   "metadata": {},
   "source": [
    "### 43. Write a Python program to get OS name, platform and release information. "
   ]
  },
  {
   "cell_type": "markdown",
   "id": "f7b15f0b",
   "metadata": {},
   "source": [
    " Write a Python program to get OS name, platform and release information.\n",
    "\n",
    "- os.name: The name of the operating system dependent module imported. The following names have currently been registered: 'posix', 'nt', 'java'.\n",
    "- platform.system(): Return the name of the OS system is running on.\n",
    "- platform.release(): Return the version of the operating system."
   ]
  },
  {
   "cell_type": "code",
   "execution_count": 69,
   "id": "2ab449e4",
   "metadata": {},
   "outputs": [],
   "source": [
    "import platform"
   ]
  },
  {
   "cell_type": "code",
   "execution_count": 70,
   "id": "4afeb01c",
   "metadata": {},
   "outputs": [],
   "source": [
    "import os"
   ]
  },
  {
   "cell_type": "code",
   "execution_count": 71,
   "id": "618db972",
   "metadata": {},
   "outputs": [
    {
     "name": "stdout",
     "output_type": "stream",
     "text": [
      "Name of the operating system: nt\n"
     ]
    }
   ],
   "source": [
    "print(f\"Name of the operating system: {os.name}\")"
   ]
  },
  {
   "cell_type": "code",
   "execution_count": 72,
   "id": "1ebf40a8",
   "metadata": {},
   "outputs": [
    {
     "name": "stdout",
     "output_type": "stream",
     "text": [
      "Name of the OS system: Windows\n"
     ]
    }
   ],
   "source": [
    "print(f\"Name of the OS system: {platform.system()}\")"
   ]
  },
  {
   "cell_type": "code",
   "execution_count": 73,
   "id": "6279a0f4",
   "metadata": {},
   "outputs": [
    {
     "name": "stdout",
     "output_type": "stream",
     "text": [
      "Version of the operating system: 10\n"
     ]
    }
   ],
   "source": [
    "print(f\"Version of the operating system: {platform.release()}\")"
   ]
  },
  {
   "cell_type": "markdown",
   "id": "9756d388",
   "metadata": {},
   "source": [
    "---"
   ]
  },
  {
   "cell_type": "markdown",
   "id": "a1e06a87",
   "metadata": {},
   "source": [
    "---"
   ]
  },
  {
   "cell_type": "markdown",
   "id": "d2d669c8",
   "metadata": {},
   "source": [
    "### 44. Write a Python program to locate Python site packages."
   ]
  },
  {
   "cell_type": "markdown",
   "id": "fcfbbab3",
   "metadata": {},
   "source": [
    "`site.getsitepackages()`: Return a list containing all global site-packages directories."
   ]
  },
  {
   "cell_type": "code",
   "execution_count": 74,
   "id": "69af8757",
   "metadata": {},
   "outputs": [],
   "source": [
    "import site"
   ]
  },
  {
   "cell_type": "code",
   "execution_count": 75,
   "id": "a1b55564",
   "metadata": {},
   "outputs": [
    {
     "name": "stdout",
     "output_type": "stream",
     "text": [
      "['C:\\\\ProgramData\\\\Anaconda3', 'C:\\\\ProgramData\\\\Anaconda3\\\\lib\\\\site-packages']\n"
     ]
    }
   ],
   "source": [
    "print(site.getsitepackages())"
   ]
  },
  {
   "cell_type": "markdown",
   "id": "98d42659",
   "metadata": {},
   "source": [
    "---"
   ]
  },
  {
   "cell_type": "markdown",
   "id": "1013d1d7",
   "metadata": {},
   "source": [
    "---"
   ]
  },
  {
   "cell_type": "markdown",
   "id": "ed20792b",
   "metadata": {},
   "source": [
    "### 45. Write a Python program that calls an external command. "
   ]
  },
  {
   "cell_type": "markdown",
   "id": "8b95dd0e",
   "metadata": {},
   "source": [
    "Using the `subprocess module` in Python to execute an external command (dir in this case) and capture its output, and then it prints the captured output."
   ]
  },
  {
   "cell_type": "code",
   "execution_count": 76,
   "id": "ad4e07e3",
   "metadata": {
    "scrolled": true
   },
   "outputs": [],
   "source": [
    "import subprocess"
   ]
  },
  {
   "cell_type": "markdown",
   "id": "35d99aec",
   "metadata": {},
   "source": [
    "- **subprocess.check_output()**: This function is used to run an external command and capture its standard output (the information that is typically displayed in the console when you run a command).\n",
    "- **\"dir\"**: This is the command being executed. In this case, it's the Windows dir command, which lists the files and directories in the current directory.\n",
    "- **shell=True**: The shell=True argument indicates that the command should be executed in a shell, similar to running it in a command prompt. This is necessary for certain commands like dir on Windows.\n",
    "- **universal_newlines=True**: This argument ensures that the output is returned as a string with newline characters, making it easier to work with as text."
   ]
  },
  {
   "cell_type": "code",
   "execution_count": 77,
   "id": "5d0df1df",
   "metadata": {},
   "outputs": [],
   "source": [
    "# Use \"dir\" with shell=True to execute it in a shell and capture the output\n",
    "output = subprocess.check_output(\"dir\", shell=True, universal_newlines=True)"
   ]
  },
  {
   "cell_type": "code",
   "execution_count": 78,
   "id": "5c35d229",
   "metadata": {},
   "outputs": [
    {
     "name": "stdout",
     "output_type": "stream",
     "text": [
      " Volume in drive D is Disco Datos\n",
      " Volume Serial Number is DC38-716A\n",
      "\n",
      " Directory of D:\\Python_projects\\Python\\001_w3resource\\001_w3resource_PythonBasic_Part1\n",
      "\n",
      "09-Oct-23  07:48 PM    <DIR>          .\n",
      "09-Oct-23  07:48 PM    <DIR>          ..\n",
      "09-Oct-23  07:47 PM    <DIR>          .ipynb_checkpoints\n",
      "07-Oct-23  10:10 PM            51,063 0001_Python basic (Part -I) 1 - 25.ipynb\n",
      "09-Oct-23  07:48 PM            46,503 0002_Python basic (Part -I) 26 - 50.ipynb\n",
      "09-Oct-23  07:47 PM                72 0003_Python basic (Part -I) 50 - 75.ipynb\n",
      "06-Oct-23  02:10 AM               211 README.md\n",
      "               4 File(s)         97,849 bytes\n",
      "               3 Dir(s)  866,227,568,640 bytes free\n",
      "\n"
     ]
    }
   ],
   "source": [
    "# Print the captured output\n",
    "print(output)"
   ]
  },
  {
   "cell_type": "markdown",
   "id": "d5c209ab",
   "metadata": {},
   "source": [
    "**Otro Comando**"
   ]
  },
  {
   "cell_type": "code",
   "execution_count": 79,
   "id": "59596ebe",
   "metadata": {},
   "outputs": [],
   "source": [
    "output2 = subprocess.check_output(\"systeminfo\", shell=True, universal_newlines=True)"
   ]
  },
  {
   "cell_type": "code",
   "execution_count": null,
   "id": "e76f13b9",
   "metadata": {
    "scrolled": true
   },
   "outputs": [],
   "source": [
    "# Print the captured output\n",
    "print(output2)"
   ]
  },
  {
   "cell_type": "code",
   "execution_count": null,
   "id": "8d09720e",
   "metadata": {},
   "outputs": [],
   "source": []
  },
  {
   "cell_type": "markdown",
   "id": "bc97ece7",
   "metadata": {},
   "source": [
    "---"
   ]
  },
  {
   "cell_type": "markdown",
   "id": "2b6f5976",
   "metadata": {},
   "source": [
    "---"
   ]
  },
  {
   "cell_type": "markdown",
   "id": "be51cb42",
   "metadata": {},
   "source": [
    "### 46. Write a Python program to retrieve the path and name of the file currently being executed. "
   ]
  },
  {
   "cell_type": "code",
   "execution_count": 81,
   "id": "193a0538",
   "metadata": {},
   "outputs": [],
   "source": [
    "import sys"
   ]
  },
  {
   "cell_type": "code",
   "execution_count": 82,
   "id": "88fda2c0",
   "metadata": {},
   "outputs": [],
   "source": [
    "# Get the path of the currently executing script\n",
    "script_path = sys.argv[0]"
   ]
  },
  {
   "cell_type": "code",
   "execution_count": 83,
   "id": "df716322",
   "metadata": {},
   "outputs": [
    {
     "name": "stdout",
     "output_type": "stream",
     "text": [
      "Path: C:\\ProgramData\\Anaconda3\\lib\\site-packages\\ipykernel_launcher.py\n"
     ]
    }
   ],
   "source": [
    "print(f\"Path: {script_path}\")"
   ]
  },
  {
   "cell_type": "code",
   "execution_count": 84,
   "id": "44c687f4",
   "metadata": {},
   "outputs": [],
   "source": [
    "# Get the name of the currently executing script\n",
    "# script_name = sys.argv[0].split('/')[-1]  # For Unix-like systems\n",
    "script_name = sys.argv[0].split('\\\\')[-1]  # For Windows"
   ]
  },
  {
   "cell_type": "code",
   "execution_count": 85,
   "id": "e4b36476",
   "metadata": {
    "scrolled": true
   },
   "outputs": [
    {
     "name": "stdout",
     "output_type": "stream",
     "text": [
      "Path: ipykernel_launcher.py\n"
     ]
    }
   ],
   "source": [
    "print(f\"Path: {script_name}\")"
   ]
  },
  {
   "cell_type": "markdown",
   "id": "3b3c70d8",
   "metadata": {},
   "source": [
    "In this program:\n",
    "\n",
    "1. We import the sys module, which provides access to command-line arguments and other system-related functions.\n",
    "\n",
    "2. We use sys.argv[0] to retrieve the path of the currently executing script. sys.argv is a list that contains command-line arguments passed to the script, and sys.argv[0] is the first element of that list, which is the script name including its path.\n",
    "\n",
    "3. We split the script path to extract just the script name using split('/') for Unix-like systems (Linux, macOS) or split('\\\\') for Windows. This step is necessary to separate the path from the script name.\n",
    "\n",
    "4. Finally, we print the retrieved path and script name."
   ]
  },
  {
   "cell_type": "markdown",
   "id": "6e21183f",
   "metadata": {},
   "source": [
    "---"
   ]
  },
  {
   "cell_type": "markdown",
   "id": "0d8daeb9",
   "metadata": {},
   "source": [
    "---"
   ]
  },
  {
   "cell_type": "markdown",
   "id": "52f07df3",
   "metadata": {},
   "source": [
    "### 47. Write a Python program to find out the number of CPUs used. "
   ]
  },
  {
   "cell_type": "code",
   "execution_count": 86,
   "id": "633033be",
   "metadata": {},
   "outputs": [],
   "source": [
    "import multiprocessing"
   ]
  },
  {
   "cell_type": "code",
   "execution_count": 87,
   "id": "260ea6dd",
   "metadata": {},
   "outputs": [
    {
     "name": "stdout",
     "output_type": "stream",
     "text": [
      "12\n"
     ]
    }
   ],
   "source": [
    "print(multiprocessing.cpu_count())"
   ]
  },
  {
   "cell_type": "markdown",
   "id": "d75316a0",
   "metadata": {},
   "source": [
    "---"
   ]
  },
  {
   "cell_type": "markdown",
   "id": "f7ea2cf9",
   "metadata": {},
   "source": [
    "---"
   ]
  },
  {
   "cell_type": "markdown",
   "id": "93314ebb",
   "metadata": {},
   "source": [
    "### 48. Write a Python program to parse a string to float or integer. "
   ]
  },
  {
   "cell_type": "code",
   "execution_count": 88,
   "id": "259d3365",
   "metadata": {},
   "outputs": [],
   "source": [
    "n = \"246.2458\""
   ]
  },
  {
   "cell_type": "code",
   "execution_count": 89,
   "id": "81ce2f24",
   "metadata": {},
   "outputs": [
    {
     "name": "stdout",
     "output_type": "stream",
     "text": [
      "246.2458\n"
     ]
    }
   ],
   "source": [
    "print(float(n))"
   ]
  },
  {
   "cell_type": "code",
   "execution_count": 90,
   "id": "d276e278",
   "metadata": {
    "scrolled": true
   },
   "outputs": [
    {
     "name": "stdout",
     "output_type": "stream",
     "text": [
      "246\n"
     ]
    }
   ],
   "source": [
    "print(int(float(n)))"
   ]
  },
  {
   "cell_type": "markdown",
   "id": "22e5aa10",
   "metadata": {},
   "source": [
    "---"
   ]
  },
  {
   "cell_type": "markdown",
   "id": "a34b0b2e",
   "metadata": {},
   "source": [
    "---"
   ]
  },
  {
   "cell_type": "markdown",
   "id": "e06683d3",
   "metadata": {},
   "source": [
    "### 49. Write a Python program to list all files in a directory. "
   ]
  },
  {
   "cell_type": "markdown",
   "id": "4e9d9e5c",
   "metadata": {},
   "source": [
    "Write a Python program to list all files in a directory."
   ]
  },
  {
   "cell_type": "code",
   "execution_count": 91,
   "id": "7df89796",
   "metadata": {},
   "outputs": [],
   "source": [
    "import os"
   ]
  },
  {
   "cell_type": "code",
   "execution_count": 92,
   "id": "7d23fd09",
   "metadata": {},
   "outputs": [],
   "source": [
    "current_directory = os.getcwd()"
   ]
  },
  {
   "cell_type": "code",
   "execution_count": 93,
   "id": "6d8e90ca",
   "metadata": {},
   "outputs": [
    {
     "name": "stdout",
     "output_type": "stream",
     "text": [
      "D:\\Python_projects\\Python\\001_w3resource\\001_w3resource_PythonBasic_Part1\n"
     ]
    }
   ],
   "source": [
    "print(current_directory)"
   ]
  },
  {
   "cell_type": "code",
   "execution_count": 94,
   "id": "32f8e94e",
   "metadata": {},
   "outputs": [],
   "source": [
    "file_list = os.listdir(current_directory)"
   ]
  },
  {
   "cell_type": "code",
   "execution_count": 95,
   "id": "e9407df9",
   "metadata": {},
   "outputs": [
    {
     "name": "stdout",
     "output_type": "stream",
     "text": [
      "['.ipynb_checkpoints', '0001_Python basic (Part -I) 1 - 25.ipynb', '0002_Python basic (Part -I) 26 - 50.ipynb', '0003_Python basic (Part -I) 50 - 75.ipynb', 'README.md']\n"
     ]
    }
   ],
   "source": [
    "print(file_list)"
   ]
  },
  {
   "cell_type": "markdown",
   "id": "effbe055",
   "metadata": {},
   "source": [
    "---"
   ]
  },
  {
   "cell_type": "markdown",
   "id": "f91d9ec4",
   "metadata": {},
   "source": [
    "---"
   ]
  },
  {
   "cell_type": "markdown",
   "id": "37176fb0",
   "metadata": {},
   "source": [
    "### 50. Write a Python program to print without a newline or space. "
   ]
  },
  {
   "cell_type": "code",
   "execution_count": 96,
   "id": "0170e96b",
   "metadata": {},
   "outputs": [
    {
     "name": "stdout",
     "output_type": "stream",
     "text": [
      "**********\n",
      "\n"
     ]
    }
   ],
   "source": [
    "for i in range(0, 10):\n",
    "    print('*', end=\"\")\n",
    "print(\"\\n\")"
   ]
  },
  {
   "cell_type": "markdown",
   "id": "9fbe6b5f",
   "metadata": {},
   "source": [
    "In the above Python code the for loop iterates through the range of numbers from 0 to 9 (inclusive) generated by the range() function. On each iteration, it prints a single asterisk character using the print() function, with the end parameter set to an empty string (\"\"). This causes the print() function not to insert a newline character after each asterisk.\n",
    "\n",
    "After the loop completes, a newline character is printed to the console using the print() function. "
   ]
  },
  {
   "cell_type": "markdown",
   "id": "c71debfa",
   "metadata": {},
   "source": []
  }
 ],
 "metadata": {
  "kernelspec": {
   "display_name": "Python 3",
   "language": "python",
   "name": "python3"
  },
  "language_info": {
   "codemirror_mode": {
    "name": "ipython",
    "version": 3
   },
   "file_extension": ".py",
   "mimetype": "text/x-python",
   "name": "python",
   "nbconvert_exporter": "python",
   "pygments_lexer": "ipython3",
   "version": "3.8.8"
  }
 },
 "nbformat": 4,
 "nbformat_minor": 5
}

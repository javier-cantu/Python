{
 "cells": [
  {
   "cell_type": "markdown",
   "id": "2fb27179",
   "metadata": {},
   "source": [
    "# 0003_Python basic (Part -I) 51 - 75.ipynb"
   ]
  },
  {
   "cell_type": "markdown",
   "id": "97d6f81f",
   "metadata": {},
   "source": [
    "---"
   ]
  },
  {
   "cell_type": "markdown",
   "id": "7e9b9900",
   "metadata": {},
   "source": [
    "### 51. Write a Python program to determine the profiling of Python programs. "
   ]
  },
  {
   "cell_type": "markdown",
   "id": "30707b12",
   "metadata": {},
   "source": [
    "Note: A profile is a set of statistics that describes how often and for how long various parts of the program executed. These statistics can be formatted into reports via the pstats module. "
   ]
  },
  {
   "cell_type": "code",
   "execution_count": 1,
   "id": "18185194",
   "metadata": {},
   "outputs": [],
   "source": [
    "import cProfile"
   ]
  },
  {
   "cell_type": "code",
   "execution_count": 2,
   "id": "bae8c2b3",
   "metadata": {},
   "outputs": [],
   "source": [
    "def sum():\n",
    "    print(1+2)"
   ]
  },
  {
   "cell_type": "code",
   "execution_count": 3,
   "id": "a1e77d27",
   "metadata": {},
   "outputs": [
    {
     "name": "stdout",
     "output_type": "stream",
     "text": [
      "3\n",
      "         39 function calls in 0.001 seconds\n",
      "\n",
      "   Ordered by: standard name\n",
      "\n",
      "   ncalls  tottime  percall  cumtime  percall filename:lineno(function)\n",
      "        1    0.000    0.000    0.001    0.001 <ipython-input-2-790e02903de9>:1(sum)\n",
      "        1    0.000    0.000    0.001    0.001 <string>:1(<module>)\n",
      "        3    0.000    0.000    0.001    0.000 iostream.py:197(schedule)\n",
      "        2    0.000    0.000    0.000    0.000 iostream.py:310(_is_master_process)\n",
      "        2    0.000    0.000    0.000    0.000 iostream.py:323(_schedule_flush)\n",
      "        2    0.000    0.000    0.001    0.000 iostream.py:386(write)\n",
      "        3    0.000    0.000    0.000    0.000 iostream.py:93(_event_pipe)\n",
      "        3    0.000    0.000    0.000    0.000 socket.py:432(send)\n",
      "        3    0.001    0.000    0.001    0.000 threading.py:1017(_wait_for_tstate_lock)\n",
      "        3    0.000    0.000    0.001    0.000 threading.py:1071(is_alive)\n",
      "        3    0.000    0.000    0.000    0.000 threading.py:513(is_set)\n",
      "        1    0.000    0.000    0.001    0.001 {built-in method builtins.exec}\n",
      "        2    0.000    0.000    0.000    0.000 {built-in method builtins.isinstance}\n",
      "        1    0.000    0.000    0.001    0.001 {built-in method builtins.print}\n",
      "        2    0.000    0.000    0.000    0.000 {built-in method nt.getpid}\n",
      "        3    0.000    0.000    0.000    0.000 {method 'acquire' of '_thread.lock' objects}\n",
      "        3    0.000    0.000    0.000    0.000 {method 'append' of 'collections.deque' objects}\n",
      "        1    0.000    0.000    0.000    0.000 {method 'disable' of '_lsprof.Profiler' objects}\n",
      "\n",
      "\n"
     ]
    }
   ],
   "source": [
    "cProfile.run('sum()')"
   ]
  },
  {
   "cell_type": "markdown",
   "id": "679f7476",
   "metadata": {},
   "source": [
    "cProfile provide deterministic profiling of Python programs. A profile is a set of statistics that describes how often and for how long various parts of the program executed.profile.run(command, filename=None, sort=- 1): This function takes a single argument that can be passed to the exec() function, and an optional file name.\n",
    "\n",
    "The above Python code imports the cProfile module. The sum() function defined in the code adds the numbers 1 and 2 and prints the result to the console using the print() function.\n",
    "\n",
    "The cProfile.run() function is used to profile the execution of the sum() function. The run() function takes a string as its parameter that represents the code to be executed and profiled. In this case, it is passed the function call sum() as a string."
   ]
  },
  {
   "cell_type": "markdown",
   "id": "ef51c3c2",
   "metadata": {},
   "source": [
    "---"
   ]
  },
  {
   "cell_type": "markdown",
   "id": "9063e232",
   "metadata": {},
   "source": [
    "---"
   ]
  },
  {
   "cell_type": "markdown",
   "id": "01b23403",
   "metadata": {},
   "source": [
    "### 52. Write a Python program to print to STDERR. "
   ]
  },
  {
   "cell_type": "code",
   "execution_count": 4,
   "id": "009f34e4",
   "metadata": {},
   "outputs": [
    {
     "name": "stderr",
     "output_type": "stream",
     "text": [
      "abc--efg--xyz\n"
     ]
    }
   ],
   "source": [
    "from __future__ import print_function\n",
    "import sys\n",
    "\n",
    "def eprint(*args, **kwargs):\n",
    "    print(*args, file=sys.stderr, **kwargs)\n",
    "\n",
    "eprint(\"abc\", \"efg\", \"xyz\", sep=\"--\")\n"
   ]
  },
  {
   "cell_type": "markdown",
   "id": "58936d85",
   "metadata": {},
   "source": [
    "The code you provided demonstrates how to define a custom eprint function and use it to print messages to the standard error stream (sys.stderr) instead of the standard output (sys.stdout). Let's break down the code step by step:"
   ]
  },
  {
   "cell_type": "markdown",
   "id": "37df70f7",
   "metadata": {},
   "source": []
  },
  {
   "cell_type": "markdown",
   "id": "6078e088",
   "metadata": {},
   "source": [
    "---"
   ]
  },
  {
   "cell_type": "markdown",
   "id": "febc2a38",
   "metadata": {},
   "source": [
    "---"
   ]
  },
  {
   "cell_type": "markdown",
   "id": "25be4fbf",
   "metadata": {},
   "source": [
    "### 53. Write a Python program to access environment variables. "
   ]
  },
  {
   "cell_type": "code",
   "execution_count": 6,
   "id": "02d31f7d",
   "metadata": {
    "scrolled": true
   },
   "outputs": [
    {
     "name": "stdout",
     "output_type": "stream",
     "text": [
      "*----------------------------------*\n",
      "environ({'ALLUSERSPROFILE': 'C:\\\\ProgramData', 'APPDATA': 'C:\\\\Users\\\\Asus ROG PC\\\\AppData\\\\Roaming', 'COMMONPROGRAMFILES': 'C:\\\\Program Files\\\\Common Files', 'COMMONPROGRAMFILES(X86)': 'C:\\\\Program Files (x86)\\\\Common Files', 'COMMONPROGRAMW6432': 'C:\\\\Program Files\\\\Common Files', 'COMPUTERNAME': 'DESKTOP-RFID6T3', 'COMSPEC': 'C:\\\\WINDOWS\\\\system32\\\\cmd.exe', 'CONDA_DEFAULT_ENV': 'base', 'CONDA_EXE': 'C:\\\\ProgramData\\\\Anaconda3\\\\Scripts\\\\conda.exe', 'CONDA_PREFIX': 'C:\\\\ProgramData\\\\Anaconda3', 'CONDA_PROMPT_MODIFIER': '(base) ', 'CONDA_PYTHON_EXE': 'C:\\\\ProgramData\\\\Anaconda3\\\\python.exe', 'CONDA_SHLVL': '1', 'DRIVERDATA': 'C:\\\\Windows\\\\System32\\\\Drivers\\\\DriverData', 'FPS_BROWSER_APP_PROFILE_STRING': 'Internet Explorer', 'FPS_BROWSER_USER_PROFILE_STRING': 'Default', 'HOMEDRIVE': 'C:', 'HOMEPATH': '\\\\Users\\\\Asus ROG PC', 'INTEL_DEV_REDIST': 'C:\\\\Program Files (x86)\\\\Common Files\\\\Intel\\\\Shared Libraries\\\\', 'JAVA': 'C:\\\\Program Files\\\\Java\\\\jre1.8.0_361\\\\bin', 'LOCALAPPDATA': 'C:\\\\Users\\\\Asus ROG PC\\\\AppData\\\\Local', 'LOGONSERVER': '\\\\\\\\DESKTOP-RFID6T3', 'MIC_LD_LIBRARY_PATH': 'C:\\\\Program Files (x86)\\\\Common Files\\\\Intel\\\\Shared Libraries\\\\compiler\\\\lib\\\\mic', 'NUMBER_OF_PROCESSORS': '12', 'ONEDRIVE': 'C:\\\\Users\\\\Asus ROG PC\\\\OneDrive', 'OS': 'Windows_NT', 'PATH': 'C:\\\\ProgramData\\\\Anaconda3;C:\\\\ProgramData\\\\Anaconda3\\\\Library\\\\mingw-w64\\\\bin;C:\\\\ProgramData\\\\Anaconda3\\\\Library\\\\usr\\\\bin;C:\\\\ProgramData\\\\Anaconda3\\\\Library\\\\bin;C:\\\\ProgramData\\\\Anaconda3\\\\Scripts;C:\\\\ProgramData\\\\Anaconda3\\\\bin;C:\\\\ProgramData\\\\Anaconda3\\\\condabin;C:\\\\Program Files (x86)\\\\Common Files\\\\Intel\\\\Shared Libraries\\\\redist\\\\intel64\\\\compiler;C:\\\\Program Files\\\\Common Files\\\\Oracle\\\\Java\\\\javapath;C:\\\\ProgramData\\\\Anaconda3;C:\\\\ProgramData\\\\Anaconda3\\\\Library\\\\mingw-w64\\\\bin;C:\\\\ProgramData\\\\Anaconda3\\\\Library\\\\usr\\\\bin;C:\\\\ProgramData\\\\Anaconda3\\\\Library\\\\bin;C:\\\\ProgramData\\\\Anaconda3\\\\Scripts;C:\\\\WINDOWS\\\\system32;C:\\\\WINDOWS;C:\\\\WINDOWS\\\\System32\\\\Wbem;C:\\\\WINDOWS\\\\System32\\\\WindowsPowerShell\\\\v1.0;C:\\\\WINDOWS\\\\System32\\\\OpenSSH;C:\\\\Program Files\\\\dotnet;D:\\\\Program Files\\\\Git\\\\cmd;C:\\\\Program Files\\\\nodejs;C:\\\\Program Files\\\\nodejs;C:\\\\Program Files\\\\Java\\\\jre1.8.0_361\\\\bin;C:\\\\Users\\\\Asus ROG PC\\\\AppData\\\\Local\\\\Microsoft\\\\WindowsApps;C:\\\\webm\\\\bin;D:\\\\Program Files\\\\Inkscape_1_2_1\\\\bin;C:\\\\Users\\\\Asus ROG PC\\\\AppData\\\\Local\\\\Programs\\\\Microsoft VS Code\\\\bin;C:\\\\Users\\\\Asus ROG PC\\\\AppData\\\\Roaming\\\\npm;C:\\\\Program Files\\\\nodejs;.', 'PATHEXT': '.COM;.EXE;.BAT;.CMD;.VBS;.VBE;.JS;.JSE;.WSF;.WSH;.MSC;.CPL', 'PROCESSOR_ARCHITECTURE': 'AMD64', 'PROCESSOR_IDENTIFIER': 'AMD64 Family 23 Model 8 Stepping 2, AuthenticAMD', 'PROCESSOR_LEVEL': '23', 'PROCESSOR_REVISION': '0802', 'PROGRAMDATA': 'C:\\\\ProgramData', 'PROGRAMFILES': 'C:\\\\Program Files', 'PROGRAMFILES(X86)': 'C:\\\\Program Files (x86)', 'PROGRAMW6432': 'C:\\\\Program Files', 'PSEXECUTIONPOLICYPREFERENCE': 'Bypass', 'PSMODULEPATH': 'C:\\\\Users\\\\Asus ROG PC\\\\Documents\\\\WindowsPowerShell\\\\Modules;C:\\\\Program Files\\\\WindowsPowerShell\\\\Modules;C:\\\\WINDOWS\\\\system32\\\\WindowsPowerShell\\\\v1.0\\\\Modules', 'PUBLIC': 'C:\\\\Users\\\\Public', 'SESSIONNAME': 'Console', 'SYSTEMDRIVE': 'C:', 'SYSTEMROOT': 'C:\\\\WINDOWS', 'TEMP': 'C:\\\\Users\\\\ASUSRO~1\\\\AppData\\\\Local\\\\Temp', 'TMP': 'C:\\\\Users\\\\ASUSRO~1\\\\AppData\\\\Local\\\\Temp', 'USERDOMAIN': 'DESKTOP-RFID6T3', 'USERDOMAIN_ROAMINGPROFILE': 'DESKTOP-RFID6T3', 'USERNAME': 'Asus ROG PC', 'USERPROFILE': 'C:\\\\Users\\\\Asus ROG PC', 'VBOX_MSI_INSTALL_PATH': 'C:\\\\Program Files\\\\Oracle\\\\VirtualBox\\\\', 'VS140COMNTOOLS': 'C:\\\\Program Files (x86)\\\\Microsoft Visual Studio 14.0\\\\Common7\\\\Tools\\\\', 'WINDIR': 'C:\\\\WINDOWS', '_CONDA_EXE': 'C:/ProgramData/Anaconda3\\\\Scripts\\\\conda.exe', '_CONDA_ROOT': 'C:/ProgramData/Anaconda3', 'JPY_INTERRUPT_EVENT': '2692', 'IPY_INTERRUPT_EVENT': '2692', 'JPY_PARENT_PID': '2780', 'TERM': 'xterm-color', 'CLICOLOR': '1', 'PAGER': 'cat', 'GIT_PAGER': 'cat', 'MPLBACKEND': 'module://ipykernel.pylab.backend_inline'})\n",
      "*----------------------------------*\n",
      "C:\\Users\\Asus ROG PC\n",
      "*----------------------------------*\n",
      "C:\\ProgramData\\Anaconda3;C:\\ProgramData\\Anaconda3\\Library\\mingw-w64\\bin;C:\\ProgramData\\Anaconda3\\Library\\usr\\bin;C:\\ProgramData\\Anaconda3\\Library\\bin;C:\\ProgramData\\Anaconda3\\Scripts;C:\\ProgramData\\Anaconda3\\bin;C:\\ProgramData\\Anaconda3\\condabin;C:\\Program Files (x86)\\Common Files\\Intel\\Shared Libraries\\redist\\intel64\\compiler;C:\\Program Files\\Common Files\\Oracle\\Java\\javapath;C:\\ProgramData\\Anaconda3;C:\\ProgramData\\Anaconda3\\Library\\mingw-w64\\bin;C:\\ProgramData\\Anaconda3\\Library\\usr\\bin;C:\\ProgramData\\Anaconda3\\Library\\bin;C:\\ProgramData\\Anaconda3\\Scripts;C:\\WINDOWS\\system32;C:\\WINDOWS;C:\\WINDOWS\\System32\\Wbem;C:\\WINDOWS\\System32\\WindowsPowerShell\\v1.0;C:\\WINDOWS\\System32\\OpenSSH;C:\\Program Files\\dotnet;D:\\Program Files\\Git\\cmd;C:\\Program Files\\nodejs;C:\\Program Files\\nodejs;C:\\Program Files\\Java\\jre1.8.0_361\\bin;C:\\Users\\Asus ROG PC\\AppData\\Local\\Microsoft\\WindowsApps;C:\\webm\\bin;D:\\Program Files\\Inkscape_1_2_1\\bin;C:\\Users\\Asus ROG PC\\AppData\\Local\\Programs\\Microsoft VS Code\\bin;C:\\Users\\Asus ROG PC\\AppData\\Roaming\\npm;C:\\Program Files\\nodejs;.\n",
      "*----------------------------------*\n"
     ]
    }
   ],
   "source": [
    "import os\n",
    "# Access all environment variables \n",
    "print('*----------------------------------*')\n",
    "print(os.environ)\n",
    "print('*----------------------------------*')\n",
    "# Access a particular environment variable \n",
    "print(os.environ['USERPROFILE'])\n",
    "print('*----------------------------------*')\n",
    "print(os.environ['PATH'])\n",
    "print('*----------------------------------*')"
   ]
  },
  {
   "cell_type": "markdown",
   "id": "d0176905",
   "metadata": {},
   "source": [
    "---"
   ]
  },
  {
   "cell_type": "markdown",
   "id": "c801051a",
   "metadata": {},
   "source": [
    "---"
   ]
  },
  {
   "cell_type": "markdown",
   "id": "0afaf223",
   "metadata": {},
   "source": [
    "### 54. Write a Python program to get the current username. "
   ]
  },
  {
   "cell_type": "code",
   "execution_count": 7,
   "id": "60c32bfe",
   "metadata": {},
   "outputs": [],
   "source": [
    "import getpass"
   ]
  },
  {
   "cell_type": "code",
   "execution_count": 8,
   "id": "1047ff7c",
   "metadata": {},
   "outputs": [
    {
     "name": "stdout",
     "output_type": "stream",
     "text": [
      "Asus ROG PC\n"
     ]
    }
   ],
   "source": [
    "print(getpass.getuser())"
   ]
  },
  {
   "cell_type": "markdown",
   "id": "d1455879",
   "metadata": {},
   "source": [
    "**Explanation:**\n",
    "\n",
    "The above Python code imports the ‘getpass’ module and uses it to print the username of the current user to the console output.\n",
    "\n",
    "The ‘getpass’ module provides a way to get the username of the current user, as well as prompt the user to enter a password without echoing the input to the console.\n",
    "\n",
    "`getpass.getuser()` - This function checks the environment variables LOGNAME, USER, LNAME and USERNAME, in order, and returns the value of the first one which is set to a non-empty string. If none are set, the login name from the password database is returned on systems which support the pwd module, otherwise, an exception is raised.\n",
    "\n",
    "The output of the code will be the username of the current user, which is retrieved from the operating system."
   ]
  },
  {
   "cell_type": "markdown",
   "id": "530410da",
   "metadata": {},
   "source": [
    "---"
   ]
  },
  {
   "cell_type": "markdown",
   "id": "83da1c93",
   "metadata": {},
   "source": [
    "---"
   ]
  },
  {
   "cell_type": "markdown",
   "id": "6403ecc3",
   "metadata": {},
   "source": [
    "### 55. Write a Python program to find local IP addresses using Python's stdlib. "
   ]
  },
  {
   "cell_type": "code",
   "execution_count": 1,
   "id": "c54ecd94",
   "metadata": {},
   "outputs": [],
   "source": [
    "import socket"
   ]
  },
  {
   "cell_type": "code",
   "execution_count": 2,
   "id": "47875487",
   "metadata": {},
   "outputs": [
    {
     "name": "stdout",
     "output_type": "stream",
     "text": [
      "192.168.56.1\n"
     ]
    }
   ],
   "source": [
    "print([l for l in ([ip for ip in socket.gethostbyname_ex(socket.gethostname())[2] \n",
    "if not ip.startswith(\"127.\")][:1], [[(s.connect(('8.8.8.8', 53)), \n",
    "s.getsockname()[0], s.close()) for s in [socket.socket(socket.AF_INET, \n",
    "socket.SOCK_DGRAM)]][0][1]]) if l][0][0])"
   ]
  },
  {
   "cell_type": "markdown",
   "id": "dfbd1cb7",
   "metadata": {},
   "source": [
    "Esto fue con chatGPT, pero no entiendo esto:"
   ]
  },
  {
   "cell_type": "code",
   "execution_count": 3,
   "id": "d27a9ab4",
   "metadata": {},
   "outputs": [],
   "source": [
    "def get_local_ip_addresses():\n",
    "    # Get the host name of the local machine\n",
    "    host_name = socket.gethostname()\n",
    "\n",
    "    # Get the IP addresses associated with the local machine\n",
    "    ip_addresses = socket.gethostbyname_ex(host_name)[2]\n",
    "\n",
    "    return ip_addresses"
   ]
  },
  {
   "cell_type": "code",
   "execution_count": 4,
   "id": "36f28abe",
   "metadata": {
    "scrolled": true
   },
   "outputs": [
    {
     "name": "stdout",
     "output_type": "stream",
     "text": [
      "Local IP addresses:\n",
      "192.168.56.1\n",
      "192.168.1.2\n"
     ]
    }
   ],
   "source": [
    "if __name__ == \"__main__\":\n",
    "    local_ip_addresses = get_local_ip_addresses()\n",
    "    \n",
    "    if local_ip_addresses:\n",
    "        print(\"Local IP addresses:\")\n",
    "        for ip in local_ip_addresses:\n",
    "            print(ip)\n",
    "    else:\n",
    "        print(\"No local IP addresses found.\")"
   ]
  },
  {
   "cell_type": "markdown",
   "id": "b1955e7c",
   "metadata": {},
   "source": [
    "---"
   ]
  },
  {
   "cell_type": "markdown",
   "id": "7bdef158",
   "metadata": {},
   "source": [
    "---"
   ]
  },
  {
   "cell_type": "markdown",
   "id": "3569b84d",
   "metadata": {},
   "source": [
    "### 56. Write a Python program to get the height and width of the console window. "
   ]
  },
  {
   "cell_type": "code",
   "execution_count": 7,
   "id": "bd1d8d48",
   "metadata": {},
   "outputs": [],
   "source": [
    "import shutil"
   ]
  },
  {
   "cell_type": "code",
   "execution_count": 8,
   "id": "6184277e",
   "metadata": {},
   "outputs": [],
   "source": [
    "def terminal_size():\n",
    "    columns, rows = shutil.get_terminal_size()\n",
    "    return columns, rows"
   ]
  },
  {
   "cell_type": "code",
   "execution_count": 9,
   "id": "bedf9c48",
   "metadata": {
    "scrolled": true
   },
   "outputs": [
    {
     "name": "stdout",
     "output_type": "stream",
     "text": [
      "Number of columns and Rows:  (120, 30)\n"
     ]
    }
   ],
   "source": [
    "print('Number of columns and Rows: ', terminal_size())"
   ]
  },
  {
   "cell_type": "markdown",
   "id": "c8955190",
   "metadata": {},
   "source": [
    "---"
   ]
  },
  {
   "cell_type": "markdown",
   "id": "b8713348",
   "metadata": {},
   "source": [
    "---"
   ]
  },
  {
   "cell_type": "markdown",
   "id": "bb318564",
   "metadata": {},
   "source": [
    "### 57. Write a Python program to get the execution time of a Python method. "
   ]
  },
  {
   "cell_type": "code",
   "execution_count": 36,
   "id": "10517d64",
   "metadata": {},
   "outputs": [],
   "source": [
    "import time"
   ]
  },
  {
   "cell_type": "code",
   "execution_count": 44,
   "id": "11abab6f",
   "metadata": {},
   "outputs": [],
   "source": [
    "def exec_time_method():\n",
    "    total = 0\n",
    "    for i in range (1, 1000000):\n",
    "        total += 1\n",
    "    return total"
   ]
  },
  {
   "cell_type": "code",
   "execution_count": 45,
   "id": "0e14ad35",
   "metadata": {},
   "outputs": [],
   "source": [
    "# Record the start time\n",
    "start_time = time.time()"
   ]
  },
  {
   "cell_type": "code",
   "execution_count": 46,
   "id": "50d332b7",
   "metadata": {},
   "outputs": [],
   "source": [
    "# Call the method\n",
    "result = exec_time_method()"
   ]
  },
  {
   "cell_type": "code",
   "execution_count": 47,
   "id": "c648235d",
   "metadata": {},
   "outputs": [],
   "source": [
    "# Record the end time\n",
    "end_time = time.time()"
   ]
  },
  {
   "cell_type": "code",
   "execution_count": 48,
   "id": "bb9a0539",
   "metadata": {},
   "outputs": [],
   "source": [
    "# Calculate the execution time\n",
    "execution_time = end_time - start_time"
   ]
  },
  {
   "cell_type": "code",
   "execution_count": 49,
   "id": "6a9de763",
   "metadata": {},
   "outputs": [
    {
     "name": "stdout",
     "output_type": "stream",
     "text": [
      "Result: 999999\n"
     ]
    }
   ],
   "source": [
    "print(f\"Result: {result}\")"
   ]
  },
  {
   "cell_type": "code",
   "execution_count": 50,
   "id": "641cf9ec",
   "metadata": {
    "scrolled": true
   },
   "outputs": [
    {
     "name": "stdout",
     "output_type": "stream",
     "text": [
      "Execution Time: 0.6101377010345459 seconds\n"
     ]
    }
   ],
   "source": [
    "print(f\"Execution Time: {execution_time} seconds\")"
   ]
  },
  {
   "cell_type": "markdown",
   "id": "206362be",
   "metadata": {},
   "source": [
    "---"
   ]
  },
  {
   "cell_type": "markdown",
   "id": "e8debe27",
   "metadata": {},
   "source": [
    "---"
   ]
  },
  {
   "cell_type": "markdown",
   "id": "11fb3318",
   "metadata": {},
   "source": [
    "### 58. Write a Python program to sum the first n positive integers. "
   ]
  },
  {
   "cell_type": "code",
   "execution_count": 51,
   "id": "16635950",
   "metadata": {},
   "outputs": [
    {
     "name": "stdout",
     "output_type": "stream",
     "text": [
      "Input a number: 10\n"
     ]
    }
   ],
   "source": [
    "n = int(input(\"Input a number: \"))"
   ]
  },
  {
   "cell_type": "code",
   "execution_count": 52,
   "id": "fd4cdb1d",
   "metadata": {},
   "outputs": [],
   "source": [
    "sum_num = (n * (n + 1)) / 2"
   ]
  },
  {
   "cell_type": "code",
   "execution_count": 53,
   "id": "62fc2524",
   "metadata": {
    "scrolled": true
   },
   "outputs": [
    {
     "name": "stdout",
     "output_type": "stream",
     "text": [
      "The sum of the first 10 positive integers, is 55.0\n"
     ]
    }
   ],
   "source": [
    "print(f\"The sum of the first {n} positive integers, is {sum_num}\")"
   ]
  },
  {
   "cell_type": "markdown",
   "id": "99c37348",
   "metadata": {},
   "source": [
    "---"
   ]
  },
  {
   "cell_type": "markdown",
   "id": "1c49beed",
   "metadata": {},
   "source": [
    "---"
   ]
  },
  {
   "cell_type": "markdown",
   "id": "f7f19414",
   "metadata": {},
   "source": [
    "### 59. Write a Python program to convert height (in feet and inches) to centimeters. "
   ]
  },
  {
   "cell_type": "code",
   "execution_count": 56,
   "id": "6bd4dc86",
   "metadata": {},
   "outputs": [],
   "source": [
    "def ft_inch_m_cm(f, i):\n",
    "    h_in = f * 12 + i\n",
    "    h_cm = (h_in * 2.54)\n",
    "    return h_cm"
   ]
  },
  {
   "cell_type": "code",
   "execution_count": 58,
   "id": "8e4104c7",
   "metadata": {
    "scrolled": true
   },
   "outputs": [
    {
     "name": "stdout",
     "output_type": "stream",
     "text": [
      "160.02\n"
     ]
    }
   ],
   "source": [
    "print(ft_inch_m_cm(5, 3))"
   ]
  },
  {
   "cell_type": "markdown",
   "id": "827b7774",
   "metadata": {},
   "source": [
    "---"
   ]
  },
  {
   "cell_type": "markdown",
   "id": "db27bdbe",
   "metadata": {},
   "source": [
    "---"
   ]
  },
  {
   "cell_type": "markdown",
   "id": "1aa00bb1",
   "metadata": {},
   "source": [
    "### 60. Write a Python program to calculate the hypotenuse of a right angled triangle. "
   ]
  },
  {
   "cell_type": "code",
   "execution_count": 59,
   "id": "a9ed34d6",
   "metadata": {},
   "outputs": [],
   "source": [
    "from math import sqrt"
   ]
  },
  {
   "cell_type": "code",
   "execution_count": 61,
   "id": "e3cbab64",
   "metadata": {},
   "outputs": [],
   "source": [
    "def hypotenuse(b, a):\n",
    "    h = sqrt(a**2 + b**2)\n",
    "    return h"
   ]
  },
  {
   "cell_type": "code",
   "execution_count": 62,
   "id": "d907e08e",
   "metadata": {
    "scrolled": false
   },
   "outputs": [
    {
     "name": "stdout",
     "output_type": "stream",
     "text": [
      "5.0\n"
     ]
    }
   ],
   "source": [
    "print(hypotenuse(3, 4))"
   ]
  },
  {
   "cell_type": "markdown",
   "id": "b2b038ae",
   "metadata": {},
   "source": [
    "---"
   ]
  },
  {
   "cell_type": "markdown",
   "id": "f6579b2b",
   "metadata": {},
   "source": [
    "---"
   ]
  },
  {
   "cell_type": "markdown",
   "id": "dd947dfe",
   "metadata": {},
   "source": [
    "### 61. Write a Python program to convert the distance (in feet) to inches, yards, and miles. "
   ]
  },
  {
   "cell_type": "code",
   "execution_count": 63,
   "id": "889b4af2",
   "metadata": {},
   "outputs": [],
   "source": [
    "def convertfeeto(fd):\n",
    "    in_dis = fd * 12\n",
    "    yar_dis = in_dis/36\n",
    "    mile_dis = yar_dis / 1760\n",
    "    print(f\"Input distance in feet = {fd}\")\n",
    "    print(f\"Distance in inches= {in_dis}\")\n",
    "    print(f\"Distance in yards= {yar_dis}\")\n",
    "    print(f\"Distance in miles= {mile_dis}\")"
   ]
  },
  {
   "cell_type": "code",
   "execution_count": 64,
   "id": "dc1e1ca1",
   "metadata": {},
   "outputs": [
    {
     "name": "stdout",
     "output_type": "stream",
     "text": [
      "Input distance in feet = 100\n",
      "Distance in inches= 1200\n",
      "Distance in yards= 33.333333333333336\n",
      "Distance in miles= 0.01893939393939394\n"
     ]
    }
   ],
   "source": [
    "convertfeeto(100)"
   ]
  },
  {
   "cell_type": "code",
   "execution_count": 65,
   "id": "5198edfd",
   "metadata": {
    "scrolled": true
   },
   "outputs": [
    {
     "name": "stdout",
     "output_type": "stream",
     "text": [
      "Input distance in feet = 5000\n",
      "Distance in inches= 60000\n",
      "Distance in yards= 1666.6666666666667\n",
      "Distance in miles= 0.946969696969697\n"
     ]
    }
   ],
   "source": [
    "convertfeeto(5000)"
   ]
  },
  {
   "cell_type": "markdown",
   "id": "b63c75b6",
   "metadata": {},
   "source": [
    "---"
   ]
  },
  {
   "cell_type": "markdown",
   "id": "6170b91d",
   "metadata": {},
   "source": [
    "---"
   ]
  },
  {
   "cell_type": "markdown",
   "id": "8954f8c0",
   "metadata": {},
   "source": [
    "### 62. Write a Python program to convert all units of time into seconds. "
   ]
  },
  {
   "cell_type": "code",
   "execution_count": 66,
   "id": "21aaa71b",
   "metadata": {},
   "outputs": [
    {
     "name": "stdout",
     "output_type": "stream",
     "text": [
      "Input days: 4\n"
     ]
    }
   ],
   "source": [
    "days = int(input(\"Input days: \"))"
   ]
  },
  {
   "cell_type": "code",
   "execution_count": 67,
   "id": "6140e06f",
   "metadata": {},
   "outputs": [
    {
     "name": "stdout",
     "output_type": "stream",
     "text": [
      "Input hours: 5\n"
     ]
    }
   ],
   "source": [
    "hours = int(input(\"Input hours: \"))"
   ]
  },
  {
   "cell_type": "code",
   "execution_count": 68,
   "id": "24c899df",
   "metadata": {},
   "outputs": [
    {
     "name": "stdout",
     "output_type": "stream",
     "text": [
      "Input minutes: 20\n"
     ]
    }
   ],
   "source": [
    "minutes = int(input(\"Input minutes: \"))"
   ]
  },
  {
   "cell_type": "code",
   "execution_count": 69,
   "id": "8cfbeee5",
   "metadata": {},
   "outputs": [
    {
     "name": "stdout",
     "output_type": "stream",
     "text": [
      "Input seconds: 10\n"
     ]
    }
   ],
   "source": [
    "seconds = int(input(\"Input seconds: \"))"
   ]
  },
  {
   "cell_type": "code",
   "execution_count": 70,
   "id": "9c5e4bd8",
   "metadata": {},
   "outputs": [],
   "source": [
    "total_sec = (days*24*3600)+(hours*3600)+(minutes*60)+seconds"
   ]
  },
  {
   "cell_type": "code",
   "execution_count": 71,
   "id": "d8db175b",
   "metadata": {
    "scrolled": true
   },
   "outputs": [
    {
     "name": "stdout",
     "output_type": "stream",
     "text": [
      "Total seconds: 364810\n"
     ]
    }
   ],
   "source": [
    "print(f\"Total seconds: {total_sec}\")"
   ]
  },
  {
   "cell_type": "markdown",
   "id": "f890209b",
   "metadata": {},
   "source": [
    "---"
   ]
  },
  {
   "cell_type": "markdown",
   "id": "2a8c843c",
   "metadata": {},
   "source": [
    "---"
   ]
  },
  {
   "cell_type": "markdown",
   "id": "da98ce25",
   "metadata": {},
   "source": [
    "### 63. Write a Python program to get an absolute file path."
   ]
  },
  {
   "cell_type": "code",
   "execution_count": 76,
   "id": "d2d5fb1e",
   "metadata": {},
   "outputs": [],
   "source": [
    "import os"
   ]
  },
  {
   "cell_type": "code",
   "execution_count": 77,
   "id": "745089ad",
   "metadata": {},
   "outputs": [],
   "source": [
    "# Specify the file path using double backslashes or a raw string\n",
    "file_path = r\"D:\\Python_projects\\Python\\001_w3resource\\001_w3resource_PythonBasic_Part1\\0002_Python basic (Part -I) 26 - 50.ipynb\""
   ]
  },
  {
   "cell_type": "code",
   "execution_count": 78,
   "id": "e75bdd10",
   "metadata": {},
   "outputs": [],
   "source": [
    "# Get the absolute file path\n",
    "absolute_path = os.path.abspath(file_path)"
   ]
  },
  {
   "cell_type": "code",
   "execution_count": 79,
   "id": "ff8e6e20",
   "metadata": {},
   "outputs": [
    {
     "name": "stdout",
     "output_type": "stream",
     "text": [
      "Absolute File Path: D:\\Python_projects\\Python\\001_w3resource\\001_w3resource_PythonBasic_Part1\\0002_Python basic (Part -I) 26 - 50.ipynb\n"
     ]
    }
   ],
   "source": [
    "print(f\"Absolute File Path: {absolute_path}\")"
   ]
  },
  {
   "cell_type": "markdown",
   "id": "cf004970",
   "metadata": {},
   "source": [
    " In Python, backslashes (\\) are used as escape characters in strings. To specify a file path with backslashes, you need to either use double backslashes (\\\\) or use a raw string by adding an 'r' prefix before the string. "
   ]
  },
  {
   "cell_type": "markdown",
   "id": "c8a96449",
   "metadata": {},
   "source": [
    "---"
   ]
  },
  {
   "cell_type": "markdown",
   "id": "16e9c123",
   "metadata": {},
   "source": [
    "---"
   ]
  },
  {
   "cell_type": "markdown",
   "id": "269dfb0c",
   "metadata": {},
   "source": [
    "### 64. Write a Python program that retrieves the date and time of file creation and modification. "
   ]
  },
  {
   "cell_type": "code",
   "execution_count": 80,
   "id": "1fdbf396",
   "metadata": {},
   "outputs": [],
   "source": [
    "import os.path, time"
   ]
  },
  {
   "cell_type": "code",
   "execution_count": 82,
   "id": "5170b9cf",
   "metadata": {
    "scrolled": true
   },
   "outputs": [
    {
     "name": "stdout",
     "output_type": "stream",
     "text": [
      "Last modified: Mon Oct  9 19:49:28 2023\n"
     ]
    }
   ],
   "source": [
    "print(\"Last modified: %s\" % time.ctime(os.path.getmtime(\"0002_Python basic (Part -I) 26 - 50.ipynb\")))"
   ]
  },
  {
   "cell_type": "code",
   "execution_count": 83,
   "id": "3520b1d4",
   "metadata": {},
   "outputs": [
    {
     "name": "stdout",
     "output_type": "stream",
     "text": [
      "Created: Sat Oct  7 22:12:23 2023\n"
     ]
    }
   ],
   "source": [
    "print(\"Created: %s\" % time.ctime(os.path.getctime(\"0002_Python basic (Part -I) 26 - 50.ipynb\")))"
   ]
  },
  {
   "cell_type": "markdown",
   "id": "e5c2461d",
   "metadata": {},
   "source": [
    "---"
   ]
  },
  {
   "cell_type": "markdown",
   "id": "ca3219f1",
   "metadata": {},
   "source": [
    "---"
   ]
  },
  {
   "cell_type": "markdown",
   "id": "458e629a",
   "metadata": {},
   "source": [
    "### 65. Write a Python program that converts seconds into days, hours, minutes, and seconds. "
   ]
  },
  {
   "cell_type": "code",
   "execution_count": 84,
   "id": "ca9a848b",
   "metadata": {},
   "outputs": [
    {
     "name": "stdout",
     "output_type": "stream",
     "text": [
      "Enter the number of seconds: 1234565\n"
     ]
    }
   ],
   "source": [
    "seconds = int(input(\"Enter the number of seconds: \"))"
   ]
  },
  {
   "cell_type": "code",
   "execution_count": 85,
   "id": "a230cffa",
   "metadata": {},
   "outputs": [],
   "source": [
    "# Calculate the number of days, hours, minutes, and remaining seconds\n",
    "days = seconds // (24 * 3600)\n",
    "seconds %= (24 * 3600)\n",
    "\n",
    "hours = seconds // 3600\n",
    "seconds %= 3600\n",
    "\n",
    "minutes = seconds // 60\n",
    "seconds %= 60"
   ]
  },
  {
   "cell_type": "code",
   "execution_count": 86,
   "id": "3fba5c9a",
   "metadata": {
    "scrolled": true
   },
   "outputs": [
    {
     "name": "stdout",
     "output_type": "stream",
     "text": [
      "Days: 14\n",
      "Hours: 6\n",
      "Minutes: 56\n",
      "Seconds: 5\n"
     ]
    }
   ],
   "source": [
    "# Output the result\n",
    "print(f\"Days: {days}\")\n",
    "print(f\"Hours: {hours}\")\n",
    "print(f\"Minutes: {minutes}\")\n",
    "print(f\"Seconds: {seconds}\")"
   ]
  },
  {
   "cell_type": "markdown",
   "id": "f1ffe86b",
   "metadata": {},
   "source": [
    "---"
   ]
  },
  {
   "cell_type": "markdown",
   "id": "2a562487",
   "metadata": {},
   "source": [
    "---"
   ]
  },
  {
   "cell_type": "markdown",
   "id": "57a72ecb",
   "metadata": {},
   "source": [
    "### 66. Write a Python program to calculate the body mass index. "
   ]
  },
  {
   "cell_type": "markdown",
   "id": "5ea6898e",
   "metadata": {},
   "source": [
    "Body Mass Index = weight(kg) / height (m)^2"
   ]
  },
  {
   "cell_type": "code",
   "execution_count": 3,
   "id": "d4a82f6b",
   "metadata": {},
   "outputs": [
    {
     "name": "stdout",
     "output_type": "stream",
     "text": [
      "Enter weight in kg: 65\n"
     ]
    }
   ],
   "source": [
    "weight_kg = float(input(\"Enter weight in kg: \"))"
   ]
  },
  {
   "cell_type": "code",
   "execution_count": 4,
   "id": "64480cd7",
   "metadata": {},
   "outputs": [
    {
     "name": "stdout",
     "output_type": "stream",
     "text": [
      "Enter height in m: 1.65\n"
     ]
    }
   ],
   "source": [
    "height_m = float(input(\"Enter height in m: \"))"
   ]
  },
  {
   "cell_type": "code",
   "execution_count": 5,
   "id": "0cf5480c",
   "metadata": {},
   "outputs": [],
   "source": [
    "bmi = (weight_kg)/(height_m**2)"
   ]
  },
  {
   "cell_type": "code",
   "execution_count": 6,
   "id": "c18dff2d",
   "metadata": {
    "scrolled": false
   },
   "outputs": [
    {
     "name": "stdout",
     "output_type": "stream",
     "text": [
      "Your BMI is: 23.875114784205696\n"
     ]
    }
   ],
   "source": [
    "print(f\"Your BMI is: {bmi}\")"
   ]
  },
  {
   "cell_type": "markdown",
   "id": "c7caee10",
   "metadata": {},
   "source": [
    "---"
   ]
  },
  {
   "cell_type": "markdown",
   "id": "2614f24f",
   "metadata": {},
   "source": [
    "---"
   ]
  },
  {
   "cell_type": "markdown",
   "id": "d74af7bf",
   "metadata": {},
   "source": [
    "### 67. Write a Python program to convert pressure in kilopascals to pounds per square inch, a millimeter of mercury (mmHg) and atmosphere pressure. "
   ]
  },
  {
   "cell_type": "code",
   "execution_count": 8,
   "id": "98145e05",
   "metadata": {},
   "outputs": [
    {
     "name": "stdout",
     "output_type": "stream",
     "text": [
      "Input pressure in kilopascals: 12.35\n"
     ]
    }
   ],
   "source": [
    "kpa = float(input(\"Input pressure in kilopascals: \")) #12.35"
   ]
  },
  {
   "cell_type": "code",
   "execution_count": 12,
   "id": "507cfd57",
   "metadata": {},
   "outputs": [],
   "source": [
    "psi = kpa / 6.89475729"
   ]
  },
  {
   "cell_type": "code",
   "execution_count": 13,
   "id": "e6979b6d",
   "metadata": {},
   "outputs": [],
   "source": [
    "psi = round(psi,3)"
   ]
  },
  {
   "cell_type": "code",
   "execution_count": 14,
   "id": "425752c7",
   "metadata": {},
   "outputs": [
    {
     "name": "stdout",
     "output_type": "stream",
     "text": [
      "The pressure in pounds per square inch: 1.791 psi\n"
     ]
    }
   ],
   "source": [
    "print(f\"The pressure in pounds per square inch: {psi} psi\")"
   ]
  },
  {
   "cell_type": "code",
   "execution_count": 15,
   "id": "2e7bcb69",
   "metadata": {},
   "outputs": [],
   "source": [
    "mmhg = kpa * 760 / 101.325"
   ]
  },
  {
   "cell_type": "code",
   "execution_count": 17,
   "id": "1f7cd338",
   "metadata": {},
   "outputs": [],
   "source": [
    "mmhg = round(mmhg,3)"
   ]
  },
  {
   "cell_type": "code",
   "execution_count": 18,
   "id": "db7b107b",
   "metadata": {},
   "outputs": [
    {
     "name": "stdout",
     "output_type": "stream",
     "text": [
      "The pressure in millimeter of mercury: 92.633 mmHg\n"
     ]
    }
   ],
   "source": [
    "print(f\"The pressure in millimeter of mercury: {mmhg} mmHg\")"
   ]
  },
  {
   "cell_type": "code",
   "execution_count": 19,
   "id": "6fa3b3ec",
   "metadata": {},
   "outputs": [],
   "source": [
    "atm = kpa / 101.325"
   ]
  },
  {
   "cell_type": "code",
   "execution_count": 20,
   "id": "baf0fbec",
   "metadata": {},
   "outputs": [],
   "source": [
    "atm = round(atm,3)"
   ]
  },
  {
   "cell_type": "code",
   "execution_count": 21,
   "id": "900cf99e",
   "metadata": {
    "scrolled": true
   },
   "outputs": [
    {
     "name": "stdout",
     "output_type": "stream",
     "text": [
      "Atmosphere pressure: 0.122 atm\n"
     ]
    }
   ],
   "source": [
    "print(f\"Atmosphere pressure: {atm} atm\")"
   ]
  },
  {
   "cell_type": "markdown",
   "id": "95492493",
   "metadata": {},
   "source": [
    "---"
   ]
  },
  {
   "cell_type": "markdown",
   "id": "54ec58b8",
   "metadata": {},
   "source": [
    "---"
   ]
  },
  {
   "cell_type": "markdown",
   "id": "b460d280",
   "metadata": {},
   "source": [
    "### 68. Write a Python program to calculate sum of digits of a number. "
   ]
  },
  {
   "cell_type": "code",
   "execution_count": 30,
   "id": "2bf9323f",
   "metadata": {},
   "outputs": [],
   "source": [
    "def sum_digits(n):\n",
    "    digit_sum = 0\n",
    "    \n",
    "    while n > 0:\n",
    "        digit = n % 10\n",
    "        print(digit)\n",
    "        digit_sum += digit\n",
    "        n = n//10\n",
    "    return digit_sum"
   ]
  },
  {
   "cell_type": "markdown",
   "id": "fdc785fe",
   "metadata": {},
   "source": [
    "`n // 10` realiza una división entera de n entre 10 y descarta cualquier parte fraccional. "
   ]
  },
  {
   "cell_type": "code",
   "execution_count": 33,
   "id": "7af0cd6b",
   "metadata": {},
   "outputs": [
    {
     "name": "stdout",
     "output_type": "stream",
     "text": [
      "Enter a integer number 1345876\n"
     ]
    }
   ],
   "source": [
    "number = int(input(\"Enter a integer number \"))"
   ]
  },
  {
   "cell_type": "code",
   "execution_count": 34,
   "id": "82a43c74",
   "metadata": {
    "scrolled": false
   },
   "outputs": [
    {
     "name": "stdout",
     "output_type": "stream",
     "text": [
      "6\n",
      "7\n",
      "8\n",
      "5\n",
      "4\n",
      "3\n",
      "1\n",
      "The sum of the digits of 1345876 is 34\n"
     ]
    }
   ],
   "source": [
    "print(f\"The sum of the digits of {number} is {sum_digits(number)}\")"
   ]
  },
  {
   "cell_type": "markdown",
   "id": "a2c7f676",
   "metadata": {},
   "source": [
    "---"
   ]
  },
  {
   "cell_type": "markdown",
   "id": "f7188b93",
   "metadata": {},
   "source": [
    "---"
   ]
  },
  {
   "cell_type": "markdown",
   "id": "06092c77",
   "metadata": {},
   "source": [
    "### 69. Write a Python program to sort three integers without using conditional statements and loops. "
   ]
  },
  {
   "cell_type": "code",
   "execution_count": 42,
   "id": "137bc217",
   "metadata": {},
   "outputs": [
    {
     "name": "stdout",
     "output_type": "stream",
     "text": [
      "Input first number: 9\n"
     ]
    }
   ],
   "source": [
    "x = int(input(\"Input first number: \"))"
   ]
  },
  {
   "cell_type": "code",
   "execution_count": 43,
   "id": "fa4901ce",
   "metadata": {},
   "outputs": [
    {
     "name": "stdout",
     "output_type": "stream",
     "text": [
      "Input second number: 5\n"
     ]
    }
   ],
   "source": [
    "y = int(input(\"Input second number: \"))"
   ]
  },
  {
   "cell_type": "code",
   "execution_count": 44,
   "id": "2dcfb7f5",
   "metadata": {},
   "outputs": [
    {
     "name": "stdout",
     "output_type": "stream",
     "text": [
      "Input third number: 1\n"
     ]
    }
   ],
   "source": [
    "z = int(input(\"Input third number: \"))"
   ]
  },
  {
   "cell_type": "code",
   "execution_count": 45,
   "id": "99263fe2",
   "metadata": {},
   "outputs": [],
   "source": [
    "a1 = min(x, y, z)"
   ]
  },
  {
   "cell_type": "code",
   "execution_count": 46,
   "id": "f2477a53",
   "metadata": {},
   "outputs": [],
   "source": [
    "a3 = max(x, y, z)"
   ]
  },
  {
   "cell_type": "code",
   "execution_count": 47,
   "id": "fee2a86e",
   "metadata": {},
   "outputs": [],
   "source": [
    "a2 = (x + y + z) - a1 - a3"
   ]
  },
  {
   "cell_type": "code",
   "execution_count": 48,
   "id": "4160e212",
   "metadata": {},
   "outputs": [
    {
     "name": "stdout",
     "output_type": "stream",
     "text": [
      "1, 5, 9\n"
     ]
    }
   ],
   "source": [
    "print(f\"{a1}, {a2}, {a3}\")"
   ]
  },
  {
   "cell_type": "markdown",
   "id": "2702fa53",
   "metadata": {},
   "source": [
    "---"
   ]
  },
  {
   "cell_type": "markdown",
   "id": "fd930b78",
   "metadata": {},
   "source": [
    "---"
   ]
  },
  {
   "cell_type": "markdown",
   "id": "1be8b0cf",
   "metadata": {},
   "source": [
    "### 70. Write a Python program to sort files by date. "
   ]
  },
  {
   "cell_type": "code",
   "execution_count": 49,
   "id": "88f207b2",
   "metadata": {},
   "outputs": [],
   "source": [
    "import os"
   ]
  },
  {
   "cell_type": "code",
   "execution_count": 50,
   "id": "b7336381",
   "metadata": {},
   "outputs": [],
   "source": [
    "os.chdir('d:')"
   ]
  },
  {
   "cell_type": "code",
   "execution_count": 51,
   "id": "b52b76e2",
   "metadata": {},
   "outputs": [],
   "source": [
    "result = sorted(filter(os.path.isfile, os.listdir('.')), key=os.path.getmtime)"
   ]
  },
  {
   "cell_type": "code",
   "execution_count": 52,
   "id": "0521b8d2",
   "metadata": {},
   "outputs": [
    {
     "name": "stdout",
     "output_type": "stream",
     "text": [
      "README.md\n",
      "0001_Python basic (Part -I) 1 - 25.ipynb\n",
      "0002_Python basic (Part -I) 26 - 50.ipynb\n",
      "0003_Python basic (Part -I) 51 - 75.ipynb\n"
     ]
    }
   ],
   "source": [
    "print('\\n'.join(map(str, result)))"
   ]
  },
  {
   "cell_type": "code",
   "execution_count": null,
   "id": "36940919",
   "metadata": {},
   "outputs": [],
   "source": []
  }
 ],
 "metadata": {
  "kernelspec": {
   "display_name": "Python 3",
   "language": "python",
   "name": "python3"
  },
  "language_info": {
   "codemirror_mode": {
    "name": "ipython",
    "version": 3
   },
   "file_extension": ".py",
   "mimetype": "text/x-python",
   "name": "python",
   "nbconvert_exporter": "python",
   "pygments_lexer": "ipython3",
   "version": "3.8.8"
  }
 },
 "nbformat": 4,
 "nbformat_minor": 5
}

{
 "cells": [
  {
   "cell_type": "markdown",
   "id": "0c58b6c3",
   "metadata": {},
   "source": [
    "# 0004_Python basic (Part -I) 76 - 100"
   ]
  },
  {
   "cell_type": "markdown",
   "id": "597337bb",
   "metadata": {},
   "source": [
    "Ejercicios python 76 - 100\n",
    "[Python basic (Part -I)](https://www.w3resource.com/python-exercises/python-basic-exercises.php)"
   ]
  },
  {
   "cell_type": "markdown",
   "id": "537e59a7",
   "metadata": {},
   "source": [
    "---"
   ]
  },
  {
   "cell_type": "markdown",
   "id": "ca06f656",
   "metadata": {},
   "source": [
    "### 76. Write a Python program to get the command-line arguments (name of the script, the number of arguments, arguments) passed to a script. "
   ]
  },
  {
   "cell_type": "code",
   "execution_count": 1,
   "id": "b9343d54",
   "metadata": {},
   "outputs": [],
   "source": [
    "import sys"
   ]
  },
  {
   "cell_type": "code",
   "execution_count": 5,
   "id": "83c263fc",
   "metadata": {},
   "outputs": [
    {
     "name": "stdout",
     "output_type": "stream",
     "text": [
      "This is the name/path of the script:\n",
      "C:\\ProgramData\\Anaconda3\\lib\\site-packages\\ipykernel_launcher.py\n"
     ]
    }
   ],
   "source": [
    "print(f\"This is the name/path of the script:\\n{sys.argv[0]}\")"
   ]
  },
  {
   "cell_type": "code",
   "execution_count": 6,
   "id": "6d9ec0d4",
   "metadata": {},
   "outputs": [
    {
     "name": "stdout",
     "output_type": "stream",
     "text": [
      "Number of arguments: 3\n"
     ]
    }
   ],
   "source": [
    "print(f\"Number of arguments: {len(sys.argv)}\")"
   ]
  },
  {
   "cell_type": "code",
   "execution_count": 7,
   "id": "980d55a4",
   "metadata": {},
   "outputs": [
    {
     "name": "stdout",
     "output_type": "stream",
     "text": [
      "Argument List: ['C:\\\\ProgramData\\\\Anaconda3\\\\lib\\\\site-packages\\\\ipykernel_launcher.py', '-f', 'C:\\\\Users\\\\Asus ROG PC\\\\AppData\\\\Roaming\\\\jupyter\\\\runtime\\\\kernel-0c416a2e-85ce-4f9b-9b21-1db43df385ac.json']\n"
     ]
    }
   ],
   "source": [
    "print(f\"Argument List: {str(sys.argv)}\")"
   ]
  },
  {
   "cell_type": "markdown",
   "id": "cf0344e9",
   "metadata": {},
   "source": [
    "When you print sys.argv, it displays a list of command-line arguments that were passed to the Python script. The list includes the script's name (usually at index 0) and any additional arguments provided when running the script.\n",
    "\n",
    "In your example, it shows that the script is being run with the name ipykernel_launcher.py and two additional arguments, which are -f and the path to a JSON file. This is a typical output when running a Python script within Jupyter Notebook or IPython, where -f is used to specify a connection file.\n",
    "\n",
    "So, the output you posted is indeed the correct representation of the command-line arguments passed to your script at the time of execution."
   ]
  },
  {
   "cell_type": "markdown",
   "id": "068f63c5",
   "metadata": {},
   "source": [
    "---"
   ]
  },
  {
   "cell_type": "markdown",
   "id": "56f11436",
   "metadata": {},
   "source": [
    "---"
   ]
  },
  {
   "cell_type": "markdown",
   "id": "86179f09",
   "metadata": {},
   "source": [
    "### 77. Write a Python program to test whether the system is a big-endian platform or a little-endian platform. "
   ]
  },
  {
   "cell_type": "markdown",
   "id": "55e64af7",
   "metadata": {},
   "source": [
    "Write a Python program to test whether the system is a big-endian platform or a little-endian platform.\n",
    "\n",
    "sys.byteorder: An indicator of the native byte order. This will have the value 'big' on big-endian (most-significant byte first) platforms, and 'little' on little-endian (least-significant byte first) platforms."
   ]
  },
  {
   "cell_type": "code",
   "execution_count": 8,
   "id": "82fe9a8e",
   "metadata": {},
   "outputs": [],
   "source": [
    "import sys"
   ]
  },
  {
   "cell_type": "code",
   "execution_count": 9,
   "id": "db3e1a2f",
   "metadata": {},
   "outputs": [
    {
     "name": "stdout",
     "output_type": "stream",
     "text": [
      "little\n"
     ]
    }
   ],
   "source": [
    "print(sys.byteorder)"
   ]
  },
  {
   "cell_type": "code",
   "execution_count": 10,
   "id": "9fd2ca2a",
   "metadata": {},
   "outputs": [
    {
     "name": "stdout",
     "output_type": "stream",
     "text": [
      "Little-endian platform.\n"
     ]
    }
   ],
   "source": [
    "if sys.byteorder == \"little\":\n",
    "    #intel, alpha\n",
    "    print(\"Little-endian platform.\")\n",
    "else:\n",
    "    #motorola, sparc\n",
    "    print(\"Big-endian platform.\")"
   ]
  },
  {
   "cell_type": "markdown",
   "id": "8bec65b5",
   "metadata": {},
   "source": [
    "---"
   ]
  },
  {
   "cell_type": "markdown",
   "id": "04dfc921",
   "metadata": {},
   "source": [
    "---"
   ]
  },
  {
   "cell_type": "markdown",
   "id": "a2cf4a7d",
   "metadata": {},
   "source": [
    "### 78. Write a Python program to find the available built-in modules. "
   ]
  },
  {
   "cell_type": "code",
   "execution_count": 11,
   "id": "579ad16f",
   "metadata": {},
   "outputs": [],
   "source": [
    "import sys"
   ]
  },
  {
   "cell_type": "code",
   "execution_count": 12,
   "id": "729c45c2",
   "metadata": {},
   "outputs": [],
   "source": [
    "import textwrap"
   ]
  },
  {
   "cell_type": "code",
   "execution_count": 13,
   "id": "8feae8ac",
   "metadata": {},
   "outputs": [],
   "source": [
    "module_name = ', '.join(sorted(sys.builtin_module_names))"
   ]
  },
  {
   "cell_type": "code",
   "execution_count": 14,
   "id": "11f46fff",
   "metadata": {},
   "outputs": [
    {
     "name": "stdout",
     "output_type": "stream",
     "text": [
      "_abc, _ast, _bisect, _blake2, _codecs, _codecs_cn, _codecs_hk,\n",
      "_codecs_iso2022, _codecs_jp, _codecs_kr, _codecs_tw, _collections,\n",
      "_contextvars, _csv, _datetime, _functools, _heapq, _imp, _io, _json,\n",
      "_locale, _lsprof, _md5, _multibytecodec, _opcode, _operator, _pickle,\n",
      "_random, _sha1, _sha256, _sha3, _sha512, _signal, _sre, _stat,\n",
      "_statistics, _string, _struct, _symtable, _thread, _tracemalloc,\n",
      "_warnings, _weakref, _winapi, _xxsubinterpreters, array, atexit,\n",
      "audioop, binascii, builtins, cmath, errno, faulthandler, gc,\n",
      "itertools, marshal, math, mmap, msvcrt, nt, parser, sys, time, winreg,\n",
      "xxsubtype, zlib\n"
     ]
    }
   ],
   "source": [
    "print(textwrap.fill(module_name, width=70))"
   ]
  },
  {
   "cell_type": "code",
   "execution_count": 15,
   "id": "0ed1c1cf",
   "metadata": {},
   "outputs": [
    {
     "name": "stdout",
     "output_type": "stream",
     "text": [
      "\n",
      "Please wait a moment while I gather a list of all available modules...\n",
      "\n"
     ]
    },
    {
     "name": "stderr",
     "output_type": "stream",
     "text": [
      "C:\\ProgramData\\Anaconda3\\lib\\site-packages\\IPython\\kernel\\__init__.py:12: ShimWarning: The `IPython.kernel` package has been deprecated since IPython 4.0.You should import from ipykernel or jupyter_client instead.\n",
      "  warn(\"The `IPython.kernel` package has been deprecated since IPython 4.0.\"\n",
      "WARNING: AstropyDeprecationWarning: The private astropy._erfa module has been made into its own package, pyerfa, which is a dependency of astropy and can be imported directly using \"import erfa\" [astropy._erfa]\n",
      "C:\\ProgramData\\Anaconda3\\lib\\pkgutil.py:92: MatplotlibDeprecationWarning: \n",
      "The matplotlib.compat module was deprecated in Matplotlib 3.3 and will be removed two minor releases later.\n",
      "  __import__(info.name)\n",
      "C:\\ProgramData\\Anaconda3\\lib\\site-packages\\nltk\\twitter\\__init__.py:21: UserWarning: The twython library has not been installed. Some functionality from the twitter package will not be available.\n",
      "  warnings.warn(\n"
     ]
    },
    {
     "name": "stdout",
     "output_type": "stream",
     "text": [
      "pygame 2.3.0 (SDL 2.24.2, Python 3.8.8)\n",
      "Hello from the pygame community. https://www.pygame.org/contribute.html\n"
     ]
    },
    {
     "name": "stderr",
     "output_type": "stream",
     "text": [
      "C:\\ProgramData\\Anaconda3\\lib\\site-packages\\skimage\\viewer\\utils\\__init__.py:1: UserWarning: Recommended matplotlib backend is `Agg` for full skimage.viewer functionality.\n",
      "  from .core import *\n",
      "C:\\ProgramData\\Anaconda3\\lib\\site-packages\\qtawesome\\iconic_font.py:313: UserWarning: You need to have a running QApplication to use QtAwesome!\n",
      "  warnings.warn(\"You need to have a running \"\n"
     ]
    },
    {
     "name": "stdout",
     "output_type": "stream",
     "text": [
      "_cffi_ext.c\r\n",
      "C:\\ProgramData\\Anaconda3\\lib\\site-packages\\zmq\\backend\\cffi\\__pycache__\\_cffi_ext.c(268): fatal error C1083: Cannot open include file: 'zmq.h': No such file or directory\r\n"
     ]
    },
    {
     "name": "stderr",
     "output_type": "stream",
     "text": [
      "C:\\ProgramData\\Anaconda3\\lib\\pkgutil.py:107: VisibleDeprecationWarning: zmq.eventloop.minitornado is deprecated in pyzmq 14.0 and will be removed.\n",
      "    Install tornado itself to use zmq with the tornado IOLoop.\n",
      "    \n",
      "  yield from walk_packages(path, info.name+'.', onerror)\n"
     ]
    },
    {
     "name": "stdout",
     "output_type": "stream",
     "text": [
      "Cython              brain_scipy_signal  mailcap             smtpd\n",
      "IPython             brain_six           markupsafe          smtplib\n",
      "OpenSSL             brain_sqlalchemy    marshal             sndhdr\n",
      "PIL                 brain_ssl           math                sniffio\n",
      "PyQt5               brain_subprocess    matplotlib          snowballstemmer\n",
      "__future__          brain_threading     mccabe              socket\n",
      "_abc                brain_type          mcpi                socketserver\n",
      "_ast                brain_typing        menuinst            socks\n",
      "_asyncio            brain_uuid          mimetypes           sockshandler\n",
      "_bisect             brotli              mistune             sortedcollections\n",
      "_black_version      bs4                 mkl                 sortedcontainers\n",
      "_blake2             builtins            mkl_fft             soupsieve\n",
      "_bootlocale         bz2                 mkl_random          sphinx\n",
      "_bz2                cProfile            mmap                sphinxcontrib\n",
      "_cffi_backend       calendar            mmapfile            spyder\n",
      "_codecs             certifi             mmsystem            spyder_kernels\n",
      "_codecs_cn          cffi                mock                sqlalchemy\n",
      "_codecs_hk          cgi                 modulefinder        sqlite3\n",
      "_codecs_iso2022     cgitb               more_itertools      sre_compile\n",
      "_codecs_jp          chardet             mpmath              sre_constants\n",
      "_codecs_kr          charset_normalizer  msgpack             sre_parse\n",
      "_codecs_tw          chunk               msilib              ssl\n",
      "_collections        click               msvcrt              sspi\n",
      "_collections_abc    cloudpickle         multipledispatch    sspicon\n",
      "_compat_pickle      clyent              multiprocessing     stat\n",
      "_compression        cmath               mypy_extensions     statistics\n",
      "_contextvars        cmd                 nacl                statsmodels\n",
      "_csv                code                navigator_updater   storemagic\n",
      "_ctypes             codecs              nbclassic           string\n",
      "_ctypes_test        codeop              nbclient            stringprep\n",
      "_datetime           collections         nbconvert           struct\n",
      "_decimal            colorama            nbformat            subprocess\n",
      "_distutils_hack     colorsys            nbt                 sunau\n",
      "_dummy_thread       commctrl            nest_asyncio        symbol\n",
      "_elementtree        compileall          netbios             sympy\n",
      "_functools          comtypes            netrc               sympyprinting\n",
      "_hashlib            concurrent          networkx            symtable\n",
      "_heapq              conda               nltk                sys\n",
      "_imp                conda_build         nntplib             sysconfig\n",
      "_io                 conda_content_trust noise               tables\n",
      "_json               conda_env           nose                tabnanny\n",
      "_locale             conda_package_handling notebook            tarfile\n",
      "_lsprof             conda_token         nt                  tblib\n",
      "_lzma               conda_verify        ntpath              telnetlib\n",
      "_markupbase         configparser        ntsecuritycon       tempfile\n",
      "_md5                contextlib          nturl2path          terminado\n",
      "_msi                contextlib2         numba               test\n",
      "_multibytecodec     contextvars         numbers             test_data\n",
      "_multiprocessing    copy                numexpr             test_pycosat\n",
      "_nsis               copyreg             numpy               testpath\n",
      "_opcode             crypt               numpydoc            tests\n",
      "_operator           cryptography        odbc                textdistance\n",
      "_osx_support        csv                 olefile             textwrap\n",
      "_overlapped         ctypes              opcode              this\n",
      "_pickle             curl                openpyxl            threading\n",
      "_py_abc             curses              operator            threadpoolctl\n",
      "_pydecimal          cv2                 optparse            three_merge\n",
      "_pyio               cwp                 os                  tifffile\n",
      "_pyrsistent_version cycler              packaging           time\n",
      "_pytest             cython              pandas              timeit\n",
      "_queue              cythonmagic         pandocfilters       timer\n",
      "_random             cytoolz             paramiko            tkinter\n",
      "_sha1               dask                parser              tlz\n",
      "_sha256             dataclasses         parso               token\n",
      "_sha3               datetime            partd               tokenize\n",
      "_sha512             dateutil            past                toml\n",
      "_signal             dbi                 path                toolz\n",
      "_sitebuiltins       dbm                 pathlib             tornado\n",
      "_socket             dde                 pathlib2            tqdm\n",
      "_sqlite3            decimal             pathspec            trace\n",
      "_sre                decorator           patsy               traceback\n",
      "_ssl                defusedxml          pdb                 tracemalloc\n",
      "_stat               diff_match_patch    pep8                traitlets\n",
      "_statistics         difflib             perfmon             tty\n",
      "_string             dis                 pexpect             turtle\n",
      "_strptime           distributed         pickle              turtledemo\n",
      "_struct             distutils           pickleshare         typed_ast\n",
      "_symtable           doctest             pickletools         types\n",
      "_system_path        docutils            pip                 typing\n",
      "_testbuffer         dummy_threading     pipes               typing_extensions\n",
      "_testcapi           email               pkg_resources       ujson\n",
      "_testconsole        encodings           pkginfo             unicodecsv\n",
      "_testimportmultiple ensurepip           pkgutil             unicodedata\n",
      "_testinternalcapi   entrypoints         platform            unittest\n",
      "_testmultiphase     enum                plistlib            urllib\n",
      "_thread             erfa                pluggy              urllib3\n",
      "_threading_local    errno               ply                 uu\n",
      "_tkinter            et_xmlfile          poplib              uuid\n",
      "_tracemalloc        fastcache           posixpath           vboxapi\n",
      "_warnings           faulthandler        pprint              venv\n",
      "_weakref            filecmp             profile             warnings\n",
      "_weakrefset         fileinput           prometheus_client   watchdog\n",
      "_win32sysloader     filelock            prompt_toolkit      wave\n",
      "_winapi             flake8              pstats              wcwidth\n",
      "_winxptheme         flask               psutil              weakref\n",
      "_xxsubinterpreters  fnmatch             pty                 webbrowser\n",
      "_yaml               formatter           ptyprocess          webencodings\n",
      "abc                 fractions           pvectorc            werkzeug\n",
      "adodbapi            fsspec              py                  wheel\n",
      "afxres              ftplib              py_compile          widgetsnbextension\n",
      "aifc                functools           pyclbr              win2kras\n",
      "alabaster           future              pycodestyle         win32api\n",
      "anaconda_navigator  gc                  pycosat             win32clipboard\n",
      "anaconda_project    genericpath         pycparser           win32com\n",
      "antigravity         getopt              pycurl              win32con\n",
      "anyio               getpass             pydoc               win32console\n",
      "appdirs             gettext             pydoc_data          win32cred\n",
      "argh                gevent              pydocstyle          win32crypt\n",
      "argon2              glob                pydub               win32cryptcon\n",
      "argparse            glob2               pyexpat             win32ctypes\n",
      "array               greenlet            pyflakes            win32event\n",
      "asn1crypto          gtts                pygame              win32evtlog\n",
      "ast                 gzip                pygments            win32evtlogutil\n",
      "astroid             h5py                pylab               win32file\n",
      "astropy             hashlib             pylint              win32gui\n",
      "async_generator     heapdict            pyls                win32gui_struct\n",
      "asynchat            heapq               pyls_black          win32help\n",
      "asyncio             hmac                pyls_jsonrpc        win32inet\n",
      "asyncore            html                pyls_spyder         win32inetcon\n",
      "atexit              html5lib            pyodbc              win32job\n",
      "atomicwrites        http                pyparsing           win32lz\n",
      "attr                idlelib             pyreadline          win32net\n",
      "audioop             idna                pyrsistent          win32netcon\n",
      "autopep8            imagecodecs         pytest              win32pdh\n",
      "autoreload          imageio             pythoncom           win32pdhquery\n",
      "babel               imagesize           pyttsx3             win32pdhutil\n",
      "backcall            imaplib             pytz                win32pipe\n",
      "backports           imghdr              pywin               win32print\n",
      "base64              imp                 pywin32_bootstrap   win32process\n",
      "bcrypt              importlib           pywin32_testutil    win32profile\n",
      "bdb                 importlib_metadata  pywintypes          win32ras\n",
      "binascii            iniconfig           pywt                win32rcparser\n",
      "binhex              inspect             pyximport           win32security\n",
      "binstar_client      intervaltree        qdarkstyle          win32service\n",
      "bisect              io                  qtawesome           win32serviceutil\n",
      "bitarray            ipaddress           qtconsole           win32timezone\n",
      "bkcharts            ipykernel           qtpy                win32trace\n",
      "black               ipykernel_launcher  queue               win32traceutil\n",
      "blackd              ipython_genutils    quopri              win32transaction\n",
      "bleach              ipywidgets          random              win32ts\n",
      "blib2to3            isapi               rasutil             win32ui\n",
      "bokeh               isort               re                  win32uiole\n",
      "boto                isympy              readline            win32verstamp\n",
      "bottleneck          itertools           regcheck            win32wnet\n",
      "brain_argparse      itsdangerous        regex               win_inet_pton\n",
      "brain_attrs         jdcal               regutil             win_unicode_console\n",
      "brain_boto3         jedi                repo_cli            wincertstore\n",
      "brain_builtin_inference jinja2              reprlib             winerror\n",
      "brain_collections   joblib              requests            winioctlcon\n",
      "brain_crypt         json                rlcompleter         winnt\n",
      "brain_curses        json5               rmagic              winperf\n",
      "brain_dataclasses   jsonschema          rope                winpty\n",
      "brain_dateutil      jupyter             rtree               winreg\n",
      "brain_fstrings      jupyter_client      ruamel_yaml         winsound\n",
      "brain_functools     jupyter_console     run                 winxpgui\n",
      "brain_gi            jupyter_core        runpy               winxptheme\n",
      "brain_hashlib       jupyter_packaging   sched               wrapt\n",
      "brain_http          jupyter_server      scipy               wsgiref\n",
      "brain_hypothesis    jupyterlab          scripts             xdrlib\n",
      "brain_io            jupyterlab_pygments seaborn             xlrd\n",
      "brain_mechanize     jupyterlab_server   secrets             xlsxwriter\n",
      "brain_multiprocessing jupyterlab_widgets  select              xlwings\n",
      "brain_namedtuple_enum keyring             selectors           xlwt\n",
      "brain_nose          keyword             send2trash          xml\n",
      "brain_numpy_core_fromnumeric kiwisolver          servicemanager      xmlrpc\n",
      "brain_numpy_core_function_base lazy_object_proxy   setuptools          xmltodict\n",
      "brain_numpy_core_multiarray lib2to3             shelve              xxsubtype\n",
      "brain_numpy_core_numeric libarchive          shlex               yaml\n",
      "brain_numpy_core_numerictypes libfuturize         shutil              yapf\n",
      "brain_numpy_core_umath libpasteurize       signal              yapftests\n",
      "brain_numpy_ndarray lief                simplegeneric       zict\n",
      "brain_numpy_random_mtrand linecache           singledispatch      zipapp\n",
      "brain_numpy_utils   llvmlite            sip                 zipfile\n",
      "brain_pkg_resources locale              sipconfig           zipimport\n",
      "brain_pytest        locket              sipdistutils        zipp\n",
      "brain_qt            logging             site                zlib\n",
      "brain_random        lxml                six                 zmq\n",
      "brain_re            lzma                skimage             zope\n",
      "brain_responses     mailbox             sklearn             ~ip\n",
      "\n",
      "Enter any module name to get more help.  Or, type \"modules spam\" to search\n",
      "for modules whose name or summary contain the string \"spam\".\n",
      "\n"
     ]
    }
   ],
   "source": [
    " help('modules')"
   ]
  },
  {
   "cell_type": "markdown",
   "id": "46fcf6ce",
   "metadata": {},
   "source": [
    "---"
   ]
  },
  {
   "cell_type": "markdown",
   "id": "31ea26e7",
   "metadata": {},
   "source": [
    "---"
   ]
  },
  {
   "cell_type": "markdown",
   "id": "0b5ce6d9",
   "metadata": {},
   "source": [
    "### 79. Write a Python program to get the size of an object in bytes. "
   ]
  },
  {
   "cell_type": "code",
   "execution_count": 16,
   "id": "b98052cf",
   "metadata": {},
   "outputs": [],
   "source": [
    "import sys"
   ]
  },
  {
   "cell_type": "code",
   "execution_count": 31,
   "id": "aa694887",
   "metadata": {},
   "outputs": [],
   "source": [
    "def getsizebyte(x):\n",
    "    size = sys.getsizeof(x)\n",
    "    print(f\"The size of ({x}) in bytes is {size} bytes\")"
   ]
  },
  {
   "cell_type": "code",
   "execution_count": 32,
   "id": "4e3b2999",
   "metadata": {},
   "outputs": [
    {
     "name": "stdout",
     "output_type": "stream",
     "text": [
      "The size of (one) in bytes is 52 bytes\n"
     ]
    }
   ],
   "source": [
    "getsizebyte(\"one\")"
   ]
  },
  {
   "cell_type": "code",
   "execution_count": 33,
   "id": "86ad9722",
   "metadata": {},
   "outputs": [
    {
     "name": "stdout",
     "output_type": "stream",
     "text": [
      "The size of (four) in bytes is 53 bytes\n"
     ]
    }
   ],
   "source": [
    "getsizebyte(\"four\")"
   ]
  },
  {
   "cell_type": "code",
   "execution_count": 34,
   "id": "a1cce9fd",
   "metadata": {},
   "outputs": [
    {
     "name": "stdout",
     "output_type": "stream",
     "text": [
      "The size of (three) in bytes is 54 bytes\n"
     ]
    }
   ],
   "source": [
    "getsizebyte(\"three\")"
   ]
  },
  {
   "cell_type": "code",
   "execution_count": 35,
   "id": "8845e4f4",
   "metadata": {},
   "outputs": [
    {
     "name": "stdout",
     "output_type": "stream",
     "text": [
      "The size of (0) in bytes is 24 bytes\n"
     ]
    }
   ],
   "source": [
    "getsizebyte(0)"
   ]
  },
  {
   "cell_type": "code",
   "execution_count": 36,
   "id": "4129ceec",
   "metadata": {},
   "outputs": [
    {
     "name": "stdout",
     "output_type": "stream",
     "text": [
      "The size of (8) in bytes is 28 bytes\n"
     ]
    }
   ],
   "source": [
    "getsizebyte(8)"
   ]
  },
  {
   "cell_type": "code",
   "execution_count": 37,
   "id": "e7c4caad",
   "metadata": {},
   "outputs": [
    {
     "name": "stdout",
     "output_type": "stream",
     "text": [
      "The size of (112) in bytes is 28 bytes\n"
     ]
    }
   ],
   "source": [
    "getsizebyte(112)"
   ]
  },
  {
   "cell_type": "code",
   "execution_count": 38,
   "id": "e9abe2e9",
   "metadata": {},
   "outputs": [
    {
     "name": "stdout",
     "output_type": "stream",
     "text": [
      "The size of ([1, 2, 3, 'Red', 'Black']) in bytes is 96 bytes\n"
     ]
    }
   ],
   "source": [
    "getsizebyte([1, 2, 3, 'Red', 'Black'])"
   ]
  },
  {
   "cell_type": "code",
   "execution_count": 39,
   "id": "9757ebe6",
   "metadata": {},
   "outputs": [
    {
     "name": "stdout",
     "output_type": "stream",
     "text": [
      "The size of (('Red', [8, 4, 6], (1, 2, 3))) in bytes is 64 bytes\n"
     ]
    }
   ],
   "source": [
    "getsizebyte((\"Red\", [8, 4, 6], (1, 2, 3)))"
   ]
  },
  {
   "cell_type": "code",
   "execution_count": 40,
   "id": "27e6154b",
   "metadata": {
    "scrolled": true
   },
   "outputs": [
    {
     "name": "stdout",
     "output_type": "stream",
     "text": [
      "The size of ({'apple', 'orange', 'pear'}) in bytes is 216 bytes\n"
     ]
    }
   ],
   "source": [
    "getsizebyte({'apple', 'orange', 'apple', 'pear'})"
   ]
  },
  {
   "cell_type": "code",
   "execution_count": 41,
   "id": "fece5aad",
   "metadata": {
    "scrolled": true
   },
   "outputs": [
    {
     "name": "stdout",
     "output_type": "stream",
     "text": [
      "The size of ({'Name': 'David', 'Age': 6, 'Class': 'First'}) in bytes is 232 bytes\n"
     ]
    }
   ],
   "source": [
    "getsizebyte({'Name': 'David', 'Age': 6, 'Class': 'First'})"
   ]
  },
  {
   "cell_type": "markdown",
   "id": "d295d55d",
   "metadata": {},
   "source": [
    "---"
   ]
  },
  {
   "cell_type": "markdown",
   "id": "4960fad4",
   "metadata": {},
   "source": [
    "---"
   ]
  },
  {
   "cell_type": "markdown",
   "id": "215df6f8",
   "metadata": {},
   "source": [
    "### 80. Write a Python program to get the current value of the recursion limit. "
   ]
  },
  {
   "cell_type": "markdown",
   "id": "2778645b",
   "metadata": {},
   "source": [
    "In Python, the recursion limit is a safeguard to prevent infinite recursion, which can lead to a \"RecursionError: maximum recursion depth exceeded\" exception. The `sys.getrecursionlimit()` function retrieves the current recursion limit, and by default, it's set to 3000.\n",
    "\n",
    "This means that in a typical Python program, if a function calls itself recursively more than 3000 times, a \"RecursionError\" will be raised, and the program will terminate. It's a way to prevent the program from consuming too much memory and causing a stack overflow."
   ]
  },
  {
   "cell_type": "code",
   "execution_count": 42,
   "id": "1fa2524d",
   "metadata": {},
   "outputs": [],
   "source": [
    "import sys"
   ]
  },
  {
   "cell_type": "code",
   "execution_count": 43,
   "id": "a61726e0",
   "metadata": {},
   "outputs": [
    {
     "name": "stdout",
     "output_type": "stream",
     "text": [
      "3000\n"
     ]
    }
   ],
   "source": [
    "print(sys.getrecursionlimit())"
   ]
  },
  {
   "cell_type": "markdown",
   "id": "a03118d7",
   "metadata": {},
   "source": [
    "---"
   ]
  },
  {
   "cell_type": "markdown",
   "id": "90db8e52",
   "metadata": {},
   "source": [
    "---"
   ]
  },
  {
   "cell_type": "markdown",
   "id": "4abc7898",
   "metadata": {},
   "source": [
    "### 81. Write a Python program to concatenate N strings. "
   ]
  },
  {
   "cell_type": "code",
   "execution_count": 1,
   "id": "42e2a93a",
   "metadata": {},
   "outputs": [],
   "source": [
    "list_of_colors = ['Red', 'Blue', 'Yellow', 'White']"
   ]
  },
  {
   "cell_type": "code",
   "execution_count": 2,
   "id": "0fbdaebd",
   "metadata": {},
   "outputs": [],
   "source": [
    "colors = '-'.join(list_of_colors)"
   ]
  },
  {
   "cell_type": "code",
   "execution_count": 3,
   "id": "e40c84c8",
   "metadata": {},
   "outputs": [
    {
     "name": "stdout",
     "output_type": "stream",
     "text": [
      "Red-Blue-Yellow-White\n"
     ]
    }
   ],
   "source": [
    "print(colors)"
   ]
  },
  {
   "cell_type": "markdown",
   "id": "8e304a7c",
   "metadata": {},
   "source": [
    "---"
   ]
  },
  {
   "cell_type": "markdown",
   "id": "31f93763",
   "metadata": {},
   "source": [
    "---"
   ]
  },
  {
   "cell_type": "markdown",
   "id": "963a9e9f",
   "metadata": {},
   "source": [
    "### 82. Write a Python program to calculate the sum of all items of a container (tuple, list, set, dictionary). "
   ]
  },
  {
   "cell_type": "code",
   "execution_count": 7,
   "id": "ca605bf0",
   "metadata": {},
   "outputs": [],
   "source": [
    "container = [10,20,30]"
   ]
  },
  {
   "cell_type": "code",
   "execution_count": 8,
   "id": "e5a9ca30",
   "metadata": {},
   "outputs": [],
   "source": [
    "sum_cont = sum(container)"
   ]
  },
  {
   "cell_type": "code",
   "execution_count": 9,
   "id": "04f20168",
   "metadata": {
    "scrolled": true
   },
   "outputs": [
    {
     "name": "stdout",
     "output_type": "stream",
     "text": [
      "The sum of the container [10, 20, 30] is 60\n"
     ]
    }
   ],
   "source": [
    "print(f\"The sum of the container {container} is {sum_cont}\")"
   ]
  },
  {
   "cell_type": "markdown",
   "id": "f0cc53f4",
   "metadata": {},
   "source": [
    "---"
   ]
  },
  {
   "cell_type": "markdown",
   "id": "da6a8a45",
   "metadata": {},
   "source": [
    "---"
   ]
  },
  {
   "cell_type": "markdown",
   "id": "c5b045e0",
   "metadata": {},
   "source": [
    "### 83. Write a Python program to test whether all numbers in a list are greater than a certain number. "
   ]
  },
  {
   "cell_type": "code",
   "execution_count": 10,
   "id": "e852d154",
   "metadata": {},
   "outputs": [],
   "source": [
    "def are_all_numbs_greater_than(lst, number):\n",
    "    for num in lst:\n",
    "        if num <= number:\n",
    "            return false\n",
    "    return True"
   ]
  },
  {
   "cell_type": "code",
   "execution_count": 11,
   "id": "bf912a9b",
   "metadata": {},
   "outputs": [],
   "source": [
    "list_numbers = [10, 20, 30, 40, 50]"
   ]
  },
  {
   "cell_type": "code",
   "execution_count": 12,
   "id": "084d5012",
   "metadata": {},
   "outputs": [],
   "source": [
    "certain_number = 5"
   ]
  },
  {
   "cell_type": "code",
   "execution_count": 13,
   "id": "e66e4f53",
   "metadata": {},
   "outputs": [],
   "source": [
    "result = are_all_numbs_greater_than(list_numbers, certain_number)"
   ]
  },
  {
   "cell_type": "code",
   "execution_count": 14,
   "id": "65cd557c",
   "metadata": {},
   "outputs": [
    {
     "name": "stdout",
     "output_type": "stream",
     "text": [
      "All numbers from the list are greater than 5: True\n"
     ]
    }
   ],
   "source": [
    "print(f\"All numbers from the list are greater than {certain_number}: {result}\")"
   ]
  },
  {
   "cell_type": "code",
   "execution_count": null,
   "id": "f0453c28",
   "metadata": {},
   "outputs": [],
   "source": []
  }
 ],
 "metadata": {
  "kernelspec": {
   "display_name": "Python 3",
   "language": "python",
   "name": "python3"
  },
  "language_info": {
   "codemirror_mode": {
    "name": "ipython",
    "version": 3
   },
   "file_extension": ".py",
   "mimetype": "text/x-python",
   "name": "python",
   "nbconvert_exporter": "python",
   "pygments_lexer": "ipython3",
   "version": "3.8.8"
  }
 },
 "nbformat": 4,
 "nbformat_minor": 5
}

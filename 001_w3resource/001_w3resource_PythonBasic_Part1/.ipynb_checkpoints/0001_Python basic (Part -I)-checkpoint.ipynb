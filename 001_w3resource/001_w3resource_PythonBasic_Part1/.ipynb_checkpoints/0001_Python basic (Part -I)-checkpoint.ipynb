{
 "cells": [
  {
   "cell_type": "markdown",
   "id": "d7fc736c",
   "metadata": {},
   "source": [
    "# Python basic (Part -I) [150 exercises with solution]"
   ]
  },
  {
   "cell_type": "markdown",
   "id": "375a4bf0",
   "metadata": {},
   "source": [
    "---"
   ]
  },
  {
   "cell_type": "markdown",
   "id": "fed8f1b8",
   "metadata": {},
   "source": [
    "# Markdown básico"
   ]
  },
  {
   "cell_type": "markdown",
   "id": "5a0dc749",
   "metadata": {},
   "source": [
    "# H1\n",
    "## H2\n",
    "### H3\n",
    "\n",
    "**bold**\n",
    "\n",
    "*italic*\n",
    "\n",
    "> blockquote\n",
    "\n",
    "Ordered List:\n",
    "1. First\n",
    "2. Second\n",
    "3. Third\n",
    "\n",
    "Unordered List:\n",
    "- First\n",
    "- Second\n",
    "- Third\n",
    "\n",
    "`code`\n",
    "\n",
    "Horizontal Rule\n",
    "\n",
    "---\n",
    "\n",
    "Link\n",
    "[title](https://www.example.com)\n",
    "\n",
    "[Markdown Cheat Sheet](https://www.markdownguide.org/cheat-sheet/)\n",
    "\n",
    "Image\n",
    "![alt text](https://upload.wikimedia.org/wikipedia/commons/thumb/f/f8/Python_logo_and_wordmark.svg/486px-Python_logo_and_wordmark.svg.png)"
   ]
  },
  {
   "cell_type": "markdown",
   "id": "8e1e2b6f",
   "metadata": {},
   "source": [
    "---"
   ]
  },
  {
   "cell_type": "markdown",
   "id": "7e0bb144",
   "metadata": {},
   "source": [
    "# Python Basic (Part -I)"
   ]
  },
  {
   "cell_type": "markdown",
   "id": "26bced60",
   "metadata": {},
   "source": [
    "### 1. Write a Python program to print the following string in a specific format (see the output). "
   ]
  },
  {
   "cell_type": "markdown",
   "id": "bc63ef14",
   "metadata": {},
   "source": [
    "Sample String: \"Twinkle, twinkle, little star, How I wonder what you are! Up above the world so high, Like a diamond in the sky. Twinkle, twinkle, little star, How I wonder what you are!\"\n",
    "\n",
    "`\n",
    "Twinkle, twinkle, little star,\n",
    "\tHow I wonder what you are! \n",
    "\t\tUp above the world so high,   \t\t\n",
    "\t\tLike a diamond in the sky. \n",
    "Twinkle, twinkle, little star, \n",
    "\tHow I wonder what you are\n",
    "    `"
   ]
  },
  {
   "cell_type": "markdown",
   "id": "45744b52",
   "metadata": {},
   "source": [
    "En Python con **\\n** se pasa a la siguiente linea\n",
    "Y con **\\t** se hace un tab"
   ]
  },
  {
   "cell_type": "code",
   "execution_count": 2,
   "id": "ab03b060",
   "metadata": {},
   "outputs": [
    {
     "name": "stdout",
     "output_type": "stream",
     "text": [
      "Twinkle, twinkle, little star, \n",
      "\tHow I wonder what you are! \n",
      "\t\tUp above the world so high, \n",
      "\t\tLike a diamond in the sky. \n",
      "Twinkle, twinkle, little star, \n",
      "\tHow I wonder what you are!\n"
     ]
    }
   ],
   "source": [
    "print(\"Twinkle, twinkle, little star, \\n\\tHow I wonder what you are! \\n\\t\\tUp above the world so high, \\n\\t\\tLike a diamond in the sky. \\nTwinkle, twinkle, little star, \\n\\tHow I wonder what you are!\")"
   ]
  },
  {
   "cell_type": "markdown",
   "id": "de40cae9",
   "metadata": {},
   "source": [
    "---"
   ]
  },
  {
   "cell_type": "markdown",
   "id": "d60b818e",
   "metadata": {},
   "source": [
    "---"
   ]
  },
  {
   "cell_type": "markdown",
   "id": "26023935",
   "metadata": {},
   "source": [
    "### 2. Write a Python program to find out what version of Python you are using."
   ]
  },
  {
   "cell_type": "markdown",
   "id": "cc7915b7",
   "metadata": {},
   "source": [
    "Write a Python program to find out what version of Python you are using.\n",
    "\n",
    "A string containing the version number of the Python interpreter plus additional information on the build number and compiler used. This string is displayed when the interactive interpreter is started. "
   ]
  },
  {
   "cell_type": "markdown",
   "id": "8c1fef3b",
   "metadata": {},
   "source": [
    "---"
   ]
  },
  {
   "cell_type": "markdown",
   "id": "b21e03be",
   "metadata": {},
   "source": [
    "En esta línea, se importa el módulo sys. El módulo sys proporciona acceso a variables y funciones específicas del sistema, lo que permite interactuar con el entorno y obtener información sobre la configuración del sistema y la versión de Python que se está utilizando."
   ]
  },
  {
   "cell_type": "code",
   "execution_count": 3,
   "id": "04db2aef",
   "metadata": {},
   "outputs": [],
   "source": [
    "import sys"
   ]
  },
  {
   "cell_type": "code",
   "execution_count": 4,
   "id": "60e1c7ea",
   "metadata": {},
   "outputs": [
    {
     "name": "stdout",
     "output_type": "stream",
     "text": [
      "Python version\n"
     ]
    }
   ],
   "source": [
    "print(\"Python version\")"
   ]
  },
  {
   "cell_type": "markdown",
   "id": "45cb1b25",
   "metadata": {},
   "source": [
    "Aquí, se utiliza sys.version para imprimir la versión de Python que se está ejecutando actualmente en el sistema."
   ]
  },
  {
   "cell_type": "code",
   "execution_count": 5,
   "id": "547f3b81",
   "metadata": {},
   "outputs": [
    {
     "name": "stdout",
     "output_type": "stream",
     "text": [
      "3.8.8 (default, Apr 13 2021, 15:08:03) [MSC v.1916 64 bit (AMD64)]\n"
     ]
    }
   ],
   "source": [
    "print(sys.version)"
   ]
  },
  {
   "cell_type": "code",
   "execution_count": 6,
   "id": "41a9fd47",
   "metadata": {},
   "outputs": [
    {
     "name": "stdout",
     "output_type": "stream",
     "text": [
      "Version info.\n"
     ]
    }
   ],
   "source": [
    "print(\"Version info.\")"
   ]
  },
  {
   "cell_type": "markdown",
   "id": "35e176c2",
   "metadata": {},
   "source": [
    "En esta línea, se imprime el objeto sys.version_info, que proporciona información más detallada sobre la versión de Python. sys.version_info es un objeto que contiene varios atributos, como major (versión principal), minor (versión secundaria), micro (versión micro), releaselevel (nivel de liberación, como \"final\" o \"beta\"), y otros. Esta línea mostrará todos estos detalles."
   ]
  },
  {
   "cell_type": "code",
   "execution_count": 7,
   "id": "bdd3836c",
   "metadata": {},
   "outputs": [
    {
     "name": "stdout",
     "output_type": "stream",
     "text": [
      "sys.version_info(major=3, minor=8, micro=8, releaselevel='final', serial=0)\n"
     ]
    }
   ],
   "source": [
    "print(sys.version_info)"
   ]
  },
  {
   "cell_type": "markdown",
   "id": "dc6db186",
   "metadata": {},
   "source": [
    "---"
   ]
  },
  {
   "cell_type": "code",
   "execution_count": null,
   "id": "d4d7d6c8",
   "metadata": {},
   "outputs": [],
   "source": []
  }
 ],
 "metadata": {
  "kernelspec": {
   "display_name": "Python 3",
   "language": "python",
   "name": "python3"
  },
  "language_info": {
   "codemirror_mode": {
    "name": "ipython",
    "version": 3
   },
   "file_extension": ".py",
   "mimetype": "text/x-python",
   "name": "python",
   "nbconvert_exporter": "python",
   "pygments_lexer": "ipython3",
   "version": "3.8.8"
  }
 },
 "nbformat": 4,
 "nbformat_minor": 5
}

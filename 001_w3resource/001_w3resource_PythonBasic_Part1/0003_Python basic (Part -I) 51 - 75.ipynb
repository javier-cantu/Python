{
 "cells": [
  {
   "cell_type": "markdown",
   "id": "2fb27179",
   "metadata": {},
   "source": [
    "# 0003_Python basic (Part -I) 51 - 75.ipynb"
   ]
  },
  {
   "cell_type": "markdown",
   "id": "97d6f81f",
   "metadata": {},
   "source": [
    "---"
   ]
  },
  {
   "cell_type": "markdown",
   "id": "7e9b9900",
   "metadata": {},
   "source": [
    "### 51. Write a Python program to determine the profiling of Python programs. "
   ]
  },
  {
   "cell_type": "markdown",
   "id": "30707b12",
   "metadata": {},
   "source": [
    "Note: A profile is a set of statistics that describes how often and for how long various parts of the program executed. These statistics can be formatted into reports via the pstats module. "
   ]
  },
  {
   "cell_type": "code",
   "execution_count": 1,
   "id": "18185194",
   "metadata": {},
   "outputs": [],
   "source": [
    "import cProfile"
   ]
  },
  {
   "cell_type": "code",
   "execution_count": 2,
   "id": "bae8c2b3",
   "metadata": {},
   "outputs": [],
   "source": [
    "def sum():\n",
    "    print(1+2)"
   ]
  },
  {
   "cell_type": "code",
   "execution_count": 3,
   "id": "a1e77d27",
   "metadata": {},
   "outputs": [
    {
     "name": "stdout",
     "output_type": "stream",
     "text": [
      "3\n",
      "         39 function calls in 0.001 seconds\n",
      "\n",
      "   Ordered by: standard name\n",
      "\n",
      "   ncalls  tottime  percall  cumtime  percall filename:lineno(function)\n",
      "        1    0.000    0.000    0.001    0.001 <ipython-input-2-790e02903de9>:1(sum)\n",
      "        1    0.000    0.000    0.001    0.001 <string>:1(<module>)\n",
      "        3    0.000    0.000    0.001    0.000 iostream.py:197(schedule)\n",
      "        2    0.000    0.000    0.000    0.000 iostream.py:310(_is_master_process)\n",
      "        2    0.000    0.000    0.000    0.000 iostream.py:323(_schedule_flush)\n",
      "        2    0.000    0.000    0.001    0.000 iostream.py:386(write)\n",
      "        3    0.000    0.000    0.000    0.000 iostream.py:93(_event_pipe)\n",
      "        3    0.000    0.000    0.000    0.000 socket.py:432(send)\n",
      "        3    0.001    0.000    0.001    0.000 threading.py:1017(_wait_for_tstate_lock)\n",
      "        3    0.000    0.000    0.001    0.000 threading.py:1071(is_alive)\n",
      "        3    0.000    0.000    0.000    0.000 threading.py:513(is_set)\n",
      "        1    0.000    0.000    0.001    0.001 {built-in method builtins.exec}\n",
      "        2    0.000    0.000    0.000    0.000 {built-in method builtins.isinstance}\n",
      "        1    0.000    0.000    0.001    0.001 {built-in method builtins.print}\n",
      "        2    0.000    0.000    0.000    0.000 {built-in method nt.getpid}\n",
      "        3    0.000    0.000    0.000    0.000 {method 'acquire' of '_thread.lock' objects}\n",
      "        3    0.000    0.000    0.000    0.000 {method 'append' of 'collections.deque' objects}\n",
      "        1    0.000    0.000    0.000    0.000 {method 'disable' of '_lsprof.Profiler' objects}\n",
      "\n",
      "\n"
     ]
    }
   ],
   "source": [
    "cProfile.run('sum()')"
   ]
  },
  {
   "cell_type": "markdown",
   "id": "679f7476",
   "metadata": {},
   "source": [
    "cProfile provide deterministic profiling of Python programs. A profile is a set of statistics that describes how often and for how long various parts of the program executed.profile.run(command, filename=None, sort=- 1): This function takes a single argument that can be passed to the exec() function, and an optional file name.\n",
    "\n",
    "The above Python code imports the cProfile module. The sum() function defined in the code adds the numbers 1 and 2 and prints the result to the console using the print() function.\n",
    "\n",
    "The cProfile.run() function is used to profile the execution of the sum() function. The run() function takes a string as its parameter that represents the code to be executed and profiled. In this case, it is passed the function call sum() as a string."
   ]
  },
  {
   "cell_type": "markdown",
   "id": "ef51c3c2",
   "metadata": {},
   "source": [
    "---"
   ]
  },
  {
   "cell_type": "markdown",
   "id": "9063e232",
   "metadata": {},
   "source": [
    "---"
   ]
  },
  {
   "cell_type": "markdown",
   "id": "01b23403",
   "metadata": {},
   "source": [
    "### 52. Write a Python program to print to STDERR. "
   ]
  },
  {
   "cell_type": "code",
   "execution_count": 4,
   "id": "009f34e4",
   "metadata": {},
   "outputs": [
    {
     "name": "stderr",
     "output_type": "stream",
     "text": [
      "abc--efg--xyz\n"
     ]
    }
   ],
   "source": [
    "from __future__ import print_function\n",
    "import sys\n",
    "\n",
    "def eprint(*args, **kwargs):\n",
    "    print(*args, file=sys.stderr, **kwargs)\n",
    "\n",
    "eprint(\"abc\", \"efg\", \"xyz\", sep=\"--\")\n"
   ]
  },
  {
   "cell_type": "markdown",
   "id": "58936d85",
   "metadata": {},
   "source": [
    "The code you provided demonstrates how to define a custom eprint function and use it to print messages to the standard error stream (sys.stderr) instead of the standard output (sys.stdout). Let's break down the code step by step:"
   ]
  },
  {
   "cell_type": "markdown",
   "id": "37df70f7",
   "metadata": {},
   "source": []
  },
  {
   "cell_type": "markdown",
   "id": "6078e088",
   "metadata": {},
   "source": [
    "---"
   ]
  },
  {
   "cell_type": "markdown",
   "id": "febc2a38",
   "metadata": {},
   "source": [
    "---"
   ]
  },
  {
   "cell_type": "markdown",
   "id": "25be4fbf",
   "metadata": {},
   "source": [
    "### 53. Write a Python program to access environment variables. "
   ]
  },
  {
   "cell_type": "code",
   "execution_count": 6,
   "id": "02d31f7d",
   "metadata": {
    "scrolled": true
   },
   "outputs": [
    {
     "name": "stdout",
     "output_type": "stream",
     "text": [
      "*----------------------------------*\n",
      "environ({'ALLUSERSPROFILE': 'C:\\\\ProgramData', 'APPDATA': 'C:\\\\Users\\\\Asus ROG PC\\\\AppData\\\\Roaming', 'COMMONPROGRAMFILES': 'C:\\\\Program Files\\\\Common Files', 'COMMONPROGRAMFILES(X86)': 'C:\\\\Program Files (x86)\\\\Common Files', 'COMMONPROGRAMW6432': 'C:\\\\Program Files\\\\Common Files', 'COMPUTERNAME': 'DESKTOP-RFID6T3', 'COMSPEC': 'C:\\\\WINDOWS\\\\system32\\\\cmd.exe', 'CONDA_DEFAULT_ENV': 'base', 'CONDA_EXE': 'C:\\\\ProgramData\\\\Anaconda3\\\\Scripts\\\\conda.exe', 'CONDA_PREFIX': 'C:\\\\ProgramData\\\\Anaconda3', 'CONDA_PROMPT_MODIFIER': '(base) ', 'CONDA_PYTHON_EXE': 'C:\\\\ProgramData\\\\Anaconda3\\\\python.exe', 'CONDA_SHLVL': '1', 'DRIVERDATA': 'C:\\\\Windows\\\\System32\\\\Drivers\\\\DriverData', 'FPS_BROWSER_APP_PROFILE_STRING': 'Internet Explorer', 'FPS_BROWSER_USER_PROFILE_STRING': 'Default', 'HOMEDRIVE': 'C:', 'HOMEPATH': '\\\\Users\\\\Asus ROG PC', 'INTEL_DEV_REDIST': 'C:\\\\Program Files (x86)\\\\Common Files\\\\Intel\\\\Shared Libraries\\\\', 'JAVA': 'C:\\\\Program Files\\\\Java\\\\jre1.8.0_361\\\\bin', 'LOCALAPPDATA': 'C:\\\\Users\\\\Asus ROG PC\\\\AppData\\\\Local', 'LOGONSERVER': '\\\\\\\\DESKTOP-RFID6T3', 'MIC_LD_LIBRARY_PATH': 'C:\\\\Program Files (x86)\\\\Common Files\\\\Intel\\\\Shared Libraries\\\\compiler\\\\lib\\\\mic', 'NUMBER_OF_PROCESSORS': '12', 'ONEDRIVE': 'C:\\\\Users\\\\Asus ROG PC\\\\OneDrive', 'OS': 'Windows_NT', 'PATH': 'C:\\\\ProgramData\\\\Anaconda3;C:\\\\ProgramData\\\\Anaconda3\\\\Library\\\\mingw-w64\\\\bin;C:\\\\ProgramData\\\\Anaconda3\\\\Library\\\\usr\\\\bin;C:\\\\ProgramData\\\\Anaconda3\\\\Library\\\\bin;C:\\\\ProgramData\\\\Anaconda3\\\\Scripts;C:\\\\ProgramData\\\\Anaconda3\\\\bin;C:\\\\ProgramData\\\\Anaconda3\\\\condabin;C:\\\\Program Files (x86)\\\\Common Files\\\\Intel\\\\Shared Libraries\\\\redist\\\\intel64\\\\compiler;C:\\\\Program Files\\\\Common Files\\\\Oracle\\\\Java\\\\javapath;C:\\\\ProgramData\\\\Anaconda3;C:\\\\ProgramData\\\\Anaconda3\\\\Library\\\\mingw-w64\\\\bin;C:\\\\ProgramData\\\\Anaconda3\\\\Library\\\\usr\\\\bin;C:\\\\ProgramData\\\\Anaconda3\\\\Library\\\\bin;C:\\\\ProgramData\\\\Anaconda3\\\\Scripts;C:\\\\WINDOWS\\\\system32;C:\\\\WINDOWS;C:\\\\WINDOWS\\\\System32\\\\Wbem;C:\\\\WINDOWS\\\\System32\\\\WindowsPowerShell\\\\v1.0;C:\\\\WINDOWS\\\\System32\\\\OpenSSH;C:\\\\Program Files\\\\dotnet;D:\\\\Program Files\\\\Git\\\\cmd;C:\\\\Program Files\\\\nodejs;C:\\\\Program Files\\\\nodejs;C:\\\\Program Files\\\\Java\\\\jre1.8.0_361\\\\bin;C:\\\\Users\\\\Asus ROG PC\\\\AppData\\\\Local\\\\Microsoft\\\\WindowsApps;C:\\\\webm\\\\bin;D:\\\\Program Files\\\\Inkscape_1_2_1\\\\bin;C:\\\\Users\\\\Asus ROG PC\\\\AppData\\\\Local\\\\Programs\\\\Microsoft VS Code\\\\bin;C:\\\\Users\\\\Asus ROG PC\\\\AppData\\\\Roaming\\\\npm;C:\\\\Program Files\\\\nodejs;.', 'PATHEXT': '.COM;.EXE;.BAT;.CMD;.VBS;.VBE;.JS;.JSE;.WSF;.WSH;.MSC;.CPL', 'PROCESSOR_ARCHITECTURE': 'AMD64', 'PROCESSOR_IDENTIFIER': 'AMD64 Family 23 Model 8 Stepping 2, AuthenticAMD', 'PROCESSOR_LEVEL': '23', 'PROCESSOR_REVISION': '0802', 'PROGRAMDATA': 'C:\\\\ProgramData', 'PROGRAMFILES': 'C:\\\\Program Files', 'PROGRAMFILES(X86)': 'C:\\\\Program Files (x86)', 'PROGRAMW6432': 'C:\\\\Program Files', 'PSEXECUTIONPOLICYPREFERENCE': 'Bypass', 'PSMODULEPATH': 'C:\\\\Users\\\\Asus ROG PC\\\\Documents\\\\WindowsPowerShell\\\\Modules;C:\\\\Program Files\\\\WindowsPowerShell\\\\Modules;C:\\\\WINDOWS\\\\system32\\\\WindowsPowerShell\\\\v1.0\\\\Modules', 'PUBLIC': 'C:\\\\Users\\\\Public', 'SESSIONNAME': 'Console', 'SYSTEMDRIVE': 'C:', 'SYSTEMROOT': 'C:\\\\WINDOWS', 'TEMP': 'C:\\\\Users\\\\ASUSRO~1\\\\AppData\\\\Local\\\\Temp', 'TMP': 'C:\\\\Users\\\\ASUSRO~1\\\\AppData\\\\Local\\\\Temp', 'USERDOMAIN': 'DESKTOP-RFID6T3', 'USERDOMAIN_ROAMINGPROFILE': 'DESKTOP-RFID6T3', 'USERNAME': 'Asus ROG PC', 'USERPROFILE': 'C:\\\\Users\\\\Asus ROG PC', 'VBOX_MSI_INSTALL_PATH': 'C:\\\\Program Files\\\\Oracle\\\\VirtualBox\\\\', 'VS140COMNTOOLS': 'C:\\\\Program Files (x86)\\\\Microsoft Visual Studio 14.0\\\\Common7\\\\Tools\\\\', 'WINDIR': 'C:\\\\WINDOWS', '_CONDA_EXE': 'C:/ProgramData/Anaconda3\\\\Scripts\\\\conda.exe', '_CONDA_ROOT': 'C:/ProgramData/Anaconda3', 'JPY_INTERRUPT_EVENT': '2692', 'IPY_INTERRUPT_EVENT': '2692', 'JPY_PARENT_PID': '2780', 'TERM': 'xterm-color', 'CLICOLOR': '1', 'PAGER': 'cat', 'GIT_PAGER': 'cat', 'MPLBACKEND': 'module://ipykernel.pylab.backend_inline'})\n",
      "*----------------------------------*\n",
      "C:\\Users\\Asus ROG PC\n",
      "*----------------------------------*\n",
      "C:\\ProgramData\\Anaconda3;C:\\ProgramData\\Anaconda3\\Library\\mingw-w64\\bin;C:\\ProgramData\\Anaconda3\\Library\\usr\\bin;C:\\ProgramData\\Anaconda3\\Library\\bin;C:\\ProgramData\\Anaconda3\\Scripts;C:\\ProgramData\\Anaconda3\\bin;C:\\ProgramData\\Anaconda3\\condabin;C:\\Program Files (x86)\\Common Files\\Intel\\Shared Libraries\\redist\\intel64\\compiler;C:\\Program Files\\Common Files\\Oracle\\Java\\javapath;C:\\ProgramData\\Anaconda3;C:\\ProgramData\\Anaconda3\\Library\\mingw-w64\\bin;C:\\ProgramData\\Anaconda3\\Library\\usr\\bin;C:\\ProgramData\\Anaconda3\\Library\\bin;C:\\ProgramData\\Anaconda3\\Scripts;C:\\WINDOWS\\system32;C:\\WINDOWS;C:\\WINDOWS\\System32\\Wbem;C:\\WINDOWS\\System32\\WindowsPowerShell\\v1.0;C:\\WINDOWS\\System32\\OpenSSH;C:\\Program Files\\dotnet;D:\\Program Files\\Git\\cmd;C:\\Program Files\\nodejs;C:\\Program Files\\nodejs;C:\\Program Files\\Java\\jre1.8.0_361\\bin;C:\\Users\\Asus ROG PC\\AppData\\Local\\Microsoft\\WindowsApps;C:\\webm\\bin;D:\\Program Files\\Inkscape_1_2_1\\bin;C:\\Users\\Asus ROG PC\\AppData\\Local\\Programs\\Microsoft VS Code\\bin;C:\\Users\\Asus ROG PC\\AppData\\Roaming\\npm;C:\\Program Files\\nodejs;.\n",
      "*----------------------------------*\n"
     ]
    }
   ],
   "source": [
    "import os\n",
    "# Access all environment variables \n",
    "print('*----------------------------------*')\n",
    "print(os.environ)\n",
    "print('*----------------------------------*')\n",
    "# Access a particular environment variable \n",
    "print(os.environ['USERPROFILE'])\n",
    "print('*----------------------------------*')\n",
    "print(os.environ['PATH'])\n",
    "print('*----------------------------------*')"
   ]
  },
  {
   "cell_type": "markdown",
   "id": "d0176905",
   "metadata": {},
   "source": [
    "---"
   ]
  },
  {
   "cell_type": "markdown",
   "id": "c801051a",
   "metadata": {},
   "source": [
    "---"
   ]
  },
  {
   "cell_type": "markdown",
   "id": "0afaf223",
   "metadata": {},
   "source": [
    "### 54. Write a Python program to get the current username. "
   ]
  },
  {
   "cell_type": "code",
   "execution_count": 7,
   "id": "60c32bfe",
   "metadata": {},
   "outputs": [],
   "source": [
    "import getpass"
   ]
  },
  {
   "cell_type": "code",
   "execution_count": 8,
   "id": "1047ff7c",
   "metadata": {},
   "outputs": [
    {
     "name": "stdout",
     "output_type": "stream",
     "text": [
      "Asus ROG PC\n"
     ]
    }
   ],
   "source": [
    "print(getpass.getuser())"
   ]
  },
  {
   "cell_type": "markdown",
   "id": "d1455879",
   "metadata": {},
   "source": [
    "**Explanation:**\n",
    "\n",
    "The above Python code imports the ‘getpass’ module and uses it to print the username of the current user to the console output.\n",
    "\n",
    "The ‘getpass’ module provides a way to get the username of the current user, as well as prompt the user to enter a password without echoing the input to the console.\n",
    "\n",
    "`getpass.getuser()` - This function checks the environment variables LOGNAME, USER, LNAME and USERNAME, in order, and returns the value of the first one which is set to a non-empty string. If none are set, the login name from the password database is returned on systems which support the pwd module, otherwise, an exception is raised.\n",
    "\n",
    "The output of the code will be the username of the current user, which is retrieved from the operating system."
   ]
  },
  {
   "cell_type": "markdown",
   "id": "530410da",
   "metadata": {},
   "source": [
    "---"
   ]
  },
  {
   "cell_type": "markdown",
   "id": "83da1c93",
   "metadata": {},
   "source": [
    "---"
   ]
  },
  {
   "cell_type": "markdown",
   "id": "6403ecc3",
   "metadata": {},
   "source": [
    "### 55. Write a Python program to find local IP addresses using Python's stdlib. "
   ]
  },
  {
   "cell_type": "code",
   "execution_count": 1,
   "id": "c54ecd94",
   "metadata": {},
   "outputs": [],
   "source": [
    "import socket"
   ]
  },
  {
   "cell_type": "code",
   "execution_count": 2,
   "id": "47875487",
   "metadata": {},
   "outputs": [
    {
     "name": "stdout",
     "output_type": "stream",
     "text": [
      "192.168.56.1\n"
     ]
    }
   ],
   "source": [
    "print([l for l in ([ip for ip in socket.gethostbyname_ex(socket.gethostname())[2] \n",
    "if not ip.startswith(\"127.\")][:1], [[(s.connect(('8.8.8.8', 53)), \n",
    "s.getsockname()[0], s.close()) for s in [socket.socket(socket.AF_INET, \n",
    "socket.SOCK_DGRAM)]][0][1]]) if l][0][0])"
   ]
  },
  {
   "cell_type": "markdown",
   "id": "dfbd1cb7",
   "metadata": {},
   "source": [
    "Esto fue con chatGPT, pero no entiendo esto:"
   ]
  },
  {
   "cell_type": "code",
   "execution_count": 3,
   "id": "d27a9ab4",
   "metadata": {},
   "outputs": [],
   "source": [
    "def get_local_ip_addresses():\n",
    "    # Get the host name of the local machine\n",
    "    host_name = socket.gethostname()\n",
    "\n",
    "    # Get the IP addresses associated with the local machine\n",
    "    ip_addresses = socket.gethostbyname_ex(host_name)[2]\n",
    "\n",
    "    return ip_addresses"
   ]
  },
  {
   "cell_type": "code",
   "execution_count": 4,
   "id": "36f28abe",
   "metadata": {
    "scrolled": true
   },
   "outputs": [
    {
     "name": "stdout",
     "output_type": "stream",
     "text": [
      "Local IP addresses:\n",
      "192.168.56.1\n",
      "192.168.1.2\n"
     ]
    }
   ],
   "source": [
    "if __name__ == \"__main__\":\n",
    "    local_ip_addresses = get_local_ip_addresses()\n",
    "    \n",
    "    if local_ip_addresses:\n",
    "        print(\"Local IP addresses:\")\n",
    "        for ip in local_ip_addresses:\n",
    "            print(ip)\n",
    "    else:\n",
    "        print(\"No local IP addresses found.\")"
   ]
  },
  {
   "cell_type": "markdown",
   "id": "b1955e7c",
   "metadata": {},
   "source": [
    "---"
   ]
  },
  {
   "cell_type": "markdown",
   "id": "7bdef158",
   "metadata": {},
   "source": [
    "---"
   ]
  },
  {
   "cell_type": "markdown",
   "id": "3569b84d",
   "metadata": {},
   "source": [
    "### 56. Write a Python program to get the height and width of the console window. "
   ]
  },
  {
   "cell_type": "code",
   "execution_count": 7,
   "id": "bd1d8d48",
   "metadata": {},
   "outputs": [],
   "source": [
    "import shutil"
   ]
  },
  {
   "cell_type": "code",
   "execution_count": 8,
   "id": "6184277e",
   "metadata": {},
   "outputs": [],
   "source": [
    "def terminal_size():\n",
    "    columns, rows = shutil.get_terminal_size()\n",
    "    return columns, rows"
   ]
  },
  {
   "cell_type": "code",
   "execution_count": 9,
   "id": "bedf9c48",
   "metadata": {
    "scrolled": true
   },
   "outputs": [
    {
     "name": "stdout",
     "output_type": "stream",
     "text": [
      "Number of columns and Rows:  (120, 30)\n"
     ]
    }
   ],
   "source": [
    "print('Number of columns and Rows: ', terminal_size())"
   ]
  },
  {
   "cell_type": "markdown",
   "id": "c8955190",
   "metadata": {},
   "source": [
    "---"
   ]
  },
  {
   "cell_type": "markdown",
   "id": "b8713348",
   "metadata": {},
   "source": [
    "---"
   ]
  },
  {
   "cell_type": "markdown",
   "id": "bb318564",
   "metadata": {},
   "source": [
    "### 57. Write a Python program to get the execution time of a Python method. "
   ]
  },
  {
   "cell_type": "code",
   "execution_count": 36,
   "id": "10517d64",
   "metadata": {},
   "outputs": [],
   "source": [
    "import time"
   ]
  },
  {
   "cell_type": "code",
   "execution_count": 44,
   "id": "11abab6f",
   "metadata": {},
   "outputs": [],
   "source": [
    "def exec_time_method():\n",
    "    total = 0\n",
    "    for i in range (1, 1000000):\n",
    "        total += 1\n",
    "    return total"
   ]
  },
  {
   "cell_type": "code",
   "execution_count": 45,
   "id": "0e14ad35",
   "metadata": {},
   "outputs": [],
   "source": [
    "# Record the start time\n",
    "start_time = time.time()"
   ]
  },
  {
   "cell_type": "code",
   "execution_count": 46,
   "id": "50d332b7",
   "metadata": {},
   "outputs": [],
   "source": [
    "# Call the method\n",
    "result = exec_time_method()"
   ]
  },
  {
   "cell_type": "code",
   "execution_count": 47,
   "id": "c648235d",
   "metadata": {},
   "outputs": [],
   "source": [
    "# Record the end time\n",
    "end_time = time.time()"
   ]
  },
  {
   "cell_type": "code",
   "execution_count": 48,
   "id": "bb9a0539",
   "metadata": {},
   "outputs": [],
   "source": [
    "# Calculate the execution time\n",
    "execution_time = end_time - start_time"
   ]
  },
  {
   "cell_type": "code",
   "execution_count": 49,
   "id": "6a9de763",
   "metadata": {},
   "outputs": [
    {
     "name": "stdout",
     "output_type": "stream",
     "text": [
      "Result: 999999\n"
     ]
    }
   ],
   "source": [
    "print(f\"Result: {result}\")"
   ]
  },
  {
   "cell_type": "code",
   "execution_count": 50,
   "id": "641cf9ec",
   "metadata": {
    "scrolled": true
   },
   "outputs": [
    {
     "name": "stdout",
     "output_type": "stream",
     "text": [
      "Execution Time: 0.6101377010345459 seconds\n"
     ]
    }
   ],
   "source": [
    "print(f\"Execution Time: {execution_time} seconds\")"
   ]
  },
  {
   "cell_type": "markdown",
   "id": "206362be",
   "metadata": {},
   "source": [
    "---"
   ]
  },
  {
   "cell_type": "markdown",
   "id": "e8debe27",
   "metadata": {},
   "source": [
    "---"
   ]
  },
  {
   "cell_type": "markdown",
   "id": "11fb3318",
   "metadata": {},
   "source": [
    "### 58. Write a Python program to sum the first n positive integers. "
   ]
  },
  {
   "cell_type": "code",
   "execution_count": 51,
   "id": "16635950",
   "metadata": {},
   "outputs": [
    {
     "name": "stdout",
     "output_type": "stream",
     "text": [
      "Input a number: 10\n"
     ]
    }
   ],
   "source": [
    "n = int(input(\"Input a number: \"))"
   ]
  },
  {
   "cell_type": "code",
   "execution_count": 52,
   "id": "fd4cdb1d",
   "metadata": {},
   "outputs": [],
   "source": [
    "sum_num = (n * (n + 1)) / 2"
   ]
  },
  {
   "cell_type": "code",
   "execution_count": 53,
   "id": "62fc2524",
   "metadata": {
    "scrolled": true
   },
   "outputs": [
    {
     "name": "stdout",
     "output_type": "stream",
     "text": [
      "The sum of the first 10 positive integers, is 55.0\n"
     ]
    }
   ],
   "source": [
    "print(f\"The sum of the first {n} positive integers, is {sum_num}\")"
   ]
  },
  {
   "cell_type": "markdown",
   "id": "99c37348",
   "metadata": {},
   "source": [
    "---"
   ]
  },
  {
   "cell_type": "markdown",
   "id": "1c49beed",
   "metadata": {},
   "source": [
    "---"
   ]
  },
  {
   "cell_type": "markdown",
   "id": "f7f19414",
   "metadata": {},
   "source": [
    "### 59. Write a Python program to convert height (in feet and inches) to centimeters. "
   ]
  },
  {
   "cell_type": "code",
   "execution_count": 56,
   "id": "6bd4dc86",
   "metadata": {},
   "outputs": [],
   "source": [
    "def ft_inch_m_cm(f, i):\n",
    "    h_in = f * 12 + i\n",
    "    h_cm = (h_in * 2.54)\n",
    "    return h_cm"
   ]
  },
  {
   "cell_type": "code",
   "execution_count": 58,
   "id": "8e4104c7",
   "metadata": {
    "scrolled": true
   },
   "outputs": [
    {
     "name": "stdout",
     "output_type": "stream",
     "text": [
      "160.02\n"
     ]
    }
   ],
   "source": [
    "print(ft_inch_m_cm(5, 3))"
   ]
  },
  {
   "cell_type": "markdown",
   "id": "827b7774",
   "metadata": {},
   "source": [
    "---"
   ]
  },
  {
   "cell_type": "markdown",
   "id": "db27bdbe",
   "metadata": {},
   "source": [
    "---"
   ]
  },
  {
   "cell_type": "markdown",
   "id": "1aa00bb1",
   "metadata": {},
   "source": [
    "### 60. Write a Python program to calculate the hypotenuse of a right angled triangle. "
   ]
  },
  {
   "cell_type": "code",
   "execution_count": 59,
   "id": "a9ed34d6",
   "metadata": {},
   "outputs": [],
   "source": [
    "from math import sqrt"
   ]
  },
  {
   "cell_type": "code",
   "execution_count": 61,
   "id": "e3cbab64",
   "metadata": {},
   "outputs": [],
   "source": [
    "def hypotenuse(b, a):\n",
    "    h = sqrt(a**2 + b**2)\n",
    "    return h"
   ]
  },
  {
   "cell_type": "code",
   "execution_count": 62,
   "id": "d907e08e",
   "metadata": {
    "scrolled": false
   },
   "outputs": [
    {
     "name": "stdout",
     "output_type": "stream",
     "text": [
      "5.0\n"
     ]
    }
   ],
   "source": [
    "print(hypotenuse(3, 4))"
   ]
  },
  {
   "cell_type": "markdown",
   "id": "b2b038ae",
   "metadata": {},
   "source": [
    "---"
   ]
  },
  {
   "cell_type": "markdown",
   "id": "f6579b2b",
   "metadata": {},
   "source": [
    "---"
   ]
  },
  {
   "cell_type": "markdown",
   "id": "dd947dfe",
   "metadata": {},
   "source": [
    "### 61. Write a Python program to convert the distance (in feet) to inches, yards, and miles. "
   ]
  },
  {
   "cell_type": "code",
   "execution_count": 63,
   "id": "889b4af2",
   "metadata": {},
   "outputs": [],
   "source": [
    "def convertfeeto(fd):\n",
    "    in_dis = fd * 12\n",
    "    yar_dis = in_dis/36\n",
    "    mile_dis = yar_dis / 1760\n",
    "    print(f\"Input distance in feet = {fd}\")\n",
    "    print(f\"Distance in inches= {in_dis}\")\n",
    "    print(f\"Distance in yards= {yar_dis}\")\n",
    "    print(f\"Distance in miles= {mile_dis}\")"
   ]
  },
  {
   "cell_type": "code",
   "execution_count": 64,
   "id": "dc1e1ca1",
   "metadata": {},
   "outputs": [
    {
     "name": "stdout",
     "output_type": "stream",
     "text": [
      "Input distance in feet = 100\n",
      "Distance in inches= 1200\n",
      "Distance in yards= 33.333333333333336\n",
      "Distance in miles= 0.01893939393939394\n"
     ]
    }
   ],
   "source": [
    "convertfeeto(100)"
   ]
  },
  {
   "cell_type": "code",
   "execution_count": 65,
   "id": "5198edfd",
   "metadata": {
    "scrolled": true
   },
   "outputs": [
    {
     "name": "stdout",
     "output_type": "stream",
     "text": [
      "Input distance in feet = 5000\n",
      "Distance in inches= 60000\n",
      "Distance in yards= 1666.6666666666667\n",
      "Distance in miles= 0.946969696969697\n"
     ]
    }
   ],
   "source": [
    "convertfeeto(5000)"
   ]
  },
  {
   "cell_type": "markdown",
   "id": "b63c75b6",
   "metadata": {},
   "source": [
    "---"
   ]
  },
  {
   "cell_type": "markdown",
   "id": "6170b91d",
   "metadata": {},
   "source": [
    "---"
   ]
  },
  {
   "cell_type": "markdown",
   "id": "8954f8c0",
   "metadata": {},
   "source": [
    "### 62. Write a Python program to convert all units of time into seconds. "
   ]
  },
  {
   "cell_type": "code",
   "execution_count": 66,
   "id": "21aaa71b",
   "metadata": {},
   "outputs": [
    {
     "name": "stdout",
     "output_type": "stream",
     "text": [
      "Input days: 4\n"
     ]
    }
   ],
   "source": [
    "days = int(input(\"Input days: \"))"
   ]
  },
  {
   "cell_type": "code",
   "execution_count": 67,
   "id": "6140e06f",
   "metadata": {},
   "outputs": [
    {
     "name": "stdout",
     "output_type": "stream",
     "text": [
      "Input hours: 5\n"
     ]
    }
   ],
   "source": [
    "hours = int(input(\"Input hours: \"))"
   ]
  },
  {
   "cell_type": "code",
   "execution_count": 68,
   "id": "24c899df",
   "metadata": {},
   "outputs": [
    {
     "name": "stdout",
     "output_type": "stream",
     "text": [
      "Input minutes: 20\n"
     ]
    }
   ],
   "source": [
    "minutes = int(input(\"Input minutes: \"))"
   ]
  },
  {
   "cell_type": "code",
   "execution_count": 69,
   "id": "8cfbeee5",
   "metadata": {},
   "outputs": [
    {
     "name": "stdout",
     "output_type": "stream",
     "text": [
      "Input seconds: 10\n"
     ]
    }
   ],
   "source": [
    "seconds = int(input(\"Input seconds: \"))"
   ]
  },
  {
   "cell_type": "code",
   "execution_count": 70,
   "id": "9c5e4bd8",
   "metadata": {},
   "outputs": [],
   "source": [
    "total_sec = (days*24*3600)+(hours*3600)+(minutes*60)+seconds"
   ]
  },
  {
   "cell_type": "code",
   "execution_count": 71,
   "id": "d8db175b",
   "metadata": {
    "scrolled": true
   },
   "outputs": [
    {
     "name": "stdout",
     "output_type": "stream",
     "text": [
      "Total seconds: 364810\n"
     ]
    }
   ],
   "source": [
    "print(f\"Total seconds: {total_sec}\")"
   ]
  },
  {
   "cell_type": "markdown",
   "id": "f890209b",
   "metadata": {},
   "source": [
    "---"
   ]
  },
  {
   "cell_type": "markdown",
   "id": "2a8c843c",
   "metadata": {},
   "source": [
    "---"
   ]
  },
  {
   "cell_type": "markdown",
   "id": "da98ce25",
   "metadata": {},
   "source": [
    "### 63. Write a Python program to get an absolute file path."
   ]
  },
  {
   "cell_type": "code",
   "execution_count": 76,
   "id": "d2d5fb1e",
   "metadata": {},
   "outputs": [],
   "source": [
    "import os"
   ]
  },
  {
   "cell_type": "code",
   "execution_count": 77,
   "id": "745089ad",
   "metadata": {},
   "outputs": [],
   "source": [
    "# Specify the file path using double backslashes or a raw string\n",
    "file_path = r\"D:\\Python_projects\\Python\\001_w3resource\\001_w3resource_PythonBasic_Part1\\0002_Python basic (Part -I) 26 - 50.ipynb\""
   ]
  },
  {
   "cell_type": "code",
   "execution_count": 78,
   "id": "e75bdd10",
   "metadata": {},
   "outputs": [],
   "source": [
    "# Get the absolute file path\n",
    "absolute_path = os.path.abspath(file_path)"
   ]
  },
  {
   "cell_type": "code",
   "execution_count": 79,
   "id": "ff8e6e20",
   "metadata": {},
   "outputs": [
    {
     "name": "stdout",
     "output_type": "stream",
     "text": [
      "Absolute File Path: D:\\Python_projects\\Python\\001_w3resource\\001_w3resource_PythonBasic_Part1\\0002_Python basic (Part -I) 26 - 50.ipynb\n"
     ]
    }
   ],
   "source": [
    "print(f\"Absolute File Path: {absolute_path}\")"
   ]
  },
  {
   "cell_type": "markdown",
   "id": "cf004970",
   "metadata": {},
   "source": [
    " In Python, backslashes (\\) are used as escape characters in strings. To specify a file path with backslashes, you need to either use double backslashes (\\\\) or use a raw string by adding an 'r' prefix before the string. "
   ]
  },
  {
   "cell_type": "markdown",
   "id": "c8a96449",
   "metadata": {},
   "source": [
    "---"
   ]
  },
  {
   "cell_type": "markdown",
   "id": "16e9c123",
   "metadata": {},
   "source": [
    "---"
   ]
  },
  {
   "cell_type": "markdown",
   "id": "269dfb0c",
   "metadata": {},
   "source": [
    "### 64. Write a Python program that retrieves the date and time of file creation and modification. "
   ]
  },
  {
   "cell_type": "code",
   "execution_count": 80,
   "id": "1fdbf396",
   "metadata": {},
   "outputs": [],
   "source": [
    "import os.path, time"
   ]
  },
  {
   "cell_type": "code",
   "execution_count": 82,
   "id": "5170b9cf",
   "metadata": {
    "scrolled": true
   },
   "outputs": [
    {
     "name": "stdout",
     "output_type": "stream",
     "text": [
      "Last modified: Mon Oct  9 19:49:28 2023\n"
     ]
    }
   ],
   "source": [
    "print(\"Last modified: %s\" % time.ctime(os.path.getmtime(\"0002_Python basic (Part -I) 26 - 50.ipynb\")))"
   ]
  },
  {
   "cell_type": "code",
   "execution_count": 83,
   "id": "3520b1d4",
   "metadata": {},
   "outputs": [
    {
     "name": "stdout",
     "output_type": "stream",
     "text": [
      "Created: Sat Oct  7 22:12:23 2023\n"
     ]
    }
   ],
   "source": [
    "print(\"Created: %s\" % time.ctime(os.path.getctime(\"0002_Python basic (Part -I) 26 - 50.ipynb\")))"
   ]
  },
  {
   "cell_type": "markdown",
   "id": "e5c2461d",
   "metadata": {},
   "source": [
    "---"
   ]
  },
  {
   "cell_type": "markdown",
   "id": "ca3219f1",
   "metadata": {},
   "source": [
    "---"
   ]
  },
  {
   "cell_type": "markdown",
   "id": "458e629a",
   "metadata": {},
   "source": [
    "### 65. Write a Python program that converts seconds into days, hours, minutes, and seconds. "
   ]
  },
  {
   "cell_type": "code",
   "execution_count": 84,
   "id": "ca9a848b",
   "metadata": {},
   "outputs": [
    {
     "name": "stdout",
     "output_type": "stream",
     "text": [
      "Enter the number of seconds: 1234565\n"
     ]
    }
   ],
   "source": [
    "seconds = int(input(\"Enter the number of seconds: \"))"
   ]
  },
  {
   "cell_type": "code",
   "execution_count": 85,
   "id": "a230cffa",
   "metadata": {},
   "outputs": [],
   "source": [
    "# Calculate the number of days, hours, minutes, and remaining seconds\n",
    "days = seconds // (24 * 3600)\n",
    "seconds %= (24 * 3600)\n",
    "\n",
    "hours = seconds // 3600\n",
    "seconds %= 3600\n",
    "\n",
    "minutes = seconds // 60\n",
    "seconds %= 60"
   ]
  },
  {
   "cell_type": "code",
   "execution_count": 86,
   "id": "3fba5c9a",
   "metadata": {
    "scrolled": true
   },
   "outputs": [
    {
     "name": "stdout",
     "output_type": "stream",
     "text": [
      "Days: 14\n",
      "Hours: 6\n",
      "Minutes: 56\n",
      "Seconds: 5\n"
     ]
    }
   ],
   "source": [
    "# Output the result\n",
    "print(f\"Days: {days}\")\n",
    "print(f\"Hours: {hours}\")\n",
    "print(f\"Minutes: {minutes}\")\n",
    "print(f\"Seconds: {seconds}\")"
   ]
  },
  {
   "cell_type": "markdown",
   "id": "f1ffe86b",
   "metadata": {},
   "source": [
    "---"
   ]
  },
  {
   "cell_type": "markdown",
   "id": "2a562487",
   "metadata": {},
   "source": [
    "---"
   ]
  },
  {
   "cell_type": "markdown",
   "id": "57a72ecb",
   "metadata": {},
   "source": [
    "### 66. Write a Python program to calculate the body mass index. "
   ]
  },
  {
   "cell_type": "markdown",
   "id": "5ea6898e",
   "metadata": {},
   "source": [
    "Body Mass Index = weight(kg) / height (m)^2"
   ]
  },
  {
   "cell_type": "code",
   "execution_count": 3,
   "id": "d4a82f6b",
   "metadata": {},
   "outputs": [
    {
     "name": "stdout",
     "output_type": "stream",
     "text": [
      "Enter weight in kg: 65\n"
     ]
    }
   ],
   "source": [
    "weight_kg = float(input(\"Enter weight in kg: \"))"
   ]
  },
  {
   "cell_type": "code",
   "execution_count": 4,
   "id": "64480cd7",
   "metadata": {},
   "outputs": [
    {
     "name": "stdout",
     "output_type": "stream",
     "text": [
      "Enter height in m: 1.65\n"
     ]
    }
   ],
   "source": [
    "height_m = float(input(\"Enter height in m: \"))"
   ]
  },
  {
   "cell_type": "code",
   "execution_count": 5,
   "id": "0cf5480c",
   "metadata": {},
   "outputs": [],
   "source": [
    "bmi = (weight_kg)/(height_m**2)"
   ]
  },
  {
   "cell_type": "code",
   "execution_count": 6,
   "id": "c18dff2d",
   "metadata": {
    "scrolled": false
   },
   "outputs": [
    {
     "name": "stdout",
     "output_type": "stream",
     "text": [
      "Your BMI is: 23.875114784205696\n"
     ]
    }
   ],
   "source": [
    "print(f\"Your BMI is: {bmi}\")"
   ]
  },
  {
   "cell_type": "markdown",
   "id": "c7caee10",
   "metadata": {},
   "source": [
    "---"
   ]
  },
  {
   "cell_type": "markdown",
   "id": "2614f24f",
   "metadata": {},
   "source": [
    "---"
   ]
  },
  {
   "cell_type": "markdown",
   "id": "d74af7bf",
   "metadata": {},
   "source": [
    "### 67. Write a Python program to convert pressure in kilopascals to pounds per square inch, a millimeter of mercury (mmHg) and atmosphere pressure. "
   ]
  },
  {
   "cell_type": "code",
   "execution_count": 8,
   "id": "98145e05",
   "metadata": {},
   "outputs": [
    {
     "name": "stdout",
     "output_type": "stream",
     "text": [
      "Input pressure in kilopascals: 12.35\n"
     ]
    }
   ],
   "source": [
    "kpa = float(input(\"Input pressure in kilopascals: \")) #12.35"
   ]
  },
  {
   "cell_type": "code",
   "execution_count": 12,
   "id": "507cfd57",
   "metadata": {},
   "outputs": [],
   "source": [
    "psi = kpa / 6.89475729"
   ]
  },
  {
   "cell_type": "code",
   "execution_count": 13,
   "id": "e6979b6d",
   "metadata": {},
   "outputs": [],
   "source": [
    "psi = round(psi,3)"
   ]
  },
  {
   "cell_type": "code",
   "execution_count": 14,
   "id": "425752c7",
   "metadata": {},
   "outputs": [
    {
     "name": "stdout",
     "output_type": "stream",
     "text": [
      "The pressure in pounds per square inch: 1.791 psi\n"
     ]
    }
   ],
   "source": [
    "print(f\"The pressure in pounds per square inch: {psi} psi\")"
   ]
  },
  {
   "cell_type": "code",
   "execution_count": 15,
   "id": "2e7bcb69",
   "metadata": {},
   "outputs": [],
   "source": [
    "mmhg = kpa * 760 / 101.325"
   ]
  },
  {
   "cell_type": "code",
   "execution_count": 17,
   "id": "1f7cd338",
   "metadata": {},
   "outputs": [],
   "source": [
    "mmhg = round(mmhg,3)"
   ]
  },
  {
   "cell_type": "code",
   "execution_count": 18,
   "id": "db7b107b",
   "metadata": {},
   "outputs": [
    {
     "name": "stdout",
     "output_type": "stream",
     "text": [
      "The pressure in millimeter of mercury: 92.633 mmHg\n"
     ]
    }
   ],
   "source": [
    "print(f\"The pressure in millimeter of mercury: {mmhg} mmHg\")"
   ]
  },
  {
   "cell_type": "code",
   "execution_count": 19,
   "id": "6fa3b3ec",
   "metadata": {},
   "outputs": [],
   "source": [
    "atm = kpa / 101.325"
   ]
  },
  {
   "cell_type": "code",
   "execution_count": 20,
   "id": "baf0fbec",
   "metadata": {},
   "outputs": [],
   "source": [
    "atm = round(atm,3)"
   ]
  },
  {
   "cell_type": "code",
   "execution_count": 21,
   "id": "900cf99e",
   "metadata": {
    "scrolled": true
   },
   "outputs": [
    {
     "name": "stdout",
     "output_type": "stream",
     "text": [
      "Atmosphere pressure: 0.122 atm\n"
     ]
    }
   ],
   "source": [
    "print(f\"Atmosphere pressure: {atm} atm\")"
   ]
  },
  {
   "cell_type": "markdown",
   "id": "95492493",
   "metadata": {},
   "source": [
    "---"
   ]
  },
  {
   "cell_type": "markdown",
   "id": "54ec58b8",
   "metadata": {},
   "source": [
    "---"
   ]
  },
  {
   "cell_type": "markdown",
   "id": "b460d280",
   "metadata": {},
   "source": [
    "### 68. Write a Python program to calculate sum of digits of a number. "
   ]
  },
  {
   "cell_type": "code",
   "execution_count": 30,
   "id": "2bf9323f",
   "metadata": {},
   "outputs": [],
   "source": [
    "def sum_digits(n):\n",
    "    digit_sum = 0\n",
    "    \n",
    "    while n > 0:\n",
    "        digit = n % 10\n",
    "        print(digit)\n",
    "        digit_sum += digit\n",
    "        n = n//10\n",
    "    return digit_sum"
   ]
  },
  {
   "cell_type": "markdown",
   "id": "fdc785fe",
   "metadata": {},
   "source": [
    "`n // 10` realiza una división entera de n entre 10 y descarta cualquier parte fraccional. "
   ]
  },
  {
   "cell_type": "code",
   "execution_count": 33,
   "id": "7af0cd6b",
   "metadata": {},
   "outputs": [
    {
     "name": "stdout",
     "output_type": "stream",
     "text": [
      "Enter a integer number 1345876\n"
     ]
    }
   ],
   "source": [
    "number = int(input(\"Enter a integer number \"))"
   ]
  },
  {
   "cell_type": "code",
   "execution_count": 34,
   "id": "82a43c74",
   "metadata": {
    "scrolled": false
   },
   "outputs": [
    {
     "name": "stdout",
     "output_type": "stream",
     "text": [
      "6\n",
      "7\n",
      "8\n",
      "5\n",
      "4\n",
      "3\n",
      "1\n",
      "The sum of the digits of 1345876 is 34\n"
     ]
    }
   ],
   "source": [
    "print(f\"The sum of the digits of {number} is {sum_digits(number)}\")"
   ]
  },
  {
   "cell_type": "markdown",
   "id": "a2c7f676",
   "metadata": {},
   "source": [
    "---"
   ]
  },
  {
   "cell_type": "markdown",
   "id": "f7188b93",
   "metadata": {},
   "source": [
    "---"
   ]
  },
  {
   "cell_type": "markdown",
   "id": "06092c77",
   "metadata": {},
   "source": [
    "### 69. Write a Python program to sort three integers without using conditional statements and loops. "
   ]
  },
  {
   "cell_type": "code",
   "execution_count": 42,
   "id": "137bc217",
   "metadata": {},
   "outputs": [
    {
     "name": "stdout",
     "output_type": "stream",
     "text": [
      "Input first number: 9\n"
     ]
    }
   ],
   "source": [
    "x = int(input(\"Input first number: \"))"
   ]
  },
  {
   "cell_type": "code",
   "execution_count": 43,
   "id": "fa4901ce",
   "metadata": {},
   "outputs": [
    {
     "name": "stdout",
     "output_type": "stream",
     "text": [
      "Input second number: 5\n"
     ]
    }
   ],
   "source": [
    "y = int(input(\"Input second number: \"))"
   ]
  },
  {
   "cell_type": "code",
   "execution_count": 44,
   "id": "2dcfb7f5",
   "metadata": {},
   "outputs": [
    {
     "name": "stdout",
     "output_type": "stream",
     "text": [
      "Input third number: 1\n"
     ]
    }
   ],
   "source": [
    "z = int(input(\"Input third number: \"))"
   ]
  },
  {
   "cell_type": "code",
   "execution_count": 45,
   "id": "99263fe2",
   "metadata": {},
   "outputs": [],
   "source": [
    "a1 = min(x, y, z)"
   ]
  },
  {
   "cell_type": "code",
   "execution_count": 46,
   "id": "f2477a53",
   "metadata": {},
   "outputs": [],
   "source": [
    "a3 = max(x, y, z)"
   ]
  },
  {
   "cell_type": "code",
   "execution_count": 47,
   "id": "fee2a86e",
   "metadata": {},
   "outputs": [],
   "source": [
    "a2 = (x + y + z) - a1 - a3"
   ]
  },
  {
   "cell_type": "code",
   "execution_count": 48,
   "id": "4160e212",
   "metadata": {},
   "outputs": [
    {
     "name": "stdout",
     "output_type": "stream",
     "text": [
      "1, 5, 9\n"
     ]
    }
   ],
   "source": [
    "print(f\"{a1}, {a2}, {a3}\")"
   ]
  },
  {
   "cell_type": "markdown",
   "id": "2702fa53",
   "metadata": {},
   "source": [
    "---"
   ]
  },
  {
   "cell_type": "markdown",
   "id": "fd930b78",
   "metadata": {},
   "source": [
    "---"
   ]
  },
  {
   "cell_type": "markdown",
   "id": "1be8b0cf",
   "metadata": {},
   "source": [
    "### 70. Write a Python program to sort files by date. "
   ]
  },
  {
   "cell_type": "code",
   "execution_count": 49,
   "id": "88f207b2",
   "metadata": {},
   "outputs": [],
   "source": [
    "import os"
   ]
  },
  {
   "cell_type": "code",
   "execution_count": 50,
   "id": "b7336381",
   "metadata": {},
   "outputs": [],
   "source": [
    "os.chdir('d:')"
   ]
  },
  {
   "cell_type": "code",
   "execution_count": 51,
   "id": "b52b76e2",
   "metadata": {},
   "outputs": [],
   "source": [
    "result = sorted(filter(os.path.isfile, os.listdir('.')), key=os.path.getmtime)"
   ]
  },
  {
   "cell_type": "code",
   "execution_count": 52,
   "id": "0521b8d2",
   "metadata": {
    "scrolled": true
   },
   "outputs": [
    {
     "name": "stdout",
     "output_type": "stream",
     "text": [
      "README.md\n",
      "0001_Python basic (Part -I) 1 - 25.ipynb\n",
      "0002_Python basic (Part -I) 26 - 50.ipynb\n",
      "0003_Python basic (Part -I) 51 - 75.ipynb\n"
     ]
    }
   ],
   "source": [
    "print('\\n'.join(map(str, result)))"
   ]
  },
  {
   "cell_type": "markdown",
   "id": "371a943f",
   "metadata": {},
   "source": [
    "---"
   ]
  },
  {
   "cell_type": "markdown",
   "id": "20fc7a7e",
   "metadata": {},
   "source": [
    "---"
   ]
  },
  {
   "cell_type": "markdown",
   "id": "5681e5d1",
   "metadata": {},
   "source": [
    "### 71. Write a Python program to get a directory listing, sorted by creation date. "
   ]
  },
  {
   "cell_type": "markdown",
   "id": "a7603271",
   "metadata": {},
   "source": [
    "no le veo el punto a este"
   ]
  },
  {
   "cell_type": "code",
   "execution_count": null,
   "id": "ba1f9f04",
   "metadata": {},
   "outputs": [],
   "source": []
  },
  {
   "cell_type": "markdown",
   "id": "083ea799",
   "metadata": {},
   "source": [
    "---"
   ]
  },
  {
   "cell_type": "markdown",
   "id": "30a833af",
   "metadata": {},
   "source": [
    "---"
   ]
  },
  {
   "cell_type": "markdown",
   "id": "6476e1be",
   "metadata": {},
   "source": [
    "### 72. Write a Python program to get the details of the math module. "
   ]
  },
  {
   "cell_type": "code",
   "execution_count": 53,
   "id": "8d2f9121",
   "metadata": {},
   "outputs": [],
   "source": [
    "import math "
   ]
  },
  {
   "cell_type": "code",
   "execution_count": 54,
   "id": "480bc4a1",
   "metadata": {},
   "outputs": [],
   "source": [
    "math_ls = dir(math)"
   ]
  },
  {
   "cell_type": "code",
   "execution_count": 55,
   "id": "14b99d1b",
   "metadata": {
    "scrolled": true
   },
   "outputs": [
    {
     "name": "stdout",
     "output_type": "stream",
     "text": [
      "['__doc__', '__loader__', '__name__', '__package__', '__spec__', 'acos', 'acosh', 'asin', 'asinh', 'atan', 'atan2', 'atanh', 'ceil', 'comb', 'copysign', 'cos', 'cosh', 'degrees', 'dist', 'e', 'erf', 'erfc', 'exp', 'expm1', 'fabs', 'factorial', 'floor', 'fmod', 'frexp', 'fsum', 'gamma', 'gcd', 'hypot', 'inf', 'isclose', 'isfinite', 'isinf', 'isnan', 'isqrt', 'ldexp', 'lgamma', 'log', 'log10', 'log1p', 'log2', 'modf', 'nan', 'perm', 'pi', 'pow', 'prod', 'radians', 'remainder', 'sin', 'sinh', 'sqrt', 'tan', 'tanh', 'tau', 'trunc']\n"
     ]
    }
   ],
   "source": [
    "print(math_ls)"
   ]
  },
  {
   "cell_type": "code",
   "execution_count": 56,
   "id": "58e7334f",
   "metadata": {},
   "outputs": [
    {
     "name": "stdout",
     "output_type": "stream",
     "text": [
      "Help on built-in module math:\n",
      "\n",
      "NAME\n",
      "    math\n",
      "\n",
      "DESCRIPTION\n",
      "    This module provides access to the mathematical functions\n",
      "    defined by the C standard.\n",
      "\n",
      "FUNCTIONS\n",
      "    acos(x, /)\n",
      "        Return the arc cosine (measured in radians) of x.\n",
      "    \n",
      "    acosh(x, /)\n",
      "        Return the inverse hyperbolic cosine of x.\n",
      "    \n",
      "    asin(x, /)\n",
      "        Return the arc sine (measured in radians) of x.\n",
      "    \n",
      "    asinh(x, /)\n",
      "        Return the inverse hyperbolic sine of x.\n",
      "    \n",
      "    atan(x, /)\n",
      "        Return the arc tangent (measured in radians) of x.\n",
      "    \n",
      "    atan2(y, x, /)\n",
      "        Return the arc tangent (measured in radians) of y/x.\n",
      "        \n",
      "        Unlike atan(y/x), the signs of both x and y are considered.\n",
      "    \n",
      "    atanh(x, /)\n",
      "        Return the inverse hyperbolic tangent of x.\n",
      "    \n",
      "    ceil(x, /)\n",
      "        Return the ceiling of x as an Integral.\n",
      "        \n",
      "        This is the smallest integer >= x.\n",
      "    \n",
      "    comb(n, k, /)\n",
      "        Number of ways to choose k items from n items without repetition and without order.\n",
      "        \n",
      "        Evaluates to n! / (k! * (n - k)!) when k <= n and evaluates\n",
      "        to zero when k > n.\n",
      "        \n",
      "        Also called the binomial coefficient because it is equivalent\n",
      "        to the coefficient of k-th term in polynomial expansion of the\n",
      "        expression (1 + x)**n.\n",
      "        \n",
      "        Raises TypeError if either of the arguments are not integers.\n",
      "        Raises ValueError if either of the arguments are negative.\n",
      "    \n",
      "    copysign(x, y, /)\n",
      "        Return a float with the magnitude (absolute value) of x but the sign of y.\n",
      "        \n",
      "        On platforms that support signed zeros, copysign(1.0, -0.0)\n",
      "        returns -1.0.\n",
      "    \n",
      "    cos(x, /)\n",
      "        Return the cosine of x (measured in radians).\n",
      "    \n",
      "    cosh(x, /)\n",
      "        Return the hyperbolic cosine of x.\n",
      "    \n",
      "    degrees(x, /)\n",
      "        Convert angle x from radians to degrees.\n",
      "    \n",
      "    dist(p, q, /)\n",
      "        Return the Euclidean distance between two points p and q.\n",
      "        \n",
      "        The points should be specified as sequences (or iterables) of\n",
      "        coordinates.  Both inputs must have the same dimension.\n",
      "        \n",
      "        Roughly equivalent to:\n",
      "            sqrt(sum((px - qx) ** 2.0 for px, qx in zip(p, q)))\n",
      "    \n",
      "    erf(x, /)\n",
      "        Error function at x.\n",
      "    \n",
      "    erfc(x, /)\n",
      "        Complementary error function at x.\n",
      "    \n",
      "    exp(x, /)\n",
      "        Return e raised to the power of x.\n",
      "    \n",
      "    expm1(x, /)\n",
      "        Return exp(x)-1.\n",
      "        \n",
      "        This function avoids the loss of precision involved in the direct evaluation of exp(x)-1 for small x.\n",
      "    \n",
      "    fabs(x, /)\n",
      "        Return the absolute value of the float x.\n",
      "    \n",
      "    factorial(x, /)\n",
      "        Find x!.\n",
      "        \n",
      "        Raise a ValueError if x is negative or non-integral.\n",
      "    \n",
      "    floor(x, /)\n",
      "        Return the floor of x as an Integral.\n",
      "        \n",
      "        This is the largest integer <= x.\n",
      "    \n",
      "    fmod(x, y, /)\n",
      "        Return fmod(x, y), according to platform C.\n",
      "        \n",
      "        x % y may differ.\n",
      "    \n",
      "    frexp(x, /)\n",
      "        Return the mantissa and exponent of x, as pair (m, e).\n",
      "        \n",
      "        m is a float and e is an int, such that x = m * 2.**e.\n",
      "        If x is 0, m and e are both 0.  Else 0.5 <= abs(m) < 1.0.\n",
      "    \n",
      "    fsum(seq, /)\n",
      "        Return an accurate floating point sum of values in the iterable seq.\n",
      "        \n",
      "        Assumes IEEE-754 floating point arithmetic.\n",
      "    \n",
      "    gamma(x, /)\n",
      "        Gamma function at x.\n",
      "    \n",
      "    gcd(x, y, /)\n",
      "        greatest common divisor of x and y\n",
      "    \n",
      "    hypot(...)\n",
      "        hypot(*coordinates) -> value\n",
      "        \n",
      "        Multidimensional Euclidean distance from the origin to a point.\n",
      "        \n",
      "        Roughly equivalent to:\n",
      "            sqrt(sum(x**2 for x in coordinates))\n",
      "        \n",
      "        For a two dimensional point (x, y), gives the hypotenuse\n",
      "        using the Pythagorean theorem:  sqrt(x*x + y*y).\n",
      "        \n",
      "        For example, the hypotenuse of a 3/4/5 right triangle is:\n",
      "        \n",
      "            >>> hypot(3.0, 4.0)\n",
      "            5.0\n",
      "    \n",
      "    isclose(a, b, *, rel_tol=1e-09, abs_tol=0.0)\n",
      "        Determine whether two floating point numbers are close in value.\n",
      "        \n",
      "          rel_tol\n",
      "            maximum difference for being considered \"close\", relative to the\n",
      "            magnitude of the input values\n",
      "          abs_tol\n",
      "            maximum difference for being considered \"close\", regardless of the\n",
      "            magnitude of the input values\n",
      "        \n",
      "        Return True if a is close in value to b, and False otherwise.\n",
      "        \n",
      "        For the values to be considered close, the difference between them\n",
      "        must be smaller than at least one of the tolerances.\n",
      "        \n",
      "        -inf, inf and NaN behave similarly to the IEEE 754 Standard.  That\n",
      "        is, NaN is not close to anything, even itself.  inf and -inf are\n",
      "        only close to themselves.\n",
      "    \n",
      "    isfinite(x, /)\n",
      "        Return True if x is neither an infinity nor a NaN, and False otherwise.\n",
      "    \n",
      "    isinf(x, /)\n",
      "        Return True if x is a positive or negative infinity, and False otherwise.\n",
      "    \n",
      "    isnan(x, /)\n",
      "        Return True if x is a NaN (not a number), and False otherwise.\n",
      "    \n",
      "    isqrt(n, /)\n",
      "        Return the integer part of the square root of the input.\n",
      "    \n",
      "    ldexp(x, i, /)\n",
      "        Return x * (2**i).\n",
      "        \n",
      "        This is essentially the inverse of frexp().\n",
      "    \n",
      "    lgamma(x, /)\n",
      "        Natural logarithm of absolute value of Gamma function at x.\n",
      "    \n",
      "    log(...)\n",
      "        log(x, [base=math.e])\n",
      "        Return the logarithm of x to the given base.\n",
      "        \n",
      "        If the base not specified, returns the natural logarithm (base e) of x.\n",
      "    \n",
      "    log10(x, /)\n",
      "        Return the base 10 logarithm of x.\n",
      "    \n",
      "    log1p(x, /)\n",
      "        Return the natural logarithm of 1+x (base e).\n",
      "        \n",
      "        The result is computed in a way which is accurate for x near zero.\n",
      "    \n",
      "    log2(x, /)\n",
      "        Return the base 2 logarithm of x.\n",
      "    \n",
      "    modf(x, /)\n",
      "        Return the fractional and integer parts of x.\n",
      "        \n",
      "        Both results carry the sign of x and are floats.\n",
      "    \n",
      "    perm(n, k=None, /)\n",
      "        Number of ways to choose k items from n items without repetition and with order.\n",
      "        \n",
      "        Evaluates to n! / (n - k)! when k <= n and evaluates\n",
      "        to zero when k > n.\n",
      "        \n",
      "        If k is not specified or is None, then k defaults to n\n",
      "        and the function returns n!.\n",
      "        \n",
      "        Raises TypeError if either of the arguments are not integers.\n",
      "        Raises ValueError if either of the arguments are negative.\n",
      "    \n",
      "    pow(x, y, /)\n",
      "        Return x**y (x to the power of y).\n",
      "    \n",
      "    prod(iterable, /, *, start=1)\n",
      "        Calculate the product of all the elements in the input iterable.\n",
      "        \n",
      "        The default start value for the product is 1.\n",
      "        \n",
      "        When the iterable is empty, return the start value.  This function is\n",
      "        intended specifically for use with numeric values and may reject\n",
      "        non-numeric types.\n",
      "    \n",
      "    radians(x, /)\n",
      "        Convert angle x from degrees to radians.\n",
      "    \n",
      "    remainder(x, y, /)\n",
      "        Difference between x and the closest integer multiple of y.\n",
      "        \n",
      "        Return x - n*y where n*y is the closest integer multiple of y.\n",
      "        In the case where x is exactly halfway between two multiples of\n",
      "        y, the nearest even value of n is used. The result is always exact.\n",
      "    \n",
      "    sin(x, /)\n",
      "        Return the sine of x (measured in radians).\n",
      "    \n",
      "    sinh(x, /)\n",
      "        Return the hyperbolic sine of x.\n",
      "    \n",
      "    sqrt(x, /)\n",
      "        Return the square root of x.\n",
      "    \n",
      "    tan(x, /)\n",
      "        Return the tangent of x (measured in radians).\n",
      "    \n",
      "    tanh(x, /)\n",
      "        Return the hyperbolic tangent of x.\n",
      "    \n",
      "    trunc(x, /)\n",
      "        Truncates the Real x to the nearest Integral toward 0.\n",
      "        \n",
      "        Uses the __trunc__ magic method.\n",
      "\n",
      "DATA\n",
      "    e = 2.718281828459045\n",
      "    inf = inf\n",
      "    nan = nan\n",
      "    pi = 3.141592653589793\n",
      "    tau = 6.283185307179586\n",
      "\n",
      "FILE\n",
      "    (built-in)\n",
      "\n",
      "\n"
     ]
    }
   ],
   "source": [
    "help(math)"
   ]
  },
  {
   "cell_type": "code",
   "execution_count": null,
   "id": "87cdbc30",
   "metadata": {},
   "outputs": [],
   "source": []
  },
  {
   "cell_type": "markdown",
   "id": "868ba829",
   "metadata": {},
   "source": [
    "---"
   ]
  },
  {
   "cell_type": "markdown",
   "id": "839fa2dc",
   "metadata": {},
   "source": [
    "---"
   ]
  },
  {
   "cell_type": "markdown",
   "id": "dffc1b24",
   "metadata": {},
   "source": [
    "### 73. Write a Python program to calculate the midpoints of a line. "
   ]
  },
  {
   "cell_type": "code",
   "execution_count": 57,
   "id": "b66abbec",
   "metadata": {},
   "outputs": [
    {
     "name": "stdout",
     "output_type": "stream",
     "text": [
      "The value of x (the first endpoint) 2\n"
     ]
    }
   ],
   "source": [
    "x1 = float(input('The value of x (the first endpoint) '))"
   ]
  },
  {
   "cell_type": "code",
   "execution_count": 58,
   "id": "c3d53c70",
   "metadata": {},
   "outputs": [
    {
     "name": "stdout",
     "output_type": "stream",
     "text": [
      "The value of y (the first endpoint) 2\n"
     ]
    }
   ],
   "source": [
    "y1 = float(input('The value of y (the first endpoint) '))"
   ]
  },
  {
   "cell_type": "code",
   "execution_count": 59,
   "id": "a18a1403",
   "metadata": {},
   "outputs": [
    {
     "name": "stdout",
     "output_type": "stream",
     "text": [
      "The value of x (the first endpoint) 4\n"
     ]
    }
   ],
   "source": [
    "x2 = float(input('The value of x (the first endpoint) '))"
   ]
  },
  {
   "cell_type": "code",
   "execution_count": 60,
   "id": "1bca3a18",
   "metadata": {},
   "outputs": [
    {
     "name": "stdout",
     "output_type": "stream",
     "text": [
      "The value of y (the first endpoint) 4\n"
     ]
    }
   ],
   "source": [
    "y2 = float(input('The value of y (the first endpoint) '))"
   ]
  },
  {
   "cell_type": "code",
   "execution_count": 61,
   "id": "d4c19626",
   "metadata": {},
   "outputs": [],
   "source": [
    "x_m_point = (x1 + x2)/2"
   ]
  },
  {
   "cell_type": "code",
   "execution_count": 62,
   "id": "310bc7bd",
   "metadata": {},
   "outputs": [],
   "source": [
    "y_m_point = (y1 + y2)/2"
   ]
  },
  {
   "cell_type": "code",
   "execution_count": 64,
   "id": "d5c37634",
   "metadata": {
    "scrolled": true
   },
   "outputs": [
    {
     "name": "stdout",
     "output_type": "stream",
     "text": [
      "(3.0,3.0)\n"
     ]
    }
   ],
   "source": [
    "print(f\"({x_m_point},{y_m_point})\")"
   ]
  },
  {
   "cell_type": "markdown",
   "id": "8181e782",
   "metadata": {},
   "source": [
    "---"
   ]
  },
  {
   "cell_type": "markdown",
   "id": "8b9ff0cd",
   "metadata": {},
   "source": [
    "---"
   ]
  },
  {
   "cell_type": "markdown",
   "id": "4b38be60",
   "metadata": {},
   "source": [
    "### 74. Write a Python program to hash a word. "
   ]
  },
  {
   "cell_type": "markdown",
   "id": "9ed5826f",
   "metadata": {},
   "source": [
    "You can implement a simple Soundex algorithm in Python. Here's a basic implementation of the Soundex algorithm"
   ]
  },
  {
   "cell_type": "code",
   "execution_count": 71,
   "id": "f216dc81",
   "metadata": {},
   "outputs": [],
   "source": [
    "soundex=[0,1,2,3,0,1,2,0,0,2,2,4,5,5,0,1,2,6,2,3,0,1,0,2,0,2]"
   ]
  },
  {
   "cell_type": "code",
   "execution_count": 72,
   "id": "c1dcfe25",
   "metadata": {},
   "outputs": [
    {
     "name": "stdout",
     "output_type": "stream",
     "text": [
      "Input the word be hashed: hola\n"
     ]
    }
   ],
   "source": [
    "word=input(\"Input the word be hashed: \")"
   ]
  },
  {
   "cell_type": "code",
   "execution_count": 73,
   "id": "30ab68b0",
   "metadata": {},
   "outputs": [],
   "source": [
    "word=word.upper()"
   ]
  },
  {
   "cell_type": "code",
   "execution_count": 74,
   "id": "82956973",
   "metadata": {},
   "outputs": [],
   "source": [
    "coded=word[0]"
   ]
  },
  {
   "cell_type": "code",
   "execution_count": 75,
   "id": "c0ae482a",
   "metadata": {},
   "outputs": [
    {
     "name": "stdout",
     "output_type": "stream",
     "text": [
      "\n",
      "The coded word is: H510\n",
      "\n"
     ]
    }
   ],
   "source": [
    "for a in word[1:len(word)]:\n",
    "    i=65-ord(a)\n",
    "    coded=coded+str(soundex[i])\n",
    "print()\n",
    "print(\"The coded word is: \"+coded)\n",
    "print()"
   ]
  },
  {
   "cell_type": "markdown",
   "id": "a99deb62",
   "metadata": {},
   "source": [
    "- `for a in word[1:len(word)]:`: This line starts a for loop that iterates over each character in the word string, starting from the second character (index 1) to the last character. The loop variable a represents each character in the word.\n",
    "\n",
    "- `i = 65 - ord(a)`: In this line, ord(a) returns the Unicode code point of the character a. The number 65 represents the Unicode code point for the letter 'A'. Subtracting ord(a) from 65 effectively calculates the position of the character in the English alphabet. For example, if a is 'B', ord('B') is 66, and i will be 65 - 66 = -1. The negative value -1 is then used as an index to access the corresponding value in the soundex list.\n",
    "\n",
    "- `coded = coded + str(soundex[i])`: The line appends the Soundex code for the character a to the coded string. The Soundex code is obtained from the soundex list using the index i calculated in the previous step. The str() function is used to convert the Soundex code to a string before appending it to the coded string."
   ]
  },
  {
   "cell_type": "markdown",
   "id": "38b7e836",
   "metadata": {},
   "source": [
    "---"
   ]
  },
  {
   "cell_type": "markdown",
   "id": "24f3a3fc",
   "metadata": {},
   "source": [
    "---"
   ]
  },
  {
   "cell_type": "markdown",
   "id": "36cf6214",
   "metadata": {},
   "source": [
    "### 75. Write a Python program to get the copyright information and write Copyright information in Python code. "
   ]
  },
  {
   "cell_type": "code",
   "execution_count": 76,
   "id": "47d44885",
   "metadata": {},
   "outputs": [],
   "source": [
    "import sys"
   ]
  },
  {
   "cell_type": "code",
   "execution_count": 77,
   "id": "8cdbd9c4",
   "metadata": {},
   "outputs": [
    {
     "name": "stdout",
     "output_type": "stream",
     "text": [
      "Copyright (c) 2001-2021 Python Software Foundation.\n",
      "All Rights Reserved.\n",
      "\n",
      "Copyright (c) 2000 BeOpen.com.\n",
      "All Rights Reserved.\n",
      "\n",
      "Copyright (c) 1995-2001 Corporation for National Research Initiatives.\n",
      "All Rights Reserved.\n",
      "\n",
      "Copyright (c) 1991-1995 Stichting Mathematisch Centrum, Amsterdam.\n",
      "All Rights Reserved.\n"
     ]
    }
   ],
   "source": [
    "print(sys.copyright)"
   ]
  },
  {
   "cell_type": "code",
   "execution_count": null,
   "id": "608ab664",
   "metadata": {},
   "outputs": [],
   "source": []
  }
 ],
 "metadata": {
  "kernelspec": {
   "display_name": "Python 3",
   "language": "python",
   "name": "python3"
  },
  "language_info": {
   "codemirror_mode": {
    "name": "ipython",
    "version": 3
   },
   "file_extension": ".py",
   "mimetype": "text/x-python",
   "name": "python",
   "nbconvert_exporter": "python",
   "pygments_lexer": "ipython3",
   "version": "3.8.8"
  }
 },
 "nbformat": 4,
 "nbformat_minor": 5
}

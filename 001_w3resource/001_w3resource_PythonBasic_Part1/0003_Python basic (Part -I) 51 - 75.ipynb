{
 "cells": [
  {
   "cell_type": "markdown",
   "id": "6967cb16",
   "metadata": {},
   "source": [
    "# 0003_Python basic (Part -I) 51 - 75.ipynb"
   ]
  },
  {
   "cell_type": "markdown",
   "id": "6b28891c",
   "metadata": {},
   "source": [
    "---"
   ]
  },
  {
   "cell_type": "markdown",
   "id": "6f94e670",
   "metadata": {},
   "source": [
    "### 51. Write a Python program to determine the profiling of Python programs. "
   ]
  },
  {
   "cell_type": "markdown",
   "id": "8ce554e9",
   "metadata": {},
   "source": [
    "Note: A profile is a set of statistics that describes how often and for how long various parts of the program executed. These statistics can be formatted into reports via the pstats module. "
   ]
  },
  {
   "cell_type": "code",
   "execution_count": 1,
   "id": "2f7a8820",
   "metadata": {},
   "outputs": [],
   "source": [
    "import cProfile"
   ]
  },
  {
   "cell_type": "code",
   "execution_count": 2,
   "id": "f71bf514",
   "metadata": {},
   "outputs": [],
   "source": [
    "def sum():\n",
    "    print(1+2)"
   ]
  },
  {
   "cell_type": "code",
   "execution_count": 3,
   "id": "af82dfc9",
   "metadata": {},
   "outputs": [
    {
     "name": "stdout",
     "output_type": "stream",
     "text": [
      "3\n",
      "         39 function calls in 0.001 seconds\n",
      "\n",
      "   Ordered by: standard name\n",
      "\n",
      "   ncalls  tottime  percall  cumtime  percall filename:lineno(function)\n",
      "        1    0.000    0.000    0.001    0.001 <ipython-input-2-790e02903de9>:1(sum)\n",
      "        1    0.000    0.000    0.001    0.001 <string>:1(<module>)\n",
      "        3    0.000    0.000    0.001    0.000 iostream.py:197(schedule)\n",
      "        2    0.000    0.000    0.000    0.000 iostream.py:310(_is_master_process)\n",
      "        2    0.000    0.000    0.000    0.000 iostream.py:323(_schedule_flush)\n",
      "        2    0.000    0.000    0.001    0.000 iostream.py:386(write)\n",
      "        3    0.000    0.000    0.000    0.000 iostream.py:93(_event_pipe)\n",
      "        3    0.000    0.000    0.000    0.000 socket.py:432(send)\n",
      "        3    0.001    0.000    0.001    0.000 threading.py:1017(_wait_for_tstate_lock)\n",
      "        3    0.000    0.000    0.001    0.000 threading.py:1071(is_alive)\n",
      "        3    0.000    0.000    0.000    0.000 threading.py:513(is_set)\n",
      "        1    0.000    0.000    0.001    0.001 {built-in method builtins.exec}\n",
      "        2    0.000    0.000    0.000    0.000 {built-in method builtins.isinstance}\n",
      "        1    0.000    0.000    0.001    0.001 {built-in method builtins.print}\n",
      "        2    0.000    0.000    0.000    0.000 {built-in method nt.getpid}\n",
      "        3    0.000    0.000    0.000    0.000 {method 'acquire' of '_thread.lock' objects}\n",
      "        3    0.000    0.000    0.000    0.000 {method 'append' of 'collections.deque' objects}\n",
      "        1    0.000    0.000    0.000    0.000 {method 'disable' of '_lsprof.Profiler' objects}\n",
      "\n",
      "\n"
     ]
    }
   ],
   "source": [
    "cProfile.run('sum()')"
   ]
  },
  {
   "cell_type": "markdown",
   "id": "6be5a43d",
   "metadata": {},
   "source": [
    "cProfile provide deterministic profiling of Python programs. A profile is a set of statistics that describes how often and for how long various parts of the program executed.profile.run(command, filename=None, sort=- 1): This function takes a single argument that can be passed to the exec() function, and an optional file name.\n",
    "\n",
    "The above Python code imports the cProfile module. The sum() function defined in the code adds the numbers 1 and 2 and prints the result to the console using the print() function.\n",
    "\n",
    "The cProfile.run() function is used to profile the execution of the sum() function. The run() function takes a string as its parameter that represents the code to be executed and profiled. In this case, it is passed the function call sum() as a string."
   ]
  },
  {
   "cell_type": "markdown",
   "id": "516b289b",
   "metadata": {},
   "source": [
    "---"
   ]
  },
  {
   "cell_type": "markdown",
   "id": "97beb33b",
   "metadata": {},
   "source": [
    "---"
   ]
  },
  {
   "cell_type": "markdown",
   "id": "502dc7a4",
   "metadata": {},
   "source": [
    "### 52. Write a Python program to print to STDERR. "
   ]
  },
  {
   "cell_type": "code",
   "execution_count": 4,
   "id": "62843c07",
   "metadata": {},
   "outputs": [
    {
     "name": "stderr",
     "output_type": "stream",
     "text": [
      "abc--efg--xyz\n"
     ]
    }
   ],
   "source": [
    "from __future__ import print_function\n",
    "import sys\n",
    "\n",
    "def eprint(*args, **kwargs):\n",
    "    print(*args, file=sys.stderr, **kwargs)\n",
    "\n",
    "eprint(\"abc\", \"efg\", \"xyz\", sep=\"--\")\n"
   ]
  },
  {
   "cell_type": "markdown",
   "id": "cf20f27d",
   "metadata": {},
   "source": [
    "The code you provided demonstrates how to define a custom eprint function and use it to print messages to the standard error stream (sys.stderr) instead of the standard output (sys.stdout). Let's break down the code step by step:"
   ]
  },
  {
   "cell_type": "markdown",
   "id": "e9b88dce",
   "metadata": {},
   "source": []
  },
  {
   "cell_type": "markdown",
   "id": "678131e2",
   "metadata": {},
   "source": [
    "---"
   ]
  },
  {
   "cell_type": "markdown",
   "id": "d7475fa2",
   "metadata": {},
   "source": [
    "---"
   ]
  },
  {
   "cell_type": "markdown",
   "id": "53764326",
   "metadata": {},
   "source": [
    "### 53. Write a Python program to access environment variables. "
   ]
  },
  {
   "cell_type": "code",
   "execution_count": 6,
   "id": "307d21b5",
   "metadata": {
    "scrolled": true
   },
   "outputs": [
    {
     "name": "stdout",
     "output_type": "stream",
     "text": [
      "*----------------------------------*\n",
      "environ({'ALLUSERSPROFILE': 'C:\\\\ProgramData', 'APPDATA': 'C:\\\\Users\\\\Asus ROG PC\\\\AppData\\\\Roaming', 'COMMONPROGRAMFILES': 'C:\\\\Program Files\\\\Common Files', 'COMMONPROGRAMFILES(X86)': 'C:\\\\Program Files (x86)\\\\Common Files', 'COMMONPROGRAMW6432': 'C:\\\\Program Files\\\\Common Files', 'COMPUTERNAME': 'DESKTOP-RFID6T3', 'COMSPEC': 'C:\\\\WINDOWS\\\\system32\\\\cmd.exe', 'CONDA_DEFAULT_ENV': 'base', 'CONDA_EXE': 'C:\\\\ProgramData\\\\Anaconda3\\\\Scripts\\\\conda.exe', 'CONDA_PREFIX': 'C:\\\\ProgramData\\\\Anaconda3', 'CONDA_PROMPT_MODIFIER': '(base) ', 'CONDA_PYTHON_EXE': 'C:\\\\ProgramData\\\\Anaconda3\\\\python.exe', 'CONDA_SHLVL': '1', 'DRIVERDATA': 'C:\\\\Windows\\\\System32\\\\Drivers\\\\DriverData', 'FPS_BROWSER_APP_PROFILE_STRING': 'Internet Explorer', 'FPS_BROWSER_USER_PROFILE_STRING': 'Default', 'HOMEDRIVE': 'C:', 'HOMEPATH': '\\\\Users\\\\Asus ROG PC', 'INTEL_DEV_REDIST': 'C:\\\\Program Files (x86)\\\\Common Files\\\\Intel\\\\Shared Libraries\\\\', 'JAVA': 'C:\\\\Program Files\\\\Java\\\\jre1.8.0_361\\\\bin', 'LOCALAPPDATA': 'C:\\\\Users\\\\Asus ROG PC\\\\AppData\\\\Local', 'LOGONSERVER': '\\\\\\\\DESKTOP-RFID6T3', 'MIC_LD_LIBRARY_PATH': 'C:\\\\Program Files (x86)\\\\Common Files\\\\Intel\\\\Shared Libraries\\\\compiler\\\\lib\\\\mic', 'NUMBER_OF_PROCESSORS': '12', 'ONEDRIVE': 'C:\\\\Users\\\\Asus ROG PC\\\\OneDrive', 'OS': 'Windows_NT', 'PATH': 'C:\\\\ProgramData\\\\Anaconda3;C:\\\\ProgramData\\\\Anaconda3\\\\Library\\\\mingw-w64\\\\bin;C:\\\\ProgramData\\\\Anaconda3\\\\Library\\\\usr\\\\bin;C:\\\\ProgramData\\\\Anaconda3\\\\Library\\\\bin;C:\\\\ProgramData\\\\Anaconda3\\\\Scripts;C:\\\\ProgramData\\\\Anaconda3\\\\bin;C:\\\\ProgramData\\\\Anaconda3\\\\condabin;C:\\\\Program Files (x86)\\\\Common Files\\\\Intel\\\\Shared Libraries\\\\redist\\\\intel64\\\\compiler;C:\\\\Program Files\\\\Common Files\\\\Oracle\\\\Java\\\\javapath;C:\\\\ProgramData\\\\Anaconda3;C:\\\\ProgramData\\\\Anaconda3\\\\Library\\\\mingw-w64\\\\bin;C:\\\\ProgramData\\\\Anaconda3\\\\Library\\\\usr\\\\bin;C:\\\\ProgramData\\\\Anaconda3\\\\Library\\\\bin;C:\\\\ProgramData\\\\Anaconda3\\\\Scripts;C:\\\\WINDOWS\\\\system32;C:\\\\WINDOWS;C:\\\\WINDOWS\\\\System32\\\\Wbem;C:\\\\WINDOWS\\\\System32\\\\WindowsPowerShell\\\\v1.0;C:\\\\WINDOWS\\\\System32\\\\OpenSSH;C:\\\\Program Files\\\\dotnet;D:\\\\Program Files\\\\Git\\\\cmd;C:\\\\Program Files\\\\nodejs;C:\\\\Program Files\\\\nodejs;C:\\\\Program Files\\\\Java\\\\jre1.8.0_361\\\\bin;C:\\\\Users\\\\Asus ROG PC\\\\AppData\\\\Local\\\\Microsoft\\\\WindowsApps;C:\\\\webm\\\\bin;D:\\\\Program Files\\\\Inkscape_1_2_1\\\\bin;C:\\\\Users\\\\Asus ROG PC\\\\AppData\\\\Local\\\\Programs\\\\Microsoft VS Code\\\\bin;C:\\\\Users\\\\Asus ROG PC\\\\AppData\\\\Roaming\\\\npm;C:\\\\Program Files\\\\nodejs;.', 'PATHEXT': '.COM;.EXE;.BAT;.CMD;.VBS;.VBE;.JS;.JSE;.WSF;.WSH;.MSC;.CPL', 'PROCESSOR_ARCHITECTURE': 'AMD64', 'PROCESSOR_IDENTIFIER': 'AMD64 Family 23 Model 8 Stepping 2, AuthenticAMD', 'PROCESSOR_LEVEL': '23', 'PROCESSOR_REVISION': '0802', 'PROGRAMDATA': 'C:\\\\ProgramData', 'PROGRAMFILES': 'C:\\\\Program Files', 'PROGRAMFILES(X86)': 'C:\\\\Program Files (x86)', 'PROGRAMW6432': 'C:\\\\Program Files', 'PSEXECUTIONPOLICYPREFERENCE': 'Bypass', 'PSMODULEPATH': 'C:\\\\Users\\\\Asus ROG PC\\\\Documents\\\\WindowsPowerShell\\\\Modules;C:\\\\Program Files\\\\WindowsPowerShell\\\\Modules;C:\\\\WINDOWS\\\\system32\\\\WindowsPowerShell\\\\v1.0\\\\Modules', 'PUBLIC': 'C:\\\\Users\\\\Public', 'SESSIONNAME': 'Console', 'SYSTEMDRIVE': 'C:', 'SYSTEMROOT': 'C:\\\\WINDOWS', 'TEMP': 'C:\\\\Users\\\\ASUSRO~1\\\\AppData\\\\Local\\\\Temp', 'TMP': 'C:\\\\Users\\\\ASUSRO~1\\\\AppData\\\\Local\\\\Temp', 'USERDOMAIN': 'DESKTOP-RFID6T3', 'USERDOMAIN_ROAMINGPROFILE': 'DESKTOP-RFID6T3', 'USERNAME': 'Asus ROG PC', 'USERPROFILE': 'C:\\\\Users\\\\Asus ROG PC', 'VBOX_MSI_INSTALL_PATH': 'C:\\\\Program Files\\\\Oracle\\\\VirtualBox\\\\', 'VS140COMNTOOLS': 'C:\\\\Program Files (x86)\\\\Microsoft Visual Studio 14.0\\\\Common7\\\\Tools\\\\', 'WINDIR': 'C:\\\\WINDOWS', '_CONDA_EXE': 'C:/ProgramData/Anaconda3\\\\Scripts\\\\conda.exe', '_CONDA_ROOT': 'C:/ProgramData/Anaconda3', 'JPY_INTERRUPT_EVENT': '2692', 'IPY_INTERRUPT_EVENT': '2692', 'JPY_PARENT_PID': '2780', 'TERM': 'xterm-color', 'CLICOLOR': '1', 'PAGER': 'cat', 'GIT_PAGER': 'cat', 'MPLBACKEND': 'module://ipykernel.pylab.backend_inline'})\n",
      "*----------------------------------*\n",
      "C:\\Users\\Asus ROG PC\n",
      "*----------------------------------*\n",
      "C:\\ProgramData\\Anaconda3;C:\\ProgramData\\Anaconda3\\Library\\mingw-w64\\bin;C:\\ProgramData\\Anaconda3\\Library\\usr\\bin;C:\\ProgramData\\Anaconda3\\Library\\bin;C:\\ProgramData\\Anaconda3\\Scripts;C:\\ProgramData\\Anaconda3\\bin;C:\\ProgramData\\Anaconda3\\condabin;C:\\Program Files (x86)\\Common Files\\Intel\\Shared Libraries\\redist\\intel64\\compiler;C:\\Program Files\\Common Files\\Oracle\\Java\\javapath;C:\\ProgramData\\Anaconda3;C:\\ProgramData\\Anaconda3\\Library\\mingw-w64\\bin;C:\\ProgramData\\Anaconda3\\Library\\usr\\bin;C:\\ProgramData\\Anaconda3\\Library\\bin;C:\\ProgramData\\Anaconda3\\Scripts;C:\\WINDOWS\\system32;C:\\WINDOWS;C:\\WINDOWS\\System32\\Wbem;C:\\WINDOWS\\System32\\WindowsPowerShell\\v1.0;C:\\WINDOWS\\System32\\OpenSSH;C:\\Program Files\\dotnet;D:\\Program Files\\Git\\cmd;C:\\Program Files\\nodejs;C:\\Program Files\\nodejs;C:\\Program Files\\Java\\jre1.8.0_361\\bin;C:\\Users\\Asus ROG PC\\AppData\\Local\\Microsoft\\WindowsApps;C:\\webm\\bin;D:\\Program Files\\Inkscape_1_2_1\\bin;C:\\Users\\Asus ROG PC\\AppData\\Local\\Programs\\Microsoft VS Code\\bin;C:\\Users\\Asus ROG PC\\AppData\\Roaming\\npm;C:\\Program Files\\nodejs;.\n",
      "*----------------------------------*\n"
     ]
    }
   ],
   "source": [
    "import os\n",
    "# Access all environment variables \n",
    "print('*----------------------------------*')\n",
    "print(os.environ)\n",
    "print('*----------------------------------*')\n",
    "# Access a particular environment variable \n",
    "print(os.environ['USERPROFILE'])\n",
    "print('*----------------------------------*')\n",
    "print(os.environ['PATH'])\n",
    "print('*----------------------------------*')"
   ]
  },
  {
   "cell_type": "markdown",
   "id": "7ced8614",
   "metadata": {},
   "source": [
    "---"
   ]
  },
  {
   "cell_type": "markdown",
   "id": "2b339672",
   "metadata": {},
   "source": [
    "---"
   ]
  },
  {
   "cell_type": "markdown",
   "id": "1b1e66a9",
   "metadata": {},
   "source": [
    "### 54. Write a Python program to get the current username. "
   ]
  },
  {
   "cell_type": "code",
   "execution_count": 7,
   "id": "4ed86ab4",
   "metadata": {},
   "outputs": [],
   "source": [
    "import getpass"
   ]
  },
  {
   "cell_type": "code",
   "execution_count": 8,
   "id": "0f6bfb79",
   "metadata": {},
   "outputs": [
    {
     "name": "stdout",
     "output_type": "stream",
     "text": [
      "Asus ROG PC\n"
     ]
    }
   ],
   "source": [
    "print(getpass.getuser())"
   ]
  },
  {
   "cell_type": "markdown",
   "id": "b5f6baee",
   "metadata": {},
   "source": [
    "**Explanation:**\n",
    "\n",
    "The above Python code imports the ‘getpass’ module and uses it to print the username of the current user to the console output.\n",
    "\n",
    "The ‘getpass’ module provides a way to get the username of the current user, as well as prompt the user to enter a password without echoing the input to the console.\n",
    "\n",
    "getpass.getuser() - This function checks the environment variables LOGNAME, USER, LNAME and USERNAME, in order, and returns the value of the first one which is set to a non-empty string. If none are set, the login name from the password database is returned on systems which support the pwd module, otherwise, an exception is raised.\n",
    "\n",
    "The output of the code will be the username of the current user, which is retrieved from the operating system."
   ]
  },
  {
   "cell_type": "code",
   "execution_count": null,
   "id": "f2f65c08",
   "metadata": {},
   "outputs": [],
   "source": []
  }
 ],
 "metadata": {
  "kernelspec": {
   "display_name": "Python 3",
   "language": "python",
   "name": "python3"
  },
  "language_info": {
   "codemirror_mode": {
    "name": "ipython",
    "version": 3
   },
   "file_extension": ".py",
   "mimetype": "text/x-python",
   "name": "python",
   "nbconvert_exporter": "python",
   "pygments_lexer": "ipython3",
   "version": "3.8.8"
  }
 },
 "nbformat": 4,
 "nbformat_minor": 5
}

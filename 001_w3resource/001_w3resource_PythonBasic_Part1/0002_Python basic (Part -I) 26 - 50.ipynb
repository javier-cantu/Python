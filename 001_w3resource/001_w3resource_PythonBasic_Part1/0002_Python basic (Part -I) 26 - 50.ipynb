{
 "cells": [
  {
   "cell_type": "markdown",
   "id": "c3ab4db8",
   "metadata": {},
   "source": [
    "# 0002_Python basic (Part -I) 1 - 25.ipynb"
   ]
  },
  {
   "cell_type": "markdown",
   "id": "f03a0ce0",
   "metadata": {},
   "source": [
    "---"
   ]
  },
  {
   "cell_type": "markdown",
   "id": "9a49922b",
   "metadata": {},
   "source": [
    "### 26. Write a Python program to create a histogram from a given list of integers. "
   ]
  },
  {
   "cell_type": "code",
   "execution_count": null,
   "id": "d3956859",
   "metadata": {},
   "outputs": [],
   "source": [
    "def create_histogram(numbers):\n",
    "    for i in numbers:\n",
    "        output = ''\n",
    "        times = i\n",
    "        \n",
    "        while(times > 0):\n",
    "            output += '*'\n",
    "            times = times - 1\n",
    "        print(output)\n",
    "    "
   ]
  },
  {
   "cell_type": "code",
   "execution_count": null,
   "id": "a4eae674",
   "metadata": {
    "scrolled": true
   },
   "outputs": [],
   "source": [
    "create_histogram([1,2,3,4,5,4,3,2,1])"
   ]
  },
  {
   "cell_type": "markdown",
   "id": "e0ab52fa",
   "metadata": {},
   "source": [
    "---"
   ]
  },
  {
   "cell_type": "markdown",
   "id": "690f9a85",
   "metadata": {},
   "source": [
    "---"
   ]
  },
  {
   "cell_type": "markdown",
   "id": "a5d3fcab",
   "metadata": {},
   "source": [
    "### 27. Write a Python program that concatenates all elements in a list into a string and returns it. "
   ]
  },
  {
   "cell_type": "code",
   "execution_count": null,
   "id": "035aaf51",
   "metadata": {},
   "outputs": [],
   "source": [
    "def concatenate_list_elements(list):\n",
    "    result = ''\n",
    "    for element in list:\n",
    "        result = result + str(element)\n",
    "    return(result)"
   ]
  },
  {
   "cell_type": "code",
   "execution_count": null,
   "id": "22db3234",
   "metadata": {
    "scrolled": true
   },
   "outputs": [],
   "source": [
    "print(concatenate_list_elements([1,'a',2,'b',3,'c',4,'d']))"
   ]
  },
  {
   "cell_type": "markdown",
   "id": "e752a4dd",
   "metadata": {},
   "source": [
    "---"
   ]
  },
  {
   "cell_type": "markdown",
   "id": "d8612200",
   "metadata": {},
   "source": [
    "---"
   ]
  },
  {
   "cell_type": "markdown",
   "id": "23ee5f9f",
   "metadata": {},
   "source": [
    "### 28. Write a Python program to print all even numbers from a given list of numbers in the same order and stop printing any after 237 in the sequence. "
   ]
  },
  {
   "cell_type": "code",
   "execution_count": null,
   "id": "b7825a32",
   "metadata": {},
   "outputs": [],
   "source": [
    "def print_even_237(numbers):\n",
    "    for x in numbers:\n",
    "        if x == 237:\n",
    "            print(x)\n",
    "            break;\n",
    "        elif x % 2 == 0:\n",
    "            print(x)"
   ]
  },
  {
   "cell_type": "code",
   "execution_count": null,
   "id": "169a7983",
   "metadata": {
    "scrolled": true
   },
   "outputs": [],
   "source": [
    "print_even_237([    \n",
    "    386, 462, 47, 418, 907, 344, 236, 375, 823, 566, 597, 978, 328, 615, 953, 345, \n",
    "    399, 162, 758, 219, 918, 237, 412, 566, 826, 248, 866, 950, 626, 949, 687, 217, \n",
    "    815, 67, 104, 58, 512, 24, 892, 894, 767, 553, 81, 379, 843, 831, 445, 742, 717, \n",
    "    958,743, 527\n",
    "    ])"
   ]
  },
  {
   "cell_type": "markdown",
   "id": "e9634371",
   "metadata": {},
   "source": [
    "---"
   ]
  },
  {
   "cell_type": "markdown",
   "id": "96e258bb",
   "metadata": {},
   "source": [
    "Importar modulo random porque quiero generar una lista nueva. "
   ]
  },
  {
   "cell_type": "code",
   "execution_count": null,
   "id": "8374308d",
   "metadata": {},
   "outputs": [],
   "source": [
    "import random"
   ]
  },
  {
   "cell_type": "markdown",
   "id": "874a154a",
   "metadata": {},
   "source": [
    "Crear una lista de 100 items"
   ]
  },
  {
   "cell_type": "code",
   "execution_count": null,
   "id": "1799d01a",
   "metadata": {},
   "outputs": [],
   "source": [
    "list_random_n = [random.randint(1, 300) for i in range(100)]"
   ]
  },
  {
   "cell_type": "markdown",
   "id": "a33e849b",
   "metadata": {},
   "source": [
    "seleccionar un item random del 1 al 100"
   ]
  },
  {
   "cell_type": "code",
   "execution_count": null,
   "id": "c1724485",
   "metadata": {},
   "outputs": [],
   "source": [
    "random_item = random.randint(1, 100)\n",
    "print(random_item)"
   ]
  },
  {
   "cell_type": "markdown",
   "id": "50524751",
   "metadata": {},
   "source": [
    "Convertir ese item random en 237"
   ]
  },
  {
   "cell_type": "code",
   "execution_count": null,
   "id": "cdafede2",
   "metadata": {},
   "outputs": [],
   "source": [
    "list_random_n[random_item] = 237"
   ]
  },
  {
   "cell_type": "markdown",
   "id": "e66cbe6f",
   "metadata": {},
   "source": [
    "Ejecutar la funcion print_even_237()"
   ]
  },
  {
   "cell_type": "code",
   "execution_count": null,
   "id": "3dda2503",
   "metadata": {
    "scrolled": true
   },
   "outputs": [],
   "source": [
    "print_even_237(list_random_n)"
   ]
  },
  {
   "cell_type": "markdown",
   "id": "cbf2df04",
   "metadata": {},
   "source": [
    "---"
   ]
  },
  {
   "cell_type": "markdown",
   "id": "b4e4a8c6",
   "metadata": {},
   "source": [
    "---"
   ]
  },
  {
   "cell_type": "markdown",
   "id": "51b28962",
   "metadata": {},
   "source": [
    "### 29. Write a Python program that prints out all colors from color_list_1 that are not present in color_list_2. "
   ]
  },
  {
   "cell_type": "code",
   "execution_count": null,
   "id": "e679525a",
   "metadata": {},
   "outputs": [],
   "source": [
    "color_list_1 = set([\"White\", \"Black\", \"Red\", \"Yellow\", \"Olive\"])"
   ]
  },
  {
   "cell_type": "code",
   "execution_count": null,
   "id": "657a263c",
   "metadata": {},
   "outputs": [],
   "source": [
    "color_list_2 = set([\"Red\", \"Green\", \"Blue\", \"Yellow\"])"
   ]
  },
  {
   "cell_type": "markdown",
   "id": "8a48ae9e",
   "metadata": {},
   "source": [
    "La expresión `color_list_1.difference(color_list_2)` en Python se utiliza para calcular la diferencia entre dos conjuntos (color_list_1 y color_list_2). Esta expresión devuelve un nuevo conjunto que contiene todos los elementos que están en color_list_1 pero no en color_list_2"
   ]
  },
  {
   "cell_type": "code",
   "execution_count": null,
   "id": "6e33c099",
   "metadata": {
    "scrolled": true
   },
   "outputs": [],
   "source": [
    "print(color_list_1.difference(color_list_2))"
   ]
  },
  {
   "cell_type": "code",
   "execution_count": null,
   "id": "0082b323",
   "metadata": {},
   "outputs": [],
   "source": [
    "print(color_list_2.difference(color_list_1))"
   ]
  },
  {
   "cell_type": "markdown",
   "id": "173f3876",
   "metadata": {},
   "source": [
    "---"
   ]
  },
  {
   "cell_type": "markdown",
   "id": "53dbeeca",
   "metadata": {},
   "source": [
    "---"
   ]
  },
  {
   "cell_type": "markdown",
   "id": "1c4985ba",
   "metadata": {},
   "source": [
    "### 30. Write a Python program that will accept the base and height of a triangle and compute its area. "
   ]
  },
  {
   "cell_type": "code",
   "execution_count": null,
   "id": "037df6d2",
   "metadata": {},
   "outputs": [],
   "source": [
    "b = int(input(\"Input the base : \"))"
   ]
  },
  {
   "cell_type": "code",
   "execution_count": null,
   "id": "58388850",
   "metadata": {},
   "outputs": [],
   "source": [
    "h = int(input(\"Input the height : \"))"
   ]
  },
  {
   "cell_type": "code",
   "execution_count": null,
   "id": "70cc9bec",
   "metadata": {},
   "outputs": [],
   "source": [
    "area = b*h/2"
   ]
  },
  {
   "cell_type": "code",
   "execution_count": null,
   "id": "b851e0c7",
   "metadata": {},
   "outputs": [],
   "source": [
    "print(\"area = \", area)"
   ]
  },
  {
   "cell_type": "markdown",
   "id": "dd7dccdf",
   "metadata": {},
   "source": [
    "---"
   ]
  },
  {
   "cell_type": "markdown",
   "id": "c2103ce5",
   "metadata": {},
   "source": [
    "---"
   ]
  },
  {
   "cell_type": "markdown",
   "id": "de4d0804",
   "metadata": {},
   "source": [
    "### 31. Write a Python program that computes the greatest common divisor (GCD) of two positive integers. "
   ]
  },
  {
   "cell_type": "markdown",
   "id": "da6d4fba",
   "metadata": {},
   "source": [
    "`def gcd(num1, num2):` Aquí se define una función llamada gcd que toma dos argumentos, num1 y num2. Estos argumentos representarán los dos números para los cuales deseas calcular el GCD.\n",
    "\n",
    "`while num2:` Esto inicia un bucle while que continuará ejecutándose mientras num2 sea distinto de cero. En otras palabras, el bucle se ejecutará hasta que num2 sea igual a cero.\n",
    "\n",
    "`num1, num2 = num2, num1 % num2`: En cada iteración del bucle, se realiza una actualización de los valores de num1 y num2. Estas variables se actualizan de manera que num1 toma el valor de num2, y num2 toma el valor del residuo de la división de num1 entre num2. Esto es una implementación del algoritmo de Euclides para calcular el GCD. El bucle continúa hasta que num2 se convierte en cero, momento en el que num1 contiene el GCD calculado.\n",
    "\n",
    "`return num1`: Finalmente, la función devuelve el valor de num1, que es el GCD calculado de num1 y num2."
   ]
  },
  {
   "cell_type": "code",
   "execution_count": 1,
   "id": "d7f98124",
   "metadata": {},
   "outputs": [],
   "source": [
    "# Function to calculate GCD using the Euclidean algorithm\n",
    "def gcd(num1, num2):\n",
    "    while num2:\n",
    "        num1, num2 = num2, num1 % num2\n",
    "    return num1"
   ]
  },
  {
   "cell_type": "code",
   "execution_count": 2,
   "id": "1b61535b",
   "metadata": {},
   "outputs": [
    {
     "name": "stdout",
     "output_type": "stream",
     "text": [
      "Enter the first positive integer: 12\n"
     ]
    }
   ],
   "source": [
    "num1 = int(input(\"Enter the first positive integer: \"))"
   ]
  },
  {
   "cell_type": "code",
   "execution_count": 3,
   "id": "53d4b57c",
   "metadata": {},
   "outputs": [
    {
     "name": "stdout",
     "output_type": "stream",
     "text": [
      "Enter the second positive integer: 8\n"
     ]
    }
   ],
   "source": [
    "num2 = int(input(\"Enter the second positive integer: \"))"
   ]
  },
  {
   "cell_type": "code",
   "execution_count": 4,
   "id": "aa36d18e",
   "metadata": {},
   "outputs": [],
   "source": [
    "# Compute the GCD using the gcd() function\n",
    "result = gcd(num1, num2)"
   ]
  },
  {
   "cell_type": "code",
   "execution_count": 5,
   "id": "fc665403",
   "metadata": {},
   "outputs": [
    {
     "name": "stdout",
     "output_type": "stream",
     "text": [
      "The GDC of 12 and 8 is 4\n"
     ]
    }
   ],
   "source": [
    "print(f\"The GDC of {num1} and {num2} is {result}\")"
   ]
  },
  {
   "cell_type": "markdown",
   "id": "cffcdcde",
   "metadata": {},
   "source": [
    "#### Otra forma de hacerlo es importando el modulo math para usar su funcion gcd"
   ]
  },
  {
   "cell_type": "code",
   "execution_count": 6,
   "id": "29773423",
   "metadata": {},
   "outputs": [],
   "source": [
    "import math"
   ]
  },
  {
   "cell_type": "code",
   "execution_count": 7,
   "id": "639dc5fe",
   "metadata": {},
   "outputs": [],
   "source": [
    "gcd_result = math.gcd(12, 8)"
   ]
  },
  {
   "cell_type": "code",
   "execution_count": 8,
   "id": "1f7247e9",
   "metadata": {},
   "outputs": [
    {
     "name": "stdout",
     "output_type": "stream",
     "text": [
      "4\n"
     ]
    }
   ],
   "source": [
    "print(gcd_result)"
   ]
  },
  {
   "cell_type": "markdown",
   "id": "c2902a27",
   "metadata": {},
   "source": [
    "---"
   ]
  },
  {
   "cell_type": "markdown",
   "id": "4b68f3af",
   "metadata": {},
   "source": [
    "---"
   ]
  },
  {
   "cell_type": "markdown",
   "id": "0e8e760f",
   "metadata": {},
   "source": [
    "### 32. Write a Python program to find the least common multiple (LCM) of two positive integers. "
   ]
  },
  {
   "cell_type": "markdown",
   "id": "e4e8f577",
   "metadata": {},
   "source": [
    "First, the function (lcm1) determines which number is larger and assigns that value to a variable named \"z\". It then enters a loop that continues indefinitely (while(True)) until the LCM is found.\n",
    "\n",
    "Inside the loop, the code checks if the current value of \"z\" is divisible by both \"x\" and \"y\" `(if((z % x == 0) and (z % y == 0)))`. If it is true then the LCM is assigned to the variable \"lcm\" and the loop is broken. Otherwise, the value of \"z\" is incremented by 1 and the check is repeated. "
   ]
  },
  {
   "cell_type": "code",
   "execution_count": 16,
   "id": "ba74cfc6",
   "metadata": {},
   "outputs": [],
   "source": [
    "def lcm1(x, y):\n",
    "    if x > y:\n",
    "        z = x\n",
    "    else:\n",
    "        z = y\n",
    "    while(True):\n",
    "        if((z % x == 0) and (z % y == 0)):\n",
    "            lcm = z\n",
    "            break\n",
    "        z += 1\n",
    "    return(lcm)"
   ]
  },
  {
   "cell_type": "code",
   "execution_count": 17,
   "id": "0bb758f4",
   "metadata": {},
   "outputs": [
    {
     "name": "stdout",
     "output_type": "stream",
     "text": [
      "12\n"
     ]
    }
   ],
   "source": [
    "print(lcm1(4, 6))"
   ]
  },
  {
   "cell_type": "markdown",
   "id": "09cf3a1d",
   "metadata": {},
   "source": [
    "#### Otra forma es usando el modulo y usar la funcion (gcd)"
   ]
  },
  {
   "cell_type": "code",
   "execution_count": 18,
   "id": "761777d8",
   "metadata": {},
   "outputs": [],
   "source": [
    "import math"
   ]
  },
  {
   "cell_type": "code",
   "execution_count": 19,
   "id": "dc465175",
   "metadata": {},
   "outputs": [],
   "source": [
    "def lcm2(a, b):\n",
    "    return abs(a*b) // math.gcd(a, b)"
   ]
  },
  {
   "cell_type": "code",
   "execution_count": 20,
   "id": "a6de6a2b",
   "metadata": {},
   "outputs": [
    {
     "name": "stdout",
     "output_type": "stream",
     "text": [
      "12\n"
     ]
    }
   ],
   "source": [
    "print(lcm2(4, 6))"
   ]
  },
  {
   "cell_type": "markdown",
   "id": "05ab132c",
   "metadata": {},
   "source": [
    "---"
   ]
  },
  {
   "cell_type": "markdown",
   "id": "fcfc3ac2",
   "metadata": {},
   "source": [
    "---"
   ]
  },
  {
   "cell_type": "markdown",
   "id": "7147594d",
   "metadata": {},
   "source": [
    "### 33. Write a Python program to sum three given integers. However, if two values are equal, the sum will be zero. "
   ]
  },
  {
   "cell_type": "code",
   "execution_count": 21,
   "id": "e6a7f454",
   "metadata": {},
   "outputs": [],
   "source": [
    "def sum3int(x, y):\n",
    "    sum = x + y\n",
    "    if sum in range(15, 20):\n",
    "        return 20\n",
    "    else:\n",
    "        return sum"
   ]
  },
  {
   "cell_type": "code",
   "execution_count": 30,
   "id": "4d3a3517",
   "metadata": {},
   "outputs": [
    {
     "name": "stdout",
     "output_type": "stream",
     "text": [
      "10\n"
     ]
    }
   ],
   "source": [
    "print(sum3int(5, 5))"
   ]
  },
  {
   "cell_type": "code",
   "execution_count": 31,
   "id": "c60fb057",
   "metadata": {},
   "outputs": [
    {
     "name": "stdout",
     "output_type": "stream",
     "text": [
      "20\n"
     ]
    }
   ],
   "source": [
    "print(sum3int(10, 5))"
   ]
  },
  {
   "cell_type": "code",
   "execution_count": 32,
   "id": "27c890ac",
   "metadata": {},
   "outputs": [
    {
     "name": "stdout",
     "output_type": "stream",
     "text": [
      "20\n"
     ]
    }
   ],
   "source": [
    "print(sum3int(10, 10))"
   ]
  },
  {
   "cell_type": "code",
   "execution_count": 33,
   "id": "706c9607",
   "metadata": {},
   "outputs": [
    {
     "name": "stdout",
     "output_type": "stream",
     "text": [
      "50\n"
     ]
    }
   ],
   "source": [
    "print(sum3int(20, 30))"
   ]
  },
  {
   "cell_type": "markdown",
   "id": "ed2b37b2",
   "metadata": {},
   "source": [
    "---"
   ]
  },
  {
   "cell_type": "markdown",
   "id": "862b6635",
   "metadata": {},
   "source": [
    "---"
   ]
  },
  {
   "cell_type": "markdown",
   "id": "b8eca3f8",
   "metadata": {},
   "source": [
    "### 35. Write a Python program that returns true if the two given integer values are equal or their sum or difference is 5. "
   ]
  },
  {
   "cell_type": "markdown",
   "id": "96eccaf8",
   "metadata": {},
   "source": [
    "Regresa True cuando:\n",
    "- Los 2 numeros dados son iguales\n",
    "- La suma de los 2 numeros es 5\n",
    "- La diferencia entre los 2 numeros es 5"
   ]
  },
  {
   "cell_type": "code",
   "execution_count": 34,
   "id": "00c2044d",
   "metadata": {},
   "outputs": [],
   "source": [
    "def test_number5(x, y):\n",
    "    if x == y or abs(x-y) == 5 or (x+y) == 5:\n",
    "        return True\n",
    "    else:\n",
    "        return False"
   ]
  },
  {
   "cell_type": "code",
   "execution_count": 37,
   "id": "cb8d21c6",
   "metadata": {},
   "outputs": [
    {
     "name": "stdout",
     "output_type": "stream",
     "text": [
      "True\n"
     ]
    }
   ],
   "source": [
    "print(test_number5(3, 3))"
   ]
  },
  {
   "cell_type": "code",
   "execution_count": 38,
   "id": "2dd662a7",
   "metadata": {},
   "outputs": [
    {
     "name": "stdout",
     "output_type": "stream",
     "text": [
      "True\n"
     ]
    }
   ],
   "source": [
    "print(test_number5(3, 2))"
   ]
  },
  {
   "cell_type": "code",
   "execution_count": 39,
   "id": "db745d3a",
   "metadata": {},
   "outputs": [
    {
     "name": "stdout",
     "output_type": "stream",
     "text": [
      "True\n"
     ]
    }
   ],
   "source": [
    "print(test_number5(10, 5))"
   ]
  },
  {
   "cell_type": "code",
   "execution_count": 40,
   "id": "6b9b7a90",
   "metadata": {},
   "outputs": [
    {
     "name": "stdout",
     "output_type": "stream",
     "text": [
      "False\n"
     ]
    }
   ],
   "source": [
    "print(test_number5(25, 5))"
   ]
  },
  {
   "cell_type": "markdown",
   "id": "a1f20490",
   "metadata": {},
   "source": [
    "---"
   ]
  },
  {
   "cell_type": "markdown",
   "id": "88b37342",
   "metadata": {},
   "source": [
    "---"
   ]
  },
  {
   "cell_type": "markdown",
   "id": "849c681b",
   "metadata": {},
   "source": [
    "### 36. Write a Python program to add two objects if both objects are integers."
   ]
  },
  {
   "cell_type": "markdown",
   "id": "76c831f5",
   "metadata": {},
   "source": [
    "The isinstance() function returns True if the specified object is of the specified type, otherwise False."
   ]
  },
  {
   "cell_type": "code",
   "execution_count": 55,
   "id": "8c918090",
   "metadata": {},
   "outputs": [],
   "source": [
    "def add_objects(obj1, obj2):\n",
    "    if isinstance(obj1, int) and isinstance(obj2, int):\n",
    "        result = obj1 + obj2\n",
    "        print(f\"The sum of {obj1} and {obj2} is {result}\")\n",
    "    else:\n",
    "        print(\"Both objects are not integers\")"
   ]
  },
  {
   "cell_type": "code",
   "execution_count": 56,
   "id": "e2e0a856",
   "metadata": {},
   "outputs": [
    {
     "name": "stdout",
     "output_type": "stream",
     "text": [
      "The sum of 5 and 3 is 8\n"
     ]
    }
   ],
   "source": [
    "add_objects(5, 3)"
   ]
  },
  {
   "cell_type": "code",
   "execution_count": 57,
   "id": "7d5012c7",
   "metadata": {},
   "outputs": [
    {
     "name": "stdout",
     "output_type": "stream",
     "text": [
      "Both objects are not integers\n"
     ]
    }
   ],
   "source": [
    "add_objects(5, '3')"
   ]
  },
  {
   "cell_type": "code",
   "execution_count": null,
   "id": "58143630",
   "metadata": {},
   "outputs": [],
   "source": []
  }
 ],
 "metadata": {
  "kernelspec": {
   "display_name": "Python 3",
   "language": "python",
   "name": "python3"
  },
  "language_info": {
   "codemirror_mode": {
    "name": "ipython",
    "version": 3
   },
   "file_extension": ".py",
   "mimetype": "text/x-python",
   "name": "python",
   "nbconvert_exporter": "python",
   "pygments_lexer": "ipython3",
   "version": "3.8.8"
  }
 },
 "nbformat": 4,
 "nbformat_minor": 5
}

{
 "cells": [
  {
   "cell_type": "markdown",
   "id": "c3ab4db8",
   "metadata": {},
   "source": [
    "# 0002_Python basic (Part -I) 1 - 25.ipynb"
   ]
  },
  {
   "cell_type": "markdown",
   "id": "f03a0ce0",
   "metadata": {},
   "source": [
    "---"
   ]
  },
  {
   "cell_type": "markdown",
   "id": "9a49922b",
   "metadata": {},
   "source": [
    "### 26. Write a Python program to create a histogram from a given list of integers. "
   ]
  },
  {
   "cell_type": "code",
   "execution_count": 3,
   "id": "d3956859",
   "metadata": {},
   "outputs": [],
   "source": [
    "def create_histogram(numbers):\n",
    "    for i in numbers:\n",
    "        output = ''\n",
    "        times = i\n",
    "        \n",
    "        while(times > 0):\n",
    "            output += '*'\n",
    "            times = times - 1\n",
    "        print(output)\n",
    "    "
   ]
  },
  {
   "cell_type": "code",
   "execution_count": 4,
   "id": "a4eae674",
   "metadata": {
    "scrolled": true
   },
   "outputs": [
    {
     "name": "stdout",
     "output_type": "stream",
     "text": [
      "*\n",
      "**\n",
      "***\n",
      "****\n",
      "*****\n",
      "****\n",
      "***\n",
      "**\n",
      "*\n"
     ]
    }
   ],
   "source": [
    "create_histogram([1,2,3,4,5,4,3,2,1])"
   ]
  },
  {
   "cell_type": "markdown",
   "id": "e0ab52fa",
   "metadata": {},
   "source": [
    "---"
   ]
  },
  {
   "cell_type": "markdown",
   "id": "690f9a85",
   "metadata": {},
   "source": [
    "---"
   ]
  },
  {
   "cell_type": "markdown",
   "id": "a5d3fcab",
   "metadata": {},
   "source": [
    "### 27. Write a Python program that concatenates all elements in a list into a string and returns it. "
   ]
  },
  {
   "cell_type": "code",
   "execution_count": 5,
   "id": "035aaf51",
   "metadata": {},
   "outputs": [],
   "source": [
    "def concatenate_list_elements(list):\n",
    "    result = ''\n",
    "    for element in list:\n",
    "        result = result + str(element)\n",
    "    return(result)"
   ]
  },
  {
   "cell_type": "code",
   "execution_count": 10,
   "id": "22db3234",
   "metadata": {
    "scrolled": true
   },
   "outputs": [
    {
     "name": "stdout",
     "output_type": "stream",
     "text": [
      "1a2b3c4d\n"
     ]
    }
   ],
   "source": [
    "print(concatenate_list_elements([1,'a',2,'b',3,'c',4,'d']))"
   ]
  },
  {
   "cell_type": "markdown",
   "id": "e752a4dd",
   "metadata": {},
   "source": [
    "---"
   ]
  },
  {
   "cell_type": "markdown",
   "id": "d8612200",
   "metadata": {},
   "source": [
    "---"
   ]
  },
  {
   "cell_type": "markdown",
   "id": "23ee5f9f",
   "metadata": {},
   "source": [
    "### 28. Write a Python program to print all even numbers from a given list of numbers in the same order and stop printing any after 237 in the sequence. "
   ]
  },
  {
   "cell_type": "code",
   "execution_count": 14,
   "id": "b7825a32",
   "metadata": {},
   "outputs": [],
   "source": [
    "def print_even_237(numbers):\n",
    "    for x in numbers:\n",
    "        if x == 237:\n",
    "            print(x)\n",
    "            break;\n",
    "        elif x % 2 == 0:\n",
    "            print(x)"
   ]
  },
  {
   "cell_type": "code",
   "execution_count": 15,
   "id": "169a7983",
   "metadata": {
    "scrolled": true
   },
   "outputs": [
    {
     "name": "stdout",
     "output_type": "stream",
     "text": [
      "386\n",
      "462\n",
      "418\n",
      "344\n",
      "236\n",
      "566\n",
      "978\n",
      "328\n",
      "162\n",
      "758\n",
      "918\n",
      "237\n"
     ]
    }
   ],
   "source": [
    "print_even_237([    \n",
    "    386, 462, 47, 418, 907, 344, 236, 375, 823, 566, 597, 978, 328, 615, 953, 345, \n",
    "    399, 162, 758, 219, 918, 237, 412, 566, 826, 248, 866, 950, 626, 949, 687, 217, \n",
    "    815, 67, 104, 58, 512, 24, 892, 894, 767, 553, 81, 379, 843, 831, 445, 742, 717, \n",
    "    958,743, 527\n",
    "    ])"
   ]
  },
  {
   "cell_type": "markdown",
   "id": "e9634371",
   "metadata": {},
   "source": [
    "---"
   ]
  },
  {
   "cell_type": "markdown",
   "id": "96e258bb",
   "metadata": {},
   "source": [
    "Importar modulo random porque quiero generar una lista nueva. "
   ]
  },
  {
   "cell_type": "code",
   "execution_count": 17,
   "id": "8374308d",
   "metadata": {},
   "outputs": [],
   "source": [
    "import random"
   ]
  },
  {
   "cell_type": "markdown",
   "id": "874a154a",
   "metadata": {},
   "source": [
    "Crear una lista de 100 items"
   ]
  },
  {
   "cell_type": "code",
   "execution_count": 22,
   "id": "1799d01a",
   "metadata": {},
   "outputs": [],
   "source": [
    "list_random_n = [random.randint(1, 300) for i in range(100)]"
   ]
  },
  {
   "cell_type": "markdown",
   "id": "a33e849b",
   "metadata": {},
   "source": [
    "seleccionar un item random del 1 al 100"
   ]
  },
  {
   "cell_type": "code",
   "execution_count": 26,
   "id": "c1724485",
   "metadata": {},
   "outputs": [
    {
     "name": "stdout",
     "output_type": "stream",
     "text": [
      "31\n"
     ]
    }
   ],
   "source": [
    "random_item = random.randint(1, 100)\n",
    "print(random_item)"
   ]
  },
  {
   "cell_type": "markdown",
   "id": "50524751",
   "metadata": {},
   "source": [
    "Convertir ese item random en 237"
   ]
  },
  {
   "cell_type": "code",
   "execution_count": 27,
   "id": "cdafede2",
   "metadata": {},
   "outputs": [],
   "source": [
    "list_random_n[random_item] = 237"
   ]
  },
  {
   "cell_type": "markdown",
   "id": "e66cbe6f",
   "metadata": {},
   "source": [
    "Ejecutar la funcion print_even_237()"
   ]
  },
  {
   "cell_type": "code",
   "execution_count": 28,
   "id": "3dda2503",
   "metadata": {
    "scrolled": true
   },
   "outputs": [
    {
     "name": "stdout",
     "output_type": "stream",
     "text": [
      "28\n",
      "12\n",
      "168\n",
      "122\n",
      "162\n",
      "264\n",
      "178\n",
      "284\n",
      "216\n",
      "140\n",
      "282\n",
      "40\n",
      "8\n",
      "176\n",
      "166\n",
      "274\n",
      "158\n",
      "237\n"
     ]
    }
   ],
   "source": [
    "print_even_237(list_random_n)"
   ]
  },
  {
   "cell_type": "markdown",
   "id": "cbf2df04",
   "metadata": {},
   "source": [
    "---"
   ]
  },
  {
   "cell_type": "markdown",
   "id": "b4e4a8c6",
   "metadata": {},
   "source": [
    "---"
   ]
  },
  {
   "cell_type": "markdown",
   "id": "51b28962",
   "metadata": {},
   "source": [
    "### 29. Write a Python program that prints out all colors from color_list_1 that are not present in color_list_2. "
   ]
  },
  {
   "cell_type": "code",
   "execution_count": null,
   "id": "e679525a",
   "metadata": {},
   "outputs": [],
   "source": []
  }
 ],
 "metadata": {
  "kernelspec": {
   "display_name": "Python 3",
   "language": "python",
   "name": "python3"
  },
  "language_info": {
   "codemirror_mode": {
    "name": "ipython",
    "version": 3
   },
   "file_extension": ".py",
   "mimetype": "text/x-python",
   "name": "python",
   "nbconvert_exporter": "python",
   "pygments_lexer": "ipython3",
   "version": "3.8.8"
  }
 },
 "nbformat": 4,
 "nbformat_minor": 5
}

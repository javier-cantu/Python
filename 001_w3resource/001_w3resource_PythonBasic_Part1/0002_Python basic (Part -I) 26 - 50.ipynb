{
 "cells": [
  {
   "cell_type": "markdown",
   "id": "c3ab4db8",
   "metadata": {},
   "source": [
    "# 0002_Python basic (Part -I) 1 - 25.ipynb"
   ]
  },
  {
   "cell_type": "markdown",
   "id": "f03a0ce0",
   "metadata": {},
   "source": [
    "---"
   ]
  },
  {
   "cell_type": "markdown",
   "id": "9a49922b",
   "metadata": {},
   "source": [
    "### 26. Write a Python program to create a histogram from a given list of integers. "
   ]
  },
  {
   "cell_type": "code",
   "execution_count": null,
   "id": "d3956859",
   "metadata": {},
   "outputs": [],
   "source": [
    "def create_histogram(numbers):\n",
    "    for i in numbers:\n",
    "        output = ''\n",
    "        times = i\n",
    "        \n",
    "        while(times > 0):\n",
    "            output += '*'\n",
    "            times = times - 1\n",
    "        print(output)\n",
    "    "
   ]
  },
  {
   "cell_type": "code",
   "execution_count": null,
   "id": "a4eae674",
   "metadata": {
    "scrolled": true
   },
   "outputs": [],
   "source": [
    "create_histogram([1,2,3,4,5,4,3,2,1])"
   ]
  },
  {
   "cell_type": "markdown",
   "id": "e0ab52fa",
   "metadata": {},
   "source": [
    "---"
   ]
  },
  {
   "cell_type": "markdown",
   "id": "690f9a85",
   "metadata": {},
   "source": [
    "---"
   ]
  },
  {
   "cell_type": "markdown",
   "id": "a5d3fcab",
   "metadata": {},
   "source": [
    "### 27. Write a Python program that concatenates all elements in a list into a string and returns it. "
   ]
  },
  {
   "cell_type": "code",
   "execution_count": null,
   "id": "035aaf51",
   "metadata": {},
   "outputs": [],
   "source": [
    "def concatenate_list_elements(list):\n",
    "    result = ''\n",
    "    for element in list:\n",
    "        result = result + str(element)\n",
    "    return(result)"
   ]
  },
  {
   "cell_type": "code",
   "execution_count": null,
   "id": "22db3234",
   "metadata": {
    "scrolled": true
   },
   "outputs": [],
   "source": [
    "print(concatenate_list_elements([1,'a',2,'b',3,'c',4,'d']))"
   ]
  },
  {
   "cell_type": "markdown",
   "id": "e752a4dd",
   "metadata": {},
   "source": [
    "---"
   ]
  },
  {
   "cell_type": "markdown",
   "id": "d8612200",
   "metadata": {},
   "source": [
    "---"
   ]
  },
  {
   "cell_type": "markdown",
   "id": "23ee5f9f",
   "metadata": {},
   "source": [
    "### 28. Write a Python program to print all even numbers from a given list of numbers in the same order and stop printing any after 237 in the sequence. "
   ]
  },
  {
   "cell_type": "code",
   "execution_count": null,
   "id": "b7825a32",
   "metadata": {},
   "outputs": [],
   "source": [
    "def print_even_237(numbers):\n",
    "    for x in numbers:\n",
    "        if x == 237:\n",
    "            print(x)\n",
    "            break;\n",
    "        elif x % 2 == 0:\n",
    "            print(x)"
   ]
  },
  {
   "cell_type": "code",
   "execution_count": null,
   "id": "169a7983",
   "metadata": {
    "scrolled": true
   },
   "outputs": [],
   "source": [
    "print_even_237([    \n",
    "    386, 462, 47, 418, 907, 344, 236, 375, 823, 566, 597, 978, 328, 615, 953, 345, \n",
    "    399, 162, 758, 219, 918, 237, 412, 566, 826, 248, 866, 950, 626, 949, 687, 217, \n",
    "    815, 67, 104, 58, 512, 24, 892, 894, 767, 553, 81, 379, 843, 831, 445, 742, 717, \n",
    "    958,743, 527\n",
    "    ])"
   ]
  },
  {
   "cell_type": "markdown",
   "id": "e9634371",
   "metadata": {},
   "source": [
    "---"
   ]
  },
  {
   "cell_type": "markdown",
   "id": "96e258bb",
   "metadata": {},
   "source": [
    "Importar modulo random porque quiero generar una lista nueva. "
   ]
  },
  {
   "cell_type": "code",
   "execution_count": null,
   "id": "8374308d",
   "metadata": {},
   "outputs": [],
   "source": [
    "import random"
   ]
  },
  {
   "cell_type": "markdown",
   "id": "874a154a",
   "metadata": {},
   "source": [
    "Crear una lista de 100 items"
   ]
  },
  {
   "cell_type": "code",
   "execution_count": null,
   "id": "1799d01a",
   "metadata": {},
   "outputs": [],
   "source": [
    "list_random_n = [random.randint(1, 300) for i in range(100)]"
   ]
  },
  {
   "cell_type": "markdown",
   "id": "a33e849b",
   "metadata": {},
   "source": [
    "seleccionar un item random del 1 al 100"
   ]
  },
  {
   "cell_type": "code",
   "execution_count": null,
   "id": "c1724485",
   "metadata": {},
   "outputs": [],
   "source": [
    "random_item = random.randint(1, 100)\n",
    "print(random_item)"
   ]
  },
  {
   "cell_type": "markdown",
   "id": "50524751",
   "metadata": {},
   "source": [
    "Convertir ese item random en 237"
   ]
  },
  {
   "cell_type": "code",
   "execution_count": null,
   "id": "cdafede2",
   "metadata": {},
   "outputs": [],
   "source": [
    "list_random_n[random_item] = 237"
   ]
  },
  {
   "cell_type": "markdown",
   "id": "e66cbe6f",
   "metadata": {},
   "source": [
    "Ejecutar la funcion print_even_237()"
   ]
  },
  {
   "cell_type": "code",
   "execution_count": null,
   "id": "3dda2503",
   "metadata": {
    "scrolled": true
   },
   "outputs": [],
   "source": [
    "print_even_237(list_random_n)"
   ]
  },
  {
   "cell_type": "markdown",
   "id": "cbf2df04",
   "metadata": {},
   "source": [
    "---"
   ]
  },
  {
   "cell_type": "markdown",
   "id": "b4e4a8c6",
   "metadata": {},
   "source": [
    "---"
   ]
  },
  {
   "cell_type": "markdown",
   "id": "51b28962",
   "metadata": {},
   "source": [
    "### 29. Write a Python program that prints out all colors from color_list_1 that are not present in color_list_2. "
   ]
  },
  {
   "cell_type": "code",
   "execution_count": null,
   "id": "e679525a",
   "metadata": {},
   "outputs": [],
   "source": [
    "color_list_1 = set([\"White\", \"Black\", \"Red\", \"Yellow\", \"Olive\"])"
   ]
  },
  {
   "cell_type": "code",
   "execution_count": null,
   "id": "ec829964",
   "metadata": {},
   "outputs": [],
   "source": [
    "color_list_2 = set([\"Red\", \"Green\", \"Blue\", \"Yellow\"])"
   ]
  },
  {
   "cell_type": "markdown",
   "id": "567306c5",
   "metadata": {},
   "source": [
    "La expresión `color_list_1.difference(color_list_2)` en Python se utiliza para calcular la diferencia entre dos conjuntos (color_list_1 y color_list_2). Esta expresión devuelve un nuevo conjunto que contiene todos los elementos que están en color_list_1 pero no en color_list_2"
   ]
  },
  {
   "cell_type": "code",
   "execution_count": null,
   "id": "629d6622",
   "metadata": {
    "scrolled": true
   },
   "outputs": [],
   "source": [
    "print(color_list_1.difference(color_list_2))"
   ]
  },
  {
   "cell_type": "code",
   "execution_count": null,
   "id": "aeeacd95",
   "metadata": {},
   "outputs": [],
   "source": [
    "print(color_list_2.difference(color_list_1))"
   ]
  },
  {
   "cell_type": "markdown",
   "id": "d5dbf76f",
   "metadata": {},
   "source": [
    "---"
   ]
  },
  {
   "cell_type": "markdown",
   "id": "d45ce0e4",
   "metadata": {},
   "source": [
    "---"
   ]
  },
  {
   "cell_type": "markdown",
   "id": "df5f5748",
   "metadata": {},
   "source": [
    "### 30. Write a Python program that will accept the base and height of a triangle and compute its area. "
   ]
  },
  {
   "cell_type": "code",
   "execution_count": null,
   "id": "8e884e17",
   "metadata": {},
   "outputs": [],
   "source": [
    "b = int(input(\"Input the base : \"))"
   ]
  },
  {
   "cell_type": "code",
   "execution_count": null,
   "id": "63349ac7",
   "metadata": {},
   "outputs": [],
   "source": [
    "h = int(input(\"Input the height : \"))"
   ]
  },
  {
   "cell_type": "code",
   "execution_count": null,
   "id": "4de23da7",
   "metadata": {},
   "outputs": [],
   "source": [
    "area = b*h/2"
   ]
  },
  {
   "cell_type": "code",
   "execution_count": null,
   "id": "c060781d",
   "metadata": {},
   "outputs": [],
   "source": [
    "print(\"area = \", area)"
   ]
  },
  {
   "cell_type": "markdown",
   "id": "f1c51455",
   "metadata": {},
   "source": [
    "---"
   ]
  },
  {
   "cell_type": "markdown",
   "id": "0c974416",
   "metadata": {},
   "source": [
    "---"
   ]
  },
  {
   "cell_type": "markdown",
   "id": "48d6cb3e",
   "metadata": {},
   "source": [
    "### 31. Write a Python program that computes the greatest common divisor (GCD) of two positive integers. "
   ]
  },
  {
   "cell_type": "markdown",
   "id": "57ad3dfd",
   "metadata": {},
   "source": [
    "`def gcd(num1, num2):` Aquí se define una función llamada gcd que toma dos argumentos, num1 y num2. Estos argumentos representarán los dos números para los cuales deseas calcular el GCD.\n",
    "\n",
    "`while num2:` Esto inicia un bucle while que continuará ejecutándose mientras num2 sea distinto de cero. En otras palabras, el bucle se ejecutará hasta que num2 sea igual a cero.\n",
    "\n",
    "`num1, num2 = num2, num1 % num2`: En cada iteración del bucle, se realiza una actualización de los valores de num1 y num2. Estas variables se actualizan de manera que num1 toma el valor de num2, y num2 toma el valor del residuo de la división de num1 entre num2. Esto es una implementación del algoritmo de Euclides para calcular el GCD. El bucle continúa hasta que num2 se convierte en cero, momento en el que num1 contiene el GCD calculado.\n",
    "\n",
    "`return num1`: Finalmente, la función devuelve el valor de num1, que es el GCD calculado de num1 y num2."
   ]
  },
  {
   "cell_type": "code",
   "execution_count": 1,
   "id": "ab0abbcd",
   "metadata": {},
   "outputs": [],
   "source": [
    "# Function to calculate GCD using the Euclidean algorithm\n",
    "def gcd(num1, num2):\n",
    "    while num2:\n",
    "        num1, num2 = num2, num1 % num2\n",
    "    return num1"
   ]
  },
  {
   "cell_type": "code",
   "execution_count": 2,
   "id": "c36eedb5",
   "metadata": {},
   "outputs": [
    {
     "name": "stdout",
     "output_type": "stream",
     "text": [
      "Enter the first positive integer: 12\n"
     ]
    }
   ],
   "source": [
    "num1 = int(input(\"Enter the first positive integer: \"))"
   ]
  },
  {
   "cell_type": "code",
   "execution_count": 3,
   "id": "e82e69bc",
   "metadata": {},
   "outputs": [
    {
     "name": "stdout",
     "output_type": "stream",
     "text": [
      "Enter the second positive integer: 8\n"
     ]
    }
   ],
   "source": [
    "num2 = int(input(\"Enter the second positive integer: \"))"
   ]
  },
  {
   "cell_type": "code",
   "execution_count": 4,
   "id": "d2fb0160",
   "metadata": {},
   "outputs": [],
   "source": [
    "# Compute the GCD using the gcd() function\n",
    "result = gcd(num1, num2)"
   ]
  },
  {
   "cell_type": "code",
   "execution_count": 5,
   "id": "3553c519",
   "metadata": {},
   "outputs": [
    {
     "name": "stdout",
     "output_type": "stream",
     "text": [
      "The GDC of 12 and 8 is 4\n"
     ]
    }
   ],
   "source": [
    "print(f\"The GDC of {num1} and {num2} is {result}\")"
   ]
  },
  {
   "cell_type": "markdown",
   "id": "08bf5db0",
   "metadata": {},
   "source": [
    "#### Otra forma de hacerlo es importando el modulo math para usar su funcion gcd"
   ]
  },
  {
   "cell_type": "code",
   "execution_count": 6,
   "id": "06929e5a",
   "metadata": {},
   "outputs": [],
   "source": [
    "import math"
   ]
  },
  {
   "cell_type": "code",
   "execution_count": 7,
   "id": "fe88a958",
   "metadata": {},
   "outputs": [],
   "source": [
    "gcd_result = math.gcd(12, 8)"
   ]
  },
  {
   "cell_type": "code",
   "execution_count": 8,
   "id": "6a670791",
   "metadata": {},
   "outputs": [
    {
     "name": "stdout",
     "output_type": "stream",
     "text": [
      "4\n"
     ]
    }
   ],
   "source": [
    "print(gcd_result)"
   ]
  },
  {
   "cell_type": "markdown",
   "id": "036edafc",
   "metadata": {},
   "source": [
    "---"
   ]
  },
  {
   "cell_type": "markdown",
   "id": "4dd95dea",
   "metadata": {},
   "source": [
    "---"
   ]
  },
  {
   "cell_type": "markdown",
   "id": "acc88cd0",
   "metadata": {},
   "source": [
    "### 32. Write a Python program to find the least common multiple (LCM) of two positive integers. "
   ]
  },
  {
   "cell_type": "markdown",
   "id": "620dff0b",
   "metadata": {},
   "source": [
    "First, the function (lcm1) determines which number is larger and assigns that value to a variable named \"z\". It then enters a loop that continues indefinitely (while(True)) until the LCM is found.\n",
    "\n",
    "Inside the loop, the code checks if the current value of \"z\" is divisible by both \"x\" and \"y\" `(if((z % x == 0) and (z % y == 0)))`. If it is true then the LCM is assigned to the variable \"lcm\" and the loop is broken. Otherwise, the value of \"z\" is incremented by 1 and the check is repeated. "
   ]
  },
  {
   "cell_type": "code",
   "execution_count": 16,
   "id": "1d001e5a",
   "metadata": {},
   "outputs": [],
   "source": [
    "def lcm1(x, y):\n",
    "    if x > y:\n",
    "        z = x\n",
    "    else:\n",
    "        z = y\n",
    "    while(True):\n",
    "        if((z % x == 0) and (z % y == 0)):\n",
    "            lcm = z\n",
    "            break\n",
    "        z += 1\n",
    "    return(lcm)"
   ]
  },
  {
   "cell_type": "code",
   "execution_count": 17,
   "id": "6c1478e7",
   "metadata": {},
   "outputs": [
    {
     "name": "stdout",
     "output_type": "stream",
     "text": [
      "12\n"
     ]
    }
   ],
   "source": [
    "print(lcm1(4, 6))"
   ]
  },
  {
   "cell_type": "markdown",
   "id": "697cfb42",
   "metadata": {},
   "source": [
    "#### Otra forma es usando el modulo y usar la funcion (gcd)"
   ]
  },
  {
   "cell_type": "code",
   "execution_count": 18,
   "id": "509d0b98",
   "metadata": {},
   "outputs": [],
   "source": [
    "import math"
   ]
  },
  {
   "cell_type": "code",
   "execution_count": 19,
   "id": "ed74577d",
   "metadata": {},
   "outputs": [],
   "source": [
    "def lcm2(a, b):\n",
    "    return abs(a*b) // math.gcd(a, b)"
   ]
  },
  {
   "cell_type": "code",
   "execution_count": 20,
   "id": "2cb15745",
   "metadata": {},
   "outputs": [
    {
     "name": "stdout",
     "output_type": "stream",
     "text": [
      "12\n"
     ]
    }
   ],
   "source": [
    "print(lcm2(4, 6))"
   ]
  },
  {
   "cell_type": "markdown",
   "id": "4a4c5778",
   "metadata": {},
   "source": [
    "---"
   ]
  },
  {
   "cell_type": "markdown",
   "id": "fbe02b6f",
   "metadata": {},
   "source": [
    "---"
   ]
  },
  {
   "cell_type": "markdown",
   "id": "2a89736e",
   "metadata": {},
   "source": [
    "### 33. Write a Python program to sum three given integers. However, if two values are equal, the sum will be zero. "
   ]
  },
  {
   "cell_type": "code",
   "execution_count": 21,
   "id": "05e09d93",
   "metadata": {},
   "outputs": [],
   "source": [
    "def sum3int(x, y):\n",
    "    sum = x + y\n",
    "    if sum in range(15, 20):\n",
    "        return 20\n",
    "    else:\n",
    "        return sum"
   ]
  },
  {
   "cell_type": "code",
   "execution_count": 30,
   "id": "f9c54a72",
   "metadata": {},
   "outputs": [
    {
     "name": "stdout",
     "output_type": "stream",
     "text": [
      "10\n"
     ]
    }
   ],
   "source": [
    "print(sum3int(5, 5))"
   ]
  },
  {
   "cell_type": "code",
   "execution_count": 31,
   "id": "f306bb4b",
   "metadata": {},
   "outputs": [
    {
     "name": "stdout",
     "output_type": "stream",
     "text": [
      "20\n"
     ]
    }
   ],
   "source": [
    "print(sum3int(10, 5))"
   ]
  },
  {
   "cell_type": "code",
   "execution_count": 32,
   "id": "06498132",
   "metadata": {},
   "outputs": [
    {
     "name": "stdout",
     "output_type": "stream",
     "text": [
      "20\n"
     ]
    }
   ],
   "source": [
    "print(sum3int(10, 10))"
   ]
  },
  {
   "cell_type": "code",
   "execution_count": 33,
   "id": "7a1776cb",
   "metadata": {},
   "outputs": [
    {
     "name": "stdout",
     "output_type": "stream",
     "text": [
      "50\n"
     ]
    }
   ],
   "source": [
    "print(sum3int(20, 30))"
   ]
  },
  {
   "cell_type": "markdown",
   "id": "9a0b6965",
   "metadata": {},
   "source": [
    "---"
   ]
  },
  {
   "cell_type": "markdown",
   "id": "c5a01c2e",
   "metadata": {},
   "source": [
    "---"
   ]
  },
  {
   "cell_type": "markdown",
   "id": "9384460b",
   "metadata": {},
   "source": [
    "### 35. Write a Python program that returns true if the two given integer values are equal or their sum or difference is 5. "
   ]
  },
  {
   "cell_type": "markdown",
   "id": "451968b3",
   "metadata": {},
   "source": [
    "Regresa True cuando:\n",
    "- Los 2 numeros dados son iguales\n",
    "- La suma de los 2 numeros es 5\n",
    "- La diferencia entre los 2 numeros es 5"
   ]
  },
  {
   "cell_type": "code",
   "execution_count": 34,
   "id": "dcce508d",
   "metadata": {},
   "outputs": [],
   "source": [
    "def test_number5(x, y):\n",
    "    if x == y or abs(x-y) == 5 or (x+y) == 5:\n",
    "        return True\n",
    "    else:\n",
    "        return False"
   ]
  },
  {
   "cell_type": "code",
   "execution_count": 37,
   "id": "a026bf9c",
   "metadata": {},
   "outputs": [
    {
     "name": "stdout",
     "output_type": "stream",
     "text": [
      "True\n"
     ]
    }
   ],
   "source": [
    "print(test_number5(3, 3))"
   ]
  },
  {
   "cell_type": "code",
   "execution_count": 38,
   "id": "4c73758f",
   "metadata": {},
   "outputs": [
    {
     "name": "stdout",
     "output_type": "stream",
     "text": [
      "True\n"
     ]
    }
   ],
   "source": [
    "print(test_number5(3, 2))"
   ]
  },
  {
   "cell_type": "code",
   "execution_count": 39,
   "id": "61756a2f",
   "metadata": {},
   "outputs": [
    {
     "name": "stdout",
     "output_type": "stream",
     "text": [
      "True\n"
     ]
    }
   ],
   "source": [
    "print(test_number5(10, 5))"
   ]
  },
  {
   "cell_type": "code",
   "execution_count": 40,
   "id": "235f8f9f",
   "metadata": {},
   "outputs": [
    {
     "name": "stdout",
     "output_type": "stream",
     "text": [
      "False\n"
     ]
    }
   ],
   "source": [
    "print(test_number5(25, 5))"
   ]
  },
  {
   "cell_type": "markdown",
   "id": "2134c95c",
   "metadata": {},
   "source": [
    "---"
   ]
  },
  {
   "cell_type": "markdown",
   "id": "1af9f42c",
   "metadata": {},
   "source": [
    "---"
   ]
  },
  {
   "cell_type": "markdown",
   "id": "bea804ef",
   "metadata": {},
   "source": [
    "### 36. Write a Python program to add two objects if both objects are integers."
   ]
  },
  {
   "cell_type": "markdown",
   "id": "f99c0146",
   "metadata": {},
   "source": [
    "The isinstance() function returns True if the specified object is of the specified type, otherwise False."
   ]
  },
  {
   "cell_type": "code",
   "execution_count": 55,
   "id": "860eaff5",
   "metadata": {},
   "outputs": [],
   "source": [
    "def add_objects(obj1, obj2):\n",
    "    if isinstance(obj1, int) and isinstance(obj2, int):\n",
    "        result = obj1 + obj2\n",
    "        print(f\"The sum of {obj1} and {obj2} is {result}\")\n",
    "    else:\n",
    "        print(\"Both objects are not integers\")"
   ]
  },
  {
   "cell_type": "code",
   "execution_count": 56,
   "id": "5d7b2a55",
   "metadata": {},
   "outputs": [
    {
     "name": "stdout",
     "output_type": "stream",
     "text": [
      "The sum of 5 and 3 is 8\n"
     ]
    }
   ],
   "source": [
    "add_objects(5, 3)"
   ]
  },
  {
   "cell_type": "code",
   "execution_count": 57,
   "id": "6799f4de",
   "metadata": {},
   "outputs": [
    {
     "name": "stdout",
     "output_type": "stream",
     "text": [
      "Both objects are not integers\n"
     ]
    }
   ],
   "source": [
    "add_objects(5, '3')"
   ]
  },
  {
   "cell_type": "markdown",
   "id": "bf1f44ad",
   "metadata": {},
   "source": [
    "---"
   ]
  },
  {
   "cell_type": "markdown",
   "id": "e21f7985",
   "metadata": {},
   "source": [
    "---"
   ]
  },
  {
   "cell_type": "markdown",
   "id": "74f18e4f",
   "metadata": {},
   "source": [
    "### 37. Write a Python program that displays your name, age, and address on three different lines. "
   ]
  },
  {
   "cell_type": "code",
   "execution_count": 58,
   "id": "599ade33",
   "metadata": {},
   "outputs": [],
   "source": [
    "name = \"Javier\""
   ]
  },
  {
   "cell_type": "code",
   "execution_count": 61,
   "id": "568bd0e4",
   "metadata": {},
   "outputs": [],
   "source": [
    "age = 36"
   ]
  },
  {
   "cell_type": "code",
   "execution_count": 62,
   "id": "ff08e7e4",
   "metadata": {},
   "outputs": [],
   "source": [
    "address = \"Mexico, State, City, Street, Number\""
   ]
  },
  {
   "cell_type": "code",
   "execution_count": 63,
   "id": "38b097e6",
   "metadata": {},
   "outputs": [
    {
     "name": "stdout",
     "output_type": "stream",
     "text": [
      "Name: Javier\n",
      "Age: 36\n",
      "Address: Mexico, State, City, Street, Number\n"
     ]
    }
   ],
   "source": [
    "print(f\"Name: {name}\\nAge: {age}\\nAddress: {address}\")"
   ]
  },
  {
   "cell_type": "markdown",
   "id": "c4054047",
   "metadata": {},
   "source": [
    "---"
   ]
  },
  {
   "cell_type": "markdown",
   "id": "209bcdec",
   "metadata": {},
   "source": [
    "---"
   ]
  },
  {
   "cell_type": "markdown",
   "id": "9ce94950",
   "metadata": {},
   "source": [
    "### 38. Write a Python program to solve (x + y) * (x + y). "
   ]
  },
  {
   "cell_type": "code",
   "execution_count": 67,
   "id": "e8758058",
   "metadata": {},
   "outputs": [],
   "source": [
    "def xpytcpy(x, y):\n",
    "    result = ((x+y)*(x+y))\n",
    "    print(f\"({x} + {y})*({x} + {y}) is ({x+y} * {x+y}) = {result}\")"
   ]
  },
  {
   "cell_type": "code",
   "execution_count": 68,
   "id": "645eab81",
   "metadata": {
    "scrolled": true
   },
   "outputs": [
    {
     "name": "stdout",
     "output_type": "stream",
     "text": [
      "(4 + 3)*(4 + 3) is (7 * 7) = 49\n"
     ]
    }
   ],
   "source": [
    "xpytcpy(4, 3)"
   ]
  },
  {
   "cell_type": "code",
   "execution_count": 69,
   "id": "27083d5a",
   "metadata": {},
   "outputs": [
    {
     "name": "stdout",
     "output_type": "stream",
     "text": [
      "(6 + 8)*(6 + 8) is (14 * 14) = 196\n"
     ]
    }
   ],
   "source": [
    "xpytcpy(6, 8)"
   ]
  },
  {
   "cell_type": "markdown",
   "id": "6dc2dbd7",
   "metadata": {},
   "source": [
    "---"
   ]
  },
  {
   "cell_type": "markdown",
   "id": "1f2383b9",
   "metadata": {},
   "source": [
    "---"
   ]
  },
  {
   "cell_type": "markdown",
   "id": "7134e9e8",
   "metadata": {},
   "source": [
    "### 39. Write a Python program to compute the future value of a specified principal amount, rate of interest, and number of years. "
   ]
  },
  {
   "cell_type": "markdown",
   "id": "df1a063f",
   "metadata": {},
   "source": [
    "Write a Python program to compute the future value of a specified principal amount, rate of interest, and number of years.\n",
    "\n",
    "The formula for future value with compound interest is `FV = P(1 + r/n)^nt`.\n",
    "- FV = the future value;\n",
    "- P = the principal;\n",
    "- r = the annual interest rate expressed as a decimal;\n",
    "- n = the number of times interest is paid each year;\n",
    "- t = time in years."
   ]
  },
  {
   "cell_type": "markdown",
   "id": "d457dca9",
   "metadata": {},
   "source": [
    "Test Data: \n",
    "- amt = 10000\n",
    "- int = 3.5, \n",
    "- years = 7\n",
    "- Expected Output: 12722.79"
   ]
  },
  {
   "cell_type": "code",
   "execution_count": 87,
   "id": "bcb56be8",
   "metadata": {},
   "outputs": [],
   "source": [
    "def fut_value_pa(amt, inter, y):\n",
    "    result = amt*(1 + (inter*0.01))**y\n",
    "    print(result)\n",
    "    print(f\"\\nThe Future Value of {amt}\\nWith an annual interest rate of {inter}%\\nDuring {y} years\\nIs FV = {result}\")"
   ]
  },
  {
   "cell_type": "code",
   "execution_count": 88,
   "id": "41789c15",
   "metadata": {},
   "outputs": [
    {
     "name": "stdout",
     "output_type": "stream",
     "text": [
      "12722.792627665729\n",
      "\n",
      "The Future Value of 10000\n",
      "With an annual interest rate of 3.5%\n",
      "During 7 years\n",
      "Is FV = 12722.792627665729\n"
     ]
    }
   ],
   "source": [
    "fut_value_pa(10000, 3.5, 7)"
   ]
  },
  {
   "cell_type": "markdown",
   "id": "48194c80",
   "metadata": {},
   "source": [
    "---"
   ]
  },
  {
   "cell_type": "markdown",
   "id": "f0929022",
   "metadata": {},
   "source": [
    "---"
   ]
  },
  {
   "cell_type": "markdown",
   "id": "bbed9995",
   "metadata": {},
   "source": [
    "### 40. Write a Python program to calculate the distance between the points (x1, y1) and (x2, y2). "
   ]
  },
  {
   "cell_type": "markdown",
   "id": "f348a88c",
   "metadata": {},
   "source": [
    "Importamos el modulo math para poder sacar la raiz cuadrada. "
   ]
  },
  {
   "cell_type": "code",
   "execution_count": 89,
   "id": "3480fc2d",
   "metadata": {},
   "outputs": [],
   "source": [
    "import math"
   ]
  },
  {
   "cell_type": "code",
   "execution_count": 102,
   "id": "6032540b",
   "metadata": {},
   "outputs": [],
   "source": [
    "def calc_dist_2points(x1, y1, x2, y2):\n",
    "    result = math.sqrt((x2 - x1)**2 + (y2 - y1)**2)\n",
    "    print(f\"The distance between ({x1},{y1}) and ({x2},{y2}) is: {result}\")"
   ]
  },
  {
   "cell_type": "code",
   "execution_count": 103,
   "id": "16ae7032",
   "metadata": {},
   "outputs": [
    {
     "name": "stdout",
     "output_type": "stream",
     "text": [
      "The distance between (4,0) and (6,6) is: 6.324555320336759\n"
     ]
    }
   ],
   "source": [
    "calc_dist_2points(4, 0, 6, 6)"
   ]
  },
  {
   "cell_type": "markdown",
   "id": "5c6f5ed6",
   "metadata": {},
   "source": [
    "---"
   ]
  },
  {
   "cell_type": "markdown",
   "id": "c9034c23",
   "metadata": {},
   "source": [
    "---"
   ]
  },
  {
   "cell_type": "markdown",
   "id": "91c7579b",
   "metadata": {},
   "source": [
    "### 41. Write a Python program to check whether a file exists. "
   ]
  },
  {
   "cell_type": "markdown",
   "id": "c3b5c759",
   "metadata": {},
   "source": [
    "Necesitamos el modulo os"
   ]
  },
  {
   "cell_type": "code",
   "execution_count": 104,
   "id": "6dd604a9",
   "metadata": {},
   "outputs": [],
   "source": [
    "import os.path"
   ]
  },
  {
   "cell_type": "markdown",
   "id": "141a6b72",
   "metadata": {},
   "source": [
    "Primero quise verificar en que directorio estoy"
   ]
  },
  {
   "cell_type": "code",
   "execution_count": 112,
   "id": "0c134bd8",
   "metadata": {},
   "outputs": [],
   "source": [
    "current_directory = os.getcwd()"
   ]
  },
  {
   "cell_type": "code",
   "execution_count": 113,
   "id": "a900c10d",
   "metadata": {
    "scrolled": true
   },
   "outputs": [
    {
     "name": "stdout",
     "output_type": "stream",
     "text": [
      "D:\\Python_projects\\Python\\001_w3resource\\001_w3resource_PythonBasic_Part1\n"
     ]
    }
   ],
   "source": [
    "print(current_directory)"
   ]
  },
  {
   "cell_type": "markdown",
   "id": "c18b5806",
   "metadata": {},
   "source": [
    "Luego definimas una funcion donde se busca si existe el archivo en el directorio actual. En este caso es este archivo donde estamos trabajando\n",
    "\n",
    "`0002_Python basic (Part -I) 26 - 50.ipynb`"
   ]
  },
  {
   "cell_type": "code",
   "execution_count": 125,
   "id": "71dfb130",
   "metadata": {},
   "outputs": [],
   "source": [
    "def check_file_ex(filename):\n",
    "    if os.path.exists(filename):\n",
    "        print(\"File exists\")\n",
    "    else:\n",
    "        print(\"Can't find that file\")"
   ]
  },
  {
   "cell_type": "code",
   "execution_count": 126,
   "id": "9a64f232",
   "metadata": {},
   "outputs": [
    {
     "name": "stdout",
     "output_type": "stream",
     "text": [
      "File exists\n"
     ]
    }
   ],
   "source": [
    "check_file_ex(\"0002_Python basic (Part -I) 26 - 50.ipynb\")"
   ]
  },
  {
   "cell_type": "markdown",
   "id": "5c4d997e",
   "metadata": {},
   "source": [
    "Con esto puedo ver una lista de los archvios en el directorio actual"
   ]
  },
  {
   "cell_type": "code",
   "execution_count": 127,
   "id": "dd5f4b62",
   "metadata": {},
   "outputs": [],
   "source": [
    "file_list = os.listdir(current_directory)"
   ]
  },
  {
   "cell_type": "code",
   "execution_count": 128,
   "id": "55437139",
   "metadata": {},
   "outputs": [
    {
     "name": "stdout",
     "output_type": "stream",
     "text": [
      "['.ipynb_checkpoints', '0001_Python basic (Part -I) 1 - 25.ipynb', '0002_Python basic (Part -I) 26 - 50.ipynb', 'README.md']\n"
     ]
    }
   ],
   "source": [
    "print(file_list)"
   ]
  },
  {
   "cell_type": "markdown",
   "id": "1bc5a62a",
   "metadata": {},
   "source": [
    "Checo otros archivos"
   ]
  },
  {
   "cell_type": "code",
   "execution_count": 129,
   "id": "e08a8d8a",
   "metadata": {},
   "outputs": [
    {
     "name": "stdout",
     "output_type": "stream",
     "text": [
      "File exists\n"
     ]
    }
   ],
   "source": [
    "check_file_ex(\"README.md\")"
   ]
  },
  {
   "cell_type": "code",
   "execution_count": 130,
   "id": "2f060ff0",
   "metadata": {},
   "outputs": [
    {
     "name": "stdout",
     "output_type": "stream",
     "text": [
      "Can't find that file\n"
     ]
    }
   ],
   "source": [
    "check_file_ex(\"hola.md\")"
   ]
  },
  {
   "cell_type": "markdown",
   "id": "0e753b33",
   "metadata": {},
   "source": [
    "---"
   ]
  },
  {
   "cell_type": "markdown",
   "id": "7f26551a",
   "metadata": {},
   "source": [
    "---"
   ]
  },
  {
   "cell_type": "markdown",
   "id": "1354da5b",
   "metadata": {},
   "source": [
    "### 42. Write a Python program to determine if a Python shell is executing in 32bit or 64bit mode on OS. "
   ]
  },
  {
   "cell_type": "code",
   "execution_count": null,
   "id": "b45498a2",
   "metadata": {},
   "outputs": [],
   "source": []
  }
 ],
 "metadata": {
  "kernelspec": {
   "display_name": "Python 3",
   "language": "python",
   "name": "python3"
  },
  "language_info": {
   "codemirror_mode": {
    "name": "ipython",
    "version": 3
   },
   "file_extension": ".py",
   "mimetype": "text/x-python",
   "name": "python",
   "nbconvert_exporter": "python",
   "pygments_lexer": "ipython3",
   "version": "3.8.8"
  }
 },
 "nbformat": 4,
 "nbformat_minor": 5
}

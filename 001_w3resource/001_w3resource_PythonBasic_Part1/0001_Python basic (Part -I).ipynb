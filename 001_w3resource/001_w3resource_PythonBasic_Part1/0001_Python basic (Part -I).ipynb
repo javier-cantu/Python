{
 "cells": [
  {
   "cell_type": "markdown",
   "id": "00699798",
   "metadata": {},
   "source": [
    "# Python basic (Part -I) [150 exercises with solution]"
   ]
  },
  {
   "cell_type": "markdown",
   "id": "cec8214f",
   "metadata": {},
   "source": [
    "---"
   ]
  },
  {
   "cell_type": "markdown",
   "id": "0a616372",
   "metadata": {},
   "source": [
    "# Markdown básico"
   ]
  },
  {
   "cell_type": "markdown",
   "id": "e03f1e77",
   "metadata": {},
   "source": [
    "# H1\n",
    "## H2\n",
    "### H3\n",
    "\n",
    "**bold**\n",
    "\n",
    "*italic*\n",
    "\n",
    "> blockquote\n",
    "\n",
    "Ordered List:\n",
    "1. First\n",
    "2. Second\n",
    "3. Third\n",
    "\n",
    "Unordered List:\n",
    "- First\n",
    "- Second\n",
    "- Third\n",
    "\n",
    "`code`\n",
    "\n",
    "Horizontal Rule\n",
    "\n",
    "---\n",
    "\n",
    "Link\n",
    "[title](https://www.example.com)\n",
    "\n",
    "[Markdown Cheat Sheet](https://www.markdownguide.org/cheat-sheet/)\n",
    "\n",
    "Image\n",
    "![alt text](https://upload.wikimedia.org/wikipedia/commons/thumb/f/f8/Python_logo_and_wordmark.svg/486px-Python_logo_and_wordmark.svg.png)"
   ]
  },
  {
   "cell_type": "markdown",
   "id": "24784a24",
   "metadata": {},
   "source": [
    "---"
   ]
  },
  {
   "cell_type": "markdown",
   "id": "8e977787",
   "metadata": {},
   "source": [
    "# Python Basic (Part -I)"
   ]
  },
  {
   "cell_type": "markdown",
   "id": "770f57ea",
   "metadata": {},
   "source": [
    "### 1. Write a Python program to print the following string in a specific format (see the output). "
   ]
  },
  {
   "cell_type": "markdown",
   "id": "e7ff085a",
   "metadata": {},
   "source": [
    "Sample String: \"Twinkle, twinkle, little star, How I wonder what you are! Up above the world so high, Like a diamond in the sky. Twinkle, twinkle, little star, How I wonder what you are!\"\n",
    "\n",
    "`\n",
    "Twinkle, twinkle, little star,\n",
    "\tHow I wonder what you are! \n",
    "\t\tUp above the world so high,   \t\t\n",
    "\t\tLike a diamond in the sky. \n",
    "Twinkle, twinkle, little star, \n",
    "\tHow I wonder what you are\n",
    "    `"
   ]
  },
  {
   "cell_type": "markdown",
   "id": "478de763",
   "metadata": {},
   "source": [
    "En Python con **\\n** se pasa a la siguiente linea\n",
    "Y con **\\t** se hace un tab"
   ]
  },
  {
   "cell_type": "code",
   "execution_count": 2,
   "id": "fc530462",
   "metadata": {},
   "outputs": [
    {
     "name": "stdout",
     "output_type": "stream",
     "text": [
      "Twinkle, twinkle, little star, \n",
      "\tHow I wonder what you are! \n",
      "\t\tUp above the world so high, \n",
      "\t\tLike a diamond in the sky. \n",
      "Twinkle, twinkle, little star, \n",
      "\tHow I wonder what you are!\n"
     ]
    }
   ],
   "source": [
    "print(\"Twinkle, twinkle, little star, \\n\\tHow I wonder what you are! \\n\\t\\tUp above the world so high, \\n\\t\\tLike a diamond in the sky. \\nTwinkle, twinkle, little star, \\n\\tHow I wonder what you are!\")"
   ]
  },
  {
   "cell_type": "markdown",
   "id": "30db8e53",
   "metadata": {},
   "source": [
    "---"
   ]
  },
  {
   "cell_type": "markdown",
   "id": "1faf24a0",
   "metadata": {},
   "source": [
    "---"
   ]
  },
  {
   "cell_type": "markdown",
   "id": "d1514b5b",
   "metadata": {},
   "source": [
    "### 2. Write a Python program to find out what version of Python you are using."
   ]
  },
  {
   "cell_type": "markdown",
   "id": "3c81a538",
   "metadata": {},
   "source": [
    "Write a Python program to find out what version of Python you are using.\n",
    "\n",
    "A string containing the version number of the Python interpreter plus additional information on the build number and compiler used. This string is displayed when the interactive interpreter is started. "
   ]
  },
  {
   "cell_type": "markdown",
   "id": "2943b66f",
   "metadata": {},
   "source": [
    "---"
   ]
  },
  {
   "cell_type": "markdown",
   "id": "f8301ed0",
   "metadata": {},
   "source": [
    "En esta línea, se importa el módulo sys. El módulo sys proporciona acceso a variables y funciones específicas del sistema, lo que permite interactuar con el entorno y obtener información sobre la configuración del sistema y la versión de Python que se está utilizando."
   ]
  },
  {
   "cell_type": "code",
   "execution_count": 3,
   "id": "c8860500",
   "metadata": {},
   "outputs": [],
   "source": [
    "import sys"
   ]
  },
  {
   "cell_type": "code",
   "execution_count": 4,
   "id": "ba2e65d5",
   "metadata": {},
   "outputs": [
    {
     "name": "stdout",
     "output_type": "stream",
     "text": [
      "Python version\n"
     ]
    }
   ],
   "source": [
    "print(\"Python version\")"
   ]
  },
  {
   "cell_type": "markdown",
   "id": "7680f656",
   "metadata": {},
   "source": [
    "Aquí, se utiliza sys.version para imprimir la versión de Python que se está ejecutando actualmente en el sistema."
   ]
  },
  {
   "cell_type": "code",
   "execution_count": 5,
   "id": "81092c55",
   "metadata": {},
   "outputs": [
    {
     "name": "stdout",
     "output_type": "stream",
     "text": [
      "3.8.8 (default, Apr 13 2021, 15:08:03) [MSC v.1916 64 bit (AMD64)]\n"
     ]
    }
   ],
   "source": [
    "print(sys.version)"
   ]
  },
  {
   "cell_type": "code",
   "execution_count": 6,
   "id": "266ebb1c",
   "metadata": {},
   "outputs": [
    {
     "name": "stdout",
     "output_type": "stream",
     "text": [
      "Version info.\n"
     ]
    }
   ],
   "source": [
    "print(\"Version info.\")"
   ]
  },
  {
   "cell_type": "markdown",
   "id": "61647f2c",
   "metadata": {},
   "source": [
    "En esta línea, se imprime el objeto sys.version_info, que proporciona información más detallada sobre la versión de Python. sys.version_info es un objeto que contiene varios atributos, como major (versión principal), minor (versión secundaria), micro (versión micro), releaselevel (nivel de liberación, como \"final\" o \"beta\"), y otros. Esta línea mostrará todos estos detalles."
   ]
  },
  {
   "cell_type": "code",
   "execution_count": 7,
   "id": "dac5ab51",
   "metadata": {},
   "outputs": [
    {
     "name": "stdout",
     "output_type": "stream",
     "text": [
      "sys.version_info(major=3, minor=8, micro=8, releaselevel='final', serial=0)\n"
     ]
    }
   ],
   "source": [
    "print(sys.version_info)"
   ]
  },
  {
   "cell_type": "markdown",
   "id": "a9f4950f",
   "metadata": {},
   "source": [
    "---"
   ]
  },
  {
   "cell_type": "markdown",
   "id": "fb13c8b9",
   "metadata": {},
   "source": [
    "---"
   ]
  },
  {
   "cell_type": "markdown",
   "id": "86b6a227",
   "metadata": {},
   "source": [
    "### 3. Write a Python program to display the current date and time."
   ]
  },
  {
   "cell_type": "markdown",
   "id": "b13424ab",
   "metadata": {},
   "source": [
    "Sample Output:\n",
    "\n",
    "**Current date and time:\n",
    "2014-07-05 14:34:14**"
   ]
  },
  {
   "cell_type": "markdown",
   "id": "bbe1be0b",
   "metadata": {},
   "source": [
    "Se importa el módulo datetime. El módulo datetime proporciona clases y funciones para trabajar con fechas y horas en Python, lo que permite realizar operaciones relacionadas con el tiempo."
   ]
  },
  {
   "cell_type": "code",
   "execution_count": 8,
   "id": "bc903a2d",
   "metadata": {},
   "outputs": [],
   "source": [
    "import datetime"
   ]
  },
  {
   "cell_type": "markdown",
   "id": "87d2c172",
   "metadata": {},
   "source": [
    "Se crea una variable llamada now que almacena la fecha y hora actuales. Se hace esto llamando a la función datetime.now() del módulo datetime. Esta función devuelve un objeto datetime que representa la fecha y hora actuales en el momento en que se ejecuta."
   ]
  },
  {
   "cell_type": "code",
   "execution_count": 9,
   "id": "6ec8c70e",
   "metadata": {},
   "outputs": [],
   "source": [
    "now = datetime.datetime.now()"
   ]
  },
  {
   "cell_type": "code",
   "execution_count": 10,
   "id": "cd62b051",
   "metadata": {},
   "outputs": [
    {
     "name": "stdout",
     "output_type": "stream",
     "text": [
      "Current date and time : \n"
     ]
    }
   ],
   "source": [
    "print(\"Current date and time : \")"
   ]
  },
  {
   "cell_type": "markdown",
   "id": "351d875c",
   "metadata": {},
   "source": [
    "Se utiliza el método strftime() del objeto datetime para formatear la fecha y hora actual en una cadena con un formato específico. "
   ]
  },
  {
   "cell_type": "code",
   "execution_count": 11,
   "id": "1c09f047",
   "metadata": {},
   "outputs": [
    {
     "name": "stdout",
     "output_type": "stream",
     "text": [
      "2023-10-06 00:12:28\n"
     ]
    }
   ],
   "source": [
    "print(now.strftime(\"%Y-%m-%d %H:%M:%S\"))"
   ]
  },
  {
   "cell_type": "markdown",
   "id": "d14f39e1",
   "metadata": {},
   "source": [
    "---"
   ]
  },
  {
   "cell_type": "markdown",
   "id": "1505252e",
   "metadata": {},
   "source": [
    "---"
   ]
  },
  {
   "cell_type": "markdown",
   "id": "437fde24",
   "metadata": {},
   "source": [
    "### 4. Write a Python program that calculates the area of a circle based on the radius entered by the user. "
   ]
  },
  {
   "cell_type": "markdown",
   "id": "f036696a",
   "metadata": {},
   "source": [
    "Write a Python program that calculates the area of a circle based on the radius entered by the user."
   ]
  },
  {
   "cell_type": "markdown",
   "id": "dc853c8a",
   "metadata": {},
   "source": [
    "Se importa la constante pi del módulo math. "
   ]
  },
  {
   "cell_type": "code",
   "execution_count": 12,
   "id": "a08ece6e",
   "metadata": {},
   "outputs": [],
   "source": [
    "from math import pi"
   ]
  },
  {
   "cell_type": "markdown",
   "id": "e8a2425d",
   "metadata": {},
   "source": [
    "Se solicita al usuario que ingrese el radio de un círculo. La función input() se utiliza para obtener una entrada del usuario, y la entrada se convierte a un número decimal (tipo float) utilizando la función float(). El valor ingresado por el usuario se almacena en la variable r."
   ]
  },
  {
   "cell_type": "code",
   "execution_count": 13,
   "id": "d1ae175c",
   "metadata": {
    "scrolled": true
   },
   "outputs": [
    {
     "name": "stdout",
     "output_type": "stream",
     "text": [
      "Input the radius of the circle : 3.0\n"
     ]
    }
   ],
   "source": [
    "r = float(input (\"Input the radius of the circle : \"))"
   ]
  },
  {
   "cell_type": "markdown",
   "id": "51385332",
   "metadata": {},
   "source": [
    "Se calcula el área de un círculo utilizando la fórmula matemática A = πr², donde \"A\" representa el área y \"r\" representa el radio del círculo (que el usuario ingresó en el paso anterior)."
   ]
  },
  {
   "cell_type": "code",
   "execution_count": 14,
   "id": "d8e7a556",
   "metadata": {},
   "outputs": [
    {
     "name": "stdout",
     "output_type": "stream",
     "text": [
      "The area of the circle with radius 3.0 is: 28.274333882308138\n"
     ]
    }
   ],
   "source": [
    "print (\"The area of the circle with radius \" + str(r) + \" is: \" + str(pi * r**2))"
   ]
  },
  {
   "cell_type": "markdown",
   "id": "a6a38dd9",
   "metadata": {},
   "source": [
    "---"
   ]
  },
  {
   "cell_type": "markdown",
   "id": "f6919be0",
   "metadata": {},
   "source": [
    "---"
   ]
  },
  {
   "cell_type": "markdown",
   "id": "4a6b3cbf",
   "metadata": {},
   "source": [
    "### 5. Write a Python program that accepts the user's first and last name and prints them in reverse order with a space between them. "
   ]
  },
  {
   "cell_type": "markdown",
   "id": "a97980ec",
   "metadata": {},
   "source": [
    "Write a Python program that accepts the user's first and last name and prints them in reverse order with a space between them."
   ]
  },
  {
   "cell_type": "code",
   "execution_count": 15,
   "id": "8ffa3b6a",
   "metadata": {},
   "outputs": [
    {
     "name": "stdout",
     "output_type": "stream",
     "text": [
      "Input your First Name : Javier\n"
     ]
    }
   ],
   "source": [
    "fname = input(\"Input your First Name : \")"
   ]
  },
  {
   "cell_type": "code",
   "execution_count": 16,
   "id": "32314dfc",
   "metadata": {},
   "outputs": [
    {
     "name": "stdout",
     "output_type": "stream",
     "text": [
      "Input your Last Name : C.\n"
     ]
    }
   ],
   "source": [
    "lname = input(\"Input your Last Name : \")"
   ]
  },
  {
   "cell_type": "code",
   "execution_count": 17,
   "id": "f80b6316",
   "metadata": {},
   "outputs": [
    {
     "name": "stdout",
     "output_type": "stream",
     "text": [
      "Hello  C. Javier\n"
     ]
    }
   ],
   "source": [
    "print (\"Hello  \" + lname + \" \" + fname)"
   ]
  },
  {
   "cell_type": "markdown",
   "id": "05069301",
   "metadata": {},
   "source": [
    "---"
   ]
  },
  {
   "cell_type": "markdown",
   "id": "cb33657d",
   "metadata": {},
   "source": [
    "---"
   ]
  },
  {
   "cell_type": "markdown",
   "id": "7ebe55b7",
   "metadata": {},
   "source": [
    "### 6. Write a Python program that accepts a sequence of comma-separated numbers from the user and generates a list and a tuple of those numbers. "
   ]
  },
  {
   "cell_type": "markdown",
   "id": "4efc3bf5",
   "metadata": {},
   "source": [
    "Write a Python program that accepts a sequence of comma-separated numbers from the user and generates a list and a tuple of those numbers. "
   ]
  },
  {
   "cell_type": "markdown",
   "id": "c2dd2e14",
   "metadata": {},
   "source": [
    "En esta línea, el programa solicita al usuario que ingrese una serie de números separados por comas."
   ]
  },
  {
   "cell_type": "code",
   "execution_count": 18,
   "id": "177e7da1",
   "metadata": {},
   "outputs": [
    {
     "name": "stdout",
     "output_type": "stream",
     "text": [
      "Input some comma seprated numbers : 1,4,7,34,21,65,12,1,6,6,7\n"
     ]
    }
   ],
   "source": [
    "values = input(\"Input some comma seprated numbers : \")"
   ]
  },
  {
   "cell_type": "markdown",
   "id": "981f259c",
   "metadata": {},
   "source": [
    "**Python list:**\n",
    "\n",
    "A list is a container which holds comma separated values (items or elements) between square brackets where items or elements need not all have the same type. In general, we can define a list as an object that contains multiple data items (elements). The contents of a list can be changed during program execution. The size of a list can also change during execution, as elements are added or removed from it."
   ]
  },
  {
   "cell_type": "code",
   "execution_count": 19,
   "id": "98e9973c",
   "metadata": {},
   "outputs": [],
   "source": [
    "list = values.split(\",\")"
   ]
  },
  {
   "cell_type": "code",
   "execution_count": 22,
   "id": "6f984bf9",
   "metadata": {},
   "outputs": [
    {
     "name": "stdout",
     "output_type": "stream",
     "text": [
      "List :  ['1', '4', '7', '34', '21', '65', '12', '1', '6', '6', '7']\n"
     ]
    }
   ],
   "source": [
    "print('List : ',list)"
   ]
  },
  {
   "cell_type": "markdown",
   "id": "b579ed72",
   "metadata": {},
   "source": [
    "**Python tuple:**\n",
    "\n",
    "A tuple is container which holds a series of comma separated values (items or elements) between parentheses such as an (x, y) co-ordinate. Tuples are like lists, except they are immutable (i.e. you cannot change its content once created) and can hold mix data types. "
   ]
  },
  {
   "cell_type": "markdown",
   "id": "3bcde771",
   "metadata": {},
   "source": [
    "Aquí, la lista previamente creada se convierte en una tupla utilizando la función tuple()"
   ]
  },
  {
   "cell_type": "code",
   "execution_count": 20,
   "id": "cc1314d5",
   "metadata": {},
   "outputs": [],
   "source": [
    "tuple = tuple(list)"
   ]
  },
  {
   "cell_type": "code",
   "execution_count": 23,
   "id": "b6a695cd",
   "metadata": {},
   "outputs": [
    {
     "name": "stdout",
     "output_type": "stream",
     "text": [
      "Tuple :  ('1', '4', '7', '34', '21', '65', '12', '1', '6', '6', '7')\n"
     ]
    }
   ],
   "source": [
    "print('Tuple : ',tuple)"
   ]
  },
  {
   "cell_type": "markdown",
   "id": "ab3deb1d",
   "metadata": {},
   "source": [
    "---"
   ]
  },
  {
   "cell_type": "markdown",
   "id": "1a315d37",
   "metadata": {},
   "source": [
    "---"
   ]
  },
  {
   "cell_type": "markdown",
   "id": "9b78155c",
   "metadata": {},
   "source": [
    "### 7. Write a Python program that accepts a filename from the user and prints the extension of the file. "
   ]
  },
  {
   "cell_type": "code",
   "execution_count": 24,
   "id": "969c1bdb",
   "metadata": {},
   "outputs": [
    {
     "name": "stdout",
     "output_type": "stream",
     "text": [
      "Input the Filename: boobs.exe\n"
     ]
    }
   ],
   "source": [
    "filename = input(\"Input the Filename: \")"
   ]
  },
  {
   "cell_type": "markdown",
   "id": "5b2df9e5",
   "metadata": {},
   "source": [
    "Aquí, el programa toma el nombre de archivo ingresado en filename y lo divide en partes utilizando el punto (\".\") como delimitador."
   ]
  },
  {
   "cell_type": "code",
   "execution_count": 25,
   "id": "083c9dd7",
   "metadata": {},
   "outputs": [],
   "source": [
    "f_extns = filename.split(\".\")"
   ]
  },
  {
   "cell_type": "markdown",
   "id": "fff04f7f",
   "metadata": {},
   "source": [
    "En esta línea, se imprime la extensión del archivo. Para hacerlo, se accede al último elemento de la lista f_extns utilizando f_extns[-1]. Luego, se concatena con el texto \"The extension of the file is : \" y se muestra en la salida.\n",
    "\n",
    "La función repr() se utiliza para representar la extensión como una cadena. Esto puede ser útil en caso de que la extensión del archivo sea una cadena que contenga caracteres especiales, ya que repr() mostrará la representación literal de la cadena."
   ]
  },
  {
   "cell_type": "code",
   "execution_count": 26,
   "id": "96d6cd6f",
   "metadata": {},
   "outputs": [
    {
     "name": "stdout",
     "output_type": "stream",
     "text": [
      "The extension of the file is : 'exe'\n"
     ]
    }
   ],
   "source": [
    "print (\"The extension of the file is : \" + repr(f_extns[-1]))"
   ]
  },
  {
   "cell_type": "markdown",
   "id": "8116d319",
   "metadata": {},
   "source": [
    "---"
   ]
  },
  {
   "cell_type": "markdown",
   "id": "32b1d015",
   "metadata": {},
   "source": [
    "---"
   ]
  },
  {
   "cell_type": "markdown",
   "id": "b6ffc129",
   "metadata": {},
   "source": [
    "### 8. Write a Python program to display the first and last colors from the following list. "
   ]
  },
  {
   "cell_type": "markdown",
   "id": "cb37e759",
   "metadata": {},
   "source": [
    "Se crea una lista llamada color_list que contiene cuatro elementos, que son nombres de colores (\"Red\", \"Green\", \"White\", \"Black\")."
   ]
  },
  {
   "cell_type": "code",
   "execution_count": 27,
   "id": "f839959d",
   "metadata": {},
   "outputs": [],
   "source": [
    "color_list = [\"Red\",\"Green\",\"White\" ,\"Black\"]"
   ]
  },
  {
   "cell_type": "markdown",
   "id": "3fb55393",
   "metadata": {},
   "source": [
    "Se utiliza una cadena de formato para imprimir el primer y el último elemento de la lista color_list.\n",
    "\n",
    "La cadena de formato \"%s %s\" contiene dos marcadores de posición %s, que se utilizan para indicar dónde se deben insertar los valores. Luego, se utiliza el operador % para formatear la cadena de acuerdo con los valores especificados en la tupla (color_list[0], color_list[-1])."
   ]
  },
  {
   "cell_type": "code",
   "execution_count": 28,
   "id": "a2f2144c",
   "metadata": {},
   "outputs": [
    {
     "name": "stdout",
     "output_type": "stream",
     "text": [
      "Red Black\n"
     ]
    }
   ],
   "source": [
    "print( \"%s %s\"%(color_list[0],color_list[-1]))"
   ]
  },
  {
   "cell_type": "markdown",
   "id": "f30bc43e",
   "metadata": {},
   "source": [
    "---"
   ]
  },
  {
   "cell_type": "markdown",
   "id": "1645a76b",
   "metadata": {},
   "source": [
    "---"
   ]
  },
  {
   "cell_type": "markdown",
   "id": "f1396a2a",
   "metadata": {},
   "source": [
    "### 9. Write a Python program to display the examination schedule. "
   ]
  },
  {
   "cell_type": "markdown",
   "id": "0901897b",
   "metadata": {},
   "source": [
    "En esta línea, se crea una tupla llamada exam_st_date que contiene tres valores. "
   ]
  },
  {
   "cell_type": "code",
   "execution_count": 29,
   "id": "2935e6ac",
   "metadata": {},
   "outputs": [],
   "source": [
    "exam_st_date = (11,12,2014)"
   ]
  },
  {
   "cell_type": "markdown",
   "id": "274eb0aa",
   "metadata": {},
   "source": [
    "En esta línea, se utiliza una cadena de formato para imprimir la fecha almacenada en la tupla exam_st_date. Aquí está cómo funciona:"
   ]
  },
  {
   "cell_type": "code",
   "execution_count": 30,
   "id": "a2c66a54",
   "metadata": {
    "scrolled": false
   },
   "outputs": [
    {
     "name": "stdout",
     "output_type": "stream",
     "text": [
      "The examination will start from : 11 / 12 / 2014\n"
     ]
    }
   ],
   "source": [
    "print( \"The examination will start from : %i / %i / %i\"%exam_st_date)"
   ]
  },
  {
   "cell_type": "markdown",
   "id": "49ee2007",
   "metadata": {},
   "source": [
    "---"
   ]
  },
  {
   "cell_type": "markdown",
   "id": "4bb2c8e9",
   "metadata": {},
   "source": [
    "---"
   ]
  },
  {
   "cell_type": "markdown",
   "id": "333c28b5",
   "metadata": {},
   "source": [
    "### 10. Write a Python program that accepts an integer (n) and computes the value of n+nn+nnn. "
   ]
  },
  {
   "cell_type": "code",
   "execution_count": 31,
   "id": "e44d0855",
   "metadata": {},
   "outputs": [
    {
     "name": "stdout",
     "output_type": "stream",
     "text": [
      "Input an integer : 3\n"
     ]
    }
   ],
   "source": [
    "a = int(input(\"Input an integer : \"))"
   ]
  },
  {
   "cell_type": "code",
   "execution_count": 32,
   "id": "30f06147",
   "metadata": {},
   "outputs": [],
   "source": [
    "n1 = int( \"%s\" % a )"
   ]
  },
  {
   "cell_type": "code",
   "execution_count": 33,
   "id": "69e77090",
   "metadata": {},
   "outputs": [],
   "source": [
    "n2 = int( \"%s%s\" % (a,a) )"
   ]
  },
  {
   "cell_type": "code",
   "execution_count": 34,
   "id": "379318fc",
   "metadata": {},
   "outputs": [],
   "source": [
    "n3 = int( \"%s%s%s\" % (a,a,a) )"
   ]
  },
  {
   "cell_type": "code",
   "execution_count": 35,
   "id": "d41ce299",
   "metadata": {},
   "outputs": [
    {
     "name": "stdout",
     "output_type": "stream",
     "text": [
      "369\n"
     ]
    }
   ],
   "source": [
    "print (n1+n2+n3)"
   ]
  },
  {
   "cell_type": "markdown",
   "id": "f060768e",
   "metadata": {},
   "source": [
    "---"
   ]
  },
  {
   "cell_type": "markdown",
   "id": "dec711d4",
   "metadata": {},
   "source": [
    "---"
   ]
  },
  {
   "cell_type": "code",
   "execution_count": null,
   "id": "f2084edb",
   "metadata": {},
   "outputs": [],
   "source": []
  }
 ],
 "metadata": {
  "kernelspec": {
   "display_name": "Python 3",
   "language": "python",
   "name": "python3"
  },
  "language_info": {
   "codemirror_mode": {
    "name": "ipython",
    "version": 3
   },
   "file_extension": ".py",
   "mimetype": "text/x-python",
   "name": "python",
   "nbconvert_exporter": "python",
   "pygments_lexer": "ipython3",
   "version": "3.8.8"
  }
 },
 "nbformat": 4,
 "nbformat_minor": 5
}

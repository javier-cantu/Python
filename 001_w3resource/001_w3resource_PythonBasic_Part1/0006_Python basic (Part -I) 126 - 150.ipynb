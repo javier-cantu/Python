{
 "cells": [
  {
   "cell_type": "markdown",
   "id": "1760f73d",
   "metadata": {},
   "source": [
    "# 0006_Python basic (Part -I) 126 - 150"
   ]
  },
  {
   "cell_type": "markdown",
   "id": "1521fec9",
   "metadata": {},
   "source": [
    "Ejercicios python 126 - 150\n",
    "[Python basic (Part -I)](https://www.w3resource.com/python-exercises/python-basic-exercises.php)"
   ]
  },
  {
   "cell_type": "markdown",
   "id": "33f93a09",
   "metadata": {},
   "source": [
    "---"
   ]
  },
  {
   "cell_type": "markdown",
   "id": "4c94051c",
   "metadata": {},
   "source": [
    "### 126. Write a Python program to get the actual module object for a given object. "
   ]
  },
  {
   "cell_type": "code",
   "execution_count": 5,
   "id": "8e8be349",
   "metadata": {},
   "outputs": [],
   "source": [
    "import inspect"
   ]
  },
  {
   "cell_type": "code",
   "execution_count": 15,
   "id": "e9a85834",
   "metadata": {},
   "outputs": [],
   "source": [
    "from math import sqrt"
   ]
  },
  {
   "cell_type": "code",
   "execution_count": 16,
   "id": "5492bd26",
   "metadata": {
    "scrolled": true
   },
   "outputs": [
    {
     "name": "stdout",
     "output_type": "stream",
     "text": [
      "<module 'math' (built-in)>\n"
     ]
    }
   ],
   "source": [
    "print(inspect.getmodule(sqrt))"
   ]
  },
  {
   "cell_type": "markdown",
   "id": "9e5ef71a",
   "metadata": {},
   "source": [
    "---"
   ]
  },
  {
   "cell_type": "markdown",
   "id": "e5c8b677",
   "metadata": {},
   "source": [
    "---"
   ]
  },
  {
   "cell_type": "markdown",
   "id": "83e56b69",
   "metadata": {},
   "source": [
    "### 127. Write a Python program to check whether an integer fits in 64 bits. "
   ]
  },
  {
   "cell_type": "markdown",
   "id": "991d3963",
   "metadata": {},
   "source": [
    "> To check whether an integer fits within 64 bits in Python, you can compare the integer against the maximum and minimum values that can be represented using 64 bits. In Python, you can use the sys.maxsize constant to represent the maximum positive value for a signed integer on your platform, which is typically 2^63 - 1."
   ]
  },
  {
   "cell_type": "code",
   "execution_count": 17,
   "id": "ffbf71be",
   "metadata": {},
   "outputs": [],
   "source": [
    "import sys"
   ]
  },
  {
   "cell_type": "markdown",
   "id": "0b1b35b0",
   "metadata": {},
   "source": [
    "> We define a function fits_in_64_bits that takes an integer as an argument and checks if it fits within the range of 64 bits. We use the expressions `-(2**63) <= integer <= (2**63 - 1)` to check if the integer is within the range of signed 64-bit integers."
   ]
  },
  {
   "cell_type": "code",
   "execution_count": 18,
   "id": "e0edf353",
   "metadata": {},
   "outputs": [],
   "source": [
    "# Function to check if an integer fits within 64 bits\n",
    "def fits_in_64_bits(integer):\n",
    "    return -(2**63) <= integer <= (2**63 - 1)"
   ]
  },
  {
   "cell_type": "markdown",
   "id": "0464fa65",
   "metadata": {},
   "source": [
    "> We test the function with an integer (my_integer) and print whether it fits in 64 bits or not."
   ]
  },
  {
   "cell_type": "code",
   "execution_count": 19,
   "id": "b67fa20c",
   "metadata": {},
   "outputs": [],
   "source": [
    "# Test with an integer\n",
    "# The maximum value for a signed 64-bit integer\n",
    "my_integer = 9223372036854775807  "
   ]
  },
  {
   "cell_type": "code",
   "execution_count": 20,
   "id": "ca79f6b0",
   "metadata": {
    "scrolled": true
   },
   "outputs": [
    {
     "name": "stdout",
     "output_type": "stream",
     "text": [
      "9223372036854775807 fits in 64 bits\n"
     ]
    }
   ],
   "source": [
    "if fits_in_64_bits(my_integer):\n",
    "    print(f\"{my_integer} fits in 64 bits\")\n",
    "else:\n",
    "    print(f\"{my_integer} does not fit in 64 bits\")"
   ]
  },
  {
   "cell_type": "markdown",
   "id": "afbcbd79",
   "metadata": {},
   "source": [
    "---"
   ]
  },
  {
   "cell_type": "markdown",
   "id": "3a1bbd2b",
   "metadata": {},
   "source": [
    "---"
   ]
  },
  {
   "cell_type": "markdown",
   "id": "cb403e58",
   "metadata": {},
   "source": [
    "### 128. Write a Python program to check whether lowercase letters exist in a string. "
   ]
  },
  {
   "cell_type": "markdown",
   "id": "7b6b6320",
   "metadata": {},
   "source": [
    "#### Using a Loop:"
   ]
  },
  {
   "cell_type": "code",
   "execution_count": 30,
   "id": "5c7039d0",
   "metadata": {},
   "outputs": [],
   "source": [
    "# Function to check if lowercase letters exist in a string\n",
    "def lowercase_exist_with_loop(input_string):\n",
    "    for char in input_string:\n",
    "        if char.islower():\n",
    "            return True\n",
    "    return False"
   ]
  },
  {
   "cell_type": "code",
   "execution_count": 31,
   "id": "0de82d62",
   "metadata": {},
   "outputs": [],
   "source": [
    "# Test the function\n",
    "sample_string = \"Hello, World!\""
   ]
  },
  {
   "cell_type": "code",
   "execution_count": 32,
   "id": "a7622293",
   "metadata": {},
   "outputs": [
    {
     "name": "stdout",
     "output_type": "stream",
     "text": [
      "Lowercase letters exist in the string\n"
     ]
    }
   ],
   "source": [
    "if lowercase_exist_with_loop(sample_string):\n",
    "    print(\"Lowercase letters exist in the string\")\n",
    "else:\n",
    "    print(\"No lowercase letters in the string\")"
   ]
  },
  {
   "cell_type": "markdown",
   "id": "3603faaf",
   "metadata": {},
   "source": [
    "#### Using Built-in String Methods:"
   ]
  },
  {
   "cell_type": "code",
   "execution_count": 36,
   "id": "a697ea06",
   "metadata": {},
   "outputs": [],
   "source": [
    "# Function to check if lowercase letters exist in a string\n",
    "# using built-in methods\n",
    "def lowercase_exist_with_methods(input_string):\n",
    "    return any(c.islower() for c in input_string)"
   ]
  },
  {
   "cell_type": "code",
   "execution_count": 37,
   "id": "0ca251f0",
   "metadata": {},
   "outputs": [],
   "source": [
    "# Test the function\n",
    "sample_string = \"Hello, World!\""
   ]
  },
  {
   "cell_type": "code",
   "execution_count": 38,
   "id": "d587a2ba",
   "metadata": {},
   "outputs": [
    {
     "name": "stdout",
     "output_type": "stream",
     "text": [
      "Lowercase letters exist in the string\n"
     ]
    }
   ],
   "source": [
    "if lowercase_exist_with_methods(sample_string):\n",
    "    print(\"Lowercase letters exist in the string\")\n",
    "else:\n",
    "    print(\"No lowercase letters in the string\")"
   ]
  },
  {
   "cell_type": "markdown",
   "id": "7cd70a55",
   "metadata": {},
   "source": [
    "---"
   ]
  },
  {
   "cell_type": "markdown",
   "id": "c3dfe3e2",
   "metadata": {},
   "source": [
    "---"
   ]
  },
  {
   "cell_type": "code",
   "execution_count": null,
   "id": "7f2c3bc4",
   "metadata": {},
   "outputs": [],
   "source": []
  }
 ],
 "metadata": {
  "kernelspec": {
   "display_name": "Python 3",
   "language": "python",
   "name": "python3"
  },
  "language_info": {
   "codemirror_mode": {
    "name": "ipython",
    "version": 3
   },
   "file_extension": ".py",
   "mimetype": "text/x-python",
   "name": "python",
   "nbconvert_exporter": "python",
   "pygments_lexer": "ipython3",
   "version": "3.8.8"
  }
 },
 "nbformat": 4,
 "nbformat_minor": 5
}

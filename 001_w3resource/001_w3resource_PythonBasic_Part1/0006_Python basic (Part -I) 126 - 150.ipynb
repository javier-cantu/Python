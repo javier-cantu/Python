{
 "cells": [
  {
   "cell_type": "markdown",
   "id": "1760f73d",
   "metadata": {},
   "source": [
    "# 0006_Python basic (Part -I) 126 - 150"
   ]
  },
  {
   "cell_type": "markdown",
   "id": "1521fec9",
   "metadata": {},
   "source": [
    "Ejercicios python 126 - 150\n",
    "[Python basic (Part -I)](https://www.w3resource.com/python-exercises/python-basic-exercises.php)"
   ]
  },
  {
   "cell_type": "markdown",
   "id": "33f93a09",
   "metadata": {},
   "source": [
    "---"
   ]
  },
  {
   "cell_type": "markdown",
   "id": "4c94051c",
   "metadata": {},
   "source": [
    "### 126. Write a Python program to get the actual module object for a given object. "
   ]
  },
  {
   "cell_type": "code",
   "execution_count": 5,
   "id": "8e8be349",
   "metadata": {},
   "outputs": [],
   "source": [
    "import inspect"
   ]
  },
  {
   "cell_type": "code",
   "execution_count": 15,
   "id": "e9a85834",
   "metadata": {},
   "outputs": [],
   "source": [
    "from math import sqrt"
   ]
  },
  {
   "cell_type": "code",
   "execution_count": 16,
   "id": "5492bd26",
   "metadata": {
    "scrolled": true
   },
   "outputs": [
    {
     "name": "stdout",
     "output_type": "stream",
     "text": [
      "<module 'math' (built-in)>\n"
     ]
    }
   ],
   "source": [
    "print(inspect.getmodule(sqrt))"
   ]
  },
  {
   "cell_type": "markdown",
   "id": "9e5ef71a",
   "metadata": {},
   "source": [
    "---"
   ]
  },
  {
   "cell_type": "markdown",
   "id": "e5c8b677",
   "metadata": {},
   "source": [
    "---"
   ]
  },
  {
   "cell_type": "markdown",
   "id": "83e56b69",
   "metadata": {},
   "source": [
    "### 127. Write a Python program to check whether an integer fits in 64 bits. "
   ]
  },
  {
   "cell_type": "markdown",
   "id": "991d3963",
   "metadata": {},
   "source": [
    "> To check whether an integer fits within 64 bits in Python, you can compare the integer against the maximum and minimum values that can be represented using 64 bits. In Python, you can use the sys.maxsize constant to represent the maximum positive value for a signed integer on your platform, which is typically 2^63 - 1."
   ]
  },
  {
   "cell_type": "code",
   "execution_count": 17,
   "id": "ffbf71be",
   "metadata": {},
   "outputs": [],
   "source": [
    "import sys"
   ]
  },
  {
   "cell_type": "markdown",
   "id": "0b1b35b0",
   "metadata": {},
   "source": [
    "> We define a function fits_in_64_bits that takes an integer as an argument and checks if it fits within the range of 64 bits. We use the expressions `-(2**63) <= integer <= (2**63 - 1)` to check if the integer is within the range of signed 64-bit integers."
   ]
  },
  {
   "cell_type": "code",
   "execution_count": 18,
   "id": "e0edf353",
   "metadata": {},
   "outputs": [],
   "source": [
    "# Function to check if an integer fits within 64 bits\n",
    "def fits_in_64_bits(integer):\n",
    "    return -(2**63) <= integer <= (2**63 - 1)"
   ]
  },
  {
   "cell_type": "markdown",
   "id": "0464fa65",
   "metadata": {},
   "source": [
    "> We test the function with an integer (my_integer) and print whether it fits in 64 bits or not."
   ]
  },
  {
   "cell_type": "code",
   "execution_count": 19,
   "id": "b67fa20c",
   "metadata": {},
   "outputs": [],
   "source": [
    "# Test with an integer\n",
    "# The maximum value for a signed 64-bit integer\n",
    "my_integer = 9223372036854775807  "
   ]
  },
  {
   "cell_type": "code",
   "execution_count": 20,
   "id": "ca79f6b0",
   "metadata": {
    "scrolled": true
   },
   "outputs": [
    {
     "name": "stdout",
     "output_type": "stream",
     "text": [
      "9223372036854775807 fits in 64 bits\n"
     ]
    }
   ],
   "source": [
    "if fits_in_64_bits(my_integer):\n",
    "    print(f\"{my_integer} fits in 64 bits\")\n",
    "else:\n",
    "    print(f\"{my_integer} does not fit in 64 bits\")"
   ]
  },
  {
   "cell_type": "markdown",
   "id": "afbcbd79",
   "metadata": {},
   "source": [
    "---"
   ]
  },
  {
   "cell_type": "markdown",
   "id": "3a1bbd2b",
   "metadata": {},
   "source": [
    "---"
   ]
  },
  {
   "cell_type": "markdown",
   "id": "cb403e58",
   "metadata": {},
   "source": [
    "### 128. Write a Python program to check whether lowercase letters exist in a string. "
   ]
  },
  {
   "cell_type": "markdown",
   "id": "7b6b6320",
   "metadata": {},
   "source": [
    "#### Using a Loop:"
   ]
  },
  {
   "cell_type": "code",
   "execution_count": 30,
   "id": "5c7039d0",
   "metadata": {},
   "outputs": [],
   "source": [
    "# Function to check if lowercase letters exist in a string\n",
    "def lowercase_exist_with_loop(input_string):\n",
    "    for char in input_string:\n",
    "        if char.islower():\n",
    "            return True\n",
    "    return False"
   ]
  },
  {
   "cell_type": "code",
   "execution_count": 31,
   "id": "0de82d62",
   "metadata": {},
   "outputs": [],
   "source": [
    "# Test the function\n",
    "sample_string = \"Hello, World!\""
   ]
  },
  {
   "cell_type": "code",
   "execution_count": 32,
   "id": "a7622293",
   "metadata": {},
   "outputs": [
    {
     "name": "stdout",
     "output_type": "stream",
     "text": [
      "Lowercase letters exist in the string\n"
     ]
    }
   ],
   "source": [
    "if lowercase_exist_with_loop(sample_string):\n",
    "    print(\"Lowercase letters exist in the string\")\n",
    "else:\n",
    "    print(\"No lowercase letters in the string\")"
   ]
  },
  {
   "cell_type": "markdown",
   "id": "3603faaf",
   "metadata": {},
   "source": [
    "#### Using Built-in String Methods:"
   ]
  },
  {
   "cell_type": "code",
   "execution_count": 36,
   "id": "a697ea06",
   "metadata": {},
   "outputs": [],
   "source": [
    "# Function to check if lowercase letters exist in a string\n",
    "# using built-in methods\n",
    "def lowercase_exist_with_methods(input_string):\n",
    "    return any(c.islower() for c in input_string)"
   ]
  },
  {
   "cell_type": "code",
   "execution_count": 37,
   "id": "0ca251f0",
   "metadata": {},
   "outputs": [],
   "source": [
    "# Test the function\n",
    "sample_string = \"Hello, World!\""
   ]
  },
  {
   "cell_type": "code",
   "execution_count": 38,
   "id": "d587a2ba",
   "metadata": {},
   "outputs": [
    {
     "name": "stdout",
     "output_type": "stream",
     "text": [
      "Lowercase letters exist in the string\n"
     ]
    }
   ],
   "source": [
    "if lowercase_exist_with_methods(sample_string):\n",
    "    print(\"Lowercase letters exist in the string\")\n",
    "else:\n",
    "    print(\"No lowercase letters in the string\")"
   ]
  },
  {
   "cell_type": "markdown",
   "id": "7cd70a55",
   "metadata": {},
   "source": [
    "---"
   ]
  },
  {
   "cell_type": "markdown",
   "id": "c3dfe3e2",
   "metadata": {},
   "source": [
    "---"
   ]
  },
  {
   "cell_type": "markdown",
   "id": "970a87fa",
   "metadata": {},
   "source": [
    "### 129. Write a Python program to add trailing and leading zeroes to a string. "
   ]
  },
  {
   "cell_type": "code",
   "execution_count": 1,
   "id": "96237938",
   "metadata": {},
   "outputs": [],
   "source": [
    "str1 = '122.22'"
   ]
  },
  {
   "cell_type": "code",
   "execution_count": 2,
   "id": "afcbac20",
   "metadata": {},
   "outputs": [
    {
     "name": "stdout",
     "output_type": "stream",
     "text": [
      "Original String: 122.22\n"
     ]
    }
   ],
   "source": [
    "print(f\"Original String: {str1}\")"
   ]
  },
  {
   "cell_type": "markdown",
   "id": "ff04f51e",
   "metadata": {},
   "source": [
    "#### Adding trailing zeroes"
   ]
  },
  {
   "cell_type": "code",
   "execution_count": 8,
   "id": "65e36837",
   "metadata": {},
   "outputs": [],
   "source": [
    "trailing_zeros = str1.ljust(8, '0')"
   ]
  },
  {
   "cell_type": "code",
   "execution_count": 9,
   "id": "b5a1eff2",
   "metadata": {},
   "outputs": [
    {
     "name": "stdout",
     "output_type": "stream",
     "text": [
      "Added trailing zeros (width 8): 122.2200\n"
     ]
    }
   ],
   "source": [
    "print(f\"Added trailing zeros (width 8): {trailing_zeros}\")"
   ]
  },
  {
   "cell_type": "code",
   "execution_count": 10,
   "id": "bca167b1",
   "metadata": {},
   "outputs": [],
   "source": [
    "trailing_zeros = str1.ljust(10, '0')"
   ]
  },
  {
   "cell_type": "code",
   "execution_count": 11,
   "id": "df8ab029",
   "metadata": {},
   "outputs": [
    {
     "name": "stdout",
     "output_type": "stream",
     "text": [
      "Added trailing zeros (width 10): 122.220000\n"
     ]
    }
   ],
   "source": [
    "print(f\"Added trailing zeros (width 10): {trailing_zeores}\")"
   ]
  },
  {
   "cell_type": "markdown",
   "id": "501965bf",
   "metadata": {},
   "source": [
    "#### Adding leading zeroes"
   ]
  },
  {
   "cell_type": "code",
   "execution_count": 13,
   "id": "ba6be92d",
   "metadata": {},
   "outputs": [],
   "source": [
    "leading_zeros = str1.rjust(8, '0')"
   ]
  },
  {
   "cell_type": "code",
   "execution_count": 14,
   "id": "9de2fda9",
   "metadata": {},
   "outputs": [
    {
     "name": "stdout",
     "output_type": "stream",
     "text": [
      "Added leading zeros (width 8): 00122.22\n"
     ]
    }
   ],
   "source": [
    "print(f\"Added leading zeros (width 8): {leading_zeros}\")"
   ]
  },
  {
   "cell_type": "code",
   "execution_count": 15,
   "id": "fea3f684",
   "metadata": {},
   "outputs": [],
   "source": [
    "leading_zeros = str1.rjust(10, '0')"
   ]
  },
  {
   "cell_type": "code",
   "execution_count": 16,
   "id": "097c8850",
   "metadata": {},
   "outputs": [
    {
     "name": "stdout",
     "output_type": "stream",
     "text": [
      "Added leading zeros (width 10): 0000122.22\n"
     ]
    }
   ],
   "source": [
    "print(f\"Added leading zeros (width 10): {leading_zeros}\")"
   ]
  },
  {
   "cell_type": "markdown",
   "id": "6841301c",
   "metadata": {},
   "source": [
    "Original string: **\"122.22\"**\n",
    "Padding with trailing zeros:\n",
    "- **Width 8**: 4 digits, 1 dot, 3 trailing zeros (total width 8).\n",
    "- **Width 10**: 4 digits, 1 dot, 5 trailing zeros (total width 10).\n",
    "\n",
    "Padding with leading zeros:\n",
    "- **Width 8**: 4 digits, 1 dot, 3 leading zeros (total width 8).\n",
    "- **Width 10**: 4 digits, 1 dot, 5 leading zeros (total width 10).\n",
    "\n",
    "In these examples, the dot (.) is counted as one character when specifying the width for padding with leading or trailing zeros."
   ]
  },
  {
   "cell_type": "markdown",
   "id": "0086d997",
   "metadata": {},
   "source": [
    "---"
   ]
  },
  {
   "cell_type": "markdown",
   "id": "3ba151a8",
   "metadata": {},
   "source": [
    "---"
   ]
  },
  {
   "cell_type": "markdown",
   "id": "fb6789d7",
   "metadata": {},
   "source": [
    "### 130. Write a Python program that uses double quotes to display strings. "
   ]
  },
  {
   "cell_type": "code",
   "execution_count": 17,
   "id": "e13dbaf2",
   "metadata": {},
   "outputs": [],
   "source": [
    "import json"
   ]
  },
  {
   "cell_type": "code",
   "execution_count": 18,
   "id": "054b3fb8",
   "metadata": {},
   "outputs": [],
   "source": [
    "# Create a Python dictionary with key-value pairs\n",
    "data = {'Alex': 1, 'Suresh': 2, 'Agnessa': 3}"
   ]
  },
  {
   "cell_type": "code",
   "execution_count": 20,
   "id": "0dffdaae",
   "metadata": {},
   "outputs": [],
   "source": [
    "# Use json.dumps to convert the dictionary to a JSON string\n",
    "json_string = json.dumps(data)"
   ]
  },
  {
   "cell_type": "code",
   "execution_count": 21,
   "id": "2fe89547",
   "metadata": {
    "scrolled": true
   },
   "outputs": [
    {
     "name": "stdout",
     "output_type": "stream",
     "text": [
      "{\"Alex\": 1, \"Suresh\": 2, \"Agnessa\": 3}\n"
     ]
    }
   ],
   "source": [
    "# Print the JSON string\n",
    "print(json_string)"
   ]
  },
  {
   "cell_type": "markdown",
   "id": "2e8d5c2a",
   "metadata": {},
   "source": [
    "---"
   ]
  },
  {
   "cell_type": "markdown",
   "id": "5177dc7a",
   "metadata": {},
   "source": [
    "---"
   ]
  },
  {
   "cell_type": "markdown",
   "id": "b3e68397",
   "metadata": {},
   "source": [
    "### 131. Write a Python program to split a variable length string into variables. "
   ]
  },
  {
   "cell_type": "code",
   "execution_count": 22,
   "id": "807c000d",
   "metadata": {},
   "outputs": [],
   "source": [
    "var_list = ['a', 'b', 'c', 'd', 'e']"
   ]
  },
  {
   "cell_type": "code",
   "execution_count": 23,
   "id": "6f24e6dc",
   "metadata": {},
   "outputs": [],
   "source": [
    "v, w, x, y, z = var_list"
   ]
  },
  {
   "cell_type": "code",
   "execution_count": 24,
   "id": "fe180b5c",
   "metadata": {
    "scrolled": true
   },
   "outputs": [
    {
     "name": "stdout",
     "output_type": "stream",
     "text": [
      "a b c d e\n"
     ]
    }
   ],
   "source": [
    "print(v, w, x, y, z)"
   ]
  },
  {
   "cell_type": "markdown",
   "id": "09c14341",
   "metadata": {},
   "source": [
    "---"
   ]
  },
  {
   "cell_type": "markdown",
   "id": "eaab6d6a",
   "metadata": {},
   "source": [
    "---"
   ]
  },
  {
   "cell_type": "markdown",
   "id": "02e268a7",
   "metadata": {},
   "source": [
    "### 132. Write a Python program to list the home directory without an absolute path. "
   ]
  },
  {
   "cell_type": "code",
   "execution_count": 26,
   "id": "b71db55d",
   "metadata": {
    "scrolled": true
   },
   "outputs": [],
   "source": [
    "import os.path"
   ]
  },
  {
   "cell_type": "code",
   "execution_count": 27,
   "id": "20197e8e",
   "metadata": {
    "scrolled": true
   },
   "outputs": [
    {
     "name": "stdout",
     "output_type": "stream",
     "text": [
      "C:\\Users\\Asus ROG PC\n"
     ]
    }
   ],
   "source": [
    "print(os.path.expanduser('~'))"
   ]
  },
  {
   "cell_type": "markdown",
   "id": "bacc9d23",
   "metadata": {},
   "source": [
    "---"
   ]
  },
  {
   "cell_type": "markdown",
   "id": "58d14185",
   "metadata": {},
   "source": [
    "---"
   ]
  },
  {
   "cell_type": "markdown",
   "id": "ebe0d2f9",
   "metadata": {},
   "source": [
    "### 133. Write a Python program to calculate the time runs (difference between start and current time) of a program. (timer)"
   ]
  },
  {
   "cell_type": "code",
   "execution_count": 28,
   "id": "ff30b6fa",
   "metadata": {},
   "outputs": [],
   "source": [
    "import time"
   ]
  },
  {
   "cell_type": "code",
   "execution_count": 29,
   "id": "fafd5a61",
   "metadata": {},
   "outputs": [],
   "source": [
    "# Record the start time\n",
    "start_time = time.time()"
   ]
  },
  {
   "cell_type": "code",
   "execution_count": 30,
   "id": "e8675e78",
   "metadata": {},
   "outputs": [],
   "source": [
    "# Your program logic goes here\n",
    "# For example, a time-consuming task or a simple delay\n",
    "# In this example, we'll add a delay of 3 seconds.\n",
    "time.sleep(3)"
   ]
  },
  {
   "cell_type": "code",
   "execution_count": 32,
   "id": "81017e16",
   "metadata": {},
   "outputs": [],
   "source": [
    "# Calculate the elapsed time (difference between current time and start time)\n",
    "elapsed_time = time.time() - start_time"
   ]
  },
  {
   "cell_type": "code",
   "execution_count": 33,
   "id": "938bae52",
   "metadata": {},
   "outputs": [
    {
     "name": "stdout",
     "output_type": "stream",
     "text": [
      "Elapsed time: 34.64 seconds\n"
     ]
    }
   ],
   "source": [
    "# Print the elapsed time\n",
    "print(f\"Elapsed time: {elapsed_time:.2f} seconds\")"
   ]
  },
  {
   "cell_type": "markdown",
   "id": "6dd84827",
   "metadata": {},
   "source": [
    "#### Todo junto"
   ]
  },
  {
   "cell_type": "code",
   "execution_count": 34,
   "id": "7adffcbc",
   "metadata": {
    "scrolled": true
   },
   "outputs": [
    {
     "name": "stdout",
     "output_type": "stream",
     "text": [
      "Elapsed time: 3.01 seconds\n"
     ]
    }
   ],
   "source": [
    "start_time = time.time()\n",
    "time.sleep(3)\n",
    "elapsed_time = time.time() - start_time\n",
    "print(f\"Elapsed time: {elapsed_time:.2f} seconds\")"
   ]
  },
  {
   "cell_type": "markdown",
   "id": "bdd69541",
   "metadata": {},
   "source": [
    "---"
   ]
  },
  {
   "cell_type": "markdown",
   "id": "a6adaebf",
   "metadata": {},
   "source": [
    "---"
   ]
  },
  {
   "cell_type": "markdown",
   "id": "06940d20",
   "metadata": {},
   "source": [
    "### 134. Write a Python program to input two integers on a single line. "
   ]
  },
  {
   "cell_type": "code",
   "execution_count": 35,
   "id": "050fa404",
   "metadata": {},
   "outputs": [
    {
     "name": "stdout",
     "output_type": "stream",
     "text": [
      "Input the value of x & y\n"
     ]
    }
   ],
   "source": [
    "print(\"Input the value of x & y\")"
   ]
  },
  {
   "cell_type": "markdown",
   "id": "468394d8",
   "metadata": {},
   "source": [
    ">`x, y = map(int, input().split())`: This line does the following:\n",
    ">\n",
    ">- `input()` function is used to take user input as a string. The user is expected to enter two integers separated by a space.\n",
    ">- `split()` is used to split the input string into a list of strings, using space as the delimiter. This separates the input into individual values.\n",
    ">- `map(int, ...)` applies the int() function to each element in the list of strings, converting them into integers.\n",
    ">- `x, y = ...` unpacks the two integers from the result of the mapping, assigning the first integer to x and the second integer to y."
   ]
  },
  {
   "cell_type": "code",
   "execution_count": 36,
   "id": "bbc58d78",
   "metadata": {},
   "outputs": [
    {
     "name": "stdout",
     "output_type": "stream",
     "text": [
      "2 3\n"
     ]
    }
   ],
   "source": [
    "x, y = map(int, input().split())"
   ]
  },
  {
   "cell_type": "code",
   "execution_count": 37,
   "id": "65f4e41c",
   "metadata": {
    "scrolled": true
   },
   "outputs": [
    {
     "name": "stdout",
     "output_type": "stream",
     "text": [
      "The value of x & y are: 2, 3\n"
     ]
    }
   ],
   "source": [
    "print(f\"The value of x & y are: {x}, {y}\")"
   ]
  },
  {
   "cell_type": "markdown",
   "id": "d8cc3d9b",
   "metadata": {},
   "source": [
    "---"
   ]
  },
  {
   "cell_type": "markdown",
   "id": "17d9a11e",
   "metadata": {},
   "source": [
    "---"
   ]
  },
  {
   "cell_type": "markdown",
   "id": "21de7957",
   "metadata": {},
   "source": [
    "### 135. Write a Python program to print a variable without spaces between values. "
   ]
  },
  {
   "cell_type": "markdown",
   "id": "90ba857e",
   "metadata": {},
   "source": [
    "Sample value : x =30\n",
    "\n",
    "Expected output : Value of x is \"30\" "
   ]
  },
  {
   "cell_type": "code",
   "execution_count": 38,
   "id": "e775cf3d",
   "metadata": {},
   "outputs": [],
   "source": [
    "x = 30"
   ]
  },
  {
   "cell_type": "code",
   "execution_count": 39,
   "id": "834d4e2b",
   "metadata": {},
   "outputs": [
    {
     "name": "stdout",
     "output_type": "stream",
     "text": [
      "Value of x is \"30\"\n"
     ]
    }
   ],
   "source": [
    "print('Value of x is \"{}\"'.format(x))"
   ]
  },
  {
   "cell_type": "code",
   "execution_count": 45,
   "id": "452e10ac",
   "metadata": {},
   "outputs": [
    {
     "name": "stdout",
     "output_type": "stream",
     "text": [
      "Value of x is 30\n"
     ]
    }
   ],
   "source": [
    "print(f\"Value of x is {x}\")"
   ]
  },
  {
   "cell_type": "markdown",
   "id": "5d426117",
   "metadata": {},
   "source": [
    "---"
   ]
  },
  {
   "cell_type": "markdown",
   "id": "035ca4a1",
   "metadata": {},
   "source": [
    "---"
   ]
  },
  {
   "cell_type": "markdown",
   "id": "781f65dc",
   "metadata": {},
   "source": [
    "### 136. Write a Python program to find files and skip directories in a given directory. "
   ]
  },
  {
   "cell_type": "code",
   "execution_count": 72,
   "id": "44aed4a0",
   "metadata": {},
   "outputs": [],
   "source": [
    "import os"
   ]
  },
  {
   "cell_type": "markdown",
   "id": "1a595d7f",
   "metadata": {},
   "source": [
    "Directory: D:\\Python_projects\\Python\\001_w3resource\\001_w3resource_PythonBasic_Part1"
   ]
  },
  {
   "cell_type": "code",
   "execution_count": 78,
   "id": "180a296f",
   "metadata": {},
   "outputs": [],
   "source": [
    "directory_path = \"D:\\Python_projects\\Python\\001_w3resource\""
   ]
  },
  {
   "cell_type": "code",
   "execution_count": 79,
   "id": "49ca0d15",
   "metadata": {},
   "outputs": [],
   "source": [
    "# List all the files in the specified directory\n",
    "for root, dirs, files in os.walk(directory_path):\n",
    "    for file in files:\n",
    "        file_path = os.path.join(root, file)\n",
    "        print(f\"File: {file_path}\")"
   ]
  },
  {
   "cell_type": "markdown",
   "id": "9a7f88fe",
   "metadata": {},
   "source": [
    "Con esa ruta no imprime nada, pero con esto que sigue si. No se porque. "
   ]
  },
  {
   "cell_type": "code",
   "execution_count": 80,
   "id": "e0f5d082",
   "metadata": {},
   "outputs": [],
   "source": [
    "directory_path = \"D:\\Python_projects\\Python\""
   ]
  },
  {
   "cell_type": "code",
   "execution_count": 81,
   "id": "9a1cee5e",
   "metadata": {},
   "outputs": [
    {
     "name": "stdout",
     "output_type": "stream",
     "text": [
      "File: D:\\Python_projects\\Python\\README.md\n",
      "File: D:\\Python_projects\\Python\\README_PYTHON.md\n",
      "File: D:\\Python_projects\\Python\\.git\\COMMIT_EDITMSG\n",
      "File: D:\\Python_projects\\Python\\.git\\config\n",
      "File: D:\\Python_projects\\Python\\.git\\description\n",
      "File: D:\\Python_projects\\Python\\.git\\FETCH_HEAD\n",
      "File: D:\\Python_projects\\Python\\.git\\HEAD\n",
      "File: D:\\Python_projects\\Python\\.git\\index\n",
      "File: D:\\Python_projects\\Python\\.git\\ORIG_HEAD\n",
      "File: D:\\Python_projects\\Python\\.git\\hooks\\applypatch-msg.sample\n",
      "File: D:\\Python_projects\\Python\\.git\\hooks\\commit-msg.sample\n",
      "File: D:\\Python_projects\\Python\\.git\\hooks\\fsmonitor-watchman.sample\n",
      "File: D:\\Python_projects\\Python\\.git\\hooks\\post-update.sample\n",
      "File: D:\\Python_projects\\Python\\.git\\hooks\\pre-applypatch.sample\n",
      "File: D:\\Python_projects\\Python\\.git\\hooks\\pre-commit.sample\n",
      "File: D:\\Python_projects\\Python\\.git\\hooks\\pre-merge-commit.sample\n",
      "File: D:\\Python_projects\\Python\\.git\\hooks\\pre-push.sample\n",
      "File: D:\\Python_projects\\Python\\.git\\hooks\\pre-rebase.sample\n",
      "File: D:\\Python_projects\\Python\\.git\\hooks\\pre-receive.sample\n",
      "File: D:\\Python_projects\\Python\\.git\\hooks\\prepare-commit-msg.sample\n",
      "File: D:\\Python_projects\\Python\\.git\\hooks\\push-to-checkout.sample\n",
      "File: D:\\Python_projects\\Python\\.git\\hooks\\update.sample\n",
      "File: D:\\Python_projects\\Python\\.git\\info\\exclude\n",
      "File: D:\\Python_projects\\Python\\.git\\logs\\HEAD\n",
      "File: D:\\Python_projects\\Python\\.git\\logs\\refs\\heads\\main\n",
      "File: D:\\Python_projects\\Python\\.git\\logs\\refs\\heads\\segundaBranch\n",
      "File: D:\\Python_projects\\Python\\.git\\logs\\refs\\remotes\\origin\\main\n",
      "File: D:\\Python_projects\\Python\\.git\\objects\\00\\7cbda025e144660110ec682706b4a5803cddf5\n",
      "File: D:\\Python_projects\\Python\\.git\\objects\\00\\cece2c1b1b216b1744ae04432558db4ce096ed\n",
      "File: D:\\Python_projects\\Python\\.git\\objects\\02\\aeb11fc49388efcd24280cccd73a015a9c43b8\n",
      "File: D:\\Python_projects\\Python\\.git\\objects\\05\\992728e7af5969cb34f7b5662e6a31064c7512\n",
      "File: D:\\Python_projects\\Python\\.git\\objects\\05\\e84453508a72e7e3d2af238169a4e4eb7468bf\n",
      "File: D:\\Python_projects\\Python\\.git\\objects\\08\\db6fd68619eb9ddccb0ed06afdc06185d65004\n",
      "File: D:\\Python_projects\\Python\\.git\\objects\\0a\\7cd5fd5f5dfd79461269057c5f7b7cbafbb535\n",
      "File: D:\\Python_projects\\Python\\.git\\objects\\0b\\1b52d0bcd8737b8cbfa7abac694d647db9a305\n",
      "File: D:\\Python_projects\\Python\\.git\\objects\\0b\\cb65e3721b2fe15317fc77b0c158afc9ea2173\n",
      "File: D:\\Python_projects\\Python\\.git\\objects\\0e\\47f76bcc8867caf99a8969ae349f36e4395d17\n",
      "File: D:\\Python_projects\\Python\\.git\\objects\\0e\\5d0da467d5a5661119e195f67ea7b69816acef\n",
      "File: D:\\Python_projects\\Python\\.git\\objects\\0e\\77132338167c4a9fbf0c77baf4f89524b623fd\n",
      "File: D:\\Python_projects\\Python\\.git\\objects\\0e\\d45c0dc27782bf07bb4a2545fd41863490e643\n",
      "File: D:\\Python_projects\\Python\\.git\\objects\\0e\\e5fe36e86954763fed1cdeb7e5680c645d19a6\n",
      "File: D:\\Python_projects\\Python\\.git\\objects\\10\\9a8ed4361e61c372e3ba1ef77677313ea70ec9\n",
      "File: D:\\Python_projects\\Python\\.git\\objects\\14\\0d19780f01e6697ac5428b71997f5ae9bc7d12\n",
      "File: D:\\Python_projects\\Python\\.git\\objects\\14\\e8881fc322c13a26a3c6932a0df553a2dcafdf\n",
      "File: D:\\Python_projects\\Python\\.git\\objects\\14\\ea28b3a0e94afb3febcd7fb0bf97c030f0ccba\n",
      "File: D:\\Python_projects\\Python\\.git\\objects\\16\\12416e23ccce96009f9386b4758dc123215a65\n",
      "File: D:\\Python_projects\\Python\\.git\\objects\\19\\40349e0e63baa523518b19255dbd9f812bad71\n",
      "File: D:\\Python_projects\\Python\\.git\\objects\\1a\\254782dc17e0f17dd6a3f9793b3c41fa05bf30\n",
      "File: D:\\Python_projects\\Python\\.git\\objects\\1a\\74eac66dea801c3502143cff565f76b03411df\n",
      "File: D:\\Python_projects\\Python\\.git\\objects\\1a\\ed8760ff5a413f20ef26eba42017aff20e01d1\n",
      "File: D:\\Python_projects\\Python\\.git\\objects\\1b\\98e37a62657fc91aa7fa9e2f0da5e43f49e348\n",
      "File: D:\\Python_projects\\Python\\.git\\objects\\1b\\b2b03579139ecb3d635ad8a263f9a634410a14\n",
      "File: D:\\Python_projects\\Python\\.git\\objects\\1b\\dd0327c33298cc4f4261671f9cec764f68b148\n",
      "File: D:\\Python_projects\\Python\\.git\\objects\\1d\\4db91de2746b86f2bd68e8625928d539d32f30\n",
      "File: D:\\Python_projects\\Python\\.git\\objects\\1e\\218db2ec976b1c184029f3c90d55db20cdbc06\n",
      "File: D:\\Python_projects\\Python\\.git\\objects\\1f\\afbc7709d90b5089ef6e4a42f2afbc81acd6da\n",
      "File: D:\\Python_projects\\Python\\.git\\objects\\20\\204fa48396b1ee5aa349670a82395c96ccdc80\n",
      "File: D:\\Python_projects\\Python\\.git\\objects\\20\\291fa8906af18156f586f307d7e6072e5e8a60\n",
      "File: D:\\Python_projects\\Python\\.git\\objects\\22\\739571cab3051b358b33458e866cfcaa90eac9\n",
      "File: D:\\Python_projects\\Python\\.git\\objects\\23\\53429576a2749dc55bfca524e6c0f99cd21911\n",
      "File: D:\\Python_projects\\Python\\.git\\objects\\25\\3d3a8fba468d0ff19b3d650b5de3de9622592d\n",
      "File: D:\\Python_projects\\Python\\.git\\objects\\25\\f03acb744b2529fdb4f8a06a0899efd13e056d\n",
      "File: D:\\Python_projects\\Python\\.git\\objects\\26\\ed4b44724943b5f6370b482cb3a2f805521c17\n",
      "File: D:\\Python_projects\\Python\\.git\\objects\\27\\bcd9c19425b6c4728faeee8c28b13bfa184d1f\n",
      "File: D:\\Python_projects\\Python\\.git\\objects\\28\\057f05070d757d0a12b84919e734e4cdde92a2\n",
      "File: D:\\Python_projects\\Python\\.git\\objects\\28\\57bcd88937ffcae3ede5ebed0e035aaaa210ec\n",
      "File: D:\\Python_projects\\Python\\.git\\objects\\28\\b67327d0b8eff65fd14a2d60bf2b609801deae\n",
      "File: D:\\Python_projects\\Python\\.git\\objects\\28\\dbb4918e5eedf4572edaa1cca41d2fc5e2f484\n",
      "File: D:\\Python_projects\\Python\\.git\\objects\\2e\\0dc6153deb095aff86e9c3f4c306266b35dc95\n",
      "File: D:\\Python_projects\\Python\\.git\\objects\\2e\\e7ceca2f0af805715bcf4f0972cb33cc7299fa\n",
      "File: D:\\Python_projects\\Python\\.git\\objects\\31\\f10e279becab083b239ab2c7b85cd7019b4416\n",
      "File: D:\\Python_projects\\Python\\.git\\objects\\32\\1cc6b6be49e4e4ebf353c6ffe59b7b6ef92298\n",
      "File: D:\\Python_projects\\Python\\.git\\objects\\32\\dd2f82ecbbd3390da2adfc0efc7a2e8113ecd6\n",
      "File: D:\\Python_projects\\Python\\.git\\objects\\34\\b696edba6dc451a1c13cae38dd331579ef5561\n",
      "File: D:\\Python_projects\\Python\\.git\\objects\\35\\057cf74bb886aa4ab6aec008fa22966d945ad8\n",
      "File: D:\\Python_projects\\Python\\.git\\objects\\36\\3fcab7ed6e9634e198cf5555ceb88932c9a245\n",
      "File: D:\\Python_projects\\Python\\.git\\objects\\39\\b14ecd17166ab27ebc370fe082f9ca6c2096ea\n",
      "File: D:\\Python_projects\\Python\\.git\\objects\\3a\\f606a3f3c674dfca5a4912649893fddae4a815\n",
      "File: D:\\Python_projects\\Python\\.git\\objects\\3b\\1ec01d3a0b718ff47b291a28f5e05fa1b713ed\n",
      "File: D:\\Python_projects\\Python\\.git\\objects\\3b\\f157649401713492cb0d60e4b9e445cbadded6\n",
      "File: D:\\Python_projects\\Python\\.git\\objects\\3d\\6f4e9dd68ef714d5173bac0a5ba0da6c714192\n",
      "File: D:\\Python_projects\\Python\\.git\\objects\\3f\\933c9d0980233a6f2beffa6da1c46cc6cc3e4d\n",
      "File: D:\\Python_projects\\Python\\.git\\objects\\40\\3ff5d4d67024d18cddbd10e639285a0db4dfad\n",
      "File: D:\\Python_projects\\Python\\.git\\objects\\40\\faf27d9df82db4a678851589b68cbd784406b5\n",
      "File: D:\\Python_projects\\Python\\.git\\objects\\41\\93ef4bec2748a44161776c8226a70210882461\n",
      "File: D:\\Python_projects\\Python\\.git\\objects\\42\\62c36a733fa63e97a2c089cd5ed95ba609ba47\n",
      "File: D:\\Python_projects\\Python\\.git\\objects\\42\\84e25a18de0ee78985ab18513ca53bb409878d\n",
      "File: D:\\Python_projects\\Python\\.git\\objects\\42\\cbde643319ad31b300ca537b39a20194f83eb4\n",
      "File: D:\\Python_projects\\Python\\.git\\objects\\43\\98f63957942825e442cc4550df9ed83f6c16e2\n",
      "File: D:\\Python_projects\\Python\\.git\\objects\\43\\eaebfe4b59758a8e597e7b060306d1434f9df1\n",
      "File: D:\\Python_projects\\Python\\.git\\objects\\45\\73b5e9f4cb6a30e40d7707bc0b89dfff58ba1c\n",
      "File: D:\\Python_projects\\Python\\.git\\objects\\45\\a3ce579589b0500c6e1efb518c31cac2931a71\n",
      "File: D:\\Python_projects\\Python\\.git\\objects\\46\\9cb40fe9e26bc91e208f392b571a6bde28c3f9\n",
      "File: D:\\Python_projects\\Python\\.git\\objects\\48\\1db878bd0a1730cdefda96f7b2a81634590a76\n",
      "File: D:\\Python_projects\\Python\\.git\\objects\\48\\bf26d6baebf670426d382537c8053e3133fa73\n",
      "File: D:\\Python_projects\\Python\\.git\\objects\\4a\\c8b37943fbaaef594520c5043b4879f9335453\n",
      "File: D:\\Python_projects\\Python\\.git\\objects\\4d\\6ac0be67a00f6d149f9f5e4ce7e252cf593b1f\n",
      "File: D:\\Python_projects\\Python\\.git\\objects\\4d\\d9c78a3678137d6b8b4e990ee2e9c539c52306\n",
      "File: D:\\Python_projects\\Python\\.git\\objects\\4d\\fa0efb03fdde74461069fc9534d7b4f240e46f\n",
      "File: D:\\Python_projects\\Python\\.git\\objects\\50\\b20cc0e2264b2e4b36658650978b05edd0dd30\n",
      "File: D:\\Python_projects\\Python\\.git\\objects\\51\\419439a15c1572100ce95755b0c5927c14094a\n",
      "File: D:\\Python_projects\\Python\\.git\\objects\\52\\3f98485c49d9a0a8390990537097ff83f7cc18\n",
      "File: D:\\Python_projects\\Python\\.git\\objects\\53\\97ed7e065d72d97119fa038dbb5d3f3c20d288\n",
      "File: D:\\Python_projects\\Python\\.git\\objects\\54\\2061ead1ea05c3ea387941b3df65833bc8eae9\n",
      "File: D:\\Python_projects\\Python\\.git\\objects\\54\\69c56c31bd5a8c52a6f9ec73c3deebabb032b1\n",
      "File: D:\\Python_projects\\Python\\.git\\objects\\55\\bc2a023ba34a56bae64ba6d699b4a128608096\n",
      "File: D:\\Python_projects\\Python\\.git\\objects\\57\\39883f250f8f529e24f75cf65bfbdf12a554ab\n",
      "File: D:\\Python_projects\\Python\\.git\\objects\\57\\8fecd4139741159c0c377ea09f186a5327b5d9\n",
      "File: D:\\Python_projects\\Python\\.git\\objects\\57\\ff722f43ac1fe48807d5a8627079314237ac87\n",
      "File: D:\\Python_projects\\Python\\.git\\objects\\5a\\1997580f5706cd2472b84e3e09bfc30cf6889e\n",
      "File: D:\\Python_projects\\Python\\.git\\objects\\5e\\7128d42b47cefdfc5a2c19d11b223d284c5587\n",
      "File: D:\\Python_projects\\Python\\.git\\objects\\5e\\9d67d9b4a2aea4a0ab1e34b4e484cff7499572\n",
      "File: D:\\Python_projects\\Python\\.git\\objects\\5f\\9a78768b950de0d2bb4d4c41fd343b6d423b91\n",
      "File: D:\\Python_projects\\Python\\.git\\objects\\60\\48a4a506d156fbd7e2f5eb5d826347e8b59884\n",
      "File: D:\\Python_projects\\Python\\.git\\objects\\60\\520c545f8b4d3fe6e20d649840a181d56289c5\n",
      "File: D:\\Python_projects\\Python\\.git\\objects\\60\\bf0e87f174e7d92b7d51c006a0a034afcaea26\n",
      "File: D:\\Python_projects\\Python\\.git\\objects\\61\\e48dac911c02cd44fbc4b5734c04aac5f3f38c\n",
      "File: D:\\Python_projects\\Python\\.git\\objects\\63\\346dc8a1fe53469465b1689993f655c39348db\n",
      "File: D:\\Python_projects\\Python\\.git\\objects\\63\\3c5849f8c034d3b94e7b28a7d4257e0ad2b129\n",
      "File: D:\\Python_projects\\Python\\.git\\objects\\64\\aa9d904f622a72366329b213684455f24ea318\n",
      "File: D:\\Python_projects\\Python\\.git\\objects\\64\\dbcd410b678b5e24e98e1a2578dfb8cf6e20f5\n",
      "File: D:\\Python_projects\\Python\\.git\\objects\\67\\05c6c7f8a56ce166ef4d021038e1e92a55fcbe\n",
      "File: D:\\Python_projects\\Python\\.git\\objects\\68\\880dc73f611bac410972af675990ffa004a541\n",
      "File: D:\\Python_projects\\Python\\.git\\objects\\69\\0066161d63613c4fe9247333ad34275eda3f19\n",
      "File: D:\\Python_projects\\Python\\.git\\objects\\69\\9a3e29f7c517c8efbb38b59b815ad4a08e9b5b\n",
      "File: D:\\Python_projects\\Python\\.git\\objects\\6a\\83af7a20c6743dac27cfdb0c64ea309f65255a\n",
      "File: D:\\Python_projects\\Python\\.git\\objects\\6c\\45fe0f940c953243e0463838600bba91c5da76\n",
      "File: D:\\Python_projects\\Python\\.git\\objects\\6c\\95623eb1fa3543946a9a6159988f8ab4c8743d\n",
      "File: D:\\Python_projects\\Python\\.git\\objects\\6c\\aded2b45b4dc3c7646ffc3e6ee5bd9e191f08f\n",
      "File: D:\\Python_projects\\Python\\.git\\objects\\6c\\fc9ba5ad569a5dde124abfa267ec6fbfef7422\n",
      "File: D:\\Python_projects\\Python\\.git\\objects\\6d\\0fafc830ea0832027062edf998765e24701360\n",
      "File: D:\\Python_projects\\Python\\.git\\objects\\6f\\04dc3c4544e20de05866c7338a35fae87a977a\n",
      "File: D:\\Python_projects\\Python\\.git\\objects\\70\\b430789008441f4d9daabeb23b130e09372df5\n",
      "File: D:\\Python_projects\\Python\\.git\\objects\\73\\c8af48d48634b35ff97a395e23db0038d9b453\n",
      "File: D:\\Python_projects\\Python\\.git\\objects\\75\\219538275b608b3d9c40a6de4e39305b144127\n",
      "File: D:\\Python_projects\\Python\\.git\\objects\\76\\6302c54f2cf4c480088ae1661eec8c244a77a6\n",
      "File: D:\\Python_projects\\Python\\.git\\objects\\79\\c7cc375890d03facfca7ae943800108c7904e1\n",
      "File: D:\\Python_projects\\Python\\.git\\objects\\7b\\66842d5b57bbf7116d95f06093ceed95552028\n",
      "File: D:\\Python_projects\\Python\\.git\\objects\\7e\\4253030e9733629ae0b18905b5bf9963bd8bbc\n",
      "File: D:\\Python_projects\\Python\\.git\\objects\\7e\\82c44f40f6b8f41634e9bf4a409129e0f0cff4\n",
      "File: D:\\Python_projects\\Python\\.git\\objects\\7e\\c4867b481a3231194a89646238e31659e5e3d4\n",
      "File: D:\\Python_projects\\Python\\.git\\objects\\7f\\99558fe992035067724f0c235fc044247e3a69\n",
      "File: D:\\Python_projects\\Python\\.git\\objects\\81\\d97350d42c0bb4aeb96e437ec185e6dc904a98\n",
      "File: D:\\Python_projects\\Python\\.git\\objects\\81\\fb2d509d5b71de90c580847a35e07fbd9cbfe8\n",
      "File: D:\\Python_projects\\Python\\.git\\objects\\83\\a1703070ff2ad21a9fad090b0f9f4227476280\n",
      "File: D:\\Python_projects\\Python\\.git\\objects\\84\\0bcc93b518b497d6776afd5b5a42a3c8e8e6c2\n",
      "File: D:\\Python_projects\\Python\\.git\\objects\\84\\1ccbd9dcbdf2b1e375437ebf69a2b652c7d5b0\n",
      "File: D:\\Python_projects\\Python\\.git\\objects\\85\\7eae11eee8d625c2a914e30cfa580618e722fd\n",
      "File: D:\\Python_projects\\Python\\.git\\objects\\85\\85ecc2c89e18c6d3d40be4d601e7a87c17a0ce\n",
      "File: D:\\Python_projects\\Python\\.git\\objects\\86\\e1b5f728ff370f9bfa626e4f5c22e4cef03e38\n",
      "File: D:\\Python_projects\\Python\\.git\\objects\\88\\3126ad6e1e6f5aa58e496b27794c3b6ae4208c\n",
      "File: D:\\Python_projects\\Python\\.git\\objects\\89\\adb446d1e66793d02801c17a522677c86be60e\n",
      "File: D:\\Python_projects\\Python\\.git\\objects\\8b\\07caa7da82d63d22b2f6cebf9e3681856b8ffb\n",
      "File: D:\\Python_projects\\Python\\.git\\objects\\8b\\aa2ee7e2afd25141918620a50aaa7b54153ed2\n",
      "File: D:\\Python_projects\\Python\\.git\\objects\\8b\\b34107c0e71184398fff84820a6d16d847ddbf\n",
      "File: D:\\Python_projects\\Python\\.git\\objects\\8c\\fb247337ec44d193ed96b7c94050e354fc3299\n",
      "File: D:\\Python_projects\\Python\\.git\\objects\\8d\\d13b7f37eabac038463974255d2959b409db90\n",
      "File: D:\\Python_projects\\Python\\.git\\objects\\8e\\66972cc3e850f16aff02eb5e73c05e0306bff4\n",
      "File: D:\\Python_projects\\Python\\.git\\objects\\8f\\6b856ead5862a8d691d8bef35ede5c6dfa2e43\n",
      "File: D:\\Python_projects\\Python\\.git\\objects\\8f\\794d1c92b786f48db3b546b87cb635fe641cbc\n",
      "File: D:\\Python_projects\\Python\\.git\\objects\\8f\\c79124b586b25c9af6d935f1d527c34d57f764\n",
      "File: D:\\Python_projects\\Python\\.git\\objects\\8f\\d8ee126f0b4c7d4142d0a75c45c9d971952b35\n",
      "File: D:\\Python_projects\\Python\\.git\\objects\\94\\111ee9b36486ac400ce97cb0e13498e1a001e3\n",
      "File: D:\\Python_projects\\Python\\.git\\objects\\94\\2095f850ba0484236018af2e21142b214c09c9\n",
      "File: D:\\Python_projects\\Python\\.git\\objects\\94\\9b0b670b9f003f7ca1e094ab8f94b3d163123f\n",
      "File: D:\\Python_projects\\Python\\.git\\objects\\95\\733c4c0fb0e509b40cc2fac70c0f6707927103\n",
      "File: D:\\Python_projects\\Python\\.git\\objects\\97\\29fe8c86576f6264985d5830e4a4b6887febf4\n",
      "File: D:\\Python_projects\\Python\\.git\\objects\\99\\35703b2f11a76769ff96e96afa75b25fd3e7b8\n",
      "File: D:\\Python_projects\\Python\\.git\\objects\\99\\71bfddfe23cd5e0845cb8c087583fd5c29ed02\n",
      "File: D:\\Python_projects\\Python\\.git\\objects\\9a\\bbc9352a2b8ef96f0cd969eac2d13966f306a2\n",
      "File: D:\\Python_projects\\Python\\.git\\objects\\9b\\8e4c151fdfb898ed45bc54d364134bd84fc97c\n",
      "File: D:\\Python_projects\\Python\\.git\\objects\\9b\\9fa2bc7769ad036beaa936128d3dcfeb7ba55a\n",
      "File: D:\\Python_projects\\Python\\.git\\objects\\9c\\e749d382c7f8074705ad2009a9f650150e9158\n",
      "File: D:\\Python_projects\\Python\\.git\\objects\\9d\\614021bfdfd2abdd3ed24599187a73cb99ca98\n",
      "File: D:\\Python_projects\\Python\\.git\\objects\\9e\\45df991f79b20cad9d2b819b8db943c56aa55c\n",
      "File: D:\\Python_projects\\Python\\.git\\objects\\a0\\6b1f30b1df2aae39d3d12c4d3ada1a02fa9f11\n",
      "File: D:\\Python_projects\\Python\\.git\\objects\\a0\\938d4384981be2f8184b25052c03ab289d7907\n",
      "File: D:\\Python_projects\\Python\\.git\\objects\\a1\\3a1a9fba9f8ce2dfd6eec1deb5a3151922d33b\n",
      "File: D:\\Python_projects\\Python\\.git\\objects\\a1\\6e17ff7101cdd6b92b691ed4ab14d1c90ccfbb\n",
      "File: D:\\Python_projects\\Python\\.git\\objects\\a2\\3d5cc8e4dcb033727d8eeaf3b6f994489b7dfa\n",
      "File: D:\\Python_projects\\Python\\.git\\objects\\a4\\a058fb4601099fd0dc8177b76d2bd0802fbec1\n",
      "File: D:\\Python_projects\\Python\\.git\\objects\\a4\\e0f814ebdac7f3b28fdb77da967a4de786d099\n",
      "File: D:\\Python_projects\\Python\\.git\\objects\\a5\\36e6ba9ab424b53af6808605b9c0d6a9873b0f\n",
      "File: D:\\Python_projects\\Python\\.git\\objects\\a6\\19409064051889bd358cf7e875484391a8543f\n",
      "File: D:\\Python_projects\\Python\\.git\\objects\\a6\\1b08a671b2957162579707838f8956a4bc0e22\n",
      "File: D:\\Python_projects\\Python\\.git\\objects\\a6\\5981c8850bd8a0cb69fd7e86ab60c95c9c74da\n",
      "File: D:\\Python_projects\\Python\\.git\\objects\\a6\\63f575c7d6f090cbdd461f94d5b497a804da2d\n",
      "File: D:\\Python_projects\\Python\\.git\\objects\\a8\\7c21b4cbfa41b306e50d3cef3b8a7cbb978273\n",
      "File: D:\\Python_projects\\Python\\.git\\objects\\ab\\8b9798859c7fc812574efb0b76c285cbbeb984\n",
      "File: D:\\Python_projects\\Python\\.git\\objects\\ab\\ade601d52908f459c11ff50890362fbdca3cbb\n",
      "File: D:\\Python_projects\\Python\\.git\\objects\\af\\98c945ce496539947cbd6b790023b5ad37845c\n",
      "File: D:\\Python_projects\\Python\\.git\\objects\\b0\\ba8a3b447f30c7445c7b241d8a1b79ae3e3983\n",
      "File: D:\\Python_projects\\Python\\.git\\objects\\b2\\83c1987cb0aa6d91dcf248e67e3576edcc5d51\n",
      "File: D:\\Python_projects\\Python\\.git\\objects\\b2\\d82229d5c2904885d58789ed2d18708d5291cc\n",
      "File: D:\\Python_projects\\Python\\.git\\objects\\b4\\e15d2ed27f1a67754d74e9b0f1420cd0400193\n",
      "File: D:\\Python_projects\\Python\\.git\\objects\\b5\\48b7e753eeb95b2a03ab0498dd4da87f3a2368\n",
      "File: D:\\Python_projects\\Python\\.git\\objects\\b6\\62d244934830c4d94b7f49898b9eb56c679a1a\n",
      "File: D:\\Python_projects\\Python\\.git\\objects\\b6\\814051de15d425644474461f83fecb36d65182\n",
      "File: D:\\Python_projects\\Python\\.git\\objects\\bb\\f8eecde024b9a176216283863a1418b37052d9\n",
      "File: D:\\Python_projects\\Python\\.git\\objects\\bc\\635b612716df5a64101893e76745d2b256941a\n",
      "File: D:\\Python_projects\\Python\\.git\\objects\\bf\\359a3cb1b3fdc5f2cf3dbab76879f2bd509f3a\n",
      "File: D:\\Python_projects\\Python\\.git\\objects\\bf\\979c23e917b8af9cfd01ed59a1ed23cc9a7944\n",
      "File: D:\\Python_projects\\Python\\.git\\objects\\bf\\dc5ae6b1754f89f1a39ef96bf6882a0101fa5f\n",
      "File: D:\\Python_projects\\Python\\.git\\objects\\c0\\03f456548a04a07d5986427e8bb88d5b2666a4\n",
      "File: D:\\Python_projects\\Python\\.git\\objects\\c0\\e01a8f8138043a00bcabe5dd5ba650999ecd0e\n",
      "File: D:\\Python_projects\\Python\\.git\\objects\\c3\\76afb5d9ceda958360cfb7894c4ec4aa338fe0\n",
      "File: D:\\Python_projects\\Python\\.git\\objects\\c4\\24736ada72a0652aa56eaf000cab7faac1a16e\n",
      "File: D:\\Python_projects\\Python\\.git\\objects\\c4\\cbcb5299afa90dd06bb3937c819918f3dfc7f5\n",
      "File: D:\\Python_projects\\Python\\.git\\objects\\c6\\9939a3a036bc161389972165a8155c86e681ea\n",
      "File: D:\\Python_projects\\Python\\.git\\objects\\c6\\cfc7a00e740ff864f30a626cf598782741e39a\n",
      "File: D:\\Python_projects\\Python\\.git\\objects\\c9\\5bfc5163e8a7074d91de0b017f24a2ae8c08c2\n",
      "File: D:\\Python_projects\\Python\\.git\\objects\\c9\\ec27fc813e184a63a95e16662223525fba439d\n",
      "File: D:\\Python_projects\\Python\\.git\\objects\\cb\\7ab4e943c89b9dac8140e8d2a5eac2d052b601\n",
      "File: D:\\Python_projects\\Python\\.git\\objects\\cd\\70a5ec8d2b6efb795f581be5925d5ceabcdcee\n",
      "File: D:\\Python_projects\\Python\\.git\\objects\\cf\\20073fb9f588506c0de0353156d3941457c6b1\n",
      "File: D:\\Python_projects\\Python\\.git\\objects\\cf\\9078d5200a9b0fce9f67109b9cecca0655852a\n",
      "File: D:\\Python_projects\\Python\\.git\\objects\\cf\\b32dbb4991fea0f92c269dfc2f0a8fc0b1c525\n",
      "File: D:\\Python_projects\\Python\\.git\\objects\\d0\\431eaa9de4feb6a6fa745b9e40f20283f3faed\n",
      "File: D:\\Python_projects\\Python\\.git\\objects\\d0\\dffeece97e00289296efc831e7a0d8b8b417c3\n",
      "File: D:\\Python_projects\\Python\\.git\\objects\\d1\\95b70cfecf3962a2a8a8ed5aec9325d71d3222\n",
      "File: D:\\Python_projects\\Python\\.git\\objects\\d1\\f500dd9513a3c00a6e41918680eb13cd8ec124\n",
      "File: D:\\Python_projects\\Python\\.git\\objects\\d3\\f0201875472bfc7666f687b4c4d8e6e562c0b9\n",
      "File: D:\\Python_projects\\Python\\.git\\objects\\d5\\aab208f6feb3af73a770e57a84fde606eadaa8\n",
      "File: D:\\Python_projects\\Python\\.git\\objects\\d6\\3b58fc0d53f101637d359d755e6298791281aa\n",
      "File: D:\\Python_projects\\Python\\.git\\objects\\d7\\13e302c74556d3ba3390d8004d54ee48c3ec98\n",
      "File: D:\\Python_projects\\Python\\.git\\objects\\d8\\4cd8a6f866edfd224ec132c472234a513a95e6\n",
      "File: D:\\Python_projects\\Python\\.git\\objects\\d9\\7fbc477d247f62407d5d53fc91bef9a3e958e8\n",
      "File: D:\\Python_projects\\Python\\.git\\objects\\da\\4ab78e76c20b0c9ade4df789df7fd8258e41db\n",
      "File: D:\\Python_projects\\Python\\.git\\objects\\da\\83abb16b064caabf7097552c1a1cd518748f39\n",
      "File: D:\\Python_projects\\Python\\.git\\objects\\da\\d6b63d374fa16d098c0b2cbff7f93c73828ae3\n",
      "File: D:\\Python_projects\\Python\\.git\\objects\\db\\99ca083cb3ae7b535e90ede3008b7048591d68\n",
      "File: D:\\Python_projects\\Python\\.git\\objects\\db\\a8e8d26428c012da48d7cb01d6cb2aba8e5dce\n",
      "File: D:\\Python_projects\\Python\\.git\\objects\\db\\aa5d1944b1fd1ab90558daae88e3ce52e6a22c\n",
      "File: D:\\Python_projects\\Python\\.git\\objects\\db\\c9a16ae446534501c4b2e192a3eb811477f01c\n",
      "File: D:\\Python_projects\\Python\\.git\\objects\\dd\\a0fcd7deba5713e5b46a8c9345889471853b3e\n",
      "File: D:\\Python_projects\\Python\\.git\\objects\\dd\\e5bfcb1e66440790368244e67e3770b5eb8bb7\n",
      "File: D:\\Python_projects\\Python\\.git\\objects\\de\\111b0327c3b60e22f7606cd8ceaeb66e5c5671\n",
      "File: D:\\Python_projects\\Python\\.git\\objects\\e0\\2c886418945daff89efa85a757163c954fa32e\n",
      "File: D:\\Python_projects\\Python\\.git\\objects\\e0\\cbf3cb9510f72ebd1311049707abf90a00351b\n",
      "File: D:\\Python_projects\\Python\\.git\\objects\\e0\\fdfc6007bc7c9d8479c67ca8efe8ac03622de1\n",
      "File: D:\\Python_projects\\Python\\.git\\objects\\e1\\956c4f4f080a5de40f48e1a6398547abc1dbdc\n",
      "File: D:\\Python_projects\\Python\\.git\\objects\\e2\\d548ce9e0fbd9fec9ca9b19e41e5a337c994dd\n",
      "File: D:\\Python_projects\\Python\\.git\\objects\\e3\\92a7e6471ee45f10588c0c8aebdf43b73c6072\n",
      "File: D:\\Python_projects\\Python\\.git\\objects\\e4\\e223f4b7f40ecaa4a90fd739967877d5bd7ce6\n",
      "File: D:\\Python_projects\\Python\\.git\\objects\\e5\\9024e92b50d80db87f26493ea5ab00e919b048\n",
      "File: D:\\Python_projects\\Python\\.git\\objects\\e8\\ca96f7c969d3357e2e63ba80ea2d3e87b78f92\n",
      "File: D:\\Python_projects\\Python\\.git\\objects\\e9\\53587e93bf2da7c54617702d08483fbe3557b0\n",
      "File: D:\\Python_projects\\Python\\.git\\objects\\e9\\d2d963119e0d987c62853f97716afe9bc6638d\n",
      "File: D:\\Python_projects\\Python\\.git\\objects\\eb\\ae30e77ce104cd9109ebde1deb3491c77acce3\n",
      "File: D:\\Python_projects\\Python\\.git\\objects\\eb\\e6d218cd2d3e85d813b80af5de657c119621ca\n",
      "File: D:\\Python_projects\\Python\\.git\\objects\\ec\\3f54fa911f0909c4bfbf9c1a98d80dea2e16e5\n",
      "File: D:\\Python_projects\\Python\\.git\\objects\\ec\\a0359051cece175ffabcd33ea670f391808ef0\n",
      "File: D:\\Python_projects\\Python\\.git\\objects\\ed\\bf03623d7b69ff505ddd67bd1fe5872df20d21\n",
      "File: D:\\Python_projects\\Python\\.git\\objects\\ee\\1880cc19a006ceeb501b1ba63c750e125d36c2\n",
      "File: D:\\Python_projects\\Python\\.git\\objects\\ee\\ddd5a52b9b31c1decd3555e4ae3b3e12f63d04\n",
      "File: D:\\Python_projects\\Python\\.git\\objects\\f0\\00f4db05da6d51f0d77883878f22c1c9dd3194\n",
      "File: D:\\Python_projects\\Python\\.git\\objects\\f0\\20454962fbd7fccc22ccc1045e1e8072f8ba7b\n",
      "File: D:\\Python_projects\\Python\\.git\\objects\\f0\\c9c2afe4828f9c359adc183e5246e95e1fb9d5\n",
      "File: D:\\Python_projects\\Python\\.git\\objects\\f3\\0bc8e29457ff3d45cff110e3d5677dc15b0db9\n",
      "File: D:\\Python_projects\\Python\\.git\\objects\\f4\\d4d6fa2db1a4279b158a13d33a05f922f4854e\n",
      "File: D:\\Python_projects\\Python\\.git\\objects\\f7\\2ce767cebb092a9ceab61501cf0b83621d26a1\n",
      "File: D:\\Python_projects\\Python\\.git\\objects\\f7\\b6923d6b8c97b40531aca36beb669391126572\n",
      "File: D:\\Python_projects\\Python\\.git\\objects\\f8\\2e40ff696cc8f4c2adb40303b0c9265e9382a3\n",
      "File: D:\\Python_projects\\Python\\.git\\objects\\fd\\16321e836cb612a06715cf94f6025441d7f9e6\n",
      "File: D:\\Python_projects\\Python\\.git\\objects\\fd\\2a0057e8c96701c592ac08301132f2b59c9139\n",
      "File: D:\\Python_projects\\Python\\.git\\objects\\fd\\2ddfe6f7c9e07756ad42f0e2dcae0bfdc4ade2\n",
      "File: D:\\Python_projects\\Python\\.git\\refs\\heads\\main\n",
      "File: D:\\Python_projects\\Python\\.git\\refs\\heads\\segundaBranch\n",
      "File: D:\\Python_projects\\Python\\.git\\refs\\remotes\\origin\\main\n",
      "File: D:\\Python_projects\\Python\\001_w3resource\\README_W3RESOURCE.md\n",
      "File: D:\\Python_projects\\Python\\001_w3resource\\001_w3resource_PythonBasic_Part1\\0001_Python basic (Part -I) 1 - 25.ipynb\n",
      "File: D:\\Python_projects\\Python\\001_w3resource\\001_w3resource_PythonBasic_Part1\\0002_Python basic (Part -I) 26 - 50.ipynb\n",
      "File: D:\\Python_projects\\Python\\001_w3resource\\001_w3resource_PythonBasic_Part1\\0003_Python basic (Part -I) 51 - 75.ipynb\n",
      "File: D:\\Python_projects\\Python\\001_w3resource\\001_w3resource_PythonBasic_Part1\\0004_Python basic (Part -I) 76 - 100.ipynb\n",
      "File: D:\\Python_projects\\Python\\001_w3resource\\001_w3resource_PythonBasic_Part1\\0005_Python basic (Part -I) 101 - 125.ipynb\n",
      "File: D:\\Python_projects\\Python\\001_w3resource\\001_w3resource_PythonBasic_Part1\\0006_Python basic (Part -I) 126 - 150.ipynb\n",
      "File: D:\\Python_projects\\Python\\001_w3resource\\001_w3resource_PythonBasic_Part1\\README.md\n",
      "File: D:\\Python_projects\\Python\\001_w3resource\\001_w3resource_PythonBasic_Part1\\.ipynb_checkpoints\\0000_testing-checkpoint.ipynb\n",
      "File: D:\\Python_projects\\Python\\001_w3resource\\001_w3resource_PythonBasic_Part1\\.ipynb_checkpoints\\0001_Python basic (Part -I) 1 - 25-checkpoint.ipynb\n",
      "File: D:\\Python_projects\\Python\\001_w3resource\\001_w3resource_PythonBasic_Part1\\.ipynb_checkpoints\\0002_Python basic (Part -I) 26 - 50-checkpoint.ipynb\n",
      "File: D:\\Python_projects\\Python\\001_w3resource\\001_w3resource_PythonBasic_Part1\\.ipynb_checkpoints\\0003_Python basic (Part -I) 51 - 75-checkpoint.ipynb\n",
      "File: D:\\Python_projects\\Python\\001_w3resource\\001_w3resource_PythonBasic_Part1\\.ipynb_checkpoints\\0004_Python basic (Part -I) 76 - 100-checkpoint.ipynb\n",
      "File: D:\\Python_projects\\Python\\001_w3resource\\001_w3resource_PythonBasic_Part1\\.ipynb_checkpoints\\0005_Python basic (Part -I) 101 - 125-checkpoint.ipynb\n",
      "File: D:\\Python_projects\\Python\\001_w3resource\\001_w3resource_PythonBasic_Part1\\.ipynb_checkpoints\\0006_Python basic (Part -I) 126 - 150-checkpoint.ipynb\n",
      "File: D:\\Python_projects\\Python\\001_w3resource\\002_w3resource_NumPy_Exercises\\0001_NumPy_Basic.ipynb\n",
      "File: D:\\Python_projects\\Python\\001_w3resource\\002_w3resource_NumPy_Exercises\\.ipynb_checkpoints\\0001_NumPy_Basic-checkpoint.ipynb\n"
     ]
    }
   ],
   "source": [
    "# List all the files in the specified directory\n",
    "for root, dirs, files in os.walk(directory_path):\n",
    "    for file in files:\n",
    "        file_path = os.path.join(root, file)\n",
    "        print(f\"File: {file_path}\")"
   ]
  },
  {
   "cell_type": "markdown",
   "id": "cb3cc555",
   "metadata": {},
   "source": [
    "---"
   ]
  },
  {
   "cell_type": "markdown",
   "id": "7007a8e1",
   "metadata": {},
   "source": [
    "---"
   ]
  },
  {
   "cell_type": "markdown",
   "id": "5339679d",
   "metadata": {},
   "source": [
    "### 137. Write a Python program to extract a single key-value pair from a dictionary into variables. "
   ]
  },
  {
   "cell_type": "code",
   "execution_count": 82,
   "id": "f27f7a29",
   "metadata": {},
   "outputs": [],
   "source": [
    "# Sample dictionary\n",
    "sample_dict = {'name': 'John', 'age': 30, 'city': 'New York'}"
   ]
  },
  {
   "cell_type": "code",
   "execution_count": 83,
   "id": "0b4523dd",
   "metadata": {},
   "outputs": [],
   "source": [
    "# Extract a single key-value pair into variables\n",
    "key_to_extract = 'age'\n",
    "value_variable = sample_dict[key_to_extract]"
   ]
  },
  {
   "cell_type": "code",
   "execution_count": 84,
   "id": "97c73de3",
   "metadata": {},
   "outputs": [
    {
     "name": "stdout",
     "output_type": "stream",
     "text": [
      "age: 30\n"
     ]
    }
   ],
   "source": [
    "# Print the extracted key and value\n",
    "print(f\"{key_to_extract}: {value_variable}\")"
   ]
  },
  {
   "cell_type": "markdown",
   "id": "0f541b1a",
   "metadata": {},
   "source": [
    "1. We have a sample dictionary named **sample_dict** with key-value pairs.\n",
    "2. We specify the key that we want to extract into the variable **key_to_extract**. In this case, we're extracting the 'age' key.\n",
    "3. We use the specified key to access the corresponding value from the dictionary and assign it to the variable **value_variable**.\n",
    "4. Finally, we print the extracted key and its value."
   ]
  },
  {
   "cell_type": "markdown",
   "id": "b0d7d0fb",
   "metadata": {},
   "source": [
    "---"
   ]
  },
  {
   "cell_type": "markdown",
   "id": "ce062b0a",
   "metadata": {},
   "source": [
    "---"
   ]
  },
  {
   "cell_type": "markdown",
   "id": "c7a722d0",
   "metadata": {},
   "source": []
  }
 ],
 "metadata": {
  "kernelspec": {
   "display_name": "Python 3",
   "language": "python",
   "name": "python3"
  },
  "language_info": {
   "codemirror_mode": {
    "name": "ipython",
    "version": 3
   },
   "file_extension": ".py",
   "mimetype": "text/x-python",
   "name": "python",
   "nbconvert_exporter": "python",
   "pygments_lexer": "ipython3",
   "version": "3.8.8"
  }
 },
 "nbformat": 4,
 "nbformat_minor": 5
}

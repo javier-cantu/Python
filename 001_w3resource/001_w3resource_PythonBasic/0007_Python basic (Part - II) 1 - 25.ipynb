{
 "cells": [
  {
   "cell_type": "markdown",
   "id": "da9898de",
   "metadata": {},
   "source": [
    "# 0007_Python basic (Part - II) 1 - 25"
   ]
  },
  {
   "cell_type": "markdown",
   "id": "1a44cd0b",
   "metadata": {},
   "source": [
    "Ejercicios python Basic - Part II - 1 - 25\n",
    "[Python basic (Part - II)](https://www.w3resource.com/python-exercises/basic/"
   ]
  },
  {
   "cell_type": "markdown",
   "id": "373aaa4b",
   "metadata": {},
   "source": [
    "---"
   ]
  },
  {
   "cell_type": "markdown",
   "id": "a2897af9",
   "metadata": {},
   "source": [
    "---"
   ]
  },
  {
   "cell_type": "markdown",
   "id": "7fdd2693",
   "metadata": {},
   "source": [
    "### 1. Write a Python function that takes a sequence of numbers and determines whether all the numbers are different from each other."
   ]
  },
  {
   "cell_type": "code",
   "execution_count": 3,
   "id": "50ca6ce8",
   "metadata": {},
   "outputs": [
    {
     "name": "stdout",
     "output_type": "stream",
     "text": [
      "[1, 2, 3, 4, 5, 6, 7]\n"
     ]
    }
   ],
   "source": [
    "# Sequence all different\n",
    "sequence1 = [1, 2, 3, 4, 5, 6, 7]\n",
    "print(sequence1)"
   ]
  },
  {
   "cell_type": "code",
   "execution_count": 4,
   "id": "fe3488fb",
   "metadata": {},
   "outputs": [
    {
     "name": "stdout",
     "output_type": "stream",
     "text": [
      "{1, 2, 3, 4, 5, 6, 7}\n"
     ]
    }
   ],
   "source": [
    "# Convert the sequence into a set\n",
    "set1 = set(sequence1)\n",
    "print(set1)"
   ]
  },
  {
   "cell_type": "code",
   "execution_count": 5,
   "id": "e80b1fcb",
   "metadata": {
    "scrolled": true
   },
   "outputs": [
    {
     "name": "stdout",
     "output_type": "stream",
     "text": [
      "All the numbers are different.\n",
      "[1, 2, 3, 4, 5, 6, 7]\n",
      "{1, 2, 3, 4, 5, 6, 7}\n"
     ]
    }
   ],
   "source": [
    "if len(sequence1) == len(set1):\n",
    "    print(\"All the numbers are different.\")\n",
    "    print(sequence1)\n",
    "    print(set1)\n",
    "else:\n",
    "    print(\"Not all the numbers are different\")\n",
    "    print(sequence1)\n",
    "    print(set1)"
   ]
  },
  {
   "cell_type": "markdown",
   "id": "ed9a560c",
   "metadata": {},
   "source": [
    "---"
   ]
  },
  {
   "cell_type": "code",
   "execution_count": 6,
   "id": "fabfa8ed",
   "metadata": {},
   "outputs": [
    {
     "name": "stdout",
     "output_type": "stream",
     "text": [
      "[1, 2, 3, 3, 4, 5, 6, 7, 1]\n"
     ]
    }
   ],
   "source": [
    "# Sequence some numbers are the same\n",
    "sequence1 = [1, 2, 3, 3, 4, 5, 6, 7, 1]\n",
    "print(sequence1)"
   ]
  },
  {
   "cell_type": "code",
   "execution_count": 7,
   "id": "01c40e1f",
   "metadata": {},
   "outputs": [
    {
     "name": "stdout",
     "output_type": "stream",
     "text": [
      "{1, 2, 3, 4, 5, 6, 7}\n"
     ]
    }
   ],
   "source": [
    "# Convert the sequence into a set\n",
    "set1 = set(sequence1)\n",
    "print(set1)"
   ]
  },
  {
   "cell_type": "code",
   "execution_count": 8,
   "id": "810859ba",
   "metadata": {
    "scrolled": true
   },
   "outputs": [
    {
     "name": "stdout",
     "output_type": "stream",
     "text": [
      "Not all the numbers are different\n",
      "[1, 2, 3, 3, 4, 5, 6, 7, 1]\n",
      "{1, 2, 3, 4, 5, 6, 7}\n"
     ]
    }
   ],
   "source": [
    "if len(sequence1) == len(set1):\n",
    "    print(\"All the numbers are different.\")\n",
    "    print(sequence1)\n",
    "    print(set1)\n",
    "else:\n",
    "    print(\"Not all the numbers are different\")\n",
    "    print(sequence1)\n",
    "    print(set1)"
   ]
  },
  {
   "cell_type": "markdown",
   "id": "3b9e7fac",
   "metadata": {},
   "source": [
    "---"
   ]
  },
  {
   "cell_type": "markdown",
   "id": "47c1fd10",
   "metadata": {},
   "source": [
    "#### Ahora en forma de funcion"
   ]
  },
  {
   "cell_type": "code",
   "execution_count": 11,
   "id": "0c77f4a7",
   "metadata": {},
   "outputs": [],
   "source": [
    "def test_numbers(seq):\n",
    "    set1 = set(seq)\n",
    "    if len(seq) == len(set1):\n",
    "        return True\n",
    "    else:\n",
    "        return False"
   ]
  },
  {
   "cell_type": "code",
   "execution_count": 12,
   "id": "4e5733de",
   "metadata": {},
   "outputs": [
    {
     "data": {
      "text/plain": [
       "False"
      ]
     },
     "execution_count": 12,
     "metadata": {},
     "output_type": "execute_result"
    }
   ],
   "source": [
    "test_numbers([1, 3, 4, 5, 6, 7, 2, 1])"
   ]
  },
  {
   "cell_type": "code",
   "execution_count": 13,
   "id": "3836831c",
   "metadata": {},
   "outputs": [
    {
     "data": {
      "text/plain": [
       "True"
      ]
     },
     "execution_count": 13,
     "metadata": {},
     "output_type": "execute_result"
    }
   ],
   "source": [
    "test_numbers([1, 3, 4])"
   ]
  },
  {
   "cell_type": "markdown",
   "id": "0077c989",
   "metadata": {},
   "source": [
    "---"
   ]
  },
  {
   "cell_type": "markdown",
   "id": "402272c3",
   "metadata": {},
   "source": [
    "---"
   ]
  },
  {
   "cell_type": "markdown",
   "id": "52d94406",
   "metadata": {},
   "source": [
    "### 2. Write a Python program that creates all possible strings using the letters 'a', 'e', 'i', 'o', and 'u'. Ensure that each character is used only once."
   ]
  },
  {
   "cell_type": "code",
   "execution_count": 5,
   "id": "4265ccdf",
   "metadata": {},
   "outputs": [],
   "source": [
    "from itertools import permutations"
   ]
  },
  {
   "cell_type": "code",
   "execution_count": 6,
   "id": "a24dc122",
   "metadata": {},
   "outputs": [],
   "source": [
    "def generate_unique_strings():\n",
    "    # Define the characters (vowels) you want to use\n",
    "    vowels = 'aeiou'\n",
    "    \n",
    "    # Generate all possible permutations of the vowels\n",
    "    all_possible_permutations = permutations(vowels)\n",
    "    \n",
    "    # Use a set to store unique strings to eliminate duplicates\n",
    "    unique_strings = set()\n",
    "    \n",
    "     # Iterate through all permutations\n",
    "    for perm in all_possible_permutations:\n",
    "        # Join the characters in the permutation to create a string\n",
    "        unique_strings.add(''.join(perm))\n",
    "    \n",
    "    # Convert the set of unique strings to a list and return\n",
    "    return list(unique_strings)"
   ]
  },
  {
   "cell_type": "code",
   "execution_count": 7,
   "id": "69f3ffff",
   "metadata": {},
   "outputs": [],
   "source": [
    "# Get and print all unique strings\n",
    "unique_strings = generate_unique_strings()"
   ]
  },
  {
   "cell_type": "code",
   "execution_count": 8,
   "id": "f5d39b58",
   "metadata": {},
   "outputs": [
    {
     "name": "stdout",
     "output_type": "stream",
     "text": [
      "oiaeu\n",
      "eioau\n",
      "oeaiu\n",
      "aiueo\n",
      "iaoeu\n",
      "ieauo\n",
      "iuoae\n",
      "aoeui\n",
      "eoaiu\n",
      "aioeu\n",
      "aiuoe\n",
      "iuoea\n",
      "eioua\n",
      "aeoui\n",
      "uaoei\n",
      "uioae\n",
      "iueoa\n",
      "uaioe\n",
      "eouai\n",
      "aeiou\n",
      "uaeio\n",
      "iuaoe\n",
      "aioue\n",
      "uoeia\n",
      "aoiue\n",
      "aeoiu\n",
      "eaoui\n",
      "eoiua\n",
      "ueiao\n",
      "oaieu\n",
      "oaeui\n",
      "eaiuo\n",
      "uoeai\n",
      "eauio\n",
      "uoaie\n",
      "oiaue\n",
      "iauoe\n",
      "ieoua\n",
      "ieoau\n",
      "uaeoi\n",
      "uoiea\n",
      "oieua\n",
      "eoaui\n",
      "eoiau\n",
      "uiaeo\n",
      "euoia\n",
      "oauie\n",
      "euioa\n",
      "oeuai\n",
      "ieuoa\n",
      "iaeou\n",
      "ouaei\n",
      "uiaoe\n",
      "eaoiu\n",
      "iouea\n",
      "ueoai\n",
      "aueoi\n",
      "oueia\n",
      "uoaei\n",
      "oeiua\n",
      "ueaio\n",
      "uieoa\n",
      "oeuia\n",
      "iueao\n",
      "iaeuo\n",
      "uoiae\n",
      "oiuae\n",
      "iuaeo\n",
      "ueoia\n",
      "aeiuo\n",
      "ioaue\n",
      "uaoie\n",
      "auoei\n",
      "auioe\n",
      "aoeiu\n",
      "ouiae\n",
      "aieou\n",
      "ioeau\n",
      "aouei\n",
      "oeiau\n",
      "uioea\n",
      "aieuo\n",
      "aueio\n",
      "eiuao\n",
      "iaueo\n",
      "uaieo\n",
      "euaio\n",
      "oaiue\n",
      "iouae\n",
      "eaiou\n",
      "ieuao\n",
      "euaoi\n",
      "eauoi\n",
      "oiuea\n",
      "ueaoi\n",
      "oieau\n",
      "aouie\n",
      "iaoue\n",
      "ioaeu\n",
      "euoai\n",
      "aeuio\n",
      "oaeiu\n",
      "aoieu\n",
      "eiuoa\n",
      "uieao\n",
      "eiauo\n",
      "oueai\n",
      "auieo\n",
      "eiaou\n",
      "ouaie\n",
      "euiao\n",
      "ouiea\n",
      "eouia\n",
      "ioeua\n",
      "oauei\n",
      "ueioa\n",
      "auoie\n",
      "aeuoi\n",
      "oeaui\n",
      "ieaou\n"
     ]
    }
   ],
   "source": [
    "for string in unique_strings:\n",
    "    print(string)"
   ]
  },
  {
   "cell_type": "markdown",
   "id": "23d8e998",
   "metadata": {},
   "source": [
    "### Sorted"
   ]
  },
  {
   "cell_type": "code",
   "execution_count": 9,
   "id": "60f0659f",
   "metadata": {},
   "outputs": [],
   "source": [
    "sorted_unique_strings = sorted(unique_strings)"
   ]
  },
  {
   "cell_type": "code",
   "execution_count": 10,
   "id": "69f17c88",
   "metadata": {},
   "outputs": [
    {
     "name": "stdout",
     "output_type": "stream",
     "text": [
      "aeiou\n",
      "aeiuo\n",
      "aeoiu\n",
      "aeoui\n",
      "aeuio\n",
      "aeuoi\n",
      "aieou\n",
      "aieuo\n",
      "aioeu\n",
      "aioue\n",
      "aiueo\n",
      "aiuoe\n",
      "aoeiu\n",
      "aoeui\n",
      "aoieu\n",
      "aoiue\n",
      "aouei\n",
      "aouie\n",
      "aueio\n",
      "aueoi\n",
      "auieo\n",
      "auioe\n",
      "auoei\n",
      "auoie\n",
      "eaiou\n",
      "eaiuo\n",
      "eaoiu\n",
      "eaoui\n",
      "eauio\n",
      "eauoi\n",
      "eiaou\n",
      "eiauo\n",
      "eioau\n",
      "eioua\n",
      "eiuao\n",
      "eiuoa\n",
      "eoaiu\n",
      "eoaui\n",
      "eoiau\n",
      "eoiua\n",
      "eouai\n",
      "eouia\n",
      "euaio\n",
      "euaoi\n",
      "euiao\n",
      "euioa\n",
      "euoai\n",
      "euoia\n",
      "iaeou\n",
      "iaeuo\n",
      "iaoeu\n",
      "iaoue\n",
      "iaueo\n",
      "iauoe\n",
      "ieaou\n",
      "ieauo\n",
      "ieoau\n",
      "ieoua\n",
      "ieuao\n",
      "ieuoa\n",
      "ioaeu\n",
      "ioaue\n",
      "ioeau\n",
      "ioeua\n",
      "iouae\n",
      "iouea\n",
      "iuaeo\n",
      "iuaoe\n",
      "iueao\n",
      "iueoa\n",
      "iuoae\n",
      "iuoea\n",
      "oaeiu\n",
      "oaeui\n",
      "oaieu\n",
      "oaiue\n",
      "oauei\n",
      "oauie\n",
      "oeaiu\n",
      "oeaui\n",
      "oeiau\n",
      "oeiua\n",
      "oeuai\n",
      "oeuia\n",
      "oiaeu\n",
      "oiaue\n",
      "oieau\n",
      "oieua\n",
      "oiuae\n",
      "oiuea\n",
      "ouaei\n",
      "ouaie\n",
      "oueai\n",
      "oueia\n",
      "ouiae\n",
      "ouiea\n",
      "uaeio\n",
      "uaeoi\n",
      "uaieo\n",
      "uaioe\n",
      "uaoei\n",
      "uaoie\n",
      "ueaio\n",
      "ueaoi\n",
      "ueiao\n",
      "ueioa\n",
      "ueoai\n",
      "ueoia\n",
      "uiaeo\n",
      "uiaoe\n",
      "uieao\n",
      "uieoa\n",
      "uioae\n",
      "uioea\n",
      "uoaei\n",
      "uoaie\n",
      "uoeai\n",
      "uoeia\n",
      "uoiae\n",
      "uoiea\n"
     ]
    }
   ],
   "source": [
    "for string in sorted_unique_strings:\n",
    "    print(string)"
   ]
  },
  {
   "cell_type": "markdown",
   "id": "f399db6a",
   "metadata": {},
   "source": []
  },
  {
   "cell_type": "markdown",
   "id": "f991c2f7",
   "metadata": {},
   "source": [
    "---"
   ]
  },
  {
   "cell_type": "markdown",
   "id": "a7f203de",
   "metadata": {},
   "source": [
    "---"
   ]
  },
  {
   "cell_type": "markdown",
   "id": "607ad753",
   "metadata": {},
   "source": [
    "### 3. Write a Python program that removes and prints every third number from a list of numbers until the list is empty."
   ]
  },
  {
   "cell_type": "code",
   "execution_count": 33,
   "id": "6d6d380a",
   "metadata": {},
   "outputs": [],
   "source": [
    "my_list = [1, 2, 3, 4, 5, 6, 7, 8, 9, 10]"
   ]
  },
  {
   "cell_type": "code",
   "execution_count": 34,
   "id": "18609da3",
   "metadata": {},
   "outputs": [],
   "source": [
    "def remove_and_print_every_third(my_list):\n",
    "    while len(my_list) >= 3:\n",
    "        removed_number = my_list.pop(2)\n",
    "        print(f\"Removed and printed: {removed_number}\")"
   ]
  },
  {
   "cell_type": "code",
   "execution_count": 35,
   "id": "83c3c991",
   "metadata": {},
   "outputs": [
    {
     "name": "stdout",
     "output_type": "stream",
     "text": [
      "Removed and printed: 3\n",
      "Removed and printed: 4\n",
      "Removed and printed: 5\n",
      "Removed and printed: 6\n",
      "Removed and printed: 7\n",
      "Removed and printed: 8\n",
      "Removed and printed: 9\n",
      "Removed and printed: 10\n"
     ]
    }
   ],
   "source": [
    "remove_and_print_every_third(my_list)"
   ]
  },
  {
   "cell_type": "code",
   "execution_count": 53,
   "id": "02223160",
   "metadata": {},
   "outputs": [],
   "source": [
    "my_list_2 = [1, 2, 3, 4, 5, 6, 7, 8, 9, 10]"
   ]
  },
  {
   "cell_type": "code",
   "execution_count": 54,
   "id": "994974ea",
   "metadata": {},
   "outputs": [],
   "source": [
    "def remove_and_print_every_third_2(my_list):\n",
    "    while my_list:\n",
    "        if len(my_list) >= 3:\n",
    "            removed_number = my_list.pop(2)\n",
    "            print(f\"Removed and printed: {removed_number}\")\n",
    "        elif len(my_list) == 2:\n",
    "            removed_number = my_list.pop(1)\n",
    "            print(f\"Removed and printed: {removed_number}\")\n",
    "        elif len(my_list) == 1:\n",
    "            removed_number = my_list.pop(0)\n",
    "            print(f\"Removed and printed: {removed_number}\")"
   ]
  },
  {
   "cell_type": "code",
   "execution_count": 55,
   "id": "71e4d3a8",
   "metadata": {
    "scrolled": true
   },
   "outputs": [
    {
     "name": "stdout",
     "output_type": "stream",
     "text": [
      "Removed and printed: 3\n",
      "Removed and printed: 4\n",
      "Removed and printed: 5\n",
      "Removed and printed: 6\n",
      "Removed and printed: 7\n",
      "Removed and printed: 8\n",
      "Removed and printed: 9\n",
      "Removed and printed: 10\n",
      "Removed and printed: 2\n",
      "Removed and printed: 1\n"
     ]
    }
   ],
   "source": [
    "remove_and_print_every_third_2(my_list_2)"
   ]
  },
  {
   "cell_type": "markdown",
   "id": "bbc3360d",
   "metadata": {},
   "source": [
    "---"
   ]
  },
  {
   "cell_type": "markdown",
   "id": "c5b5b484",
   "metadata": {},
   "source": [
    "---"
   ]
  },
  {
   "cell_type": "markdown",
   "id": "cda16742",
   "metadata": {},
   "source": [
    "### 4. Write a Python program to identify unique triplets whose three elements sum to zero from an array of n integers. "
   ]
  },
  {
   "cell_type": "code",
   "execution_count": 16,
   "id": "7f7c7779",
   "metadata": {},
   "outputs": [],
   "source": [
    "from itertools import permutations"
   ]
  },
  {
   "cell_type": "code",
   "execution_count": 17,
   "id": "921e028e",
   "metadata": {},
   "outputs": [],
   "source": [
    "# Define your set of numbers\n",
    "numbers = [1, -6, 4, 2, -1, 2, 0, -2, 0 ]"
   ]
  },
  {
   "cell_type": "code",
   "execution_count": 18,
   "id": "e0e8a601",
   "metadata": {},
   "outputs": [],
   "source": [
    "# Generate all possible permutations of three numbers\n",
    "three_number_permutations = list(permutations(numbers, 3))"
   ]
  },
  {
   "cell_type": "code",
   "execution_count": 19,
   "id": "dfb03a3b",
   "metadata": {},
   "outputs": [],
   "source": [
    "# Convert the list of permutations to a set to remove duplicates\n",
    "unique_permutations = set(three_number_permutations)"
   ]
  },
  {
   "cell_type": "code",
   "execution_count": 20,
   "id": "0e1d49d9",
   "metadata": {},
   "outputs": [],
   "source": [
    "# Create an empty list to store triplets\n",
    "triplets = []"
   ]
  },
  {
   "cell_type": "markdown",
   "id": "0a5425c1",
   "metadata": {},
   "source": [
    "> the condition len(set(t)) == 3 checks if each triplet has different numbers. "
   ]
  },
  {
   "cell_type": "code",
   "execution_count": 21,
   "id": "c0ac2ec8",
   "metadata": {},
   "outputs": [],
   "source": [
    "for t  in unique_permutations:\n",
    "    if len(set(t)) == 3 and sum(t) == 0:\n",
    "        triplets.append(t)"
   ]
  },
  {
   "cell_type": "code",
   "execution_count": 22,
   "id": "095fa715",
   "metadata": {
    "scrolled": false
   },
   "outputs": [
    {
     "name": "stdout",
     "output_type": "stream",
     "text": [
      "(-2, 2, 0)\n",
      "(0, -2, 2)\n",
      "(-2, 0, 2)\n",
      "(2, 0, -2)\n",
      "(2, -2, 0)\n",
      "(0, 1, -1)\n",
      "(0, -1, 1)\n",
      "(0, 2, -2)\n",
      "(1, 0, -1)\n",
      "(4, -6, 2)\n",
      "(4, 2, -6)\n",
      "(1, -1, 0)\n",
      "(-1, 0, 1)\n",
      "(-6, 4, 2)\n",
      "(-6, 2, 4)\n",
      "(2, -6, 4)\n",
      "(-1, 1, 0)\n",
      "(2, 4, -6)\n"
     ]
    }
   ],
   "source": [
    "for t in triplets:\n",
    "    print(t)"
   ]
  },
  {
   "cell_type": "markdown",
   "id": "08bbc328",
   "metadata": {},
   "source": [
    "---"
   ]
  },
  {
   "cell_type": "markdown",
   "id": "bca1cfdc",
   "metadata": {},
   "source": [
    "---"
   ]
  },
  {
   "cell_type": "markdown",
   "id": "f2d3bdd1",
   "metadata": {},
   "source": [
    "### 5. Write a Python program to make combinations of 3 digits. "
   ]
  },
  {
   "cell_type": "code",
   "execution_count": 23,
   "id": "302209ac",
   "metadata": {},
   "outputs": [],
   "source": [
    "import random"
   ]
  },
  {
   "cell_type": "code",
   "execution_count": 31,
   "id": "b0ceb60c",
   "metadata": {},
   "outputs": [],
   "source": [
    "# 3 digit number generator\n",
    "def td_number_generator():\n",
    "    d1 = random.randint(0, 9)\n",
    "    d2 = random.randint(0, 9)\n",
    "    d3 = random.randint(0, 9)\n",
    "    \n",
    "    number = str(d1) + str(d2) + str(d3)\n",
    "    \n",
    "    number = int(number)\n",
    "    \n",
    "    print(number)"
   ]
  },
  {
   "cell_type": "code",
   "execution_count": 32,
   "id": "481a6f48",
   "metadata": {},
   "outputs": [
    {
     "name": "stdout",
     "output_type": "stream",
     "text": [
      "361\n"
     ]
    }
   ],
   "source": [
    "td_number_generator()"
   ]
  },
  {
   "cell_type": "code",
   "execution_count": 33,
   "id": "84afd187",
   "metadata": {
    "scrolled": false
   },
   "outputs": [
    {
     "name": "stdout",
     "output_type": "stream",
     "text": [
      "244\n",
      "937\n",
      "327\n",
      "610\n",
      "830\n",
      "126\n",
      "482\n",
      "977\n",
      "704\n",
      "681\n"
     ]
    }
   ],
   "source": [
    "for _ in range(10):\n",
    "    td_number_generator()"
   ]
  },
  {
   "cell_type": "markdown",
   "id": "565a9ca7",
   "metadata": {},
   "source": [
    "---"
   ]
  },
  {
   "cell_type": "markdown",
   "id": "d2b59034",
   "metadata": {},
   "source": [
    "---"
   ]
  },
  {
   "cell_type": "markdown",
   "id": "a79cd719",
   "metadata": {},
   "source": [
    "### 6. Write a Python program that prints long text, converts it to a list, and prints all the words and the frequency of each word. "
   ]
  },
  {
   "cell_type": "code",
   "execution_count": 34,
   "id": "7e88092d",
   "metadata": {},
   "outputs": [],
   "source": [
    "# long string\n",
    "string_words = '''United States Declaration of Independence\n",
    "From Wikipedia, the free encyclopedia\n",
    "The United States Declaration of Independence is the statement\n",
    "adopted by the Second Continental Congress meeting at the Pennsylvania State\n",
    "House (Independence Hall) in Philadelphia on July 4, 1776, which announced\n",
    "that the thirteen American colonies, then at war with the Kingdom of Great\n",
    "Britain, regarded themselves as thirteen independent sovereign states, no longer\n",
    "under British rule. These states would found a new nation – the United States of\n",
    "America. John Adams was a leader in pushing for independence, which was passed\n",
    "on July 2 with no opposing vote cast. A committee of five had already drafted the\n",
    "formal declaration, to be ready when Congress voted on independence.\n",
    "\n",
    "John Adams persuaded the committee to select Thomas Jefferson to compose the original\n",
    "draft of the document, which Congress would edit to produce the final version.\n",
    "The Declaration was ultimately a formal explanation of why Congress had voted on July\n",
    "2 to declare independence from Great Britain, more than a year after the outbreak of\n",
    "the American Revolutionary War. The next day, Adams wrote to his wife Abigail: \"The\n",
    "Second Day of July 1776, will be the most memorable Epocha, in the History of America.\"\n",
    "But Independence Day is actually celebrated on July 4, the date that the Declaration of\n",
    "Independence was approved.\n",
    "\n",
    "After ratifying the text on July 4, Congress issued the Declaration of Independence in\n",
    "several forms. It was initially published as the printed Dunlap broadside that was widely\n",
    "distributed and read to the public. The source copy used for this printing has been lost,\n",
    "and may have been a copy in Thomas Jefferson's hand.[5] Jefferson's original draft, complete\n",
    "with changes made by John Adams and Benjamin Franklin, and Jefferson's notes of changes made\n",
    "by Congress, are preserved at the Library of Congress. The best-known version of the Declaration\n",
    "is a signed copy that is displayed at the National Archives in Washington, D.C., and which is\n",
    "popularly regarded as the official document. This engrossed copy was ordered by Congress on\n",
    "July 19 and signed primarily on August 2.\n",
    "\n",
    "The sources and interpretation of the Declaration have been the subject of much scholarly inquiry.\n",
    "The Declaration justified the independence of the United States by listing colonial grievances against\n",
    "King George III, and by asserting certain natural and legal rights, including a right of revolution.\n",
    "Having served its original purpose in announcing independence, references to the text of the\n",
    "Declaration were few in the following years. Abraham Lincoln made it the centerpiece of his rhetoric\n",
    "(as in the Gettysburg Address of 1863) and his policies. Since then, it has become a well-known statement\n",
    "on human rights, particularly its second sentence:\n",
    "\n",
    "We hold these truths to be self-evident, that all men are created equal, that they are endowed by their\n",
    "Creator with certain unalienable Rights, that among these are Life, Liberty and the pursuit of Happiness.\n",
    "\n",
    "This has been called \"one of the best-known sentences in the English language\", containing \"the most potent\n",
    "and consequential words in American history\". The passage came to represent a moral standard to which\n",
    "the United States should strive. This view was notably promoted by Abraham Lincoln, who considered the\n",
    "Declaration to be the foundation of his political philosophy and argued that it is a statement of principles\n",
    "through which the United States Constitution should be interpreted.\n",
    "\n",
    "The U.S. Declaration of Independence inspired many other similar documents in other countries, the first\n",
    "being the 1789 Declaration of Flanders issued during the Brabant Revolution in the Austrian Netherlands\n",
    "(modern-day Belgium). It also served as the primary model for numerous declarations of independence across\n",
    "Europe and Latin America, as well as Africa (Liberia) and Oceania (New Zealand) during the first half of the\n",
    "19th century.'''"
   ]
  },
  {
   "cell_type": "code",
   "execution_count": 35,
   "id": "85444754",
   "metadata": {},
   "outputs": [],
   "source": [
    "# Convert the long text to a list of words\n",
    "words = string_words.split()"
   ]
  },
  {
   "cell_type": "code",
   "execution_count": 36,
   "id": "96266e0f",
   "metadata": {},
   "outputs": [],
   "source": [
    "# Create a dictionary to store word frequencies\n",
    "frequency = {}"
   ]
  },
  {
   "cell_type": "markdown",
   "id": "1720e92e",
   "metadata": {},
   "source": [
    "> The `for` loop iterates over each word in the `words` list. For each word, it checks if the word already exists as a key in the `frequency` dictionary. If it does, the corresponding count is incremented. If it doesn't, a new key is added to the dictionary with an initial count of 1."
   ]
  },
  {
   "cell_type": "code",
   "execution_count": 37,
   "id": "3f3d9750",
   "metadata": {},
   "outputs": [],
   "source": [
    "# Count the frequency of each word\n",
    "for word in words:\n",
    "    if word in frequency:\n",
    "        frequency[word] += 1\n",
    "    else:\n",
    "        frequency[word] = 1"
   ]
  },
  {
   "cell_type": "markdown",
   "id": "e68509cb",
   "metadata": {},
   "source": [
    "> another `for` loop is used to print each word and its frequency. The `items()` method is used to iterate over the key-value pairs in the `frequency` dictionary. The output will display each word followed by its frequency count."
   ]
  },
  {
   "cell_type": "code",
   "execution_count": 38,
   "id": "6ed6a4f5",
   "metadata": {},
   "outputs": [
    {
     "name": "stdout",
     "output_type": "stream",
     "text": [
      "United: 6\n",
      "States: 6\n",
      "Declaration: 12\n",
      "of: 30\n",
      "Independence: 6\n",
      "From: 1\n",
      "Wikipedia,: 1\n",
      "the: 49\n",
      "free: 1\n",
      "encyclopedia: 1\n",
      "The: 9\n",
      "is: 6\n",
      "statement: 3\n",
      "adopted: 1\n",
      "by: 8\n",
      "Second: 2\n",
      "Continental: 1\n",
      "Congress: 6\n",
      "meeting: 1\n",
      "at: 4\n",
      "Pennsylvania: 1\n",
      "State: 1\n",
      "House: 1\n",
      "(Independence: 1\n",
      "Hall): 1\n",
      "in: 13\n",
      "Philadelphia: 1\n",
      "on: 9\n",
      "July: 7\n",
      "4,: 3\n",
      "1776,: 2\n",
      "which: 6\n",
      "announced: 1\n",
      "that: 8\n",
      "thirteen: 2\n",
      "American: 3\n",
      "colonies,: 1\n",
      "then: 1\n",
      "war: 1\n",
      "with: 4\n",
      "Kingdom: 1\n",
      "Great: 2\n",
      "Britain,: 2\n",
      "regarded: 2\n",
      "themselves: 1\n",
      "as: 6\n",
      "independent: 1\n",
      "sovereign: 1\n",
      "states,: 1\n",
      "no: 2\n",
      "longer: 1\n",
      "under: 1\n",
      "British: 1\n",
      "rule.: 1\n",
      "These: 1\n",
      "states: 1\n",
      "would: 2\n",
      "found: 1\n",
      "a: 10\n",
      "new: 1\n",
      "nation: 1\n",
      "–: 1\n",
      "America.: 1\n",
      "John: 3\n",
      "Adams: 4\n",
      "was: 8\n",
      "leader: 1\n",
      "pushing: 1\n",
      "for: 3\n",
      "independence,: 2\n",
      "passed: 1\n",
      "2: 2\n",
      "opposing: 1\n",
      "vote: 1\n",
      "cast.: 1\n",
      "A: 1\n",
      "committee: 2\n",
      "five: 1\n",
      "had: 2\n",
      "already: 1\n",
      "drafted: 1\n",
      "formal: 2\n",
      "declaration,: 1\n",
      "to: 12\n",
      "be: 5\n",
      "ready: 1\n",
      "when: 1\n",
      "voted: 2\n",
      "independence.: 1\n",
      "persuaded: 1\n",
      "select: 1\n",
      "Thomas: 2\n",
      "Jefferson: 1\n",
      "compose: 1\n",
      "original: 3\n",
      "draft: 1\n",
      "document,: 1\n",
      "edit: 1\n",
      "produce: 1\n",
      "final: 1\n",
      "version.: 1\n",
      "ultimately: 1\n",
      "explanation: 1\n",
      "why: 1\n",
      "declare: 1\n",
      "independence: 3\n",
      "from: 1\n",
      "more: 1\n",
      "than: 1\n",
      "year: 1\n",
      "after: 1\n",
      "outbreak: 1\n",
      "Revolutionary: 1\n",
      "War.: 1\n",
      "next: 1\n",
      "day,: 1\n",
      "wrote: 1\n",
      "his: 4\n",
      "wife: 1\n",
      "Abigail:: 1\n",
      "\"The: 1\n",
      "Day: 2\n",
      "will: 1\n",
      "most: 2\n",
      "memorable: 1\n",
      "Epocha,: 1\n",
      "History: 1\n",
      "America.\": 1\n",
      "But: 1\n",
      "actually: 1\n",
      "celebrated: 1\n",
      "date: 1\n",
      "approved.: 1\n",
      "After: 1\n",
      "ratifying: 1\n",
      "text: 2\n",
      "issued: 2\n",
      "several: 1\n",
      "forms.: 1\n",
      "It: 2\n",
      "initially: 1\n",
      "published: 1\n",
      "printed: 1\n",
      "Dunlap: 1\n",
      "broadside: 1\n",
      "widely: 1\n",
      "distributed: 1\n",
      "and: 15\n",
      "read: 1\n",
      "public.: 1\n",
      "source: 1\n",
      "copy: 4\n",
      "used: 1\n",
      "this: 1\n",
      "printing: 1\n",
      "has: 3\n",
      "been: 4\n",
      "lost,: 1\n",
      "may: 1\n",
      "have: 2\n",
      "Jefferson's: 3\n",
      "hand.[5]: 1\n",
      "draft,: 1\n",
      "complete: 1\n",
      "changes: 2\n",
      "made: 3\n",
      "Benjamin: 1\n",
      "Franklin,: 1\n",
      "notes: 1\n",
      "Congress,: 1\n",
      "are: 4\n",
      "preserved: 1\n",
      "Library: 1\n",
      "Congress.: 1\n",
      "best-known: 2\n",
      "version: 1\n",
      "signed: 2\n",
      "displayed: 1\n",
      "National: 1\n",
      "Archives: 1\n",
      "Washington,: 1\n",
      "D.C.,: 1\n",
      "popularly: 1\n",
      "official: 1\n",
      "document.: 1\n",
      "This: 3\n",
      "engrossed: 1\n",
      "ordered: 1\n",
      "19: 1\n",
      "primarily: 1\n",
      "August: 1\n",
      "2.: 1\n",
      "sources: 1\n",
      "interpretation: 1\n",
      "subject: 1\n",
      "much: 1\n",
      "scholarly: 1\n",
      "inquiry.: 1\n",
      "justified: 1\n",
      "listing: 1\n",
      "colonial: 1\n",
      "grievances: 1\n",
      "against: 1\n",
      "King: 1\n",
      "George: 1\n",
      "III,: 1\n",
      "asserting: 1\n",
      "certain: 2\n",
      "natural: 1\n",
      "legal: 1\n",
      "rights,: 2\n",
      "including: 1\n",
      "right: 1\n",
      "revolution.: 1\n",
      "Having: 1\n",
      "served: 2\n",
      "its: 2\n",
      "purpose: 1\n",
      "announcing: 1\n",
      "references: 1\n",
      "were: 1\n",
      "few: 1\n",
      "following: 1\n",
      "years.: 1\n",
      "Abraham: 2\n",
      "Lincoln: 1\n",
      "it: 3\n",
      "centerpiece: 1\n",
      "rhetoric: 1\n",
      "(as: 1\n",
      "Gettysburg: 1\n",
      "Address: 1\n",
      "1863): 1\n",
      "policies.: 1\n",
      "Since: 1\n",
      "then,: 1\n",
      "become: 1\n",
      "well-known: 1\n",
      "human: 1\n",
      "particularly: 1\n",
      "second: 1\n",
      "sentence:: 1\n",
      "We: 1\n",
      "hold: 1\n",
      "these: 2\n",
      "truths: 1\n",
      "self-evident,: 1\n",
      "all: 1\n",
      "men: 1\n",
      "created: 1\n",
      "equal,: 1\n",
      "they: 1\n",
      "endowed: 1\n",
      "their: 1\n",
      "Creator: 1\n",
      "unalienable: 1\n",
      "Rights,: 1\n",
      "among: 1\n",
      "Life,: 1\n",
      "Liberty: 1\n",
      "pursuit: 1\n",
      "Happiness.: 1\n",
      "called: 1\n",
      "\"one: 1\n",
      "sentences: 1\n",
      "English: 1\n",
      "language\",: 1\n",
      "containing: 1\n",
      "\"the: 1\n",
      "potent: 1\n",
      "consequential: 1\n",
      "words: 1\n",
      "history\".: 1\n",
      "passage: 1\n",
      "came: 1\n",
      "represent: 1\n",
      "moral: 1\n",
      "standard: 1\n",
      "should: 2\n",
      "strive.: 1\n",
      "view: 1\n",
      "notably: 1\n",
      "promoted: 1\n",
      "Lincoln,: 1\n",
      "who: 1\n",
      "considered: 1\n",
      "foundation: 1\n",
      "political: 1\n",
      "philosophy: 1\n",
      "argued: 1\n",
      "principles: 1\n",
      "through: 1\n",
      "Constitution: 1\n",
      "interpreted.: 1\n",
      "U.S.: 1\n",
      "inspired: 1\n",
      "many: 1\n",
      "other: 2\n",
      "similar: 1\n",
      "documents: 1\n",
      "countries,: 1\n",
      "first: 2\n",
      "being: 1\n",
      "1789: 1\n",
      "Flanders: 1\n",
      "during: 2\n",
      "Brabant: 1\n",
      "Revolution: 1\n",
      "Austrian: 1\n",
      "Netherlands: 1\n",
      "(modern-day: 1\n",
      "Belgium).: 1\n",
      "also: 1\n",
      "primary: 1\n",
      "model: 1\n",
      "numerous: 1\n",
      "declarations: 1\n",
      "across: 1\n",
      "Europe: 1\n",
      "Latin: 1\n",
      "America,: 1\n",
      "well: 1\n",
      "Africa: 1\n",
      "(Liberia): 1\n",
      "Oceania: 1\n",
      "(New: 1\n",
      "Zealand): 1\n",
      "half: 1\n",
      "19th: 1\n",
      "century.: 1\n"
     ]
    }
   ],
   "source": [
    "# Print the words and their frequencies\n",
    "for word, count in frequency.items():\n",
    "    print(f\"{word}: {count}\")"
   ]
  },
  {
   "cell_type": "markdown",
   "id": "e04aa11a",
   "metadata": {},
   "source": [
    "---"
   ]
  },
  {
   "cell_type": "markdown",
   "id": "19a051b6",
   "metadata": {},
   "source": [
    "---"
   ]
  },
  {
   "cell_type": "markdown",
   "id": "4eef8557",
   "metadata": {},
   "source": [
    "### 7. Write a Python program to count the number of each character in a text file. "
   ]
  },
  {
   "cell_type": "code",
   "execution_count": 33,
   "id": "11c7415e",
   "metadata": {},
   "outputs": [],
   "source": [
    "import os"
   ]
  },
  {
   "cell_type": "code",
   "execution_count": 34,
   "id": "194b5468",
   "metadata": {},
   "outputs": [
    {
     "name": "stdout",
     "output_type": "stream",
     "text": [
      "D:\\01 Dropbox\\Dropbox\\Javier\\10 Coding\\Repositories\\Python\\001_w3resource\\001_w3resource_PythonBasic\n"
     ]
    }
   ],
   "source": [
    "# Primero veo en que directorio estoy\n",
    "curr_dir = os.getcwd()\n",
    "print(curr_dir)"
   ]
  },
  {
   "cell_type": "code",
   "execution_count": 35,
   "id": "7229cce6",
   "metadata": {},
   "outputs": [
    {
     "name": "stdout",
     "output_type": "stream",
     "text": [
      ".ipynb_checkpoints\n",
      "0001_Python basic (Part -I) 1 - 25.ipynb\n",
      "0002_Python basic (Part -I) 26 - 50.ipynb\n",
      "0003_Python basic (Part -I) 51 - 75.ipynb\n",
      "0004_Python basic (Part -I) 76 - 100.ipynb\n",
      "0005_Python basic (Part -I) 101 - 125.ipynb\n",
      "0006_Python basic (Part -I) 126 - 150.ipynb\n",
      "0007_Python basic (Part - II) 1 - 25.ipynb\n",
      "README.md\n",
      "sample_text_file.txt\n"
     ]
    }
   ],
   "source": [
    "# Con esto enlisto los archivos de este directorio\n",
    "files_in_dir = os.listdir(curr_dir)\n",
    "for file in files_in_dir:\n",
    "    print(file)"
   ]
  },
  {
   "cell_type": "code",
   "execution_count": 36,
   "id": "b827eaad",
   "metadata": {},
   "outputs": [],
   "source": [
    "# Me interesa contar los caracteres de \"sample_text_file.txt\"\n",
    "file_name = 'sample_text_file.txt'"
   ]
  },
  {
   "cell_type": "code",
   "execution_count": 37,
   "id": "52c97dd7",
   "metadata": {},
   "outputs": [
    {
     "name": "stdout",
     "output_type": "stream",
     "text": [
      "D:\\01 Dropbox\\Dropbox\\Javier\\10 Coding\\Repositories\\Python\\001_w3resource\\001_w3resource_PythonBasic\\sample_text_file.txt\n"
     ]
    }
   ],
   "source": [
    "fullPathToFile = os.path.join(curr_dir, file_name)\n",
    "print(fullPathToFile)"
   ]
  },
  {
   "cell_type": "code",
   "execution_count": 38,
   "id": "55e07d8e",
   "metadata": {},
   "outputs": [
    {
     "name": "stdout",
     "output_type": "stream",
     "text": [
      "Character '1': 1 times\n",
      "Character '\n",
      "': 9 times\n",
      "Character '2': 2 times\n",
      "Character '3': 3 times\n",
      "Character '4': 4 times\n",
      "Character '5': 5 times\n",
      "Character '6': 6 times\n",
      "Character '7': 7 times\n",
      "Character '8': 8 times\n",
      "Character '9': 9 times\n",
      "Character '0': 10 times\n"
     ]
    }
   ],
   "source": [
    "# Verificar que el archivo existe\n",
    "if os.path.exists(fullPathToFile):\n",
    "    try:\n",
    "        with open(fullPathToFile, 'r') as file:\n",
    "            # Leer el contenido del archivo\n",
    "            content = file.read()\n",
    "            \n",
    "            # Crear un diccionario para almacenar la frecuencia de cada caracter\n",
    "            char_count = {}\n",
    "            \n",
    "            # Contar los caracteres\n",
    "            for char in content:\n",
    "                char_count[char] = char_count.get(char, 0) + 1\n",
    "                \n",
    "            # Imprimir el resultado\n",
    "            for char, count in char_count.items():\n",
    "                print(f\"Character '{char}': {count} times\")\n",
    "            \n",
    "    except Exception as e:\n",
    "        print(f\"Error: {e}\")\n",
    "\n",
    "else:\n",
    "    print(f\"The file {file_name} doesnt exists\")"
   ]
  },
  {
   "cell_type": "code",
   "execution_count": 39,
   "id": "19be4fc3",
   "metadata": {},
   "outputs": [
    {
     "name": "stdout",
     "output_type": "stream",
     "text": [
      "Character '1': 1 times\n",
      "Character '2': 2 times\n",
      "Character '3': 3 times\n",
      "Character '4': 4 times\n",
      "Character '5': 5 times\n",
      "Character '6': 6 times\n",
      "Character '7': 7 times\n",
      "Character '8': 8 times\n",
      "Character '9': 9 times\n",
      "Character '0': 10 times\n"
     ]
    }
   ],
   "source": [
    "# Esta es otra version pero corrijo el error anterior de pasar a la siguiente linea\n",
    "# Verificar que el archivo existe\n",
    "if os.path.exists(fullPathToFile):\n",
    "    try:\n",
    "        with open(fullPathToFile, 'r') as file:\n",
    "            # AQUI se corrige, se remplaza /n\n",
    "            # Leer el contenido del archivo\n",
    "            content = file.read().replace('\\n', '')\n",
    "            \n",
    "            # Crear un diccionario para almacenar la frecuencia de cada caracter\n",
    "            char_count = {}\n",
    "            \n",
    "            # Contar los caracteres\n",
    "            for char in content:\n",
    "                char_count[char] = char_count.get(char, 0) + 1\n",
    "                \n",
    "            # Imprimir el resultado\n",
    "            for char, count in char_count.items():\n",
    "                print(f\"Character '{char}': {count} times\")\n",
    "            \n",
    "    except Exception as e:\n",
    "        print(f\"Error: {e}\")\n",
    "\n",
    "else:\n",
    "    print(f\"The file {file_name} doesnt exists\")"
   ]
  },
  {
   "cell_type": "markdown",
   "id": "f7d6967e",
   "metadata": {},
   "source": [
    "---"
   ]
  },
  {
   "cell_type": "markdown",
   "id": "8f739616",
   "metadata": {},
   "source": [
    "---"
   ]
  },
  {
   "cell_type": "markdown",
   "id": "a156a65d",
   "metadata": {},
   "source": [
    "### 8. Write a Python program that retrieves the top stories from Google News. "
   ]
  },
  {
   "cell_type": "code",
   "execution_count": 43,
   "id": "c6eb3513",
   "metadata": {},
   "outputs": [],
   "source": [
    "import requests\n",
    "from bs4 import BeautifulSoup"
   ]
  },
  {
   "cell_type": "code",
   "execution_count": 44,
   "id": "bd3d6313",
   "metadata": {},
   "outputs": [],
   "source": [
    "# Function to fetch Google News RSS content\n",
    "def get_google_news_rss():\n",
    "    news_url = \"https://news.google.com/news/rss\"\n",
    "    response = requests.get(news_url)\n",
    "    return response.text\n",
    "\n",
    "# Function ro parse RSS content using BeautifulSoup\n",
    "def parse_rss(xml_content):\n",
    "    # Create a BeautifulSoup object with the XML content\n",
    "    soup_page = BeautifulSoup(xml_content, \"xml\")\n",
    "    # Find all items in the RSS feed \n",
    "    return soup_page.find_all(\"item\")\n",
    "\n",
    "# Function to print the news from parsed RSS data\n",
    "def print_news_info(news_list):\n",
    "    for news in news_list:\n",
    "        # Print the title, link, and publication date of each news article\n",
    "        print(\"Title:\", news.title.text)\n",
    "        print(\"Link:\", news.link.text)\n",
    "        print(\"Publication Date:\", news.pubDate.text)\n",
    "        print(\"-\" * 60)"
   ]
  },
  {
   "cell_type": "code",
   "execution_count": 45,
   "id": "a2fffdc8",
   "metadata": {},
   "outputs": [
    {
     "name": "stdout",
     "output_type": "stream",
     "text": [
      "Title: House GOP pursuing two-step plan to avert government shutdown - CNN\n",
      "Link: https://news.google.com/rss/articles/CBMiVWh0dHBzOi8vd3d3LmNubi5jb20vMjAyMy8xMS8xMS9wb2xpdGljcy9ob3VzZS1zcGVha2VyLW1pa2Utam9obnNvbi1waXRjaGVzL2luZGV4Lmh0bWzSAVlodHRwczovL2FtcC5jbm4uY29tL2Nubi8yMDIzLzExLzExL3BvbGl0aWNzL2hvdXNlLXNwZWFrZXItbWlrZS1qb2huc29uLXBpdGNoZXMvaW5kZXguaHRtbA?oc=5\n",
      "Publication Date: Sat, 11 Nov 2023 23:09:00 GMT\n",
      "------------------------------------------------------------\n",
      "Title: Mass exodus in the wake of strike outside Al-Shifa hospital’s outpatient clinic - 6abc Philadelphia\n",
      "Link: https://news.google.com/rss/articles/CCAiCzhQOEVDTjlFal9zmAEB?oc=5\n",
      "Publication Date: Sat, 11 Nov 2023 02:45:00 GMT\n",
      "------------------------------------------------------------\n",
      "Title: Biden hammered for seeming confused during Veterans Day wreath laying: ‘Just so embarrassing’ - Fox News\n",
      "Link: https://news.google.com/rss/articles/CBMidGh0dHBzOi8vd3d3LmZveG5ld3MuY29tL21lZGlhL2JpZGVuLWhhbW1lcmVkLXNlZW1pbmctY29uZnVzZWQtZHVyaW5nLXZldGVyYW5zLWRheS13cmVhdGgtbGF5aW5nLWp1c3Qtc28tZW1iYXJyYXNzaW5n0gF4aHR0cHM6Ly93d3cuZm94bmV3cy5jb20vbWVkaWEvYmlkZW4taGFtbWVyZWQtc2VlbWluZy1jb25mdXNlZC1kdXJpbmctdmV0ZXJhbnMtZGF5LXdyZWF0aC1sYXlpbmctanVzdC1zby1lbWJhcnJhc3NpbmcuYW1w?oc=5\n",
      "Publication Date: Sat, 11 Nov 2023 19:54:30 GMT\n",
      "------------------------------------------------------------\n",
      "Title: 1 officer, 2 hostages killed overnight in Austin - CBS News\n",
      "Link: https://news.google.com/rss/articles/CBMiU2h0dHBzOi8vd3d3LmNic25ld3MuY29tL3RleGFzL25ld3MvMS1vZmZpY2VyLTItaG9zdGFnZXMta2lsbGVkLW92ZXJuaWdodC1pbi1hdXN0aW4v0gFXaHR0cHM6Ly93d3cuY2JzbmV3cy5jb20vYW1wL3RleGFzL25ld3MvMS1vZmZpY2VyLTItaG9zdGFnZXMta2lsbGVkLW92ZXJuaWdodC1pbi1hdXN0aW4v?oc=5\n",
      "Publication Date: Sat, 11 Nov 2023 19:00:00 GMT\n",
      "------------------------------------------------------------\n",
      "Title: Netanyahu says he opposes Palestinian Authority's return to post-war Gaza - Axios\n",
      "Link: https://news.google.com/rss/articles/CBMiV2h0dHBzOi8vd3d3LmF4aW9zLmNvbS8yMDIzLzExLzExL2dhemEtcGFsZXN0aW5pYW4tYXV0aG9yaXR5LWNvbnRyb2wtbmV0YW55YWh1LWhhbWFzLXdhctIBAA?oc=5\n",
      "Publication Date: Sat, 11 Nov 2023 21:47:52 GMT\n",
      "------------------------------------------------------------\n",
      "Title: Fire closes major highway in Los Angeles - ABC News\n",
      "Link: https://news.google.com/rss/articles/CBMiU2h0dHBzOi8vYWJjbmV3cy5nby5jb20vVVMvd2lyZVN0b3J5L2ZpcmUtY2xvc2VzLW1ham9yLWhpZ2h3YXktbG9zLWFuZ2VsZXMtMTA0ODIyNDg10gFXaHR0cHM6Ly9hYmNuZXdzLmdvLmNvbS9hbXAvVVMvd2lyZVN0b3J5L2ZpcmUtY2xvc2VzLW1ham9yLWhpZ2h3YXktbG9zLWFuZ2VsZXMtMTA0ODIyNDg1?oc=5\n",
      "Publication Date: Sat, 11 Nov 2023 19:48:34 GMT\n",
      "------------------------------------------------------------\n",
      "Title: Suspect released in murder of Detroit synagogue president Samantha Woll - CBS News\n",
      "Link: https://news.google.com/rss/articles/CBMibWh0dHBzOi8vd3d3LmNic25ld3MuY29tL2RldHJvaXQvbmV3cy9zdXNwZWN0LXJlbGVhc2VkLWluLW11cmRlci1vZi1kZXRyb2l0LXN5bmFnb2d1ZS1wcmVzaWRlbnQtc2FtYW50aGEtd29sbC_SAXFodHRwczovL3d3dy5jYnNuZXdzLmNvbS9hbXAvZGV0cm9pdC9uZXdzL3N1c3BlY3QtcmVsZWFzZWQtaW4tbXVyZGVyLW9mLWRldHJvaXQtc3luYWdvZ3VlLXByZXNpZGVudC1zYW1hbnRoYS13b2xsLw?oc=5\n",
      "Publication Date: Sat, 11 Nov 2023 20:27:01 GMT\n",
      "------------------------------------------------------------\n",
      "Title: Ohio Voted to Protect Abortion Rights. Could Florida Be Next? - The New York Times\n",
      "Link: https://news.google.com/rss/articles/CBMiS2h0dHBzOi8vd3d3Lm55dGltZXMuY29tLzIwMjMvMTEvMTEvdXMvYWJvcnRpb24tYmFsbG90LW1lYXN1cmVzLWZsb3JpZGEuaHRtbNIBAA?oc=5\n",
      "Publication Date: Sat, 11 Nov 2023 10:02:29 GMT\n",
      "------------------------------------------------------------\n",
      "Title: An unlikely trio of Trump supporters are now his defiant co-defendants - The Washington Post\n",
      "Link: https://news.google.com/rss/articles/CBMigAFodHRwczovL3d3dy53YXNoaW5ndG9ucG9zdC5jb20vbmF0aW9uYWwtc2VjdXJpdHkvMjAyMy8xMS8xMS90cnVtcC1nZW9yZ2lhLXJ1YnktZnJlZW1hbi1oYXJyaXNvbi1mbG95ZC10cmV2aWFuLWt1dHRpLXN0ZXBoZW4tbGVlL9IBAA?oc=5\n",
      "Publication Date: Sat, 11 Nov 2023 22:39:00 GMT\n",
      "------------------------------------------------------------\n",
      "Title: New site posting daily updates on if Eric Adams has been arrested in FBI probe - New York Post \n",
      "Link: https://news.google.com/rss/articles/CBMiYGh0dHBzOi8vbnlwb3N0LmNvbS8yMDIzLzExLzExL21ldHJvL25ldy13ZWJzaXRlLWdpdmVzLXVwZGF0ZXMtb24tbWF5b3ItZXJpYy1hZGFtcy1hcnJlc3Qtc3RhdHVzL9IBZGh0dHBzOi8vbnlwb3N0LmNvbS8yMDIzLzExLzExL21ldHJvL25ldy13ZWJzaXRlLWdpdmVzLXVwZGF0ZXMtb24tbWF5b3ItZXJpYy1hZGFtcy1hcnJlc3Qtc3RhdHVzL2FtcC8?oc=5\n",
      "Publication Date: Sat, 11 Nov 2023 16:53:00 GMT\n",
      "------------------------------------------------------------\n",
      "Title: 300,000 march against Israel in London on Armistice Day, demand Gaza ceasefire - The Times of Israel\n",
      "Link: https://news.google.com/rss/articles/CBMic2h0dHBzOi8vd3d3LnRpbWVzb2Zpc3JhZWwuY29tL21hbnktdGhvdXNhbmRzLW1hcmNoLWFnYWluc3QtaXNyYWVsLWluLWxvbmRvbi1vbi1hcm1pc3RpY2UtZGF5LWRlbWFuZC1nYXphLWNlYXNlZmlyZS_SAXdodHRwczovL3d3dy50aW1lc29maXNyYWVsLmNvbS9tYW55LXRob3VzYW5kcy1tYXJjaC1hZ2FpbnN0LWlzcmFlbC1pbi1sb25kb24tb24tYXJtaXN0aWNlLWRheS1kZW1hbmQtZ2F6YS1jZWFzZWZpcmUvYW1wLw?oc=5\n",
      "Publication Date: Sat, 11 Nov 2023 20:20:18 GMT\n",
      "------------------------------------------------------------\n",
      "Title: More than 800 Sudanese reportedly killed in attack on Darfur town, UN says - ABC News\n",
      "Link: https://news.google.com/rss/articles/CBMiamh0dHBzOi8vYWJjbmV3cy5nby5jb20vSW50ZXJuYXRpb25hbC93aXJlU3RvcnkvODAwLXN1ZGFuZXNlLXJlcG9ydGVkbHkta2lsbGVkLWF0dGFjay1kYXJmdXItdG93bi0xMDQ4MjI2NjfSAW5odHRwczovL2FiY25ld3MuZ28uY29tL2FtcC9JbnRlcm5hdGlvbmFsL3dpcmVTdG9yeS84MDAtc3VkYW5lc2UtcmVwb3J0ZWRseS1raWxsZWQtYXR0YWNrLWRhcmZ1ci10b3duLTEwNDgyMjY2Nw?oc=5\n",
      "Publication Date: Sat, 11 Nov 2023 19:51:36 GMT\n",
      "------------------------------------------------------------\n",
      "Title: Iceland prepares for volcanic eruption in coming days - Reuters\n",
      "Link: https://news.google.com/rss/articles/CBMiZ2h0dHBzOi8vd3d3LnJldXRlcnMuY29tL3dvcmxkL2V1cm9wZS9pY2VsYW5kLWV2YWN1YXRlcy10b3duLW92ZXItY29uY2VybnMtdm9sY2FuaWMtZXJ1cHRpb24tMjAyMy0xMS0xMS_SAQA?oc=5\n",
      "Publication Date: Sat, 11 Nov 2023 19:29:00 GMT\n",
      "------------------------------------------------------------\n",
      "Title: Arab-Islamic summit rejects justifying Gaza war as Israeli self-defence - Al Jazeera English\n",
      "Link: https://news.google.com/rss/articles/CBMia2h0dHBzOi8vd3d3LmFsamF6ZWVyYS5jb20vbmV3cy8yMDIzLzExLzExL3NhdWRpLWFyYWJpYS10by1ob3N0LWFyYWItaXNsYW1pYy1zdW1taXQtdG8tdW5pZnktZWZmb3J0cy1vbi1nYXph0gFvaHR0cHM6Ly93d3cuYWxqYXplZXJhLmNvbS9hbXAvbmV3cy8yMDIzLzExLzExL3NhdWRpLWFyYWJpYS10by1ob3N0LWFyYWItaXNsYW1pYy1zdW1taXQtdG8tdW5pZnktZWZmb3J0cy1vbi1nYXph?oc=5\n",
      "Publication Date: Sat, 11 Nov 2023 14:19:34 GMT\n",
      "------------------------------------------------------------\n",
      "Title: Wall Street and Beijing fight fallout of ransomware attack on China's biggest bank - Financial Times\n",
      "Link: https://news.google.com/rss/articles/CBMiP2h0dHBzOi8vd3d3LmZ0LmNvbS9jb250ZW50L2IwOGMzMTU5LTk4MmUtNDgzMS04ODk3LWUzNWY4YWNhNDllMdIBAA?oc=5\n",
      "Publication Date: Fri, 10 Nov 2023 22:54:17 GMT\n",
      "------------------------------------------------------------\n",
      "Title: Despite the wave of boomers returning to work after the Great Retirement, there are still 2 million more retirees than America’s workforce can handle - Fortune\n",
      "Link: https://news.google.com/rss/articles/CBMiVGh0dHBzOi8vZm9ydHVuZS5jb20vMjAyMy8xMS8xMS9ib29tZXJzLXJldGlyZW1lbnQtc3VycGx1cy1wcm9ibGVtLXJldHVybmluZy10by13b3JrL9IBWGh0dHBzOi8vZm9ydHVuZS5jb20vMjAyMy8xMS8xMS9ib29tZXJzLXJldGlyZW1lbnQtc3VycGx1cy1wcm9ibGVtLXJldHVybmluZy10by13b3JrL2FtcC8?oc=5\n",
      "Publication Date: Sat, 11 Nov 2023 13:00:00 GMT\n",
      "------------------------------------------------------------\n",
      "Title: Jezebel Is Dead. Long Live Jezebel - Rolling Stone\n",
      "Link: https://news.google.com/rss/articles/CBMiYWh0dHBzOi8vd3d3LnJvbGxpbmdzdG9uZS5jb20vY3VsdHVyZS9jdWx0dXJlLWZlYXR1cmVzL2plemViZWwtc2h1dHMtZG93bi13b21lbnMtbWVkaWEtMTIzNDg3NTUyMC_SAWVodHRwczovL3d3dy5yb2xsaW5nc3RvbmUuY29tL2N1bHR1cmUvY3VsdHVyZS1mZWF0dXJlcy9qZXplYmVsLXNodXRzLWRvd24td29tZW5zLW1lZGlhLTEyMzQ4NzU1MjAvYW1wLw?oc=5\n",
      "Publication Date: Sat, 11 Nov 2023 13:25:09 GMT\n",
      "------------------------------------------------------------\n",
      "Title: 36 Game-Changing Products To Up Your Kitchen Game - BuzzFeed\n",
      "Link: https://news.google.com/rss/articles/CBMiRmh0dHBzOi8vd3d3LmJ1enpmZWVkLmNvbS9jb3VydG5leV9seW5jaC9nYW1lLWNoYW5naW5nLWtpdGNoZW4tcHJvZHVjdHPSAQA?oc=5\n",
      "Publication Date: Sat, 11 Nov 2023 12:01:02 GMT\n",
      "------------------------------------------------------------\n",
      "Title: Qualcomm's satellite texting plan is dead because phone makers aren't interested - Engadget\n",
      "Link: https://news.google.com/rss/articles/CBMidmh0dHBzOi8vd3d3LmVuZ2FkZ2V0LmNvbS9xdWFsY29tbXMtc2F0ZWxsaXRlLXRleHRpbmctcGxhbi1pcy1kZWFkLWJlY2F1c2UtcGhvbmUtbWFrZXJzLWFyZW50LWludGVyZXN0ZWQtMjA0MzMxMDkxLmh0bWzSAXpodHRwczovL3d3dy5lbmdhZGdldC5jb20vYW1wL3F1YWxjb21tcy1zYXRlbGxpdGUtdGV4dGluZy1wbGFuLWlzLWRlYWQtYmVjYXVzZS1waG9uZS1tYWtlcnMtYXJlbnQtaW50ZXJlc3RlZC0yMDQzMzEwOTEuaHRtbA?oc=5\n",
      "Publication Date: Fri, 10 Nov 2023 20:43:31 GMT\n",
      "------------------------------------------------------------\n",
      "Title: Amazon is rumored to be planning to ditch Android on its Fire devices - TechRadar\n",
      "Link: https://news.google.com/rss/articles/CBMib2h0dHBzOi8vd3d3LnRlY2hyYWRhci5jb20vaG9tZS9zbWFydC1ob21lL2FtYXpvbi1pcy1ydW1vcmVkLXRvLWJlLXBsYW5uaW5nLXRvLWRpdGNoLWFuZHJvaWQtb24taXRzLWZpcmUtZGV2aWNlc9IBAA?oc=5\n",
      "Publication Date: Sat, 11 Nov 2023 11:30:51 GMT\n",
      "------------------------------------------------------------\n",
      "Title: Code in iOS 17.2 beta reveals that Apple will allow iPhone to sideload apps - PhoneArena\n",
      "Link: https://news.google.com/rss/articles/CBMiSWh0dHBzOi8vd3d3LnBob25lYXJlbmEuY29tL25ld3MvY29kZS1pb3MtYmV0YS1pcGhvbmUtc2lkZWxvYWRpbmdfaWQxNTI0OTXSAQA?oc=5\n",
      "Publication Date: Sat, 11 Nov 2023 09:52:30 GMT\n",
      "------------------------------------------------------------\n",
      "Title: The Humane AI Pin is a bizarre cross between Google Glass and a pager - Ars Technica\n",
      "Link: https://news.google.com/rss/articles/CBMicWh0dHBzOi8vYXJzdGVjaG5pY2EuY29tL2dhZGdldHMvMjAyMy8xMS9odW1hbmUtYWktcGluLWEtNzAwLXZvaWNlLWNvbW1hbmQtYm94LWRlZmluaXRlbHktd29udC1yZXBsYWNlLXlvdXItcGhvbmUv0gF1aHR0cHM6Ly9hcnN0ZWNobmljYS5jb20vZ2FkZ2V0cy8yMDIzLzExL2h1bWFuZS1haS1waW4tYS03MDAtdm9pY2UtY29tbWFuZC1ib3gtZGVmaW5pdGVseS13b250LXJlcGxhY2UteW91ci1waG9uZS9hbXAv?oc=5\n",
      "Publication Date: Fri, 10 Nov 2023 21:56:32 GMT\n",
      "------------------------------------------------------------\n",
      "Title: Taylor Swift and Travis Kelce Spotted Holding Hands on Dinner Date in Argentina - Entertainment Tonight\n",
      "Link: https://news.google.com/rss/articles/CBMib2h0dHBzOi8vd3d3LmV0b25saW5lLmNvbS90YXlsb3Itc3dpZnQtYW5kLXRyYXZpcy1rZWxjZS1zcG90dGVkLWhvbGRpbmctaGFuZHMtb24tZGlubmVyLWRhdGUtaW4tYXJnZW50aW5hLTIxNDcxMtIBc2h0dHBzOi8vd3d3LmV0b25saW5lLmNvbS90YXlsb3Itc3dpZnQtYW5kLXRyYXZpcy1rZWxjZS1zcG90dGVkLWhvbGRpbmctaGFuZHMtb24tZGlubmVyLWRhdGUtaW4tYXJnZW50aW5hLTIxNDcxMj9hbXA?oc=5\n",
      "Publication Date: Sat, 11 Nov 2023 16:26:00 GMT\n",
      "------------------------------------------------------------\n",
      "Title: ‘The Marvels’ Projected $110M-$115M Worldwide Debut An All-Time Low For Disney MCU - Deadline\n",
      "Link: https://news.google.com/rss/articles/CBMiXGh0dHBzOi8vZGVhZGxpbmUuY29tLzIwMjMvMTEvdGhlLW1hcnZlbHMtb3BlbmluZy1nbG9iYWwtaW50ZXJuYXRpb25hbC1ib3gtb2ZmaWNlLTEyMzU2MDA0MTcv0gFgaHR0cHM6Ly9kZWFkbGluZS5jb20vMjAyMy8xMS90aGUtbWFydmVscy1vcGVuaW5nLWdsb2JhbC1pbnRlcm5hdGlvbmFsLWJveC1vZmZpY2UtMTIzNTYwMDQxNy9hbXAv?oc=5\n",
      "Publication Date: Sat, 11 Nov 2023 19:50:00 GMT\n",
      "------------------------------------------------------------\n",
      "Title: Gordon Ramsay welcomes sixth child to his ‘brigade’ with wife Tana Ramsay - CNN\n",
      "Link: https://news.google.com/rss/articles/CBMiWmh0dHBzOi8vd3d3LmNubi5jb20vMjAyMy8xMS8xMS9lbnRlcnRhaW5tZW50L2dvcmRvbi1yYW1zYXktd2VsY29tZXMtc2l4dGgtY2hpbGQvaW5kZXguaHRtbNIBAA?oc=5\n",
      "Publication Date: Sat, 11 Nov 2023 21:14:00 GMT\n",
      "------------------------------------------------------------\n",
      "Title: Keke Palmer Darius Jackson Problems Before Breakup - BuzzFeed\n",
      "Link: https://news.google.com/rss/articles/CBMiWWh0dHBzOi8vd3d3LmJ1enpmZWVkLmNvbS9jaGVsc2Vhc3Rld2FydC9rZWtlLXBhbG1lci1kYXJpdXMtamFja3Nvbi1yZWxhdGlvbnNoaXAtYnJlYWtkb3du0gEA?oc=5\n",
      "Publication Date: Sat, 11 Nov 2023 16:43:41 GMT\n",
      "------------------------------------------------------------\n",
      "Title: Michigan-Penn State live - best moments, plays and takeaways - ESPN - ESPN\n",
      "Link: https://news.google.com/rss/articles/CBMigAFodHRwczovL3d3dy5lc3BuLmNvbS9jb2xsZWdlLWZvb3RiYWxsL3N0b3J5L18vaWQvMzg4NjQyMTEvbWljaGlnYW4tcGVubi1zdGF0ZS1saXZlLWhpZ2hsaWdodHMtdGFrZWF3YXlzLWNvbGxlZ2UtZm9vdGJhbGwtcGxheW9mZtIBjQFodHRwczovL3d3dy5lc3BuLmNvbS9jb2xsZWdlLWZvb3RiYWxsL3N0b3J5L18vaWQvMzg4NjQyMTEvbWljaGlnYW4tcGVubi1zdGF0ZS1saXZlLWhpZ2hsaWdodHMtdGFrZWF3YXlzLWNvbGxlZ2UtZm9vdGJhbGwtcGxheW9mZj9wbGF0Zm9ybT1hbXA?oc=5\n",
      "Publication Date: Sat, 11 Nov 2023 20:26:00 GMT\n",
      "------------------------------------------------------------\n",
      "Title: Patriots Elevate Two Players to the Active Roster - Patriots.com\n",
      "Link: https://news.google.com/rss/articles/CBMiVWh0dHBzOi8vd3d3LnBhdHJpb3RzLmNvbS9uZXdzL3BhdHJpb3RzLWVsZXZhdGUtdHdvLXBsYXllcnMtdG8tdGhlLWFjdGl2ZS1yb3N0ZXIteDU5NjnSAQA?oc=5\n",
      "Publication Date: Sat, 11 Nov 2023 21:58:12 GMT\n",
      "------------------------------------------------------------\n",
      "Title: Live Gameday Updates: No. 4 Florida State 7, Miami 0 - First Quarter - 247Sports\n",
      "Link: https://news.google.com/rss/articles/CBMingFodHRwczovLzI0N3Nwb3J0cy5jb20vY29sbGVnZS9mbG9yaWRhLXN0YXRlL2FydGljbGUvZmxvcmlkYS1zdGF0ZS1zZW1pbm9sZXMtZm9vdGJhbGwtbWlhbWktaHVycmljYW5lcy1zYXR1cmRheS1hdC0zMzAtcG0tZ2FtZWRheS10aHJlYWQtYW5kLXVwZGF0ZXMtMjIwMDI1NDEyL9IBAA?oc=5\n",
      "Publication Date: Sat, 11 Nov 2023 14:49:32 GMT\n",
      "------------------------------------------------------------\n",
      "Title: UFC 295 start time, TV schedule for Jiri Prochazka vs. Alex Pereira, Sergei Pavlovich vs. Tom Aspinall - MMA Fighting\n",
      "Link: https://news.google.com/rss/articles/CBMikgFodHRwczovL3d3dy5tbWFmaWdodGluZy5jb20vMjAyMy8xMS8xMS8yMzk1NjA0MC91ZmMtMjk1LXN0YXJ0LXRpbWUtdHYtc2NoZWR1bGUtZm9yLWppcmktcHJvY2hhemthLXZzLWFsZXgtcGVyZWlyYS1zZXJnZWktcGF2bG92aWNoLXZzLXRvbS1hc3BpbmFsbNIBnwFodHRwczovL3d3dy5tbWFmaWdodGluZy5jb20vcGxhdGZvcm0vYW1wLzIwMjMvMTEvMTEvMjM5NTYwNDAvdWZjLTI5NS1zdGFydC10aW1lLXR2LXNjaGVkdWxlLWZvci1qaXJpLXByb2NoYXprYS12cy1hbGV4LXBlcmVpcmEtc2VyZ2VpLXBhdmxvdmljaC12cy10b20tYXNwaW5hbGw?oc=5\n",
      "Publication Date: Sat, 11 Nov 2023 13:00:00 GMT\n",
      "------------------------------------------------------------\n",
      "Title: Oldest black hole discovered dating back to 470 million years after the Big Bang - KSL.com\n",
      "Link: https://news.google.com/rss/articles/CBMidWh0dHBzOi8vd3d3LmtzbC5jb20vYXJ0aWNsZS81MDc3Nzg4NS9vbGRlc3QtYmxhY2staG9sZS1kaXNjb3ZlcmVkLWRhdGluZy1iYWNrLXRvLTQ3MC1taWxsaW9uLXllYXJzLWFmdGVyLXRoZS1iaWctYmFuZ9IBAA?oc=5\n",
      "Publication Date: Sat, 11 Nov 2023 20:17:14 GMT\n",
      "------------------------------------------------------------\n",
      "Title: Northern lights could be visible in parts of New England Saturday night - CBS Boston\n",
      "Link: https://news.google.com/rss/articles/CBMiamh0dHBzOi8vd3d3LmNic25ld3MuY29tL2Jvc3Rvbi9uZXdzL25vcnRoZXJuLWxpZ2h0cy1zYXR1cmRheS10b25pZ2h0LWF1cm9yYS1ib3JlYWxpcy1uZXctZW5nbGFuZC1mb3JlY2FzdC_SAW5odHRwczovL3d3dy5jYnNuZXdzLmNvbS9hbXAvYm9zdG9uL25ld3Mvbm9ydGhlcm4tbGlnaHRzLXNhdHVyZGF5LXRvbmlnaHQtYXVyb3JhLWJvcmVhbGlzLW5ldy1lbmdsYW5kLWZvcmVjYXN0Lw?oc=5\n",
      "Publication Date: Sat, 11 Nov 2023 15:19:00 GMT\n",
      "------------------------------------------------------------\n",
      "Title: SpaceX CRS-29 Cargo Dragon docks with space station - VideoFromSpace\n",
      "Link: https://news.google.com/rss/articles/CCAiCzhna1hkQk9tYkdVmAEB?oc=5\n",
      "Publication Date: Sat, 11 Nov 2023 13:58:26 GMT\n",
      "------------------------------------------------------------\n",
      "Title: NASA’s most unusual astronaut, Frank Borman, has died - Mashable\n",
      "Link: https://news.google.com/rss/articles/CBMiOGh0dHBzOi8vbWFzaGFibGUuY29tL2FydGljbGUvbmFzYS1hc3Ryb25hdXQtZnJhbmstYm9ybWFu0gEA?oc=5\n",
      "Publication Date: Sat, 11 Nov 2023 11:30:00 GMT\n",
      "------------------------------------------------------------\n",
      "Title: Wegovy's heart benefits due to more than weight loss, Novo says - Reuters\n",
      "Link: https://news.google.com/rss/articles/CBMiiQFodHRwczovL3d3dy5yZXV0ZXJzLmNvbS9idXNpbmVzcy9oZWFsdGhjYXJlLXBoYXJtYWNldXRpY2Fscy9ub3ZvLW5vcmRpc2stc2F5cy13ZWdvdnktaGVhcnQtYmVuZWZpdHMtZHVlLW1vcmUtdGhhbi13ZWlnaHQtbG9zcy0yMDIzLTExLTExL9IBAA?oc=5\n",
      "Publication Date: Sat, 11 Nov 2023 20:54:00 GMT\n",
      "------------------------------------------------------------\n",
      "Title: Cutting 1 teaspoon of salt works as well as blood pressure meds, study finds - CNN\n",
      "Link: https://news.google.com/rss/articles/CBMiVWh0dHBzOi8vd3d3LmNubi5jb20vMjAyMy8xMS8xMS9oZWFsdGgvbG93LXNhbHQtZGlldC1vci1tZWRpY2F0aW9uLXdlbGxuZXNzL2luZGV4Lmh0bWzSAQA?oc=5\n",
      "Publication Date: Sat, 11 Nov 2023 20:45:00 GMT\n",
      "------------------------------------------------------------\n",
      "Title: Tuberculosis in Omaha: Westview YMCA had active case. 500 kids exposed - USA TODAY\n",
      "Link: https://news.google.com/rss/articles/CBMiY2h0dHBzOi8vd3d3LnVzYXRvZGF5LmNvbS9zdG9yeS9uZXdzL2hlYWx0aC8yMDIzLzExLzExL3R1YmVyY3Vsb3Npcy1vbWFoYS13ZXN0dmlldy15bWNhLzcxNTQ4MTQ5MDA3L9IBAA?oc=5\n",
      "Publication Date: Sat, 11 Nov 2023 21:33:49 GMT\n",
      "------------------------------------------------------------\n",
      "Title: First vaccine for chikungunya virus, an 'emerging global health threat,' gets FDA approval - Fox News\n",
      "Link: https://news.google.com/rss/articles/CBMibmh0dHBzOi8vd3d3LmZveG5ld3MuY29tL2hlYWx0aC9maXJzdC12YWNjaW5lLWNoaWt1bmd1bnlhLXZpcnVzLWVtZXJnaW5nLWdsb2JhbC1oZWFsdGgtdGhyZWF0LWdldHMtZmRhLWFwcHJvdmFs0gFyaHR0cHM6Ly93d3cuZm94bmV3cy5jb20vaGVhbHRoL2ZpcnN0LXZhY2NpbmUtY2hpa3VuZ3VueWEtdmlydXMtZW1lcmdpbmctZ2xvYmFsLWhlYWx0aC10aHJlYXQtZ2V0cy1mZGEtYXBwcm92YWwuYW1w?oc=5\n",
      "Publication Date: Sat, 11 Nov 2023 19:53:00 GMT\n",
      "------------------------------------------------------------\n"
     ]
    }
   ],
   "source": [
    "# Main program entry point\n",
    "if __name__ == \"__main__\":\n",
    "    # Get the Google news RSS content\n",
    "    xml_content = get_google_news_rss()\n",
    "    # Parse the RSS content to extract news articles\n",
    "    news_list = parse_rss(xml_content)\n",
    "    # Print information about each article\n",
    "    print_news_info(news_list)"
   ]
  },
  {
   "cell_type": "code",
   "execution_count": null,
   "id": "eddfed5a",
   "metadata": {},
   "outputs": [],
   "source": []
  },
  {
   "cell_type": "markdown",
   "id": "d5aa0345",
   "metadata": {},
   "source": [
    "---"
   ]
  },
  {
   "cell_type": "markdown",
   "id": "f76552c1",
   "metadata": {},
   "source": [
    "### 9. Write a Python program to get a list of locally installed Python modules."
   ]
  },
  {
   "cell_type": "code",
   "execution_count": 46,
   "id": "6b5e14f4",
   "metadata": {},
   "outputs": [],
   "source": [
    "import pkgutil"
   ]
  },
  {
   "cell_type": "code",
   "execution_count": 49,
   "id": "af29116a",
   "metadata": {},
   "outputs": [],
   "source": [
    "def get_installed_modules():\n",
    "    modules = [module for _, module, _ in pkgutil.iter_modules()]\n",
    "    return modules"
   ]
  },
  {
   "cell_type": "code",
   "execution_count": 50,
   "id": "6db26da1",
   "metadata": {},
   "outputs": [
    {
     "name": "stdout",
     "output_type": "stream",
     "text": [
      "Locally Installed Python Modules:\n",
      "_asyncio\n",
      "_bz2\n",
      "_ctypes\n",
      "_ctypes_test\n",
      "_decimal\n",
      "_elementtree\n",
      "_hashlib\n",
      "_lzma\n",
      "_msi\n",
      "_multiprocessing\n",
      "_overlapped\n",
      "_queue\n",
      "_socket\n",
      "_sqlite3\n",
      "_ssl\n",
      "_testbuffer\n",
      "_testcapi\n",
      "_testconsole\n",
      "_testimportmultiple\n",
      "_testinternalcapi\n",
      "_testmultiphase\n",
      "_tkinter\n",
      "_uuid\n",
      "_zoneinfo\n",
      "pyexpat\n",
      "select\n",
      "unicodedata\n",
      "winsound\n",
      "xxlimited\n",
      "xxlimited_35\n",
      "__future__\n",
      "__hello__\n",
      "__phello__\n",
      "_aix_support\n",
      "_bootsubprocess\n",
      "_collections_abc\n",
      "_compat_pickle\n",
      "_compression\n",
      "_markupbase\n",
      "_nsis\n",
      "_osx_support\n",
      "_py_abc\n",
      "_pydecimal\n",
      "_pyio\n",
      "_sitebuiltins\n",
      "_strptime\n",
      "_system_path\n",
      "_threading_local\n",
      "_weakrefset\n",
      "abc\n",
      "aifc\n",
      "antigravity\n",
      "argparse\n",
      "ast\n",
      "asynchat\n",
      "asyncio\n",
      "asyncore\n",
      "base64\n",
      "bdb\n",
      "bisect\n",
      "bz2\n",
      "cProfile\n",
      "calendar\n",
      "cgi\n",
      "cgitb\n",
      "chunk\n",
      "cmd\n",
      "code\n",
      "codecs\n",
      "codeop\n",
      "collections\n",
      "colorsys\n",
      "compileall\n",
      "concurrent\n",
      "configparser\n",
      "contextlib\n",
      "contextvars\n",
      "copy\n",
      "copyreg\n",
      "crypt\n",
      "csv\n",
      "ctypes\n",
      "curses\n",
      "dataclasses\n",
      "datetime\n",
      "dbm\n",
      "decimal\n",
      "difflib\n",
      "dis\n",
      "distutils\n",
      "doctest\n",
      "email\n",
      "encodings\n",
      "ensurepip\n",
      "enum\n",
      "filecmp\n",
      "fileinput\n",
      "fnmatch\n",
      "fractions\n",
      "ftplib\n",
      "functools\n",
      "genericpath\n",
      "getopt\n",
      "getpass\n",
      "gettext\n",
      "glob\n",
      "graphlib\n",
      "gzip\n",
      "hashlib\n",
      "heapq\n",
      "hmac\n",
      "html\n",
      "http\n",
      "idlelib\n",
      "imaplib\n",
      "imghdr\n",
      "imp\n",
      "importlib\n",
      "inspect\n",
      "io\n",
      "ipaddress\n",
      "json\n",
      "keyword\n",
      "lib2to3\n",
      "linecache\n",
      "locale\n",
      "logging\n",
      "lzma\n",
      "mailbox\n",
      "mailcap\n",
      "mimetypes\n",
      "modulefinder\n",
      "msilib\n",
      "multiprocessing\n",
      "netrc\n",
      "nntplib\n",
      "ntpath\n",
      "nturl2path\n",
      "numbers\n",
      "opcode\n",
      "operator\n",
      "optparse\n",
      "os\n",
      "pathlib\n",
      "pdb\n",
      "pickle\n",
      "pickletools\n",
      "pipes\n",
      "pkgutil\n",
      "platform\n",
      "plistlib\n",
      "poplib\n",
      "posixpath\n",
      "pprint\n",
      "profile\n",
      "pstats\n",
      "pty\n",
      "py_compile\n",
      "pyclbr\n",
      "pydoc\n",
      "pydoc_data\n",
      "queue\n",
      "quopri\n",
      "random\n",
      "re\n",
      "reprlib\n",
      "rlcompleter\n",
      "runpy\n",
      "sched\n",
      "secrets\n",
      "selectors\n",
      "shelve\n",
      "shlex\n",
      "shutil\n",
      "signal\n",
      "site\n",
      "smtpd\n",
      "smtplib\n",
      "sndhdr\n",
      "socket\n",
      "socketserver\n",
      "sqlite3\n",
      "sre_compile\n",
      "sre_constants\n",
      "sre_parse\n",
      "ssl\n",
      "stat\n",
      "statistics\n",
      "string\n",
      "stringprep\n",
      "struct\n",
      "subprocess\n",
      "sunau\n",
      "symtable\n",
      "sysconfig\n",
      "tabnanny\n",
      "tarfile\n",
      "telnetlib\n",
      "tempfile\n",
      "test\n",
      "textwrap\n",
      "this\n",
      "threading\n",
      "timeit\n",
      "tkinter\n",
      "token\n",
      "tokenize\n",
      "tomllib\n",
      "trace\n",
      "traceback\n",
      "tracemalloc\n",
      "tty\n",
      "turtle\n",
      "turtledemo\n",
      "types\n",
      "typing\n",
      "unittest\n",
      "urllib\n",
      "uu\n",
      "uuid\n",
      "venv\n",
      "warnings\n",
      "wave\n",
      "weakref\n",
      "webbrowser\n",
      "wsgiref\n",
      "xdrlib\n",
      "xml\n",
      "xmlrpc\n",
      "zipapp\n",
      "zipfile\n",
      "zipimport\n",
      "zoneinfo\n",
      "cwp\n",
      "IPython\n",
      "OpenSSL\n",
      "PIL\n",
      "PyQt5\n",
      "TBB\n",
      "_argon2_cffi_bindings\n",
      "_black_version\n",
      "_cffi_backend\n",
      "_distutils_hack\n",
      "_multiprocess\n",
      "_plotly_future_\n",
      "_plotly_utils\n",
      "_pyrsistent_version\n",
      "_pytest\n",
      "_yaml\n",
      "adodbapi\n",
      "aiobotocore\n",
      "aiofiles\n",
      "aiohttp\n",
      "aioitertools\n",
      "aiosignal\n",
      "aiosqlite\n",
      "alabaster\n",
      "anaconda_anon_usage\n",
      "anaconda_catalogs\n",
      "anaconda_cloud_auth\n",
      "anaconda_navigator\n",
      "anaconda_project\n",
      "anyio\n",
      "appdirs\n",
      "argon2\n",
      "arrow\n",
      "astroid\n",
      "astropy\n",
      "asttokens\n",
      "async_timeout\n",
      "atomicwrites\n",
      "attr\n",
      "attrs\n",
      "automat\n",
      "autopep8\n",
      "babel\n",
      "backcall\n",
      "backports\n",
      "bcrypt\n",
      "binaryornot\n",
      "binstar_client\n",
      "black\n",
      "blackd\n",
      "bleach\n",
      "blib2to3\n",
      "bokeh\n",
      "boltons\n",
      "botocore\n",
      "bottleneck\n",
      "brotli\n",
      "bs4\n",
      "certifi\n",
      "cffi\n",
      "chardet\n",
      "charset_normalizer\n",
      "click\n",
      "cloudpickle\n",
      "clyent\n",
      "colorama\n",
      "colorcet\n",
      "comm\n",
      "conda\n",
      "conda_build\n",
      "conda_content_trust\n",
      "conda_env\n",
      "conda_index\n",
      "conda_libmamba_solver\n",
      "conda_pack\n",
      "conda_package_handling\n",
      "conda_package_streaming\n",
      "conda_token\n",
      "conda_verify\n",
      "constantly\n",
      "contourpy\n",
      "cookiecutter\n",
      "cpuinfo\n",
      "cryptography\n",
      "cssselect\n",
      "curl\n",
      "cycler\n",
      "cytoolz\n",
      "daal4py\n",
      "dask\n",
      "datasets\n",
      "datashader\n",
      "datashape\n",
      "dateutil\n",
      "debugpy\n",
      "decorator\n",
      "defusedxml\n",
      "diff_match_patch\n",
      "dill\n",
      "distributed\n",
      "docstring_to_markdown\n",
      "docutils\n",
      "dotenv\n",
      "entrypoints\n",
      "erfa\n",
      "et_xmlfile\n",
      "executing\n",
      "fastjsonschema\n",
      "filelock\n",
      "flake8\n",
      "flask\n",
      "fontTools\n",
      "frozenlist\n",
      "fsspec\n",
      "future\n",
      "gensim\n",
      "glob2\n",
      "greenlet\n",
      "h5py\n",
      "heapdict\n",
      "holoviews\n",
      "huggingface_hub\n",
      "hvplot\n",
      "hyperlink\n",
      "idna\n",
      "imagecodecs\n",
      "imageio\n",
      "imagesize\n",
      "imblearn\n",
      "importlib_metadata\n",
      "incremental\n",
      "inflection\n",
      "iniconfig\n",
      "intake\n",
      "intervaltree\n",
      "ipykernel\n",
      "ipykernel_launcher\n",
      "ipython_genutils\n",
      "ipywidgets\n",
      "isapi\n",
      "isort\n",
      "isympy\n",
      "itemadapter\n",
      "itemloaders\n",
      "itsdangerous\n",
      "jedi\n",
      "jellyfish\n",
      "jinja2\n",
      "jinja2_time\n",
      "jmespath\n",
      "joblib\n",
      "json5\n",
      "jsonpatch\n",
      "jsonpointer\n",
      "jsonschema\n",
      "jupyter\n",
      "jupyter_client\n",
      "jupyter_console\n",
      "jupyter_core\n",
      "jupyter_events\n",
      "jupyter_server\n",
      "jupyter_server_fileid\n",
      "jupyter_server_ydoc\n",
      "jupyter_ydoc\n",
      "jupyterlab\n",
      "jupyterlab_plotly\n",
      "jupyterlab_pygments\n",
      "jupyterlab_server\n",
      "jupyterlab_widgets\n",
      "jwt\n",
      "kaleido\n",
      "keyring\n",
      "kiwisolver\n",
      "lazy_loader\n",
      "lazy_object_proxy\n",
      "libarchive\n",
      "libfuturize\n",
      "libmambapy\n",
      "libpasteurize\n",
      "lief\n",
      "linkify_it\n",
      "llvmlite\n",
      "lmdb\n",
      "locket\n",
      "lxml\n",
      "lz4\n",
      "markdown\n",
      "markdown_it\n",
      "markupsafe\n",
      "matplotlib\n",
      "matplotlib_inline\n",
      "mccabe\n",
      "mdit_py_plugins\n",
      "mdurl\n",
      "menuinst\n",
      "mistune\n",
      "mkl\n",
      "mkl_fft\n",
      "more_itertools\n",
      "mpmath\n",
      "msgpack\n",
      "multidict\n",
      "multipledispatch\n",
      "multiprocess\n",
      "munkres\n",
      "mypy_extensions\n",
      "nacl\n",
      "navigator_updater\n",
      "nbclassic\n",
      "nbclient\n",
      "nbconvert\n",
      "nbformat\n",
      "nest_asyncio\n",
      "networkx\n",
      "nltk\n",
      "notebook\n",
      "notebook_shim\n",
      "numba\n",
      "numbergen\n",
      "numexpr\n",
      "numpy\n",
      "numpydoc\n",
      "onedal\n",
      "openpyxl\n",
      "packaging\n",
      "pandas\n",
      "pandocfilters\n",
      "panel\n",
      "param\n",
      "paramiko\n",
      "parsel\n",
      "parso\n",
      "partd\n",
      "past\n",
      "pathspec\n",
      "patsy\n",
      "pep8\n",
      "pexpect\n",
      "pickleshare\n",
      "pip\n",
      "pkce\n",
      "pkg_resources\n",
      "pkginfo\n",
      "platformdirs\n",
      "plotly\n",
      "pluggy\n",
      "ply\n",
      "poyo\n",
      "prometheus_client\n",
      "prompt_toolkit\n",
      "protego\n",
      "psutil\n",
      "ptyprocess\n",
      "pure_eval\n",
      "pvectorc\n",
      "py\n",
      "pyarrow\n",
      "pyasn1\n",
      "pyasn1_modules\n",
      "pycodestyle\n",
      "pycosat\n",
      "pycparser\n",
      "pyct\n",
      "pycurl\n",
      "pydantic\n",
      "pydispatch\n",
      "pydocstyle\n",
      "pyflakes\n",
      "pygments\n",
      "pylab\n",
      "pylint\n",
      "pylint_venv\n",
      "pyls_spyder\n",
      "pylsp\n",
      "pylsp_black\n",
      "pylsp_jsonrpc\n",
      "pyodbc\n",
      "pyparsing\n",
      "pyrsistent\n",
      "pytest\n",
      "pythoncom\n",
      "pythonjsonlogger\n",
      "pytoolconfig\n",
      "pytz\n",
      "pyviz_comms\n",
      "pywt\n",
      "qdarkstyle\n",
      "qstylizer\n",
      "qtawesome\n",
      "qtconsole\n",
      "qtpy\n",
      "queuelib\n",
      "regex\n",
      "repo_cli\n",
      "requests\n",
      "requests_file\n",
      "requests_toolbelt\n",
      "responses\n",
      "rfc3339_validator\n",
      "rfc3986_validator\n",
      "rope\n",
      "rtree\n",
      "ruamel_yaml\n",
      "s3fs\n",
      "safetensors\n",
      "scipy\n",
      "scrapy\n",
      "seaborn\n",
      "send2trash\n",
      "service_identity\n",
      "setuptools\n",
      "sipbuild\n",
      "six\n",
      "skimage\n",
      "sklearn\n",
      "sklearnex\n",
      "slugify\n",
      "smart_open\n",
      "snappy\n",
      "sniffio\n",
      "snowballstemmer\n",
      "socks\n",
      "sockshandler\n",
      "sortedcontainers\n",
      "soupsieve\n",
      "sphinx\n",
      "spyder\n",
      "spyder_kernels\n",
      "sqlalchemy\n",
      "stack_data\n",
      "statsmodels\n",
      "sympy\n",
      "tables\n",
      "tabulate\n",
      "tbb\n",
      "tblib\n",
      "tenacity\n",
      "terminado\n",
      "test_pycosat\n",
      "text_unidecode\n",
      "textdistance\n",
      "threadpoolctl\n",
      "three_merge\n",
      "tifffile\n",
      "tinycss2\n",
      "tldextract\n",
      "tlz\n",
      "tokenizers\n",
      "toml\n",
      "tomlkit\n",
      "toolz\n",
      "tornado\n",
      "tqdm\n",
      "traitlets\n",
      "transformers\n",
      "twisted\n",
      "typing_extensions\n",
      "tzdata\n",
      "uc_micro\n",
      "ujson\n",
      "unidecode\n",
      "urllib3\n",
      "w3lib\n",
      "watchdog\n",
      "wcwidth\n",
      "webencodings\n",
      "websocket\n",
      "werkzeug\n",
      "whatthepatch\n",
      "wheel\n",
      "widgetsnbextension\n",
      "win32com\n",
      "win32ctypes\n",
      "win_inet_pton\n",
      "winpty\n",
      "wrapt\n",
      "xarray\n",
      "xlwings\n",
      "xxhash\n",
      "xyzservices\n",
      "y_py\n",
      "yaml\n",
      "yapf\n",
      "yapftests\n",
      "yarl\n",
      "ypy_websocket\n",
      "zict\n",
      "zipp\n",
      "zmq\n",
      "zope\n",
      "zstandard\n",
      "_win32sysloader\n",
      "_winxptheme\n",
      "dde\n",
      "mmapfile\n",
      "odbc\n",
      "perfmon\n",
      "servicemanager\n",
      "timer\n",
      "win32api\n",
      "win32clipboard\n",
      "win32console\n",
      "win32cred\n",
      "win32crypt\n",
      "win32event\n",
      "win32evtlog\n",
      "win32file\n",
      "win32gui\n",
      "win32help\n",
      "win32inet\n",
      "win32job\n",
      "win32lz\n",
      "win32net\n",
      "win32pdh\n",
      "win32pipe\n",
      "win32print\n",
      "win32process\n",
      "win32profile\n",
      "win32ras\n",
      "win32security\n",
      "win32service\n",
      "win32trace\n",
      "win32transaction\n",
      "win32ts\n",
      "win32ui\n",
      "win32uiole\n",
      "win32wnet\n",
      "winxpgui\n",
      "afxres\n",
      "commctrl\n",
      "dbi\n",
      "mmsystem\n",
      "netbios\n",
      "ntsecuritycon\n",
      "pywin32_bootstrap\n",
      "pywin32_testutil\n",
      "pywintypes\n",
      "rasutil\n",
      "regcheck\n",
      "regutil\n",
      "sspi\n",
      "sspicon\n",
      "win2kras\n",
      "win32con\n",
      "win32cryptcon\n",
      "win32evtlogutil\n",
      "win32gui_struct\n",
      "win32inetcon\n",
      "win32netcon\n",
      "win32pdhquery\n",
      "win32pdhutil\n",
      "win32rcparser\n",
      "win32serviceutil\n",
      "win32timezone\n",
      "win32traceutil\n",
      "win32verstamp\n",
      "winerror\n",
      "winioctlcon\n",
      "winnt\n",
      "winperf\n",
      "winxptheme\n",
      "pywin\n"
     ]
    }
   ],
   "source": [
    "if __name__ == \"__main__\":\n",
    "    installed_modules = get_installed_modules()\n",
    "    \n",
    "    print(\"Locally Installed Python Modules:\")\n",
    "    \n",
    "    for module in installed_modules:\n",
    "        print(module)"
   ]
  },
  {
   "cell_type": "markdown",
   "id": "402ee866",
   "metadata": {},
   "source": [
    "---"
   ]
  },
  {
   "cell_type": "markdown",
   "id": "629d93ae",
   "metadata": {},
   "source": [
    "---"
   ]
  },
  {
   "cell_type": "markdown",
   "id": "edb309a6",
   "metadata": {},
   "source": [
    "### 10. Write a Python program to display some information about the OS where the script is running. "
   ]
  },
  {
   "cell_type": "code",
   "execution_count": 51,
   "id": "4ebad807",
   "metadata": {},
   "outputs": [],
   "source": [
    "import platform"
   ]
  },
  {
   "cell_type": "code",
   "execution_count": 52,
   "id": "1b80d558",
   "metadata": {},
   "outputs": [],
   "source": [
    "def display_os_info():\n",
    "    # Get the system information\n",
    "    system_info = platform.system()\n",
    "    release_info = platform.release()\n",
    "    version_info = platform.version()\n",
    "    architecture_info = platform.architecture()\n",
    "    \n",
    "    # Print the info\n",
    "    print(\"Operating System Information:\")\n",
    "    print(f\"System: {system_info}\")\n",
    "    print(f\"Release: {release_info}\")\n",
    "    print(f\"Version: {version_info}\")\n",
    "    print(f\"Architecture: {architecture_info}\")"
   ]
  },
  {
   "cell_type": "code",
   "execution_count": 53,
   "id": "0e116b66",
   "metadata": {
    "scrolled": true
   },
   "outputs": [
    {
     "name": "stdout",
     "output_type": "stream",
     "text": [
      "Operating System Information:\n",
      "System: Windows\n",
      "Release: 10\n",
      "Version: 10.0.19045\n",
      "Architecture: ('64bit', 'WindowsPE')\n"
     ]
    }
   ],
   "source": [
    "if __name__ == \"__main__\":\n",
    "    display_os_info()"
   ]
  },
  {
   "cell_type": "markdown",
   "id": "d8874169",
   "metadata": {},
   "source": [
    "---"
   ]
  },
  {
   "cell_type": "markdown",
   "id": "3494bb69",
   "metadata": {},
   "source": [
    "---"
   ]
  },
  {
   "cell_type": "markdown",
   "id": "39099153",
   "metadata": {},
   "source": [
    "### 11. Write a Python program to check the sum of three elements (each from an array) from three arrays is equal to a target value. Print all those three-element combinations. "
   ]
  },
  {
   "cell_type": "markdown",
   "id": "8c4e289c",
   "metadata": {},
   "source": [
    "Sample data:\n",
    "`\n",
    "Sample data:\n",
    "/*\n",
    "X = [10, 20, 20, 20]\n",
    "Y = [10, 20, 30, 40]\n",
    "Z = [10, 30, 40, 20]\n",
    "target = 70\n",
    "*/ \n",
    "`"
   ]
  },
  {
   "cell_type": "code",
   "execution_count": 1,
   "id": "0e26fa6f",
   "metadata": {},
   "outputs": [],
   "source": [
    "def find_combinations(X, Y, Z, target):\n",
    "    for x in X:\n",
    "        for y in Y:\n",
    "            for z in Z:\n",
    "                if x + y + z == target:\n",
    "                    print(f\"Combination: ({x}, {y}, {z})\")"
   ]
  },
  {
   "cell_type": "code",
   "execution_count": 2,
   "id": "6e1892d8",
   "metadata": {},
   "outputs": [],
   "source": [
    "# Sample data\n",
    "X = [10, 20, 20, 20]\n",
    "Y = [10, 20, 30, 40]\n",
    "Z = [10, 30, 40, 20]\n",
    "target = 70"
   ]
  },
  {
   "cell_type": "code",
   "execution_count": 3,
   "id": "e4df0231",
   "metadata": {
    "scrolled": true
   },
   "outputs": [
    {
     "name": "stdout",
     "output_type": "stream",
     "text": [
      "Combination: (10, 20, 40)\n",
      "Combination: (10, 30, 30)\n",
      "Combination: (10, 40, 20)\n",
      "Combination: (20, 10, 40)\n",
      "Combination: (20, 20, 30)\n",
      "Combination: (20, 30, 20)\n",
      "Combination: (20, 40, 10)\n",
      "Combination: (20, 10, 40)\n",
      "Combination: (20, 20, 30)\n",
      "Combination: (20, 30, 20)\n",
      "Combination: (20, 40, 10)\n",
      "Combination: (20, 10, 40)\n",
      "Combination: (20, 20, 30)\n",
      "Combination: (20, 30, 20)\n",
      "Combination: (20, 40, 10)\n"
     ]
    }
   ],
   "source": [
    "# Find the combinations that sum 70\n",
    "find_combinations(X, Y, Z, target)"
   ]
  },
  {
   "cell_type": "markdown",
   "id": "9b42840a",
   "metadata": {},
   "source": [
    "---"
   ]
  },
  {
   "cell_type": "markdown",
   "id": "d3bae97c",
   "metadata": {},
   "source": [
    "---"
   ]
  },
  {
   "cell_type": "markdown",
   "id": "16d9c920",
   "metadata": {},
   "source": [
    "### 12. Write a Python program that generates a list of all possible permutations from a given collection of distinct numbers."
   ]
  },
  {
   "cell_type": "code",
   "execution_count": 9,
   "id": "f057a293",
   "metadata": {},
   "outputs": [],
   "source": [
    "from itertools import permutations"
   ]
  },
  {
   "cell_type": "code",
   "execution_count": 10,
   "id": "e4261ac8",
   "metadata": {},
   "outputs": [],
   "source": [
    "def generate_permutations(numbers):\n",
    "    # Use the permutations function to generate all permutations\n",
    "    all_permutations = permutations(numbers)\n",
    "    \n",
    "    # Convert the permutations object to a list of tuples\n",
    "    permutation_list = list(all_permutations)\n",
    "    \n",
    "    return permutation_list"
   ]
  },
  {
   "cell_type": "code",
   "execution_count": 11,
   "id": "cf6e42d4",
   "metadata": {},
   "outputs": [],
   "source": [
    "# Example\n",
    "numbers = [1, 2, 3, 4]"
   ]
  },
  {
   "cell_type": "code",
   "execution_count": 12,
   "id": "4183884d",
   "metadata": {},
   "outputs": [],
   "source": [
    "# Call the function\n",
    "result = generate_permutations(numbers)"
   ]
  },
  {
   "cell_type": "code",
   "execution_count": 13,
   "id": "46a48ae4",
   "metadata": {},
   "outputs": [
    {
     "name": "stdout",
     "output_type": "stream",
     "text": [
      "(1, 2, 3, 4)\n",
      "(1, 2, 4, 3)\n",
      "(1, 3, 2, 4)\n",
      "(1, 3, 4, 2)\n",
      "(1, 4, 2, 3)\n",
      "(1, 4, 3, 2)\n",
      "(2, 1, 3, 4)\n",
      "(2, 1, 4, 3)\n",
      "(2, 3, 1, 4)\n",
      "(2, 3, 4, 1)\n",
      "(2, 4, 1, 3)\n",
      "(2, 4, 3, 1)\n",
      "(3, 1, 2, 4)\n",
      "(3, 1, 4, 2)\n",
      "(3, 2, 1, 4)\n",
      "(3, 2, 4, 1)\n",
      "(3, 4, 1, 2)\n",
      "(3, 4, 2, 1)\n",
      "(4, 1, 2, 3)\n",
      "(4, 1, 3, 2)\n",
      "(4, 2, 1, 3)\n",
      "(4, 2, 3, 1)\n",
      "(4, 3, 1, 2)\n",
      "(4, 3, 2, 1)\n"
     ]
    }
   ],
   "source": [
    "# Print the result\n",
    "for permutation in result:\n",
    "    print(permutation)"
   ]
  },
  {
   "cell_type": "markdown",
   "id": "75548906",
   "metadata": {},
   "source": [
    "---"
   ]
  },
  {
   "cell_type": "markdown",
   "id": "85322b1b",
   "metadata": {},
   "source": [
    "---"
   ]
  },
  {
   "cell_type": "markdown",
   "id": "7dae5cba",
   "metadata": {},
   "source": [
    "### 13. Write a Python program to get all possible two-digit letter combinations from a 1-9 digit string. "
   ]
  },
  {
   "cell_type": "markdown",
   "id": "a9db468a",
   "metadata": {},
   "source": [
    "`string_maps = {\n",
    "\"1\": \"abc\",\n",
    "\"2\": \"def\",\n",
    "\"3\": \"ghi\",\n",
    "\"4\": \"jkl\",\n",
    "\"5\": \"mno\",\n",
    "\"6\": \"pqrs\",\n",
    "\"7\": \"tuv\",\n",
    "\"8\": \"wxy\",\n",
    "\"9\": \"z\"\n",
    "}`"
   ]
  },
  {
   "cell_type": "code",
   "execution_count": 14,
   "id": "823da868",
   "metadata": {},
   "outputs": [],
   "source": [
    "def letter_combinations(digits):\n",
    "    # Check if the input string is empty\n",
    "    if not digits:\n",
    "        return []\n",
    "    \n",
    "    # Define a mapping from digits to corresponding letters\n",
    "    digit_to_letters = {\n",
    "        \"1\": \"abc\",\n",
    "        \"2\": \"def\",\n",
    "        \"3\": \"ghi\",\n",
    "        \"4\": \"jkl\",\n",
    "        \"5\": \"mno\",\n",
    "        \"6\": \"pqrs\",\n",
    "        \"7\": \"tuv\",\n",
    "        \"8\": \"wxy\",\n",
    "        \"9\": \"z\",\n",
    "    }\n",
    "    \n",
    "    # Initialize the result with an empty string\n",
    "    result = [\"\"]\n",
    "    \n",
    "    # Iterate through each digit in the input string\n",
    "    for digit in digits:\n",
    "        # Skip digits without corresponding letters\n",
    "        if digit not in digit_to_letters:\n",
    "            continue\n",
    "            \n",
    "        # Use list comprehension to generate new combinations\n",
    "        result = [prefix + letter for prefix in result for letter in digit_to_letters[digit]]\n",
    "        \n",
    "    # Resturn the final list of combinations\n",
    "    return result      "
   ]
  },
  {
   "cell_type": "code",
   "execution_count": 18,
   "id": "6a942830",
   "metadata": {},
   "outputs": [
    {
     "name": "stdout",
     "output_type": "stream",
     "text": [
      "['jt', 'ju', 'jv', 'kt', 'ku', 'kv', 'lt', 'lu', 'lv']\n"
     ]
    }
   ],
   "source": [
    "# Example usage\n",
    "digit_string = \"47\"\n",
    "print(letter_combinations(digit_string))"
   ]
  },
  {
   "cell_type": "code",
   "execution_count": 19,
   "id": "dd41159a",
   "metadata": {},
   "outputs": [
    {
     "name": "stdout",
     "output_type": "stream",
     "text": [
      "['dz', 'ez', 'fz']\n"
     ]
    }
   ],
   "source": [
    "# Example usage\n",
    "digit_string = \"29\"\n",
    "print(letter_combinations(digit_string))"
   ]
  },
  {
   "cell_type": "code",
   "execution_count": null,
   "id": "481e1c40",
   "metadata": {},
   "outputs": [],
   "source": []
  }
 ],
 "metadata": {
  "kernelspec": {
   "display_name": "Python 3 (ipykernel)",
   "language": "python",
   "name": "python3"
  },
  "language_info": {
   "codemirror_mode": {
    "name": "ipython",
    "version": 3
   },
   "file_extension": ".py",
   "mimetype": "text/x-python",
   "name": "python",
   "nbconvert_exporter": "python",
   "pygments_lexer": "ipython3",
   "version": "3.11.5"
  }
 },
 "nbformat": 4,
 "nbformat_minor": 5
}

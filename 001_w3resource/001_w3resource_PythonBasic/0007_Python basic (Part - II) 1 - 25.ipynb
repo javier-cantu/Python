{
 "cells": [
  {
   "cell_type": "markdown",
   "id": "da9898de",
   "metadata": {},
   "source": [
    "# 0007_Python basic (Part - II) 1 - 25"
   ]
  },
  {
   "cell_type": "markdown",
   "id": "1a44cd0b",
   "metadata": {},
   "source": [
    "Ejercicios python Basic - Part II - 1 - 25\n",
    "[Python basic (Part - II)](https://www.w3resource.com/python-exercises/basic/"
   ]
  },
  {
   "cell_type": "markdown",
   "id": "373aaa4b",
   "metadata": {},
   "source": [
    "---"
   ]
  },
  {
   "cell_type": "markdown",
   "id": "a2897af9",
   "metadata": {},
   "source": [
    "---"
   ]
  },
  {
   "cell_type": "markdown",
   "id": "7fdd2693",
   "metadata": {},
   "source": [
    "### 1. Write a Python function that takes a sequence of numbers and determines whether all the numbers are different from each other."
   ]
  },
  {
   "cell_type": "code",
   "execution_count": 3,
   "id": "50ca6ce8",
   "metadata": {},
   "outputs": [
    {
     "name": "stdout",
     "output_type": "stream",
     "text": [
      "[1, 2, 3, 4, 5, 6, 7]\n"
     ]
    }
   ],
   "source": [
    "# Sequence all different\n",
    "sequence1 = [1, 2, 3, 4, 5, 6, 7]\n",
    "print(sequence1)"
   ]
  },
  {
   "cell_type": "code",
   "execution_count": 4,
   "id": "fe3488fb",
   "metadata": {},
   "outputs": [
    {
     "name": "stdout",
     "output_type": "stream",
     "text": [
      "{1, 2, 3, 4, 5, 6, 7}\n"
     ]
    }
   ],
   "source": [
    "# Convert the sequence into a set\n",
    "set1 = set(sequence1)\n",
    "print(set1)"
   ]
  },
  {
   "cell_type": "code",
   "execution_count": 5,
   "id": "e80b1fcb",
   "metadata": {
    "scrolled": true
   },
   "outputs": [
    {
     "name": "stdout",
     "output_type": "stream",
     "text": [
      "All the numbers are different.\n",
      "[1, 2, 3, 4, 5, 6, 7]\n",
      "{1, 2, 3, 4, 5, 6, 7}\n"
     ]
    }
   ],
   "source": [
    "if len(sequence1) == len(set1):\n",
    "    print(\"All the numbers are different.\")\n",
    "    print(sequence1)\n",
    "    print(set1)\n",
    "else:\n",
    "    print(\"Not all the numbers are different\")\n",
    "    print(sequence1)\n",
    "    print(set1)"
   ]
  },
  {
   "cell_type": "markdown",
   "id": "ed9a560c",
   "metadata": {},
   "source": [
    "---"
   ]
  },
  {
   "cell_type": "code",
   "execution_count": 6,
   "id": "fabfa8ed",
   "metadata": {},
   "outputs": [
    {
     "name": "stdout",
     "output_type": "stream",
     "text": [
      "[1, 2, 3, 3, 4, 5, 6, 7, 1]\n"
     ]
    }
   ],
   "source": [
    "# Sequence some numbers are the same\n",
    "sequence1 = [1, 2, 3, 3, 4, 5, 6, 7, 1]\n",
    "print(sequence1)"
   ]
  },
  {
   "cell_type": "code",
   "execution_count": 7,
   "id": "01c40e1f",
   "metadata": {},
   "outputs": [
    {
     "name": "stdout",
     "output_type": "stream",
     "text": [
      "{1, 2, 3, 4, 5, 6, 7}\n"
     ]
    }
   ],
   "source": [
    "# Convert the sequence into a set\n",
    "set1 = set(sequence1)\n",
    "print(set1)"
   ]
  },
  {
   "cell_type": "code",
   "execution_count": 8,
   "id": "810859ba",
   "metadata": {
    "scrolled": true
   },
   "outputs": [
    {
     "name": "stdout",
     "output_type": "stream",
     "text": [
      "Not all the numbers are different\n",
      "[1, 2, 3, 3, 4, 5, 6, 7, 1]\n",
      "{1, 2, 3, 4, 5, 6, 7}\n"
     ]
    }
   ],
   "source": [
    "if len(sequence1) == len(set1):\n",
    "    print(\"All the numbers are different.\")\n",
    "    print(sequence1)\n",
    "    print(set1)\n",
    "else:\n",
    "    print(\"Not all the numbers are different\")\n",
    "    print(sequence1)\n",
    "    print(set1)"
   ]
  },
  {
   "cell_type": "markdown",
   "id": "3b9e7fac",
   "metadata": {},
   "source": [
    "---"
   ]
  },
  {
   "cell_type": "markdown",
   "id": "47c1fd10",
   "metadata": {},
   "source": [
    "#### Ahora en forma de funcion"
   ]
  },
  {
   "cell_type": "code",
   "execution_count": 11,
   "id": "0c77f4a7",
   "metadata": {},
   "outputs": [],
   "source": [
    "def test_numbers(seq):\n",
    "    set1 = set(seq)\n",
    "    if len(seq) == len(set1):\n",
    "        return True\n",
    "    else:\n",
    "        return False"
   ]
  },
  {
   "cell_type": "code",
   "execution_count": 12,
   "id": "4e5733de",
   "metadata": {},
   "outputs": [
    {
     "data": {
      "text/plain": [
       "False"
      ]
     },
     "execution_count": 12,
     "metadata": {},
     "output_type": "execute_result"
    }
   ],
   "source": [
    "test_numbers([1, 3, 4, 5, 6, 7, 2, 1])"
   ]
  },
  {
   "cell_type": "code",
   "execution_count": 13,
   "id": "3836831c",
   "metadata": {},
   "outputs": [
    {
     "data": {
      "text/plain": [
       "True"
      ]
     },
     "execution_count": 13,
     "metadata": {},
     "output_type": "execute_result"
    }
   ],
   "source": [
    "test_numbers([1, 3, 4])"
   ]
  },
  {
   "cell_type": "markdown",
   "id": "0077c989",
   "metadata": {},
   "source": [
    "---"
   ]
  },
  {
   "cell_type": "markdown",
   "id": "402272c3",
   "metadata": {},
   "source": [
    "---"
   ]
  },
  {
   "cell_type": "markdown",
   "id": "52d94406",
   "metadata": {},
   "source": [
    "### 2. Write a Python program that creates all possible strings using the letters 'a', 'e', 'i', 'o', and 'u'. Ensure that each character is used only once."
   ]
  },
  {
   "cell_type": "code",
   "execution_count": 5,
   "id": "4265ccdf",
   "metadata": {},
   "outputs": [],
   "source": [
    "from itertools import permutations"
   ]
  },
  {
   "cell_type": "code",
   "execution_count": 6,
   "id": "a24dc122",
   "metadata": {},
   "outputs": [],
   "source": [
    "def generate_unique_strings():\n",
    "    # Define the characters (vowels) you want to use\n",
    "    vowels = 'aeiou'\n",
    "    \n",
    "    # Generate all possible permutations of the vowels\n",
    "    all_possible_permutations = permutations(vowels)\n",
    "    \n",
    "    # Use a set to store unique strings to eliminate duplicates\n",
    "    unique_strings = set()\n",
    "    \n",
    "     # Iterate through all permutations\n",
    "    for perm in all_possible_permutations:\n",
    "        # Join the characters in the permutation to create a string\n",
    "        unique_strings.add(''.join(perm))\n",
    "    \n",
    "    # Convert the set of unique strings to a list and return\n",
    "    return list(unique_strings)"
   ]
  },
  {
   "cell_type": "code",
   "execution_count": 7,
   "id": "69f3ffff",
   "metadata": {},
   "outputs": [],
   "source": [
    "# Get and print all unique strings\n",
    "unique_strings = generate_unique_strings()"
   ]
  },
  {
   "cell_type": "code",
   "execution_count": 8,
   "id": "f5d39b58",
   "metadata": {},
   "outputs": [
    {
     "name": "stdout",
     "output_type": "stream",
     "text": [
      "oiaeu\n",
      "eioau\n",
      "oeaiu\n",
      "aiueo\n",
      "iaoeu\n",
      "ieauo\n",
      "iuoae\n",
      "aoeui\n",
      "eoaiu\n",
      "aioeu\n",
      "aiuoe\n",
      "iuoea\n",
      "eioua\n",
      "aeoui\n",
      "uaoei\n",
      "uioae\n",
      "iueoa\n",
      "uaioe\n",
      "eouai\n",
      "aeiou\n",
      "uaeio\n",
      "iuaoe\n",
      "aioue\n",
      "uoeia\n",
      "aoiue\n",
      "aeoiu\n",
      "eaoui\n",
      "eoiua\n",
      "ueiao\n",
      "oaieu\n",
      "oaeui\n",
      "eaiuo\n",
      "uoeai\n",
      "eauio\n",
      "uoaie\n",
      "oiaue\n",
      "iauoe\n",
      "ieoua\n",
      "ieoau\n",
      "uaeoi\n",
      "uoiea\n",
      "oieua\n",
      "eoaui\n",
      "eoiau\n",
      "uiaeo\n",
      "euoia\n",
      "oauie\n",
      "euioa\n",
      "oeuai\n",
      "ieuoa\n",
      "iaeou\n",
      "ouaei\n",
      "uiaoe\n",
      "eaoiu\n",
      "iouea\n",
      "ueoai\n",
      "aueoi\n",
      "oueia\n",
      "uoaei\n",
      "oeiua\n",
      "ueaio\n",
      "uieoa\n",
      "oeuia\n",
      "iueao\n",
      "iaeuo\n",
      "uoiae\n",
      "oiuae\n",
      "iuaeo\n",
      "ueoia\n",
      "aeiuo\n",
      "ioaue\n",
      "uaoie\n",
      "auoei\n",
      "auioe\n",
      "aoeiu\n",
      "ouiae\n",
      "aieou\n",
      "ioeau\n",
      "aouei\n",
      "oeiau\n",
      "uioea\n",
      "aieuo\n",
      "aueio\n",
      "eiuao\n",
      "iaueo\n",
      "uaieo\n",
      "euaio\n",
      "oaiue\n",
      "iouae\n",
      "eaiou\n",
      "ieuao\n",
      "euaoi\n",
      "eauoi\n",
      "oiuea\n",
      "ueaoi\n",
      "oieau\n",
      "aouie\n",
      "iaoue\n",
      "ioaeu\n",
      "euoai\n",
      "aeuio\n",
      "oaeiu\n",
      "aoieu\n",
      "eiuoa\n",
      "uieao\n",
      "eiauo\n",
      "oueai\n",
      "auieo\n",
      "eiaou\n",
      "ouaie\n",
      "euiao\n",
      "ouiea\n",
      "eouia\n",
      "ioeua\n",
      "oauei\n",
      "ueioa\n",
      "auoie\n",
      "aeuoi\n",
      "oeaui\n",
      "ieaou\n"
     ]
    }
   ],
   "source": [
    "for string in unique_strings:\n",
    "    print(string)"
   ]
  },
  {
   "cell_type": "markdown",
   "id": "23d8e998",
   "metadata": {},
   "source": [
    "### Sorted"
   ]
  },
  {
   "cell_type": "code",
   "execution_count": 9,
   "id": "60f0659f",
   "metadata": {},
   "outputs": [],
   "source": [
    "sorted_unique_strings = sorted(unique_strings)"
   ]
  },
  {
   "cell_type": "code",
   "execution_count": 10,
   "id": "69f17c88",
   "metadata": {},
   "outputs": [
    {
     "name": "stdout",
     "output_type": "stream",
     "text": [
      "aeiou\n",
      "aeiuo\n",
      "aeoiu\n",
      "aeoui\n",
      "aeuio\n",
      "aeuoi\n",
      "aieou\n",
      "aieuo\n",
      "aioeu\n",
      "aioue\n",
      "aiueo\n",
      "aiuoe\n",
      "aoeiu\n",
      "aoeui\n",
      "aoieu\n",
      "aoiue\n",
      "aouei\n",
      "aouie\n",
      "aueio\n",
      "aueoi\n",
      "auieo\n",
      "auioe\n",
      "auoei\n",
      "auoie\n",
      "eaiou\n",
      "eaiuo\n",
      "eaoiu\n",
      "eaoui\n",
      "eauio\n",
      "eauoi\n",
      "eiaou\n",
      "eiauo\n",
      "eioau\n",
      "eioua\n",
      "eiuao\n",
      "eiuoa\n",
      "eoaiu\n",
      "eoaui\n",
      "eoiau\n",
      "eoiua\n",
      "eouai\n",
      "eouia\n",
      "euaio\n",
      "euaoi\n",
      "euiao\n",
      "euioa\n",
      "euoai\n",
      "euoia\n",
      "iaeou\n",
      "iaeuo\n",
      "iaoeu\n",
      "iaoue\n",
      "iaueo\n",
      "iauoe\n",
      "ieaou\n",
      "ieauo\n",
      "ieoau\n",
      "ieoua\n",
      "ieuao\n",
      "ieuoa\n",
      "ioaeu\n",
      "ioaue\n",
      "ioeau\n",
      "ioeua\n",
      "iouae\n",
      "iouea\n",
      "iuaeo\n",
      "iuaoe\n",
      "iueao\n",
      "iueoa\n",
      "iuoae\n",
      "iuoea\n",
      "oaeiu\n",
      "oaeui\n",
      "oaieu\n",
      "oaiue\n",
      "oauei\n",
      "oauie\n",
      "oeaiu\n",
      "oeaui\n",
      "oeiau\n",
      "oeiua\n",
      "oeuai\n",
      "oeuia\n",
      "oiaeu\n",
      "oiaue\n",
      "oieau\n",
      "oieua\n",
      "oiuae\n",
      "oiuea\n",
      "ouaei\n",
      "ouaie\n",
      "oueai\n",
      "oueia\n",
      "ouiae\n",
      "ouiea\n",
      "uaeio\n",
      "uaeoi\n",
      "uaieo\n",
      "uaioe\n",
      "uaoei\n",
      "uaoie\n",
      "ueaio\n",
      "ueaoi\n",
      "ueiao\n",
      "ueioa\n",
      "ueoai\n",
      "ueoia\n",
      "uiaeo\n",
      "uiaoe\n",
      "uieao\n",
      "uieoa\n",
      "uioae\n",
      "uioea\n",
      "uoaei\n",
      "uoaie\n",
      "uoeai\n",
      "uoeia\n",
      "uoiae\n",
      "uoiea\n"
     ]
    }
   ],
   "source": [
    "for string in sorted_unique_strings:\n",
    "    print(string)"
   ]
  },
  {
   "cell_type": "markdown",
   "id": "f399db6a",
   "metadata": {},
   "source": []
  },
  {
   "cell_type": "markdown",
   "id": "f991c2f7",
   "metadata": {},
   "source": [
    "---"
   ]
  },
  {
   "cell_type": "markdown",
   "id": "a7f203de",
   "metadata": {},
   "source": [
    "---"
   ]
  },
  {
   "cell_type": "markdown",
   "id": "607ad753",
   "metadata": {},
   "source": [
    "### 3. Write a Python program that removes and prints every third number from a list of numbers until the list is empty."
   ]
  },
  {
   "cell_type": "code",
   "execution_count": 33,
   "id": "6d6d380a",
   "metadata": {},
   "outputs": [],
   "source": [
    "my_list = [1, 2, 3, 4, 5, 6, 7, 8, 9, 10]"
   ]
  },
  {
   "cell_type": "code",
   "execution_count": 34,
   "id": "18609da3",
   "metadata": {},
   "outputs": [],
   "source": [
    "def remove_and_print_every_third(my_list):\n",
    "    while len(my_list) >= 3:\n",
    "        removed_number = my_list.pop(2)\n",
    "        print(f\"Removed and printed: {removed_number}\")"
   ]
  },
  {
   "cell_type": "code",
   "execution_count": 35,
   "id": "83c3c991",
   "metadata": {},
   "outputs": [
    {
     "name": "stdout",
     "output_type": "stream",
     "text": [
      "Removed and printed: 3\n",
      "Removed and printed: 4\n",
      "Removed and printed: 5\n",
      "Removed and printed: 6\n",
      "Removed and printed: 7\n",
      "Removed and printed: 8\n",
      "Removed and printed: 9\n",
      "Removed and printed: 10\n"
     ]
    }
   ],
   "source": [
    "remove_and_print_every_third(my_list)"
   ]
  },
  {
   "cell_type": "code",
   "execution_count": 53,
   "id": "02223160",
   "metadata": {},
   "outputs": [],
   "source": [
    "my_list_2 = [1, 2, 3, 4, 5, 6, 7, 8, 9, 10]"
   ]
  },
  {
   "cell_type": "code",
   "execution_count": 54,
   "id": "994974ea",
   "metadata": {},
   "outputs": [],
   "source": [
    "def remove_and_print_every_third_2(my_list):\n",
    "    while my_list:\n",
    "        if len(my_list) >= 3:\n",
    "            removed_number = my_list.pop(2)\n",
    "            print(f\"Removed and printed: {removed_number}\")\n",
    "        elif len(my_list) == 2:\n",
    "            removed_number = my_list.pop(1)\n",
    "            print(f\"Removed and printed: {removed_number}\")\n",
    "        elif len(my_list) == 1:\n",
    "            removed_number = my_list.pop(0)\n",
    "            print(f\"Removed and printed: {removed_number}\")"
   ]
  },
  {
   "cell_type": "code",
   "execution_count": 55,
   "id": "71e4d3a8",
   "metadata": {
    "scrolled": true
   },
   "outputs": [
    {
     "name": "stdout",
     "output_type": "stream",
     "text": [
      "Removed and printed: 3\n",
      "Removed and printed: 4\n",
      "Removed and printed: 5\n",
      "Removed and printed: 6\n",
      "Removed and printed: 7\n",
      "Removed and printed: 8\n",
      "Removed and printed: 9\n",
      "Removed and printed: 10\n",
      "Removed and printed: 2\n",
      "Removed and printed: 1\n"
     ]
    }
   ],
   "source": [
    "remove_and_print_every_third_2(my_list_2)"
   ]
  },
  {
   "cell_type": "markdown",
   "id": "bbc3360d",
   "metadata": {},
   "source": [
    "---"
   ]
  },
  {
   "cell_type": "markdown",
   "id": "c5b5b484",
   "metadata": {},
   "source": [
    "---"
   ]
  },
  {
   "cell_type": "markdown",
   "id": "cda16742",
   "metadata": {},
   "source": [
    "### 4. Write a Python program to identify unique triplets whose three elements sum to zero from an array of n integers. "
   ]
  },
  {
   "cell_type": "code",
   "execution_count": 16,
   "id": "7f7c7779",
   "metadata": {},
   "outputs": [],
   "source": [
    "from itertools import permutations"
   ]
  },
  {
   "cell_type": "code",
   "execution_count": 17,
   "id": "921e028e",
   "metadata": {},
   "outputs": [],
   "source": [
    "# Define your set of numbers\n",
    "numbers = [1, -6, 4, 2, -1, 2, 0, -2, 0 ]"
   ]
  },
  {
   "cell_type": "code",
   "execution_count": 18,
   "id": "e0e8a601",
   "metadata": {},
   "outputs": [],
   "source": [
    "# Generate all possible permutations of three numbers\n",
    "three_number_permutations = list(permutations(numbers, 3))"
   ]
  },
  {
   "cell_type": "code",
   "execution_count": 19,
   "id": "dfb03a3b",
   "metadata": {},
   "outputs": [],
   "source": [
    "# Convert the list of permutations to a set to remove duplicates\n",
    "unique_permutations = set(three_number_permutations)"
   ]
  },
  {
   "cell_type": "code",
   "execution_count": 20,
   "id": "0e1d49d9",
   "metadata": {},
   "outputs": [],
   "source": [
    "# Create an empty list to store triplets\n",
    "triplets = []"
   ]
  },
  {
   "cell_type": "markdown",
   "id": "0a5425c1",
   "metadata": {},
   "source": [
    "> the condition len(set(t)) == 3 checks if each triplet has different numbers. "
   ]
  },
  {
   "cell_type": "code",
   "execution_count": 21,
   "id": "c0ac2ec8",
   "metadata": {},
   "outputs": [],
   "source": [
    "for t  in unique_permutations:\n",
    "    if len(set(t)) == 3 and sum(t) == 0:\n",
    "        triplets.append(t)"
   ]
  },
  {
   "cell_type": "code",
   "execution_count": 22,
   "id": "095fa715",
   "metadata": {
    "scrolled": false
   },
   "outputs": [
    {
     "name": "stdout",
     "output_type": "stream",
     "text": [
      "(-2, 2, 0)\n",
      "(0, -2, 2)\n",
      "(-2, 0, 2)\n",
      "(2, 0, -2)\n",
      "(2, -2, 0)\n",
      "(0, 1, -1)\n",
      "(0, -1, 1)\n",
      "(0, 2, -2)\n",
      "(1, 0, -1)\n",
      "(4, -6, 2)\n",
      "(4, 2, -6)\n",
      "(1, -1, 0)\n",
      "(-1, 0, 1)\n",
      "(-6, 4, 2)\n",
      "(-6, 2, 4)\n",
      "(2, -6, 4)\n",
      "(-1, 1, 0)\n",
      "(2, 4, -6)\n"
     ]
    }
   ],
   "source": [
    "for t in triplets:\n",
    "    print(t)"
   ]
  },
  {
   "cell_type": "markdown",
   "id": "08bbc328",
   "metadata": {},
   "source": [
    "---"
   ]
  },
  {
   "cell_type": "markdown",
   "id": "bca1cfdc",
   "metadata": {},
   "source": [
    "---"
   ]
  },
  {
   "cell_type": "markdown",
   "id": "f2d3bdd1",
   "metadata": {},
   "source": [
    "### 5. Write a Python program to make combinations of 3 digits. "
   ]
  },
  {
   "cell_type": "code",
   "execution_count": 23,
   "id": "302209ac",
   "metadata": {},
   "outputs": [],
   "source": [
    "import random"
   ]
  },
  {
   "cell_type": "code",
   "execution_count": 31,
   "id": "b0ceb60c",
   "metadata": {},
   "outputs": [],
   "source": [
    "# 3 digit number generator\n",
    "def td_number_generator():\n",
    "    d1 = random.randint(0, 9)\n",
    "    d2 = random.randint(0, 9)\n",
    "    d3 = random.randint(0, 9)\n",
    "    \n",
    "    number = str(d1) + str(d2) + str(d3)\n",
    "    \n",
    "    number = int(number)\n",
    "    \n",
    "    print(number)"
   ]
  },
  {
   "cell_type": "code",
   "execution_count": 32,
   "id": "481a6f48",
   "metadata": {},
   "outputs": [
    {
     "name": "stdout",
     "output_type": "stream",
     "text": [
      "361\n"
     ]
    }
   ],
   "source": [
    "td_number_generator()"
   ]
  },
  {
   "cell_type": "code",
   "execution_count": 33,
   "id": "84afd187",
   "metadata": {
    "scrolled": false
   },
   "outputs": [
    {
     "name": "stdout",
     "output_type": "stream",
     "text": [
      "244\n",
      "937\n",
      "327\n",
      "610\n",
      "830\n",
      "126\n",
      "482\n",
      "977\n",
      "704\n",
      "681\n"
     ]
    }
   ],
   "source": [
    "for _ in range(10):\n",
    "    td_number_generator()"
   ]
  },
  {
   "cell_type": "markdown",
   "id": "565a9ca7",
   "metadata": {},
   "source": [
    "---"
   ]
  },
  {
   "cell_type": "markdown",
   "id": "d2b59034",
   "metadata": {},
   "source": [
    "---"
   ]
  },
  {
   "cell_type": "markdown",
   "id": "a79cd719",
   "metadata": {},
   "source": [
    "### 6. Write a Python program that prints long text, converts it to a list, and prints all the words and the frequency of each word. "
   ]
  },
  {
   "cell_type": "code",
   "execution_count": 34,
   "id": "7e88092d",
   "metadata": {},
   "outputs": [],
   "source": [
    "# long string\n",
    "string_words = '''United States Declaration of Independence\n",
    "From Wikipedia, the free encyclopedia\n",
    "The United States Declaration of Independence is the statement\n",
    "adopted by the Second Continental Congress meeting at the Pennsylvania State\n",
    "House (Independence Hall) in Philadelphia on July 4, 1776, which announced\n",
    "that the thirteen American colonies, then at war with the Kingdom of Great\n",
    "Britain, regarded themselves as thirteen independent sovereign states, no longer\n",
    "under British rule. These states would found a new nation – the United States of\n",
    "America. John Adams was a leader in pushing for independence, which was passed\n",
    "on July 2 with no opposing vote cast. A committee of five had already drafted the\n",
    "formal declaration, to be ready when Congress voted on independence.\n",
    "\n",
    "John Adams persuaded the committee to select Thomas Jefferson to compose the original\n",
    "draft of the document, which Congress would edit to produce the final version.\n",
    "The Declaration was ultimately a formal explanation of why Congress had voted on July\n",
    "2 to declare independence from Great Britain, more than a year after the outbreak of\n",
    "the American Revolutionary War. The next day, Adams wrote to his wife Abigail: \"The\n",
    "Second Day of July 1776, will be the most memorable Epocha, in the History of America.\"\n",
    "But Independence Day is actually celebrated on July 4, the date that the Declaration of\n",
    "Independence was approved.\n",
    "\n",
    "After ratifying the text on July 4, Congress issued the Declaration of Independence in\n",
    "several forms. It was initially published as the printed Dunlap broadside that was widely\n",
    "distributed and read to the public. The source copy used for this printing has been lost,\n",
    "and may have been a copy in Thomas Jefferson's hand.[5] Jefferson's original draft, complete\n",
    "with changes made by John Adams and Benjamin Franklin, and Jefferson's notes of changes made\n",
    "by Congress, are preserved at the Library of Congress. The best-known version of the Declaration\n",
    "is a signed copy that is displayed at the National Archives in Washington, D.C., and which is\n",
    "popularly regarded as the official document. This engrossed copy was ordered by Congress on\n",
    "July 19 and signed primarily on August 2.\n",
    "\n",
    "The sources and interpretation of the Declaration have been the subject of much scholarly inquiry.\n",
    "The Declaration justified the independence of the United States by listing colonial grievances against\n",
    "King George III, and by asserting certain natural and legal rights, including a right of revolution.\n",
    "Having served its original purpose in announcing independence, references to the text of the\n",
    "Declaration were few in the following years. Abraham Lincoln made it the centerpiece of his rhetoric\n",
    "(as in the Gettysburg Address of 1863) and his policies. Since then, it has become a well-known statement\n",
    "on human rights, particularly its second sentence:\n",
    "\n",
    "We hold these truths to be self-evident, that all men are created equal, that they are endowed by their\n",
    "Creator with certain unalienable Rights, that among these are Life, Liberty and the pursuit of Happiness.\n",
    "\n",
    "This has been called \"one of the best-known sentences in the English language\", containing \"the most potent\n",
    "and consequential words in American history\". The passage came to represent a moral standard to which\n",
    "the United States should strive. This view was notably promoted by Abraham Lincoln, who considered the\n",
    "Declaration to be the foundation of his political philosophy and argued that it is a statement of principles\n",
    "through which the United States Constitution should be interpreted.\n",
    "\n",
    "The U.S. Declaration of Independence inspired many other similar documents in other countries, the first\n",
    "being the 1789 Declaration of Flanders issued during the Brabant Revolution in the Austrian Netherlands\n",
    "(modern-day Belgium). It also served as the primary model for numerous declarations of independence across\n",
    "Europe and Latin America, as well as Africa (Liberia) and Oceania (New Zealand) during the first half of the\n",
    "19th century.'''"
   ]
  },
  {
   "cell_type": "code",
   "execution_count": 35,
   "id": "85444754",
   "metadata": {},
   "outputs": [],
   "source": [
    "# Convert the long text to a list of words\n",
    "words = string_words.split()"
   ]
  },
  {
   "cell_type": "code",
   "execution_count": 36,
   "id": "96266e0f",
   "metadata": {},
   "outputs": [],
   "source": [
    "# Create a dictionary to store word frequencies\n",
    "frequency = {}"
   ]
  },
  {
   "cell_type": "markdown",
   "id": "1720e92e",
   "metadata": {},
   "source": [
    "> The `for` loop iterates over each word in the `words` list. For each word, it checks if the word already exists as a key in the `frequency` dictionary. If it does, the corresponding count is incremented. If it doesn't, a new key is added to the dictionary with an initial count of 1."
   ]
  },
  {
   "cell_type": "code",
   "execution_count": 37,
   "id": "3f3d9750",
   "metadata": {},
   "outputs": [],
   "source": [
    "# Count the frequency of each word\n",
    "for word in words:\n",
    "    if word in frequency:\n",
    "        frequency[word] += 1\n",
    "    else:\n",
    "        frequency[word] = 1"
   ]
  },
  {
   "cell_type": "markdown",
   "id": "e68509cb",
   "metadata": {},
   "source": [
    "> another `for` loop is used to print each word and its frequency. The `items()` method is used to iterate over the key-value pairs in the `frequency` dictionary. The output will display each word followed by its frequency count."
   ]
  },
  {
   "cell_type": "code",
   "execution_count": 38,
   "id": "6ed6a4f5",
   "metadata": {},
   "outputs": [
    {
     "name": "stdout",
     "output_type": "stream",
     "text": [
      "United: 6\n",
      "States: 6\n",
      "Declaration: 12\n",
      "of: 30\n",
      "Independence: 6\n",
      "From: 1\n",
      "Wikipedia,: 1\n",
      "the: 49\n",
      "free: 1\n",
      "encyclopedia: 1\n",
      "The: 9\n",
      "is: 6\n",
      "statement: 3\n",
      "adopted: 1\n",
      "by: 8\n",
      "Second: 2\n",
      "Continental: 1\n",
      "Congress: 6\n",
      "meeting: 1\n",
      "at: 4\n",
      "Pennsylvania: 1\n",
      "State: 1\n",
      "House: 1\n",
      "(Independence: 1\n",
      "Hall): 1\n",
      "in: 13\n",
      "Philadelphia: 1\n",
      "on: 9\n",
      "July: 7\n",
      "4,: 3\n",
      "1776,: 2\n",
      "which: 6\n",
      "announced: 1\n",
      "that: 8\n",
      "thirteen: 2\n",
      "American: 3\n",
      "colonies,: 1\n",
      "then: 1\n",
      "war: 1\n",
      "with: 4\n",
      "Kingdom: 1\n",
      "Great: 2\n",
      "Britain,: 2\n",
      "regarded: 2\n",
      "themselves: 1\n",
      "as: 6\n",
      "independent: 1\n",
      "sovereign: 1\n",
      "states,: 1\n",
      "no: 2\n",
      "longer: 1\n",
      "under: 1\n",
      "British: 1\n",
      "rule.: 1\n",
      "These: 1\n",
      "states: 1\n",
      "would: 2\n",
      "found: 1\n",
      "a: 10\n",
      "new: 1\n",
      "nation: 1\n",
      "–: 1\n",
      "America.: 1\n",
      "John: 3\n",
      "Adams: 4\n",
      "was: 8\n",
      "leader: 1\n",
      "pushing: 1\n",
      "for: 3\n",
      "independence,: 2\n",
      "passed: 1\n",
      "2: 2\n",
      "opposing: 1\n",
      "vote: 1\n",
      "cast.: 1\n",
      "A: 1\n",
      "committee: 2\n",
      "five: 1\n",
      "had: 2\n",
      "already: 1\n",
      "drafted: 1\n",
      "formal: 2\n",
      "declaration,: 1\n",
      "to: 12\n",
      "be: 5\n",
      "ready: 1\n",
      "when: 1\n",
      "voted: 2\n",
      "independence.: 1\n",
      "persuaded: 1\n",
      "select: 1\n",
      "Thomas: 2\n",
      "Jefferson: 1\n",
      "compose: 1\n",
      "original: 3\n",
      "draft: 1\n",
      "document,: 1\n",
      "edit: 1\n",
      "produce: 1\n",
      "final: 1\n",
      "version.: 1\n",
      "ultimately: 1\n",
      "explanation: 1\n",
      "why: 1\n",
      "declare: 1\n",
      "independence: 3\n",
      "from: 1\n",
      "more: 1\n",
      "than: 1\n",
      "year: 1\n",
      "after: 1\n",
      "outbreak: 1\n",
      "Revolutionary: 1\n",
      "War.: 1\n",
      "next: 1\n",
      "day,: 1\n",
      "wrote: 1\n",
      "his: 4\n",
      "wife: 1\n",
      "Abigail:: 1\n",
      "\"The: 1\n",
      "Day: 2\n",
      "will: 1\n",
      "most: 2\n",
      "memorable: 1\n",
      "Epocha,: 1\n",
      "History: 1\n",
      "America.\": 1\n",
      "But: 1\n",
      "actually: 1\n",
      "celebrated: 1\n",
      "date: 1\n",
      "approved.: 1\n",
      "After: 1\n",
      "ratifying: 1\n",
      "text: 2\n",
      "issued: 2\n",
      "several: 1\n",
      "forms.: 1\n",
      "It: 2\n",
      "initially: 1\n",
      "published: 1\n",
      "printed: 1\n",
      "Dunlap: 1\n",
      "broadside: 1\n",
      "widely: 1\n",
      "distributed: 1\n",
      "and: 15\n",
      "read: 1\n",
      "public.: 1\n",
      "source: 1\n",
      "copy: 4\n",
      "used: 1\n",
      "this: 1\n",
      "printing: 1\n",
      "has: 3\n",
      "been: 4\n",
      "lost,: 1\n",
      "may: 1\n",
      "have: 2\n",
      "Jefferson's: 3\n",
      "hand.[5]: 1\n",
      "draft,: 1\n",
      "complete: 1\n",
      "changes: 2\n",
      "made: 3\n",
      "Benjamin: 1\n",
      "Franklin,: 1\n",
      "notes: 1\n",
      "Congress,: 1\n",
      "are: 4\n",
      "preserved: 1\n",
      "Library: 1\n",
      "Congress.: 1\n",
      "best-known: 2\n",
      "version: 1\n",
      "signed: 2\n",
      "displayed: 1\n",
      "National: 1\n",
      "Archives: 1\n",
      "Washington,: 1\n",
      "D.C.,: 1\n",
      "popularly: 1\n",
      "official: 1\n",
      "document.: 1\n",
      "This: 3\n",
      "engrossed: 1\n",
      "ordered: 1\n",
      "19: 1\n",
      "primarily: 1\n",
      "August: 1\n",
      "2.: 1\n",
      "sources: 1\n",
      "interpretation: 1\n",
      "subject: 1\n",
      "much: 1\n",
      "scholarly: 1\n",
      "inquiry.: 1\n",
      "justified: 1\n",
      "listing: 1\n",
      "colonial: 1\n",
      "grievances: 1\n",
      "against: 1\n",
      "King: 1\n",
      "George: 1\n",
      "III,: 1\n",
      "asserting: 1\n",
      "certain: 2\n",
      "natural: 1\n",
      "legal: 1\n",
      "rights,: 2\n",
      "including: 1\n",
      "right: 1\n",
      "revolution.: 1\n",
      "Having: 1\n",
      "served: 2\n",
      "its: 2\n",
      "purpose: 1\n",
      "announcing: 1\n",
      "references: 1\n",
      "were: 1\n",
      "few: 1\n",
      "following: 1\n",
      "years.: 1\n",
      "Abraham: 2\n",
      "Lincoln: 1\n",
      "it: 3\n",
      "centerpiece: 1\n",
      "rhetoric: 1\n",
      "(as: 1\n",
      "Gettysburg: 1\n",
      "Address: 1\n",
      "1863): 1\n",
      "policies.: 1\n",
      "Since: 1\n",
      "then,: 1\n",
      "become: 1\n",
      "well-known: 1\n",
      "human: 1\n",
      "particularly: 1\n",
      "second: 1\n",
      "sentence:: 1\n",
      "We: 1\n",
      "hold: 1\n",
      "these: 2\n",
      "truths: 1\n",
      "self-evident,: 1\n",
      "all: 1\n",
      "men: 1\n",
      "created: 1\n",
      "equal,: 1\n",
      "they: 1\n",
      "endowed: 1\n",
      "their: 1\n",
      "Creator: 1\n",
      "unalienable: 1\n",
      "Rights,: 1\n",
      "among: 1\n",
      "Life,: 1\n",
      "Liberty: 1\n",
      "pursuit: 1\n",
      "Happiness.: 1\n",
      "called: 1\n",
      "\"one: 1\n",
      "sentences: 1\n",
      "English: 1\n",
      "language\",: 1\n",
      "containing: 1\n",
      "\"the: 1\n",
      "potent: 1\n",
      "consequential: 1\n",
      "words: 1\n",
      "history\".: 1\n",
      "passage: 1\n",
      "came: 1\n",
      "represent: 1\n",
      "moral: 1\n",
      "standard: 1\n",
      "should: 2\n",
      "strive.: 1\n",
      "view: 1\n",
      "notably: 1\n",
      "promoted: 1\n",
      "Lincoln,: 1\n",
      "who: 1\n",
      "considered: 1\n",
      "foundation: 1\n",
      "political: 1\n",
      "philosophy: 1\n",
      "argued: 1\n",
      "principles: 1\n",
      "through: 1\n",
      "Constitution: 1\n",
      "interpreted.: 1\n",
      "U.S.: 1\n",
      "inspired: 1\n",
      "many: 1\n",
      "other: 2\n",
      "similar: 1\n",
      "documents: 1\n",
      "countries,: 1\n",
      "first: 2\n",
      "being: 1\n",
      "1789: 1\n",
      "Flanders: 1\n",
      "during: 2\n",
      "Brabant: 1\n",
      "Revolution: 1\n",
      "Austrian: 1\n",
      "Netherlands: 1\n",
      "(modern-day: 1\n",
      "Belgium).: 1\n",
      "also: 1\n",
      "primary: 1\n",
      "model: 1\n",
      "numerous: 1\n",
      "declarations: 1\n",
      "across: 1\n",
      "Europe: 1\n",
      "Latin: 1\n",
      "America,: 1\n",
      "well: 1\n",
      "Africa: 1\n",
      "(Liberia): 1\n",
      "Oceania: 1\n",
      "(New: 1\n",
      "Zealand): 1\n",
      "half: 1\n",
      "19th: 1\n",
      "century.: 1\n"
     ]
    }
   ],
   "source": [
    "# Print the words and their frequencies\n",
    "for word, count in frequency.items():\n",
    "    print(f\"{word}: {count}\")"
   ]
  },
  {
   "cell_type": "markdown",
   "id": "e04aa11a",
   "metadata": {},
   "source": [
    "---"
   ]
  },
  {
   "cell_type": "markdown",
   "id": "19a051b6",
   "metadata": {},
   "source": [
    "---"
   ]
  },
  {
   "cell_type": "markdown",
   "id": "4eef8557",
   "metadata": {},
   "source": [
    "### 7. Write a Python program to count the number of each character in a text file. "
   ]
  },
  {
   "cell_type": "code",
   "execution_count": 33,
   "id": "11c7415e",
   "metadata": {},
   "outputs": [],
   "source": [
    "import os"
   ]
  },
  {
   "cell_type": "code",
   "execution_count": 34,
   "id": "2a981733",
   "metadata": {},
   "outputs": [
    {
     "name": "stdout",
     "output_type": "stream",
     "text": [
      "D:\\01 Dropbox\\Dropbox\\Javier\\10 Coding\\Repositories\\Python\\001_w3resource\\001_w3resource_PythonBasic\n"
     ]
    }
   ],
   "source": [
    "# Primero veo en que directorio estoy\n",
    "curr_dir = os.getcwd()\n",
    "print(curr_dir)"
   ]
  },
  {
   "cell_type": "code",
   "execution_count": 35,
   "id": "c0f5ac70",
   "metadata": {},
   "outputs": [
    {
     "name": "stdout",
     "output_type": "stream",
     "text": [
      ".ipynb_checkpoints\n",
      "0001_Python basic (Part -I) 1 - 25.ipynb\n",
      "0002_Python basic (Part -I) 26 - 50.ipynb\n",
      "0003_Python basic (Part -I) 51 - 75.ipynb\n",
      "0004_Python basic (Part -I) 76 - 100.ipynb\n",
      "0005_Python basic (Part -I) 101 - 125.ipynb\n",
      "0006_Python basic (Part -I) 126 - 150.ipynb\n",
      "0007_Python basic (Part - II) 1 - 25.ipynb\n",
      "README.md\n",
      "sample_text_file.txt\n"
     ]
    }
   ],
   "source": [
    "# Con esto enlisto los archivos de este directorio\n",
    "files_in_dir = os.listdir(curr_dir)\n",
    "for file in files_in_dir:\n",
    "    print(file)"
   ]
  },
  {
   "cell_type": "code",
   "execution_count": 36,
   "id": "ca0d2257",
   "metadata": {},
   "outputs": [],
   "source": [
    "# Me interesa contar los caracteres de \"sample_text_file.txt\"\n",
    "file_name = 'sample_text_file.txt'"
   ]
  },
  {
   "cell_type": "code",
   "execution_count": 37,
   "id": "377190fc",
   "metadata": {},
   "outputs": [
    {
     "name": "stdout",
     "output_type": "stream",
     "text": [
      "D:\\01 Dropbox\\Dropbox\\Javier\\10 Coding\\Repositories\\Python\\001_w3resource\\001_w3resource_PythonBasic\\sample_text_file.txt\n"
     ]
    }
   ],
   "source": [
    "fullPathToFile = os.path.join(curr_dir, file_name)\n",
    "print(fullPathToFile)"
   ]
  },
  {
   "cell_type": "code",
   "execution_count": 38,
   "id": "f0b5431c",
   "metadata": {},
   "outputs": [
    {
     "name": "stdout",
     "output_type": "stream",
     "text": [
      "Character '1': 1 times\n",
      "Character '\n",
      "': 9 times\n",
      "Character '2': 2 times\n",
      "Character '3': 3 times\n",
      "Character '4': 4 times\n",
      "Character '5': 5 times\n",
      "Character '6': 6 times\n",
      "Character '7': 7 times\n",
      "Character '8': 8 times\n",
      "Character '9': 9 times\n",
      "Character '0': 10 times\n"
     ]
    }
   ],
   "source": [
    "# Verificar que el archivo existe\n",
    "if os.path.exists(fullPathToFile):\n",
    "    try:\n",
    "        with open(fullPathToFile, 'r') as file:\n",
    "            # Leer el contenido del archivo\n",
    "            content = file.read()\n",
    "            \n",
    "            # Crear un diccionario para almacenar la frecuencia de cada caracter\n",
    "            char_count = {}\n",
    "            \n",
    "            # Contar los caracteres\n",
    "            for char in content:\n",
    "                char_count[char] = char_count.get(char, 0) + 1\n",
    "                \n",
    "            # Imprimir el resultado\n",
    "            for char, count in char_count.items():\n",
    "                print(f\"Character '{char}': {count} times\")\n",
    "            \n",
    "    except Exception as e:\n",
    "        print(f\"Error: {e}\")\n",
    "\n",
    "else:\n",
    "    print(f\"The file {file_name} doesnt exists\")"
   ]
  },
  {
   "cell_type": "code",
   "execution_count": 39,
   "id": "910c5be0",
   "metadata": {},
   "outputs": [
    {
     "name": "stdout",
     "output_type": "stream",
     "text": [
      "Character '1': 1 times\n",
      "Character '2': 2 times\n",
      "Character '3': 3 times\n",
      "Character '4': 4 times\n",
      "Character '5': 5 times\n",
      "Character '6': 6 times\n",
      "Character '7': 7 times\n",
      "Character '8': 8 times\n",
      "Character '9': 9 times\n",
      "Character '0': 10 times\n"
     ]
    }
   ],
   "source": [
    "# Esta es otra version pero corrijo el error anterior de pasar a la siguiente linea\n",
    "# Verificar que el archivo existe\n",
    "if os.path.exists(fullPathToFile):\n",
    "    try:\n",
    "        with open(fullPathToFile, 'r') as file:\n",
    "            # AQUI se corrige, se remplaza /n\n",
    "            # Leer el contenido del archivo\n",
    "            content = file.read().replace('\\n', '')\n",
    "            \n",
    "            # Crear un diccionario para almacenar la frecuencia de cada caracter\n",
    "            char_count = {}\n",
    "            \n",
    "            # Contar los caracteres\n",
    "            for char in content:\n",
    "                char_count[char] = char_count.get(char, 0) + 1\n",
    "                \n",
    "            # Imprimir el resultado\n",
    "            for char, count in char_count.items():\n",
    "                print(f\"Character '{char}': {count} times\")\n",
    "            \n",
    "    except Exception as e:\n",
    "        print(f\"Error: {e}\")\n",
    "\n",
    "else:\n",
    "    print(f\"The file {file_name} doesnt exists\")"
   ]
  },
  {
   "cell_type": "markdown",
   "id": "016c9137",
   "metadata": {},
   "source": [
    "---"
   ]
  },
  {
   "cell_type": "markdown",
   "id": "11ce06a5",
   "metadata": {},
   "source": [
    "---"
   ]
  },
  {
   "cell_type": "markdown",
   "id": "e8861ea5",
   "metadata": {},
   "source": [
    "### 8. Write a Python program that retrieves the top stories from Google News. "
   ]
  },
  {
   "cell_type": "code",
   "execution_count": null,
   "id": "e00b928e",
   "metadata": {},
   "outputs": [],
   "source": []
  }
 ],
 "metadata": {
  "kernelspec": {
   "display_name": "Python 3 (ipykernel)",
   "language": "python",
   "name": "python3"
  },
  "language_info": {
   "codemirror_mode": {
    "name": "ipython",
    "version": 3
   },
   "file_extension": ".py",
   "mimetype": "text/x-python",
   "name": "python",
   "nbconvert_exporter": "python",
   "pygments_lexer": "ipython3",
   "version": "3.11.5"
  }
 },
 "nbformat": 4,
 "nbformat_minor": 5
}

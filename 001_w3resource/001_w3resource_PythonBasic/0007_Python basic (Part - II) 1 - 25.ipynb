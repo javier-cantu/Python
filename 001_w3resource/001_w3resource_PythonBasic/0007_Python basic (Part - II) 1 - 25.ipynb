{
 "cells": [
  {
   "cell_type": "markdown",
   "id": "da9898de",
   "metadata": {},
   "source": [
    "# 0007_Python basic (Part - II) 1 - 25"
   ]
  },
  {
   "cell_type": "markdown",
   "id": "1a44cd0b",
   "metadata": {},
   "source": [
    "Ejercicios python Basic - Part II - 1 - 25\n",
    "[Python basic (Part - II)](https://www.w3resource.com/python-exercises/basic/"
   ]
  },
  {
   "cell_type": "markdown",
   "id": "373aaa4b",
   "metadata": {},
   "source": [
    "---"
   ]
  },
  {
   "cell_type": "markdown",
   "id": "a2897af9",
   "metadata": {},
   "source": [
    "---"
   ]
  },
  {
   "cell_type": "markdown",
   "id": "7fdd2693",
   "metadata": {},
   "source": [
    "### 1. Write a Python function that takes a sequence of numbers and determines whether all the numbers are different from each other."
   ]
  },
  {
   "cell_type": "code",
   "execution_count": 3,
   "id": "50ca6ce8",
   "metadata": {},
   "outputs": [
    {
     "name": "stdout",
     "output_type": "stream",
     "text": [
      "[1, 2, 3, 4, 5, 6, 7]\n"
     ]
    }
   ],
   "source": [
    "# Sequence all different\n",
    "sequence1 = [1, 2, 3, 4, 5, 6, 7]\n",
    "print(sequence1)"
   ]
  },
  {
   "cell_type": "code",
   "execution_count": 4,
   "id": "fe3488fb",
   "metadata": {},
   "outputs": [
    {
     "name": "stdout",
     "output_type": "stream",
     "text": [
      "{1, 2, 3, 4, 5, 6, 7}\n"
     ]
    }
   ],
   "source": [
    "# Convert the sequence into a set\n",
    "set1 = set(sequence1)\n",
    "print(set1)"
   ]
  },
  {
   "cell_type": "code",
   "execution_count": 5,
   "id": "e80b1fcb",
   "metadata": {
    "scrolled": true
   },
   "outputs": [
    {
     "name": "stdout",
     "output_type": "stream",
     "text": [
      "All the numbers are different.\n",
      "[1, 2, 3, 4, 5, 6, 7]\n",
      "{1, 2, 3, 4, 5, 6, 7}\n"
     ]
    }
   ],
   "source": [
    "if len(sequence1) == len(set1):\n",
    "    print(\"All the numbers are different.\")\n",
    "    print(sequence1)\n",
    "    print(set1)\n",
    "else:\n",
    "    print(\"Not all the numbers are different\")\n",
    "    print(sequence1)\n",
    "    print(set1)"
   ]
  },
  {
   "cell_type": "markdown",
   "id": "ed9a560c",
   "metadata": {},
   "source": [
    "---"
   ]
  },
  {
   "cell_type": "code",
   "execution_count": 6,
   "id": "fabfa8ed",
   "metadata": {},
   "outputs": [
    {
     "name": "stdout",
     "output_type": "stream",
     "text": [
      "[1, 2, 3, 3, 4, 5, 6, 7, 1]\n"
     ]
    }
   ],
   "source": [
    "# Sequence some numbers are the same\n",
    "sequence1 = [1, 2, 3, 3, 4, 5, 6, 7, 1]\n",
    "print(sequence1)"
   ]
  },
  {
   "cell_type": "code",
   "execution_count": 7,
   "id": "01c40e1f",
   "metadata": {},
   "outputs": [
    {
     "name": "stdout",
     "output_type": "stream",
     "text": [
      "{1, 2, 3, 4, 5, 6, 7}\n"
     ]
    }
   ],
   "source": [
    "# Convert the sequence into a set\n",
    "set1 = set(sequence1)\n",
    "print(set1)"
   ]
  },
  {
   "cell_type": "code",
   "execution_count": 8,
   "id": "810859ba",
   "metadata": {
    "scrolled": true
   },
   "outputs": [
    {
     "name": "stdout",
     "output_type": "stream",
     "text": [
      "Not all the numbers are different\n",
      "[1, 2, 3, 3, 4, 5, 6, 7, 1]\n",
      "{1, 2, 3, 4, 5, 6, 7}\n"
     ]
    }
   ],
   "source": [
    "if len(sequence1) == len(set1):\n",
    "    print(\"All the numbers are different.\")\n",
    "    print(sequence1)\n",
    "    print(set1)\n",
    "else:\n",
    "    print(\"Not all the numbers are different\")\n",
    "    print(sequence1)\n",
    "    print(set1)"
   ]
  },
  {
   "cell_type": "markdown",
   "id": "3b9e7fac",
   "metadata": {},
   "source": [
    "---"
   ]
  },
  {
   "cell_type": "markdown",
   "id": "47c1fd10",
   "metadata": {},
   "source": [
    "#### Ahora en forma de funcion"
   ]
  },
  {
   "cell_type": "code",
   "execution_count": 11,
   "id": "0c77f4a7",
   "metadata": {},
   "outputs": [],
   "source": [
    "def test_numbers(seq):\n",
    "    set1 = set(seq)\n",
    "    if len(seq) == len(set1):\n",
    "        return True\n",
    "    else:\n",
    "        return False"
   ]
  },
  {
   "cell_type": "code",
   "execution_count": 12,
   "id": "4e5733de",
   "metadata": {},
   "outputs": [
    {
     "data": {
      "text/plain": [
       "False"
      ]
     },
     "execution_count": 12,
     "metadata": {},
     "output_type": "execute_result"
    }
   ],
   "source": [
    "test_numbers([1, 3, 4, 5, 6, 7, 2, 1])"
   ]
  },
  {
   "cell_type": "code",
   "execution_count": 13,
   "id": "3836831c",
   "metadata": {},
   "outputs": [
    {
     "data": {
      "text/plain": [
       "True"
      ]
     },
     "execution_count": 13,
     "metadata": {},
     "output_type": "execute_result"
    }
   ],
   "source": [
    "test_numbers([1, 3, 4])"
   ]
  },
  {
   "cell_type": "markdown",
   "id": "0077c989",
   "metadata": {},
   "source": [
    "---"
   ]
  },
  {
   "cell_type": "markdown",
   "id": "402272c3",
   "metadata": {},
   "source": [
    "---"
   ]
  },
  {
   "cell_type": "markdown",
   "id": "52d94406",
   "metadata": {},
   "source": [
    "### 2. Write a Python program that creates all possible strings using the letters 'a', 'e', 'i', 'o', and 'u'. Ensure that each character is used only once."
   ]
  },
  {
   "cell_type": "code",
   "execution_count": 5,
   "id": "4265ccdf",
   "metadata": {},
   "outputs": [],
   "source": [
    "from itertools import permutations"
   ]
  },
  {
   "cell_type": "code",
   "execution_count": 6,
   "id": "a24dc122",
   "metadata": {},
   "outputs": [],
   "source": [
    "def generate_unique_strings():\n",
    "    # Define the characters (vowels) you want to use\n",
    "    vowels = 'aeiou'\n",
    "    \n",
    "    # Generate all possible permutations of the vowels\n",
    "    all_possible_permutations = permutations(vowels)\n",
    "    \n",
    "    # Use a set to store unique strings to eliminate duplicates\n",
    "    unique_strings = set()\n",
    "    \n",
    "     # Iterate through all permutations\n",
    "    for perm in all_possible_permutations:\n",
    "        # Join the characters in the permutation to create a string\n",
    "        unique_strings.add(''.join(perm))\n",
    "    \n",
    "    # Convert the set of unique strings to a list and return\n",
    "    return list(unique_strings)"
   ]
  },
  {
   "cell_type": "code",
   "execution_count": 7,
   "id": "69f3ffff",
   "metadata": {},
   "outputs": [],
   "source": [
    "# Get and print all unique strings\n",
    "unique_strings = generate_unique_strings()"
   ]
  },
  {
   "cell_type": "code",
   "execution_count": 8,
   "id": "f5d39b58",
   "metadata": {},
   "outputs": [
    {
     "name": "stdout",
     "output_type": "stream",
     "text": [
      "oiaeu\n",
      "eioau\n",
      "oeaiu\n",
      "aiueo\n",
      "iaoeu\n",
      "ieauo\n",
      "iuoae\n",
      "aoeui\n",
      "eoaiu\n",
      "aioeu\n",
      "aiuoe\n",
      "iuoea\n",
      "eioua\n",
      "aeoui\n",
      "uaoei\n",
      "uioae\n",
      "iueoa\n",
      "uaioe\n",
      "eouai\n",
      "aeiou\n",
      "uaeio\n",
      "iuaoe\n",
      "aioue\n",
      "uoeia\n",
      "aoiue\n",
      "aeoiu\n",
      "eaoui\n",
      "eoiua\n",
      "ueiao\n",
      "oaieu\n",
      "oaeui\n",
      "eaiuo\n",
      "uoeai\n",
      "eauio\n",
      "uoaie\n",
      "oiaue\n",
      "iauoe\n",
      "ieoua\n",
      "ieoau\n",
      "uaeoi\n",
      "uoiea\n",
      "oieua\n",
      "eoaui\n",
      "eoiau\n",
      "uiaeo\n",
      "euoia\n",
      "oauie\n",
      "euioa\n",
      "oeuai\n",
      "ieuoa\n",
      "iaeou\n",
      "ouaei\n",
      "uiaoe\n",
      "eaoiu\n",
      "iouea\n",
      "ueoai\n",
      "aueoi\n",
      "oueia\n",
      "uoaei\n",
      "oeiua\n",
      "ueaio\n",
      "uieoa\n",
      "oeuia\n",
      "iueao\n",
      "iaeuo\n",
      "uoiae\n",
      "oiuae\n",
      "iuaeo\n",
      "ueoia\n",
      "aeiuo\n",
      "ioaue\n",
      "uaoie\n",
      "auoei\n",
      "auioe\n",
      "aoeiu\n",
      "ouiae\n",
      "aieou\n",
      "ioeau\n",
      "aouei\n",
      "oeiau\n",
      "uioea\n",
      "aieuo\n",
      "aueio\n",
      "eiuao\n",
      "iaueo\n",
      "uaieo\n",
      "euaio\n",
      "oaiue\n",
      "iouae\n",
      "eaiou\n",
      "ieuao\n",
      "euaoi\n",
      "eauoi\n",
      "oiuea\n",
      "ueaoi\n",
      "oieau\n",
      "aouie\n",
      "iaoue\n",
      "ioaeu\n",
      "euoai\n",
      "aeuio\n",
      "oaeiu\n",
      "aoieu\n",
      "eiuoa\n",
      "uieao\n",
      "eiauo\n",
      "oueai\n",
      "auieo\n",
      "eiaou\n",
      "ouaie\n",
      "euiao\n",
      "ouiea\n",
      "eouia\n",
      "ioeua\n",
      "oauei\n",
      "ueioa\n",
      "auoie\n",
      "aeuoi\n",
      "oeaui\n",
      "ieaou\n"
     ]
    }
   ],
   "source": [
    "for string in unique_strings:\n",
    "    print(string)"
   ]
  },
  {
   "cell_type": "markdown",
   "id": "23d8e998",
   "metadata": {},
   "source": [
    "### Sorted"
   ]
  },
  {
   "cell_type": "code",
   "execution_count": 9,
   "id": "60f0659f",
   "metadata": {},
   "outputs": [],
   "source": [
    "sorted_unique_strings = sorted(unique_strings)"
   ]
  },
  {
   "cell_type": "code",
   "execution_count": 10,
   "id": "69f17c88",
   "metadata": {},
   "outputs": [
    {
     "name": "stdout",
     "output_type": "stream",
     "text": [
      "aeiou\n",
      "aeiuo\n",
      "aeoiu\n",
      "aeoui\n",
      "aeuio\n",
      "aeuoi\n",
      "aieou\n",
      "aieuo\n",
      "aioeu\n",
      "aioue\n",
      "aiueo\n",
      "aiuoe\n",
      "aoeiu\n",
      "aoeui\n",
      "aoieu\n",
      "aoiue\n",
      "aouei\n",
      "aouie\n",
      "aueio\n",
      "aueoi\n",
      "auieo\n",
      "auioe\n",
      "auoei\n",
      "auoie\n",
      "eaiou\n",
      "eaiuo\n",
      "eaoiu\n",
      "eaoui\n",
      "eauio\n",
      "eauoi\n",
      "eiaou\n",
      "eiauo\n",
      "eioau\n",
      "eioua\n",
      "eiuao\n",
      "eiuoa\n",
      "eoaiu\n",
      "eoaui\n",
      "eoiau\n",
      "eoiua\n",
      "eouai\n",
      "eouia\n",
      "euaio\n",
      "euaoi\n",
      "euiao\n",
      "euioa\n",
      "euoai\n",
      "euoia\n",
      "iaeou\n",
      "iaeuo\n",
      "iaoeu\n",
      "iaoue\n",
      "iaueo\n",
      "iauoe\n",
      "ieaou\n",
      "ieauo\n",
      "ieoau\n",
      "ieoua\n",
      "ieuao\n",
      "ieuoa\n",
      "ioaeu\n",
      "ioaue\n",
      "ioeau\n",
      "ioeua\n",
      "iouae\n",
      "iouea\n",
      "iuaeo\n",
      "iuaoe\n",
      "iueao\n",
      "iueoa\n",
      "iuoae\n",
      "iuoea\n",
      "oaeiu\n",
      "oaeui\n",
      "oaieu\n",
      "oaiue\n",
      "oauei\n",
      "oauie\n",
      "oeaiu\n",
      "oeaui\n",
      "oeiau\n",
      "oeiua\n",
      "oeuai\n",
      "oeuia\n",
      "oiaeu\n",
      "oiaue\n",
      "oieau\n",
      "oieua\n",
      "oiuae\n",
      "oiuea\n",
      "ouaei\n",
      "ouaie\n",
      "oueai\n",
      "oueia\n",
      "ouiae\n",
      "ouiea\n",
      "uaeio\n",
      "uaeoi\n",
      "uaieo\n",
      "uaioe\n",
      "uaoei\n",
      "uaoie\n",
      "ueaio\n",
      "ueaoi\n",
      "ueiao\n",
      "ueioa\n",
      "ueoai\n",
      "ueoia\n",
      "uiaeo\n",
      "uiaoe\n",
      "uieao\n",
      "uieoa\n",
      "uioae\n",
      "uioea\n",
      "uoaei\n",
      "uoaie\n",
      "uoeai\n",
      "uoeia\n",
      "uoiae\n",
      "uoiea\n"
     ]
    }
   ],
   "source": [
    "for string in sorted_unique_strings:\n",
    "    print(string)"
   ]
  },
  {
   "cell_type": "markdown",
   "id": "f399db6a",
   "metadata": {},
   "source": []
  },
  {
   "cell_type": "markdown",
   "id": "f991c2f7",
   "metadata": {},
   "source": [
    "---"
   ]
  },
  {
   "cell_type": "markdown",
   "id": "a7f203de",
   "metadata": {},
   "source": [
    "---"
   ]
  },
  {
   "cell_type": "markdown",
   "id": "607ad753",
   "metadata": {},
   "source": [
    "### 3. Write a Python program that removes and prints every third number from a list of numbers until the list is empty."
   ]
  },
  {
   "cell_type": "code",
   "execution_count": 33,
   "id": "6d6d380a",
   "metadata": {},
   "outputs": [],
   "source": [
    "my_list = [1, 2, 3, 4, 5, 6, 7, 8, 9, 10]"
   ]
  },
  {
   "cell_type": "code",
   "execution_count": 34,
   "id": "18609da3",
   "metadata": {},
   "outputs": [],
   "source": [
    "def remove_and_print_every_third(my_list):\n",
    "    while len(my_list) >= 3:\n",
    "        removed_number = my_list.pop(2)\n",
    "        print(f\"Removed and printed: {removed_number}\")"
   ]
  },
  {
   "cell_type": "code",
   "execution_count": 35,
   "id": "83c3c991",
   "metadata": {},
   "outputs": [
    {
     "name": "stdout",
     "output_type": "stream",
     "text": [
      "Removed and printed: 3\n",
      "Removed and printed: 4\n",
      "Removed and printed: 5\n",
      "Removed and printed: 6\n",
      "Removed and printed: 7\n",
      "Removed and printed: 8\n",
      "Removed and printed: 9\n",
      "Removed and printed: 10\n"
     ]
    }
   ],
   "source": [
    "remove_and_print_every_third(my_list)"
   ]
  },
  {
   "cell_type": "code",
   "execution_count": 53,
   "id": "02223160",
   "metadata": {},
   "outputs": [],
   "source": [
    "my_list_2 = [1, 2, 3, 4, 5, 6, 7, 8, 9, 10]"
   ]
  },
  {
   "cell_type": "code",
   "execution_count": 54,
   "id": "994974ea",
   "metadata": {},
   "outputs": [],
   "source": [
    "def remove_and_print_every_third_2(my_list):\n",
    "    while my_list:\n",
    "        if len(my_list) >= 3:\n",
    "            removed_number = my_list.pop(2)\n",
    "            print(f\"Removed and printed: {removed_number}\")\n",
    "        elif len(my_list) == 2:\n",
    "            removed_number = my_list.pop(1)\n",
    "            print(f\"Removed and printed: {removed_number}\")\n",
    "        elif len(my_list) == 1:\n",
    "            removed_number = my_list.pop(0)\n",
    "            print(f\"Removed and printed: {removed_number}\")"
   ]
  },
  {
   "cell_type": "code",
   "execution_count": 55,
   "id": "71e4d3a8",
   "metadata": {
    "scrolled": true
   },
   "outputs": [
    {
     "name": "stdout",
     "output_type": "stream",
     "text": [
      "Removed and printed: 3\n",
      "Removed and printed: 4\n",
      "Removed and printed: 5\n",
      "Removed and printed: 6\n",
      "Removed and printed: 7\n",
      "Removed and printed: 8\n",
      "Removed and printed: 9\n",
      "Removed and printed: 10\n",
      "Removed and printed: 2\n",
      "Removed and printed: 1\n"
     ]
    }
   ],
   "source": [
    "remove_and_print_every_third_2(my_list_2)"
   ]
  },
  {
   "cell_type": "markdown",
   "id": "dcaac8b0",
   "metadata": {},
   "source": [
    "---"
   ]
  },
  {
   "cell_type": "markdown",
   "id": "ef28b5ff",
   "metadata": {},
   "source": [
    "---"
   ]
  },
  {
   "cell_type": "markdown",
   "id": "c02e3ddb",
   "metadata": {},
   "source": [
    "### 4. Write a Python program to identify unique triplets whose three elements sum to zero from an array of n integers. "
   ]
  },
  {
   "cell_type": "code",
   "execution_count": 1,
   "id": "522a88b8",
   "metadata": {},
   "outputs": [],
   "source": [
    "from itertools import permutations"
   ]
  },
  {
   "cell_type": "code",
   "execution_count": 2,
   "id": "f7a2a0a3",
   "metadata": {},
   "outputs": [],
   "source": [
    "# Define your set of numbers\n",
    "numbers = [1, -6, 4, 2, -1, 2, 0, -2, 0 ]"
   ]
  },
  {
   "cell_type": "code",
   "execution_count": 3,
   "id": "5daf3dd5",
   "metadata": {},
   "outputs": [],
   "source": [
    "# Generate all possible permutations of three numbers\n",
    "three_number_permutations = list(permutations(numbers, 3))"
   ]
  },
  {
   "cell_type": "code",
   "execution_count": 4,
   "id": "37ea8ea9",
   "metadata": {},
   "outputs": [],
   "source": [
    "# Convert the list of permutations to a set to remove duplicates\n",
    "unique_permutations = set(three_number_permutations)"
   ]
  },
  {
   "cell_type": "code",
   "execution_count": 6,
   "id": "c29518eb",
   "metadata": {},
   "outputs": [],
   "source": [
    "# Create an empty list to store triplets\n",
    "triplets = []"
   ]
  },
  {
   "cell_type": "code",
   "execution_count": 7,
   "id": "73ddc90c",
   "metadata": {},
   "outputs": [],
   "source": [
    "# Loop to check if each triplet sum to 0 and store them in the triplets[]\n",
    "for t in unique_permutations:\n",
    "    if sum(t) == 0:\n",
    "        triplets.append(t)"
   ]
  },
  {
   "cell_type": "code",
   "execution_count": 8,
   "id": "e8885c97",
   "metadata": {},
   "outputs": [
    {
     "name": "stdout",
     "output_type": "stream",
     "text": [
      "(-2, 2, 0)\n",
      "(0, -2, 2)\n",
      "(-2, 0, 2)\n",
      "(2, 0, -2)\n",
      "(2, -2, 0)\n",
      "(0, 1, -1)\n",
      "(0, -1, 1)\n",
      "(0, 2, -2)\n",
      "(1, 0, -1)\n",
      "(4, -6, 2)\n",
      "(4, 2, -6)\n",
      "(1, -1, 0)\n",
      "(-1, 0, 1)\n",
      "(-6, 4, 2)\n",
      "(-6, 2, 4)\n",
      "(2, -6, 4)\n",
      "(-1, 1, 0)\n",
      "(2, 4, -6)\n"
     ]
    }
   ],
   "source": [
    "# Print each triplet\n",
    "for t in triplets:\n",
    "    print(t)"
   ]
  },
  {
   "cell_type": "code",
   "execution_count": null,
   "id": "74da2f99",
   "metadata": {},
   "outputs": [],
   "source": []
  }
 ],
 "metadata": {
  "kernelspec": {
   "display_name": "Python 3",
   "language": "python",
   "name": "python3"
  },
  "language_info": {
   "codemirror_mode": {
    "name": "ipython",
    "version": 3
   },
   "file_extension": ".py",
   "mimetype": "text/x-python",
   "name": "python",
   "nbconvert_exporter": "python",
   "pygments_lexer": "ipython3",
   "version": "3.8.8"
  }
 },
 "nbformat": 4,
 "nbformat_minor": 5
}
